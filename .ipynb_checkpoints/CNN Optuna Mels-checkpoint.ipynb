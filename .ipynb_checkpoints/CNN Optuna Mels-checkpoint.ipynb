{
 "cells": [
  {
   "cell_type": "markdown",
   "id": "31b96237-3f28-4806-8b82-84d8470e2a06",
   "metadata": {},
   "source": [
    "### Audio Load by Barney"
   ]
  },
  {
   "cell_type": "code",
   "execution_count": 1,
   "id": "49122b1e",
   "metadata": {},
   "outputs": [],
   "source": [
    "from barney_functions import *\n",
    "import librosa\n",
    "import numpy as np\n",
    "import pandas as pd\n",
    "from matplotlib import pyplot as plt\n",
    "import random\n",
    "import re\n",
    "import soundfile as sf\n",
    "import itertools\n",
    "from sklearn.metrics import confusion_matrix\n",
    "from sklearn.model_selection import train_test_split"
   ]
  },
  {
   "cell_type": "code",
   "execution_count": 43,
   "id": "296d2553",
   "metadata": {},
   "outputs": [
    {
     "name": "stdout",
     "output_type": "stream",
     "text": [
      "(2256, 128, 51)\n",
      "(2256,)\n",
      "(1266, 128, 51)\n",
      "(1266,)\n",
      "(10512, 128, 51)\n",
      "(10512,)\n"
     ]
    }
   ],
   "source": [
    "mels = np.load('mels.npz')['data']\n",
    "y = np.load('mels_lables.npz',allow_pickle=True)['data']\n",
    "num_classes = len(np.unique(y))\n",
    "\n",
    "TEST_images = np.load('mels_TEST.npz')['data']\n",
    "TEST_y = np.load('mels_lables_TEST.npz',allow_pickle=True)['data']\n",
    "\n",
    "BIG_images = np.load('mels_TRAIN_ALL.npz')['data']\n",
    "BIG_y = np.load('mels_lables_TRAIN_ALL.npz',allow_pickle=True)['data']\n",
    "\n",
    "mels_UNAUGMENTED = np.load('mels_UNAUGMENTED.npz')['data']\n",
    "mels_lables_UNAUGMENTED = np.load('mels_lables_UNAUGMENTED.npz',allow_pickle=True)['data']\n",
    "\n",
    "mels, TEST_images, y, TEST_y = train_test_split(BIG_images, BIG_y, test_size=0.2, random_state=42)\n",
    "X_train, X_test, y_train, y_test, img_rows, img_cols = format_for_CNN(train_images, val_images, train_labels, val_labels)\n",
    "\n",
    "print(mels.shape)\n",
    "print(y.shape)\n",
    "print(TEST_images.shape)\n",
    "print(TEST_y.shape)\n",
    "print(BIG_images.shape)\n",
    "print(BIG_y.shape)"
   ]
  },
  {
   "cell_type": "markdown",
   "id": "84d428ee-3e68-44f3-a905-4efd194d55fe",
   "metadata": {},
   "source": [
    "# CNN"
   ]
  },
  {
   "cell_type": "code",
   "execution_count": 5,
   "id": "e808c88f-20c8-4117-aa14-cb7eec2acf63",
   "metadata": {},
   "outputs": [
    {
     "name": "stderr",
     "output_type": "stream",
     "text": [
      "/Users/barnabyemmens/opt/anaconda3/envs/appml/lib/python3.8/site-packages/tqdm/auto.py:22: TqdmWarning: IProgress not found. Please update jupyter and ipywidgets. See https://ipywidgets.readthedocs.io/en/stable/user_install.html\n",
      "  from .autonotebook import tqdm as notebook_tqdm\n"
     ]
    }
   ],
   "source": [
    "import keras\n",
    "import tensorflow as tf\n",
    "from tensorflow.keras.models import Sequential\n",
    "from tensorflow.keras.layers import Conv2D, MaxPooling2D, Flatten, Dense, Dropout\n",
    "from tensorflow.keras.losses import categorical_crossentropy\n",
    "from tensorflow.keras.optimizers import Adadelta, Adam\n",
    "from optuna.integration import TFKerasPruningCallback\n",
    "tf.compat.v1.logging.set_verbosity(tf.compat.v1.logging.ERROR)"
   ]
  },
  {
   "cell_type": "code",
   "execution_count": 6,
   "id": "cf80e544",
   "metadata": {},
   "outputs": [],
   "source": [
    "from sklearn.model_selection import KFold"
   ]
  },
  {
   "cell_type": "code",
   "execution_count": 7,
   "id": "64b2e74e",
   "metadata": {},
   "outputs": [],
   "source": [
    "import optuna"
   ]
  },
  {
   "cell_type": "code",
   "execution_count": 8,
   "id": "993cf863",
   "metadata": {},
   "outputs": [
    {
     "name": "stdout",
     "output_type": "stream",
     "text": [
      "Num CPUs Available:  1\n"
     ]
    }
   ],
   "source": [
    "print(\"Num CPUs Available: \", len(tf.config.list_physical_devices('CPU')))"
   ]
  },
  {
   "cell_type": "markdown",
   "id": "d037fe21",
   "metadata": {},
   "source": [
    "# Optimising"
   ]
  },
  {
   "cell_type": "code",
   "execution_count": 16,
   "id": "ec39cc72",
   "metadata": {},
   "outputs": [],
   "source": [
    "def objective(trial):\n",
    "    n_epochs = trial.suggest_int(\"n_epochs\", low=5, high=50, step=5)\n",
    "    learning_rate = trial.suggest_float(\"learning_rate\", 1e-5, 1e-3)\n",
    "    optimiser = Adam(learning_rate=learning_rate)\n",
    "    \n",
    "    filters_1 = trial.suggest_int(\"filters_1\",low=2,high=32,step=2)\n",
    "    kernel_1 = trial.suggest_int(\"kernel_size_1\",low=8,high=16,step=4)\n",
    "    strides_1 = 1\n",
    "    padding_1 = 'same'\n",
    "    activation_1 = 'relu'\n",
    "    input_shape = (img_rows, img_cols, 1)\n",
    "    pool_size_1 = 2\n",
    "    \n",
    "    filters_2 = trial.suggest_int(\"filters_2\",low=2,high=64,step=2)\n",
    "    kernel_2 = trial.suggest_int(\"kernel_size_2\",low=4,high=12,step=2)\n",
    "    strides_2 = 1\n",
    "    padding_2 = 'same'\n",
    "    activation_2 = 'relu'\n",
    "    pool_size_2 = 2\n",
    "    \n",
    "    dropout_rate = 0.4\n",
    "    \n",
    "    lin_1_n = trial.suggest_int(\"lin_1_n\",low=4,high=128,step=1)\n",
    "    \n",
    "    batch_size = 128\n",
    "    \n",
    "    model = Sequential()\n",
    "    model.add(Conv2D(filters=filters_1,\n",
    "                     kernel_size=kernel_1,\n",
    "                     strides=strides_1,\n",
    "                     padding=padding_1,\n",
    "                     activation=activation_1,\n",
    "                     input_shape=input_shape))\n",
    "    model.add(MaxPooling2D(pool_size=pool_size_1, strides=None))\n",
    "    model.add(Conv2D(filters=filters_2,\n",
    "                     kernel_size=kernel_2,\n",
    "                     strides=strides_2,\n",
    "                     padding=padding_2,\n",
    "                     activation=activation_2))\n",
    "    model.add(MaxPooling2D(pool_size=pool_size_2, strides=None))\n",
    "    model.add(Dropout(rate=dropout_rate))\n",
    "    model.add(Flatten())\n",
    "    model.add(Dense(units=lin_1_n, activation='relu'))\n",
    "    model.add(Dense(units=num_classes, activation='softmax'))\n",
    "    \n",
    "    model.compile(loss=categorical_crossentropy,\n",
    "              optimizer=optimiser,\n",
    "              metrics=['categorical_accuracy'])\n",
    "    \n",
    "    monitor = \"val_categorical_accuracy\"\n",
    "    \n",
    "    callbacks = [\n",
    "        tf.keras.callbacks.EarlyStopping(patience=5),\n",
    "        TFKerasPruningCallback(trial, monitor)]\n",
    "    \n",
    "    fitted = model.fit(X_train, y_train,\n",
    "                       batch_size=batch_size,\n",
    "                       epochs=n_epochs,\n",
    "                       verbose=1,\n",
    "                       validation_data=(X_test, y_test),\n",
    "                       callbacks=callbacks)\n",
    "    \n",
    "    score = fitted.history[monitor][-1]\n",
    "    \n",
    "    return score\n",
    "# changed trials to 50 from 10\n",
    "# removed pruning but not callbacks"
   ]
  },
  {
   "cell_type": "code",
   "execution_count": 17,
   "id": "abd03c72",
   "metadata": {},
   "outputs": [
    {
     "name": "stdout",
     "output_type": "stream",
     "text": [
      "OK\n"
     ]
    }
   ],
   "source": [
    "train_images, val_images, train_labels, val_labels = train_test_split(mels, y, test_size=0.2, random_state=42)\n",
    "X_train, X_test, y_train, y_test, img_rows, img_cols = format_for_CNN(train_images, val_images, train_labels, val_labels)\n",
    "check_class_complete_gen(train_labels, val_labels,y)"
   ]
  },
  {
   "cell_type": "code",
   "execution_count": 18,
   "id": "ab8aa2b5",
   "metadata": {},
   "outputs": [
    {
     "name": "stderr",
     "output_type": "stream",
     "text": [
      "\u001b[32m[I 2022-06-10 19:49:27,182]\u001b[0m A new study created in memory with name: no-name-1fe2600b-da5d-451e-875c-bf1e4697b732\u001b[0m\n"
     ]
    },
    {
     "name": "stdout",
     "output_type": "stream",
     "text": [
      "Epoch 1/15\n",
      "15/15 [==============================] - 9s 600ms/step - loss: 1.1905 - categorical_accuracy: 0.5006 - val_loss: 0.8859 - val_categorical_accuracy: 0.5664\n",
      "Epoch 2/15\n",
      "15/15 [==============================] - 9s 604ms/step - loss: 0.7952 - categorical_accuracy: 0.6447 - val_loss: 0.6749 - val_categorical_accuracy: 0.6637\n",
      "Epoch 3/15\n",
      "15/15 [==============================] - 9s 620ms/step - loss: 0.7015 - categorical_accuracy: 0.6829 - val_loss: 0.5776 - val_categorical_accuracy: 0.7677\n",
      "Epoch 4/15\n",
      "15/15 [==============================] - 10s 627ms/step - loss: 0.5944 - categorical_accuracy: 0.7528 - val_loss: 0.5200 - val_categorical_accuracy: 0.7544\n",
      "Epoch 5/15\n",
      "15/15 [==============================] - 9s 624ms/step - loss: 0.4901 - categorical_accuracy: 0.7932 - val_loss: 0.4166 - val_categorical_accuracy: 0.8363\n",
      "Epoch 6/15\n",
      "15/15 [==============================] - 9s 623ms/step - loss: 0.4428 - categorical_accuracy: 0.8132 - val_loss: 0.3785 - val_categorical_accuracy: 0.8562\n",
      "Epoch 7/15\n",
      "15/15 [==============================] - 9s 608ms/step - loss: 0.3855 - categorical_accuracy: 0.8392 - val_loss: 0.3254 - val_categorical_accuracy: 0.8717\n",
      "Epoch 8/15\n",
      "15/15 [==============================] - 9s 621ms/step - loss: 0.3556 - categorical_accuracy: 0.8448 - val_loss: 0.3125 - val_categorical_accuracy: 0.8783\n",
      "Epoch 9/15\n",
      "15/15 [==============================] - 9s 617ms/step - loss: 0.2966 - categorical_accuracy: 0.8775 - val_loss: 0.3381 - val_categorical_accuracy: 0.8628\n",
      "Epoch 10/15\n",
      "15/15 [==============================] - 9s 614ms/step - loss: 0.3019 - categorical_accuracy: 0.8675 - val_loss: 0.2703 - val_categorical_accuracy: 0.8827\n",
      "Epoch 11/15\n",
      "15/15 [==============================] - 9s 624ms/step - loss: 0.2552 - categorical_accuracy: 0.8925 - val_loss: 0.2329 - val_categorical_accuracy: 0.9226\n",
      "Epoch 12/15\n",
      "15/15 [==============================] - 9s 605ms/step - loss: 0.2345 - categorical_accuracy: 0.9124 - val_loss: 0.2340 - val_categorical_accuracy: 0.9204\n",
      "Epoch 13/15\n",
      "15/15 [==============================] - 9s 600ms/step - loss: 0.2102 - categorical_accuracy: 0.9163 - val_loss: 0.2123 - val_categorical_accuracy: 0.9159\n",
      "Epoch 14/15\n",
      "15/15 [==============================] - 9s 599ms/step - loss: 0.2128 - categorical_accuracy: 0.9169 - val_loss: 0.2078 - val_categorical_accuracy: 0.9204\n",
      "Epoch 15/15\n",
      "15/15 [==============================] - 9s 599ms/step - loss: 0.1903 - categorical_accuracy: 0.9268 - val_loss: 0.2228 - val_categorical_accuracy: 0.9071\n"
     ]
    },
    {
     "name": "stderr",
     "output_type": "stream",
     "text": [
      "\u001b[32m[I 2022-06-10 19:51:45,826]\u001b[0m Trial 0 finished with value: 0.9070796370506287 and parameters: {'n_epochs': 15, 'learning_rate': 0.0007782035648105175, 'filters_1': 32, 'kernel_size_1': 12, 'filters_2': 8, 'kernel_size_2': 4, 'lin_1_n': 30}. Best is trial 0 with value: 0.9070796370506287.\u001b[0m\n"
     ]
    },
    {
     "name": "stdout",
     "output_type": "stream",
     "text": [
      "Epoch 1/25\n",
      "15/15 [==============================] - 11s 738ms/step - loss: 0.9672 - categorical_accuracy: 0.5765 - val_loss: 0.6782 - val_categorical_accuracy: 0.7124\n",
      "Epoch 2/25\n",
      "15/15 [==============================] - 11s 721ms/step - loss: 0.6321 - categorical_accuracy: 0.7345 - val_loss: 0.5814 - val_categorical_accuracy: 0.7611\n",
      "Epoch 3/25\n",
      "15/15 [==============================] - 11s 729ms/step - loss: 0.4736 - categorical_accuracy: 0.7943 - val_loss: 0.4618 - val_categorical_accuracy: 0.8075\n",
      "Epoch 4/25\n",
      "15/15 [==============================] - 11s 729ms/step - loss: 0.4161 - categorical_accuracy: 0.8381 - val_loss: 0.4240 - val_categorical_accuracy: 0.8097\n",
      "Epoch 5/25\n",
      "15/15 [==============================] - 11s 753ms/step - loss: 0.3823 - categorical_accuracy: 0.8392 - val_loss: 0.3276 - val_categorical_accuracy: 0.8827\n",
      "Epoch 6/25\n",
      "15/15 [==============================] - 13s 846ms/step - loss: 0.3188 - categorical_accuracy: 0.8697 - val_loss: 0.3083 - val_categorical_accuracy: 0.8739\n",
      "Epoch 7/25\n",
      "15/15 [==============================] - 13s 889ms/step - loss: 0.2644 - categorical_accuracy: 0.8936 - val_loss: 0.2648 - val_categorical_accuracy: 0.9093\n",
      "Epoch 8/25\n",
      "15/15 [==============================] - 11s 728ms/step - loss: 0.2431 - categorical_accuracy: 0.9063 - val_loss: 0.3295 - val_categorical_accuracy: 0.8606\n",
      "Epoch 9/25\n",
      "15/15 [==============================] - 11s 727ms/step - loss: 0.2336 - categorical_accuracy: 0.9146 - val_loss: 0.2458 - val_categorical_accuracy: 0.9115\n",
      "Epoch 10/25\n",
      "15/15 [==============================] - 11s 718ms/step - loss: 0.2000 - categorical_accuracy: 0.9241 - val_loss: 0.2100 - val_categorical_accuracy: 0.9314\n",
      "Epoch 11/25\n",
      "15/15 [==============================] - 11s 756ms/step - loss: 0.1773 - categorical_accuracy: 0.9307 - val_loss: 0.2050 - val_categorical_accuracy: 0.9314\n",
      "Epoch 12/25\n",
      "15/15 [==============================] - 11s 733ms/step - loss: 0.1537 - categorical_accuracy: 0.9462 - val_loss: 0.2419 - val_categorical_accuracy: 0.9027\n",
      "Epoch 13/25\n",
      "15/15 [==============================] - 12s 789ms/step - loss: 0.1615 - categorical_accuracy: 0.9407 - val_loss: 0.1831 - val_categorical_accuracy: 0.9358\n",
      "Epoch 14/25\n",
      "15/15 [==============================] - 12s 798ms/step - loss: 0.1465 - categorical_accuracy: 0.9490 - val_loss: 0.2208 - val_categorical_accuracy: 0.9204\n",
      "Epoch 15/25\n",
      "15/15 [==============================] - 13s 861ms/step - loss: 0.1528 - categorical_accuracy: 0.9462 - val_loss: 0.1815 - val_categorical_accuracy: 0.9381\n",
      "Epoch 16/25\n",
      "15/15 [==============================] - 13s 838ms/step - loss: 0.1200 - categorical_accuracy: 0.9634 - val_loss: 0.1418 - val_categorical_accuracy: 0.9712\n",
      "Epoch 17/25\n",
      "15/15 [==============================] - 11s 757ms/step - loss: 0.1026 - categorical_accuracy: 0.9706 - val_loss: 0.1757 - val_categorical_accuracy: 0.9403\n",
      "Epoch 18/25\n",
      "15/15 [==============================] - 11s 721ms/step - loss: 0.0951 - categorical_accuracy: 0.9717 - val_loss: 0.1285 - val_categorical_accuracy: 0.9690\n",
      "Epoch 19/25\n",
      "15/15 [==============================] - 11s 723ms/step - loss: 0.0939 - categorical_accuracy: 0.9734 - val_loss: 0.1266 - val_categorical_accuracy: 0.9646\n",
      "Epoch 20/25\n",
      "15/15 [==============================] - 11s 722ms/step - loss: 0.0919 - categorical_accuracy: 0.9678 - val_loss: 0.1375 - val_categorical_accuracy: 0.9558\n",
      "Epoch 21/25\n",
      "15/15 [==============================] - 11s 734ms/step - loss: 0.1036 - categorical_accuracy: 0.9651 - val_loss: 0.1384 - val_categorical_accuracy: 0.9558\n",
      "Epoch 22/25\n",
      "15/15 [==============================] - 11s 714ms/step - loss: 0.0876 - categorical_accuracy: 0.9756 - val_loss: 0.1100 - val_categorical_accuracy: 0.9735\n",
      "Epoch 23/25\n",
      "15/15 [==============================] - 11s 717ms/step - loss: 0.0749 - categorical_accuracy: 0.9800 - val_loss: 0.2199 - val_categorical_accuracy: 0.9027\n",
      "Epoch 24/25\n",
      "15/15 [==============================] - 11s 713ms/step - loss: 0.1181 - categorical_accuracy: 0.9529 - val_loss: 0.1308 - val_categorical_accuracy: 0.9646\n",
      "Epoch 25/25\n",
      "15/15 [==============================] - 11s 711ms/step - loss: 0.0738 - categorical_accuracy: 0.9745 - val_loss: 0.1032 - val_categorical_accuracy: 0.9646\n"
     ]
    },
    {
     "name": "stderr",
     "output_type": "stream",
     "text": [
      "\u001b[32m[I 2022-06-10 19:56:29,286]\u001b[0m Trial 1 finished with value: 0.9646017551422119 and parameters: {'n_epochs': 25, 'learning_rate': 0.000612136233949471, 'filters_1': 4, 'kernel_size_1': 16, 'filters_2': 26, 'kernel_size_2': 4, 'lin_1_n': 43}. Best is trial 1 with value: 0.9646017551422119.\u001b[0m\n"
     ]
    },
    {
     "name": "stdout",
     "output_type": "stream",
     "text": [
      "Epoch 1/50\n",
      "15/15 [==============================] - 17s 1s/step - loss: 1.1452 - categorical_accuracy: 0.4950 - val_loss: 0.7721 - val_categorical_accuracy: 0.6305\n",
      "Epoch 2/50\n",
      "15/15 [==============================] - 17s 1s/step - loss: 0.6982 - categorical_accuracy: 0.6868 - val_loss: 0.5936 - val_categorical_accuracy: 0.7367\n",
      "Epoch 3/50\n",
      "15/15 [==============================] - 17s 1s/step - loss: 0.5774 - categorical_accuracy: 0.7533 - val_loss: 0.5946 - val_categorical_accuracy: 0.7323\n",
      "Epoch 4/50\n",
      "15/15 [==============================] - 17s 1s/step - loss: 0.5664 - categorical_accuracy: 0.7384 - val_loss: 0.4771 - val_categorical_accuracy: 0.7788\n",
      "Epoch 5/50\n",
      "15/15 [==============================] - 17s 1s/step - loss: 0.4956 - categorical_accuracy: 0.7783 - val_loss: 0.5420 - val_categorical_accuracy: 0.7257\n",
      "Epoch 6/50\n",
      "15/15 [==============================] - 17s 1s/step - loss: 0.4950 - categorical_accuracy: 0.7772 - val_loss: 0.4387 - val_categorical_accuracy: 0.8053\n",
      "Epoch 7/50\n",
      "15/15 [==============================] - 17s 1s/step - loss: 0.4391 - categorical_accuracy: 0.8082 - val_loss: 0.3846 - val_categorical_accuracy: 0.8274\n",
      "Epoch 8/50\n",
      "15/15 [==============================] - 17s 1s/step - loss: 0.3854 - categorical_accuracy: 0.8276 - val_loss: 0.3732 - val_categorical_accuracy: 0.8341\n",
      "Epoch 9/50\n",
      "15/15 [==============================] - 17s 1s/step - loss: 0.3523 - categorical_accuracy: 0.8381 - val_loss: 0.3426 - val_categorical_accuracy: 0.8650\n",
      "Epoch 10/50\n",
      "15/15 [==============================] - 17s 1s/step - loss: 0.3178 - categorical_accuracy: 0.8625 - val_loss: 0.2969 - val_categorical_accuracy: 0.8673\n",
      "Epoch 11/50\n",
      "15/15 [==============================] - 17s 1s/step - loss: 0.2837 - categorical_accuracy: 0.8797 - val_loss: 0.3155 - val_categorical_accuracy: 0.8827\n",
      "Epoch 12/50\n",
      "15/15 [==============================] - 17s 1s/step - loss: 0.2952 - categorical_accuracy: 0.8681 - val_loss: 0.2798 - val_categorical_accuracy: 0.8916\n",
      "Epoch 13/50\n",
      "15/15 [==============================] - 19s 1s/step - loss: 0.2519 - categorical_accuracy: 0.8919 - val_loss: 0.2280 - val_categorical_accuracy: 0.9093\n",
      "Epoch 14/50\n",
      "15/15 [==============================] - 19s 1s/step - loss: 0.2073 - categorical_accuracy: 0.9169 - val_loss: 0.2481 - val_categorical_accuracy: 0.8938\n",
      "Epoch 15/50\n",
      "15/15 [==============================] - 19s 1s/step - loss: 0.2192 - categorical_accuracy: 0.9124 - val_loss: 0.2091 - val_categorical_accuracy: 0.9181\n",
      "Epoch 16/50\n",
      "15/15 [==============================] - 19s 1s/step - loss: 0.1821 - categorical_accuracy: 0.9252 - val_loss: 0.1764 - val_categorical_accuracy: 0.9425\n",
      "Epoch 17/50\n",
      "15/15 [==============================] - 18s 1s/step - loss: 0.1561 - categorical_accuracy: 0.9368 - val_loss: 0.2246 - val_categorical_accuracy: 0.9049\n",
      "Epoch 18/50\n",
      "15/15 [==============================] - 18s 1s/step - loss: 0.1987 - categorical_accuracy: 0.9224 - val_loss: 0.2242 - val_categorical_accuracy: 0.9248\n",
      "Epoch 19/50\n",
      "15/15 [==============================] - 18s 1s/step - loss: 0.1705 - categorical_accuracy: 0.9335 - val_loss: 0.1593 - val_categorical_accuracy: 0.9513\n",
      "Epoch 20/50\n",
      "15/15 [==============================] - 19s 1s/step - loss: 0.1355 - categorical_accuracy: 0.9507 - val_loss: 0.1488 - val_categorical_accuracy: 0.9513\n",
      "Epoch 21/50\n",
      "15/15 [==============================] - 18s 1s/step - loss: 0.1327 - categorical_accuracy: 0.9507 - val_loss: 0.1420 - val_categorical_accuracy: 0.9447\n",
      "Epoch 22/50\n",
      "15/15 [==============================] - 18s 1s/step - loss: 0.1276 - categorical_accuracy: 0.9518 - val_loss: 0.1464 - val_categorical_accuracy: 0.9403\n",
      "Epoch 23/50\n",
      "15/15 [==============================] - 18s 1s/step - loss: 0.1039 - categorical_accuracy: 0.9584 - val_loss: 0.1323 - val_categorical_accuracy: 0.9602\n",
      "Epoch 24/50\n",
      "15/15 [==============================] - 19s 1s/step - loss: 0.1279 - categorical_accuracy: 0.9512 - val_loss: 0.1115 - val_categorical_accuracy: 0.9624\n",
      "Epoch 25/50\n",
      "15/15 [==============================] - 18s 1s/step - loss: 0.1086 - categorical_accuracy: 0.9595 - val_loss: 0.1269 - val_categorical_accuracy: 0.9602\n",
      "Epoch 26/50\n",
      "15/15 [==============================] - 19s 1s/step - loss: 0.0819 - categorical_accuracy: 0.9717 - val_loss: 0.1071 - val_categorical_accuracy: 0.9425\n",
      "Epoch 27/50\n",
      "15/15 [==============================] - 19s 1s/step - loss: 0.0754 - categorical_accuracy: 0.9762 - val_loss: 0.0754 - val_categorical_accuracy: 0.9779\n",
      "Epoch 28/50\n",
      "15/15 [==============================] - 19s 1s/step - loss: 0.0801 - categorical_accuracy: 0.9706 - val_loss: 0.0674 - val_categorical_accuracy: 0.9889\n",
      "Epoch 29/50\n",
      "15/15 [==============================] - 18s 1s/step - loss: 0.0665 - categorical_accuracy: 0.9751 - val_loss: 0.0788 - val_categorical_accuracy: 0.9757\n",
      "Epoch 30/50\n",
      "15/15 [==============================] - 19s 1s/step - loss: 0.0590 - categorical_accuracy: 0.9823 - val_loss: 0.1112 - val_categorical_accuracy: 0.9558\n",
      "Epoch 31/50\n",
      "15/15 [==============================] - 19s 1s/step - loss: 0.0813 - categorical_accuracy: 0.9712 - val_loss: 0.0570 - val_categorical_accuracy: 0.9823\n",
      "Epoch 32/50\n",
      "15/15 [==============================] - 18s 1s/step - loss: 0.0494 - categorical_accuracy: 0.9823 - val_loss: 0.0545 - val_categorical_accuracy: 0.9823\n",
      "Epoch 33/50\n",
      "15/15 [==============================] - 18s 1s/step - loss: 0.0429 - categorical_accuracy: 0.9884 - val_loss: 0.0464 - val_categorical_accuracy: 0.9823\n",
      "Epoch 34/50\n",
      "15/15 [==============================] - 18s 1s/step - loss: 0.0404 - categorical_accuracy: 0.9878 - val_loss: 0.0437 - val_categorical_accuracy: 0.9912\n",
      "Epoch 35/50\n",
      "15/15 [==============================] - 19s 1s/step - loss: 0.0372 - categorical_accuracy: 0.9873 - val_loss: 0.0429 - val_categorical_accuracy: 0.9845\n",
      "Epoch 36/50\n",
      "15/15 [==============================] - 18s 1s/step - loss: 0.0279 - categorical_accuracy: 0.9911 - val_loss: 0.0294 - val_categorical_accuracy: 0.9956\n",
      "Epoch 37/50\n",
      "15/15 [==============================] - 18s 1s/step - loss: 0.0281 - categorical_accuracy: 0.9933 - val_loss: 0.0343 - val_categorical_accuracy: 0.9889\n",
      "Epoch 38/50\n",
      "15/15 [==============================] - 18s 1s/step - loss: 0.0370 - categorical_accuracy: 0.9889 - val_loss: 0.0289 - val_categorical_accuracy: 0.9956\n",
      "Epoch 39/50\n",
      "15/15 [==============================] - 18s 1s/step - loss: 0.0303 - categorical_accuracy: 0.9928 - val_loss: 0.0380 - val_categorical_accuracy: 0.9801\n",
      "Epoch 40/50\n",
      "15/15 [==============================] - 19s 1s/step - loss: 0.0293 - categorical_accuracy: 0.9939 - val_loss: 0.0438 - val_categorical_accuracy: 0.9823\n",
      "Epoch 41/50\n",
      "15/15 [==============================] - 20s 1s/step - loss: 0.0319 - categorical_accuracy: 0.9906 - val_loss: 0.0318 - val_categorical_accuracy: 0.9934\n",
      "Epoch 42/50\n",
      "15/15 [==============================] - 20s 1s/step - loss: 0.0193 - categorical_accuracy: 0.9956 - val_loss: 0.0204 - val_categorical_accuracy: 0.9956\n",
      "Epoch 43/50\n",
      "15/15 [==============================] - 19s 1s/step - loss: 0.0272 - categorical_accuracy: 0.9928 - val_loss: 0.0197 - val_categorical_accuracy: 0.9978\n",
      "Epoch 44/50\n",
      "15/15 [==============================] - 18s 1s/step - loss: 0.0352 - categorical_accuracy: 0.9906 - val_loss: 0.0236 - val_categorical_accuracy: 0.9934\n",
      "Epoch 45/50\n",
      "15/15 [==============================] - 19s 1s/step - loss: 0.0272 - categorical_accuracy: 0.9917 - val_loss: 0.0288 - val_categorical_accuracy: 0.9912\n",
      "Epoch 46/50\n",
      "15/15 [==============================] - 18s 1s/step - loss: 0.0371 - categorical_accuracy: 0.9861 - val_loss: 0.0213 - val_categorical_accuracy: 0.9956\n",
      "Epoch 47/50\n",
      "15/15 [==============================] - 18s 1s/step - loss: 0.0371 - categorical_accuracy: 0.9878 - val_loss: 0.0329 - val_categorical_accuracy: 0.9956\n",
      "Epoch 48/50\n",
      "15/15 [==============================] - 19s 1s/step - loss: 0.0273 - categorical_accuracy: 0.9945 - val_loss: 0.0408 - val_categorical_accuracy: 0.9757\n"
     ]
    },
    {
     "name": "stderr",
     "output_type": "stream",
     "text": [
      "\u001b[32m[I 2022-06-10 20:11:04,765]\u001b[0m Trial 2 finished with value: 0.9756637215614319 and parameters: {'n_epochs': 50, 'learning_rate': 0.0009409357780120208, 'filters_1': 22, 'kernel_size_1': 16, 'filters_2': 30, 'kernel_size_2': 8, 'lin_1_n': 23}. Best is trial 2 with value: 0.9756637215614319.\u001b[0m\n"
     ]
    },
    {
     "name": "stdout",
     "output_type": "stream",
     "text": [
      "Epoch 1/30\n",
      "15/15 [==============================] - 5s 310ms/step - loss: 1.1108 - categorical_accuracy: 0.4867 - val_loss: 0.7785 - val_categorical_accuracy: 0.6195\n",
      "Epoch 2/30\n",
      "15/15 [==============================] - 5s 304ms/step - loss: 0.7238 - categorical_accuracy: 0.6685 - val_loss: 0.6244 - val_categorical_accuracy: 0.7146\n",
      "Epoch 3/30\n",
      "15/15 [==============================] - 5s 302ms/step - loss: 0.5926 - categorical_accuracy: 0.7506 - val_loss: 0.5389 - val_categorical_accuracy: 0.7854\n",
      "Epoch 4/30\n",
      "15/15 [==============================] - 5s 300ms/step - loss: 0.5129 - categorical_accuracy: 0.7999 - val_loss: 0.4557 - val_categorical_accuracy: 0.7920\n",
      "Epoch 5/30\n",
      "15/15 [==============================] - 5s 300ms/step - loss: 0.4419 - categorical_accuracy: 0.8082 - val_loss: 0.4002 - val_categorical_accuracy: 0.8496\n",
      "Epoch 6/30\n",
      "15/15 [==============================] - 5s 301ms/step - loss: 0.4057 - categorical_accuracy: 0.8309 - val_loss: 0.3887 - val_categorical_accuracy: 0.8385\n",
      "Epoch 7/30\n",
      "15/15 [==============================] - 5s 304ms/step - loss: 0.3565 - categorical_accuracy: 0.8592 - val_loss: 0.3585 - val_categorical_accuracy: 0.8518\n",
      "Epoch 8/30\n",
      "15/15 [==============================] - 5s 311ms/step - loss: 0.3141 - categorical_accuracy: 0.8653 - val_loss: 0.3058 - val_categorical_accuracy: 0.8783\n",
      "Epoch 9/30\n",
      "15/15 [==============================] - 5s 303ms/step - loss: 0.2788 - categorical_accuracy: 0.8891 - val_loss: 0.2763 - val_categorical_accuracy: 0.9159\n",
      "Epoch 10/30\n",
      "15/15 [==============================] - 4s 297ms/step - loss: 0.2445 - categorical_accuracy: 0.9102 - val_loss: 0.2809 - val_categorical_accuracy: 0.8894\n",
      "Epoch 11/30\n",
      "15/15 [==============================] - 4s 299ms/step - loss: 0.2315 - categorical_accuracy: 0.9135 - val_loss: 0.2472 - val_categorical_accuracy: 0.9159\n",
      "Epoch 12/30\n",
      "15/15 [==============================] - 5s 309ms/step - loss: 0.2094 - categorical_accuracy: 0.9296 - val_loss: 0.2398 - val_categorical_accuracy: 0.9226\n",
      "Epoch 13/30\n",
      "15/15 [==============================] - 5s 302ms/step - loss: 0.1973 - categorical_accuracy: 0.9346 - val_loss: 0.2292 - val_categorical_accuracy: 0.9270\n",
      "Epoch 14/30\n",
      "15/15 [==============================] - 4s 299ms/step - loss: 0.1775 - categorical_accuracy: 0.9396 - val_loss: 0.2167 - val_categorical_accuracy: 0.9270\n",
      "Epoch 15/30\n",
      "15/15 [==============================] - 5s 301ms/step - loss: 0.1527 - categorical_accuracy: 0.9479 - val_loss: 0.2008 - val_categorical_accuracy: 0.9270\n",
      "Epoch 16/30\n",
      "15/15 [==============================] - 5s 301ms/step - loss: 0.1485 - categorical_accuracy: 0.9540 - val_loss: 0.1902 - val_categorical_accuracy: 0.9270\n",
      "Epoch 17/30\n",
      "15/15 [==============================] - 5s 305ms/step - loss: 0.1369 - categorical_accuracy: 0.9501 - val_loss: 0.1890 - val_categorical_accuracy: 0.9358\n",
      "Epoch 18/30\n",
      "15/15 [==============================] - 5s 301ms/step - loss: 0.1140 - categorical_accuracy: 0.9618 - val_loss: 0.1612 - val_categorical_accuracy: 0.9447\n",
      "Epoch 19/30\n",
      "15/15 [==============================] - 5s 301ms/step - loss: 0.1050 - categorical_accuracy: 0.9634 - val_loss: 0.1545 - val_categorical_accuracy: 0.9469\n",
      "Epoch 20/30\n",
      "15/15 [==============================] - 5s 317ms/step - loss: 0.1060 - categorical_accuracy: 0.9673 - val_loss: 0.1405 - val_categorical_accuracy: 0.9580\n",
      "Epoch 21/30\n",
      "15/15 [==============================] - 5s 306ms/step - loss: 0.1030 - categorical_accuracy: 0.9662 - val_loss: 0.1528 - val_categorical_accuracy: 0.9469\n",
      "Epoch 22/30\n",
      "15/15 [==============================] - 5s 302ms/step - loss: 0.0969 - categorical_accuracy: 0.9684 - val_loss: 0.1333 - val_categorical_accuracy: 0.9712\n",
      "Epoch 23/30\n",
      "15/15 [==============================] - 5s 305ms/step - loss: 0.0963 - categorical_accuracy: 0.9678 - val_loss: 0.1344 - val_categorical_accuracy: 0.9580\n",
      "Epoch 24/30\n",
      "15/15 [==============================] - 5s 304ms/step - loss: 0.0821 - categorical_accuracy: 0.9756 - val_loss: 0.1227 - val_categorical_accuracy: 0.9558\n",
      "Epoch 25/30\n",
      "15/15 [==============================] - 5s 303ms/step - loss: 0.0691 - categorical_accuracy: 0.9800 - val_loss: 0.1115 - val_categorical_accuracy: 0.9668\n",
      "Epoch 26/30\n",
      "15/15 [==============================] - 4s 299ms/step - loss: 0.0621 - categorical_accuracy: 0.9834 - val_loss: 0.1105 - val_categorical_accuracy: 0.9602\n",
      "Epoch 27/30\n",
      "15/15 [==============================] - 5s 303ms/step - loss: 0.0637 - categorical_accuracy: 0.9773 - val_loss: 0.1134 - val_categorical_accuracy: 0.9602\n",
      "Epoch 28/30\n",
      "15/15 [==============================] - 4s 298ms/step - loss: 0.0675 - categorical_accuracy: 0.9778 - val_loss: 0.1052 - val_categorical_accuracy: 0.9801\n",
      "Epoch 29/30\n",
      "15/15 [==============================] - 4s 299ms/step - loss: 0.0662 - categorical_accuracy: 0.9789 - val_loss: 0.1131 - val_categorical_accuracy: 0.9535\n",
      "Epoch 30/30\n",
      "15/15 [==============================] - 5s 314ms/step - loss: 0.0563 - categorical_accuracy: 0.9823 - val_loss: 0.1402 - val_categorical_accuracy: 0.9469\n"
     ]
    },
    {
     "name": "stderr",
     "output_type": "stream",
     "text": [
      "\u001b[32m[I 2022-06-10 20:13:21,837]\u001b[0m Trial 3 finished with value: 0.9469026327133179 and parameters: {'n_epochs': 30, 'learning_rate': 0.000724726306844754, 'filters_1': 4, 'kernel_size_1': 8, 'filters_2': 22, 'kernel_size_2': 8, 'lin_1_n': 65}. Best is trial 2 with value: 0.9756637215614319.\u001b[0m\n"
     ]
    },
    {
     "name": "stdout",
     "output_type": "stream",
     "text": [
      "Epoch 1/30\n",
      "15/15 [==============================] - 13s 842ms/step - loss: 1.0572 - categorical_accuracy: 0.5050 - val_loss: 0.8042 - val_categorical_accuracy: 0.6615\n",
      "Epoch 2/30\n",
      "15/15 [==============================] - 13s 838ms/step - loss: 0.6855 - categorical_accuracy: 0.6885 - val_loss: 0.6250 - val_categorical_accuracy: 0.7124\n",
      "Epoch 3/30\n",
      "15/15 [==============================] - 13s 851ms/step - loss: 0.6004 - categorical_accuracy: 0.7373 - val_loss: 0.5365 - val_categorical_accuracy: 0.7677\n",
      "Epoch 4/30\n",
      "15/15 [==============================] - 13s 835ms/step - loss: 0.4994 - categorical_accuracy: 0.7822 - val_loss: 0.4380 - val_categorical_accuracy: 0.8097\n",
      "Epoch 5/30\n",
      "15/15 [==============================] - 12s 831ms/step - loss: 0.4096 - categorical_accuracy: 0.8176 - val_loss: 0.3911 - val_categorical_accuracy: 0.8164\n",
      "Epoch 6/30\n",
      "15/15 [==============================] - 13s 836ms/step - loss: 0.3384 - categorical_accuracy: 0.8570 - val_loss: 0.3381 - val_categorical_accuracy: 0.8673\n",
      "Epoch 7/30\n",
      "15/15 [==============================] - 13s 839ms/step - loss: 0.2704 - categorical_accuracy: 0.8908 - val_loss: 0.2608 - val_categorical_accuracy: 0.8982\n",
      "Epoch 8/30\n",
      "15/15 [==============================] - 13s 853ms/step - loss: 0.2141 - categorical_accuracy: 0.9207 - val_loss: 0.2507 - val_categorical_accuracy: 0.8850\n",
      "Epoch 9/30\n",
      "15/15 [==============================] - 13s 846ms/step - loss: 0.1896 - categorical_accuracy: 0.9296 - val_loss: 0.1842 - val_categorical_accuracy: 0.9358\n",
      "Epoch 10/30\n",
      "15/15 [==============================] - 13s 835ms/step - loss: 0.1386 - categorical_accuracy: 0.9568 - val_loss: 0.1955 - val_categorical_accuracy: 0.9292\n",
      "Epoch 11/30\n",
      "15/15 [==============================] - 13s 854ms/step - loss: 0.1332 - categorical_accuracy: 0.9590 - val_loss: 0.1461 - val_categorical_accuracy: 0.9580\n",
      "Epoch 12/30\n",
      "15/15 [==============================] - 13s 837ms/step - loss: 0.1005 - categorical_accuracy: 0.9656 - val_loss: 0.1359 - val_categorical_accuracy: 0.9580\n",
      "Epoch 13/30\n",
      "15/15 [==============================] - 13s 837ms/step - loss: 0.0801 - categorical_accuracy: 0.9778 - val_loss: 0.1528 - val_categorical_accuracy: 0.9314\n",
      "Epoch 14/30\n",
      "15/15 [==============================] - 12s 833ms/step - loss: 0.0770 - categorical_accuracy: 0.9723 - val_loss: 0.1494 - val_categorical_accuracy: 0.9425\n",
      "Epoch 15/30\n",
      "15/15 [==============================] - 13s 842ms/step - loss: 0.1159 - categorical_accuracy: 0.9534 - val_loss: 0.1049 - val_categorical_accuracy: 0.9712\n",
      "Epoch 16/30\n",
      "15/15 [==============================] - 13s 836ms/step - loss: 0.0619 - categorical_accuracy: 0.9828 - val_loss: 0.0790 - val_categorical_accuracy: 0.9801\n",
      "Epoch 17/30\n",
      "15/15 [==============================] - 12s 833ms/step - loss: 0.0405 - categorical_accuracy: 0.9884 - val_loss: 0.0984 - val_categorical_accuracy: 0.9469\n",
      "Epoch 18/30\n",
      "15/15 [==============================] - 13s 840ms/step - loss: 0.0494 - categorical_accuracy: 0.9845 - val_loss: 0.0718 - val_categorical_accuracy: 0.9823\n",
      "Epoch 19/30\n",
      "15/15 [==============================] - 13s 837ms/step - loss: 0.0378 - categorical_accuracy: 0.9900 - val_loss: 0.0653 - val_categorical_accuracy: 0.9801\n",
      "Epoch 20/30\n",
      "15/15 [==============================] - 12s 833ms/step - loss: 0.0339 - categorical_accuracy: 0.9895 - val_loss: 0.0617 - val_categorical_accuracy: 0.9801\n",
      "Epoch 21/30\n",
      "15/15 [==============================] - 13s 835ms/step - loss: 0.0300 - categorical_accuracy: 0.9911 - val_loss: 0.0606 - val_categorical_accuracy: 0.9779\n",
      "Epoch 22/30\n",
      "15/15 [==============================] - 13s 852ms/step - loss: 0.0306 - categorical_accuracy: 0.9900 - val_loss: 0.0370 - val_categorical_accuracy: 0.9889\n",
      "Epoch 23/30\n",
      "15/15 [==============================] - 13s 840ms/step - loss: 0.0198 - categorical_accuracy: 0.9950 - val_loss: 0.0344 - val_categorical_accuracy: 0.9889\n",
      "Epoch 24/30\n",
      "15/15 [==============================] - 13s 835ms/step - loss: 0.0147 - categorical_accuracy: 0.9972 - val_loss: 0.0337 - val_categorical_accuracy: 0.9889\n",
      "Epoch 25/30\n",
      "15/15 [==============================] - 12s 832ms/step - loss: 0.0105 - categorical_accuracy: 0.9983 - val_loss: 0.0308 - val_categorical_accuracy: 0.9889\n",
      "Epoch 26/30\n",
      "15/15 [==============================] - 13s 833ms/step - loss: 0.0085 - categorical_accuracy: 0.9994 - val_loss: 0.0368 - val_categorical_accuracy: 0.9889\n",
      "Epoch 27/30\n",
      "15/15 [==============================] - 13s 849ms/step - loss: 0.0098 - categorical_accuracy: 0.9978 - val_loss: 0.0308 - val_categorical_accuracy: 0.9912\n",
      "Epoch 28/30\n",
      "15/15 [==============================] - 13s 834ms/step - loss: 0.0081 - categorical_accuracy: 0.9989 - val_loss: 0.0437 - val_categorical_accuracy: 0.9845\n",
      "Epoch 29/30\n",
      "15/15 [==============================] - 12s 833ms/step - loss: 0.0073 - categorical_accuracy: 0.9994 - val_loss: 0.0380 - val_categorical_accuracy: 0.9823\n",
      "Epoch 30/30\n",
      "15/15 [==============================] - 13s 835ms/step - loss: 0.0077 - categorical_accuracy: 0.9978 - val_loss: 0.0322 - val_categorical_accuracy: 0.9823\n"
     ]
    },
    {
     "name": "stderr",
     "output_type": "stream",
     "text": [
      "\u001b[32m[I 2022-06-10 20:19:39,819]\u001b[0m Trial 4 finished with value: 0.982300877571106 and parameters: {'n_epochs': 30, 'learning_rate': 0.0008471407179357993, 'filters_1': 24, 'kernel_size_1': 8, 'filters_2': 48, 'kernel_size_2': 8, 'lin_1_n': 33}. Best is trial 4 with value: 0.982300877571106.\u001b[0m\n"
     ]
    },
    {
     "name": "stdout",
     "output_type": "stream",
     "text": [
      "Epoch 1/20\n",
      "15/15 [==============================] - ETA: 0s - loss: 1.2985 - categorical_accuracy: 0.3997"
     ]
    },
    {
     "name": "stderr",
     "output_type": "stream",
     "text": [
      "\u001b[32m[I 2022-06-10 20:19:48,972]\u001b[0m Trial 5 pruned. Trial was pruned at epoch 0.\u001b[0m\n"
     ]
    },
    {
     "name": "stdout",
     "output_type": "stream",
     "text": [
      "Epoch 1/50\n",
      "15/15 [==============================] - ETA: 0s - loss: 1.1993 - categorical_accuracy: 0.4579"
     ]
    },
    {
     "name": "stderr",
     "output_type": "stream",
     "text": [
      "\u001b[32m[I 2022-06-10 20:20:03,511]\u001b[0m Trial 6 pruned. Trial was pruned at epoch 0.\u001b[0m\n"
     ]
    },
    {
     "name": "stdout",
     "output_type": "stream",
     "text": [
      "Epoch 1/5\n",
      "15/15 [==============================] - ETA: 0s - loss: 1.0898 - categorical_accuracy: 0.5116"
     ]
    },
    {
     "name": "stderr",
     "output_type": "stream",
     "text": [
      "\u001b[32m[I 2022-06-10 20:20:24,363]\u001b[0m Trial 7 pruned. Trial was pruned at epoch 0.\u001b[0m\n"
     ]
    },
    {
     "name": "stdout",
     "output_type": "stream",
     "text": [
      "Epoch 1/30\n",
      "15/15 [==============================] - 11s 693ms/step - loss: 1.0918 - categorical_accuracy: 0.5072 - val_loss: 0.7787 - val_categorical_accuracy: 0.6350\n",
      "Epoch 2/30\n",
      "15/15 [==============================] - ETA: 0s - loss: 0.7288 - categorical_accuracy: 0.6774"
     ]
    },
    {
     "name": "stderr",
     "output_type": "stream",
     "text": [
      "\u001b[32m[I 2022-06-10 20:20:45,517]\u001b[0m Trial 8 pruned. Trial was pruned at epoch 1.\u001b[0m\n"
     ]
    },
    {
     "name": "stdout",
     "output_type": "stream",
     "text": [
      "Epoch 1/50\n",
      "15/15 [==============================] - 19s 1s/step - loss: 1.1312 - categorical_accuracy: 0.4468 - val_loss: 0.8279 - val_categorical_accuracy: 0.6527\n",
      "Epoch 2/50\n",
      "15/15 [==============================] - 19s 1s/step - loss: 0.7882 - categorical_accuracy: 0.6674 - val_loss: 0.6274 - val_categorical_accuracy: 0.7279\n",
      "Epoch 3/50\n",
      "15/15 [==============================] - 19s 1s/step - loss: 0.5934 - categorical_accuracy: 0.7461 - val_loss: 0.4788 - val_categorical_accuracy: 0.7965\n",
      "Epoch 4/50\n",
      "15/15 [==============================] - 19s 1s/step - loss: 0.5198 - categorical_accuracy: 0.7683 - val_loss: 0.4214 - val_categorical_accuracy: 0.8208\n",
      "Epoch 5/50\n",
      "15/15 [==============================] - ETA: 0s - loss: 0.4597 - categorical_accuracy: 0.8054"
     ]
    },
    {
     "name": "stderr",
     "output_type": "stream",
     "text": [
      "\u001b[32m[I 2022-06-10 20:22:20,446]\u001b[0m Trial 9 pruned. Trial was pruned at epoch 4.\u001b[0m\n"
     ]
    },
    {
     "name": "stdout",
     "output_type": "stream",
     "text": [
      "Epoch 1/40\n",
      "15/15 [==============================] - 36s 2s/step - loss: 1.1654 - categorical_accuracy: 0.4778 - val_loss: 0.7365 - val_categorical_accuracy: 0.6659\n",
      "Epoch 2/40\n",
      "15/15 [==============================] - 31s 2s/step - loss: 0.6612 - categorical_accuracy: 0.7034 - val_loss: 0.5574 - val_categorical_accuracy: 0.7633\n",
      "Epoch 3/40\n",
      "15/15 [==============================] - ETA: 0s - loss: 0.5388 - categorical_accuracy: 0.7688"
     ]
    },
    {
     "name": "stderr",
     "output_type": "stream",
     "text": [
      "\u001b[32m[I 2022-06-10 20:23:58,689]\u001b[0m Trial 10 pruned. Trial was pruned at epoch 2.\u001b[0m\n"
     ]
    },
    {
     "name": "stdout",
     "output_type": "stream",
     "text": [
      "Epoch 1/40\n",
      "15/15 [==============================] - 12s 767ms/step - loss: 1.2638 - categorical_accuracy: 0.4357 - val_loss: 0.7721 - val_categorical_accuracy: 0.6305\n",
      "Epoch 2/40\n",
      "15/15 [==============================] - ETA: 0s - loss: 0.7204 - categorical_accuracy: 0.7007"
     ]
    },
    {
     "name": "stderr",
     "output_type": "stream",
     "text": [
      "\u001b[32m[I 2022-06-10 20:24:22,109]\u001b[0m Trial 11 pruned. Trial was pruned at epoch 1.\u001b[0m\n"
     ]
    },
    {
     "name": "stdout",
     "output_type": "stream",
     "text": [
      "Epoch 1/40\n",
      "15/15 [==============================] - ETA: 0s - loss: 1.1385 - categorical_accuracy: 0.4972"
     ]
    },
    {
     "name": "stderr",
     "output_type": "stream",
     "text": [
      "\u001b[32m[I 2022-06-10 20:24:38,085]\u001b[0m Trial 12 pruned. Trial was pruned at epoch 0.\u001b[0m\n"
     ]
    },
    {
     "name": "stdout",
     "output_type": "stream",
     "text": [
      "Epoch 1/35\n",
      "15/15 [==============================] - 11s 726ms/step - loss: 0.8645 - categorical_accuracy: 0.5998 - val_loss: 0.5881 - val_categorical_accuracy: 0.7345\n",
      "Epoch 2/35\n",
      "15/15 [==============================] - 11s 719ms/step - loss: 0.5255 - categorical_accuracy: 0.7722 - val_loss: 0.4374 - val_categorical_accuracy: 0.7987\n",
      "Epoch 3/35\n",
      "15/15 [==============================] - 10s 660ms/step - loss: 0.3761 - categorical_accuracy: 0.8442 - val_loss: 0.3408 - val_categorical_accuracy: 0.8761\n",
      "Epoch 4/35\n",
      "15/15 [==============================] - 10s 682ms/step - loss: 0.2686 - categorical_accuracy: 0.8975 - val_loss: 0.2869 - val_categorical_accuracy: 0.9004\n",
      "Epoch 5/35\n",
      "15/15 [==============================] - 10s 667ms/step - loss: 0.2207 - categorical_accuracy: 0.9091 - val_loss: 0.3144 - val_categorical_accuracy: 0.8783\n",
      "Epoch 6/35\n",
      "15/15 [==============================] - 10s 662ms/step - loss: 0.1964 - categorical_accuracy: 0.9279 - val_loss: 0.2494 - val_categorical_accuracy: 0.8894\n",
      "Epoch 7/35\n",
      "15/15 [==============================] - 10s 652ms/step - loss: 0.1679 - categorical_accuracy: 0.9374 - val_loss: 0.1701 - val_categorical_accuracy: 0.9469\n",
      "Epoch 8/35\n",
      "15/15 [==============================] - 10s 655ms/step - loss: 0.1336 - categorical_accuracy: 0.9534 - val_loss: 0.1528 - val_categorical_accuracy: 0.9580\n",
      "Epoch 9/35\n",
      "15/15 [==============================] - 10s 653ms/step - loss: 0.0896 - categorical_accuracy: 0.9745 - val_loss: 0.1199 - val_categorical_accuracy: 0.9668\n",
      "Epoch 10/35\n",
      "15/15 [==============================] - 10s 649ms/step - loss: 0.0746 - categorical_accuracy: 0.9767 - val_loss: 0.1118 - val_categorical_accuracy: 0.9646\n",
      "Epoch 11/35\n",
      "15/15 [==============================] - 10s 653ms/step - loss: 0.0638 - categorical_accuracy: 0.9823 - val_loss: 0.0874 - val_categorical_accuracy: 0.9779\n",
      "Epoch 12/35\n",
      "15/15 [==============================] - 10s 649ms/step - loss: 0.0490 - categorical_accuracy: 0.9834 - val_loss: 0.0802 - val_categorical_accuracy: 0.9779\n",
      "Epoch 13/35\n",
      "15/15 [==============================] - 10s 653ms/step - loss: 0.0387 - categorical_accuracy: 0.9895 - val_loss: 0.0890 - val_categorical_accuracy: 0.9624\n",
      "Epoch 14/35\n",
      "15/15 [==============================] - 10s 664ms/step - loss: 0.0329 - categorical_accuracy: 0.9889 - val_loss: 0.0700 - val_categorical_accuracy: 0.9735\n",
      "Epoch 15/35\n",
      "15/15 [==============================] - 10s 665ms/step - loss: 0.0315 - categorical_accuracy: 0.9922 - val_loss: 0.0607 - val_categorical_accuracy: 0.9757\n",
      "Epoch 16/35\n",
      "15/15 [==============================] - 10s 662ms/step - loss: 0.0270 - categorical_accuracy: 0.9922 - val_loss: 0.0549 - val_categorical_accuracy: 0.9823\n",
      "Epoch 17/35\n",
      "15/15 [==============================] - 10s 657ms/step - loss: 0.0240 - categorical_accuracy: 0.9945 - val_loss: 0.0460 - val_categorical_accuracy: 0.9867\n",
      "Epoch 18/35\n",
      "15/15 [==============================] - 10s 656ms/step - loss: 0.0154 - categorical_accuracy: 0.9972 - val_loss: 0.0383 - val_categorical_accuracy: 0.9867\n",
      "Epoch 19/35\n",
      "15/15 [==============================] - 10s 653ms/step - loss: 0.0137 - categorical_accuracy: 0.9983 - val_loss: 0.0429 - val_categorical_accuracy: 0.9867\n",
      "Epoch 20/35\n",
      "15/15 [==============================] - 10s 654ms/step - loss: 0.0176 - categorical_accuracy: 0.9961 - val_loss: 0.0361 - val_categorical_accuracy: 0.9889\n",
      "Epoch 21/35\n",
      "15/15 [==============================] - 10s 651ms/step - loss: 0.0122 - categorical_accuracy: 0.9967 - val_loss: 0.0429 - val_categorical_accuracy: 0.9845\n",
      "Epoch 22/35\n",
      "15/15 [==============================] - 10s 654ms/step - loss: 0.0120 - categorical_accuracy: 0.9978 - val_loss: 0.0378 - val_categorical_accuracy: 0.9912\n",
      "Epoch 23/35\n",
      "15/15 [==============================] - 10s 659ms/step - loss: 0.0089 - categorical_accuracy: 0.9983 - val_loss: 0.0366 - val_categorical_accuracy: 0.9934\n",
      "Epoch 24/35\n",
      "15/15 [==============================] - 10s 655ms/step - loss: 0.0079 - categorical_accuracy: 0.9989 - val_loss: 0.0338 - val_categorical_accuracy: 0.9912\n",
      "Epoch 25/35\n",
      "15/15 [==============================] - 10s 650ms/step - loss: 0.0078 - categorical_accuracy: 0.9983 - val_loss: 0.0340 - val_categorical_accuracy: 0.9867\n",
      "Epoch 26/35\n",
      "15/15 [==============================] - 10s 651ms/step - loss: 0.0082 - categorical_accuracy: 0.9978 - val_loss: 0.0390 - val_categorical_accuracy: 0.9889\n",
      "Epoch 27/35\n",
      "15/15 [==============================] - 10s 652ms/step - loss: 0.0070 - categorical_accuracy: 0.9994 - val_loss: 0.0352 - val_categorical_accuracy: 0.9867\n",
      "Epoch 28/35\n",
      "15/15 [==============================] - 10s 652ms/step - loss: 0.0109 - categorical_accuracy: 0.9978 - val_loss: 0.0510 - val_categorical_accuracy: 0.9867\n",
      "Epoch 29/35\n",
      "15/15 [==============================] - 10s 655ms/step - loss: 0.0085 - categorical_accuracy: 0.9994 - val_loss: 0.0401 - val_categorical_accuracy: 0.9867\n"
     ]
    },
    {
     "name": "stderr",
     "output_type": "stream",
     "text": [
      "\u001b[32m[I 2022-06-10 20:29:26,133]\u001b[0m Trial 13 finished with value: 0.9867256879806519 and parameters: {'n_epochs': 35, 'learning_rate': 0.0008577636577551398, 'filters_1': 28, 'kernel_size_1': 8, 'filters_2': 58, 'kernel_size_2': 6, 'lin_1_n': 40}. Best is trial 13 with value: 0.9867256879806519.\u001b[0m\n"
     ]
    },
    {
     "name": "stdout",
     "output_type": "stream",
     "text": [
      "Epoch 1/35\n",
      "15/15 [==============================] - 10s 661ms/step - loss: 1.1791 - categorical_accuracy: 0.4795 - val_loss: 0.7348 - val_categorical_accuracy: 0.6549\n",
      "Epoch 2/35\n",
      "15/15 [==============================] - 10s 652ms/step - loss: 0.6870 - categorical_accuracy: 0.7123 - val_loss: 0.5993 - val_categorical_accuracy: 0.7522\n",
      "Epoch 3/35\n",
      "15/15 [==============================] - 10s 656ms/step - loss: 0.5650 - categorical_accuracy: 0.7688 - val_loss: 0.4735 - val_categorical_accuracy: 0.8075\n",
      "Epoch 4/35\n",
      "15/15 [==============================] - 10s 653ms/step - loss: 0.4873 - categorical_accuracy: 0.7905 - val_loss: 0.4715 - val_categorical_accuracy: 0.7721\n",
      "Epoch 5/35\n",
      "15/15 [==============================] - 10s 651ms/step - loss: 0.4344 - categorical_accuracy: 0.8088 - val_loss: 0.3909 - val_categorical_accuracy: 0.8496\n",
      "Epoch 6/35\n",
      "15/15 [==============================] - ETA: 0s - loss: 0.3766 - categorical_accuracy: 0.8531"
     ]
    },
    {
     "name": "stderr",
     "output_type": "stream",
     "text": [
      "\u001b[32m[I 2022-06-10 20:30:25,519]\u001b[0m Trial 14 pruned. Trial was pruned at epoch 5.\u001b[0m\n"
     ]
    },
    {
     "name": "stdout",
     "output_type": "stream",
     "text": [
      "Epoch 1/15\n",
      "15/15 [==============================] - 11s 694ms/step - loss: 0.8605 - categorical_accuracy: 0.5881 - val_loss: 0.6183 - val_categorical_accuracy: 0.7035\n",
      "Epoch 2/15\n",
      "15/15 [==============================] - 10s 679ms/step - loss: 0.5300 - categorical_accuracy: 0.7788 - val_loss: 0.4286 - val_categorical_accuracy: 0.8142\n",
      "Epoch 3/15\n",
      "15/15 [==============================] - 10s 683ms/step - loss: 0.4181 - categorical_accuracy: 0.8315 - val_loss: 0.3926 - val_categorical_accuracy: 0.8540\n",
      "Epoch 4/15\n",
      "15/15 [==============================] - 10s 680ms/step - loss: 0.3251 - categorical_accuracy: 0.8686 - val_loss: 0.2872 - val_categorical_accuracy: 0.8916\n",
      "Epoch 5/15\n",
      "15/15 [==============================] - 10s 678ms/step - loss: 0.2588 - categorical_accuracy: 0.9008 - val_loss: 0.2467 - val_categorical_accuracy: 0.9115\n",
      "Epoch 6/15\n",
      "15/15 [==============================] - 10s 685ms/step - loss: 0.1930 - categorical_accuracy: 0.9263 - val_loss: 0.2125 - val_categorical_accuracy: 0.9159\n",
      "Epoch 7/15\n",
      "15/15 [==============================] - 10s 676ms/step - loss: 0.1699 - categorical_accuracy: 0.9329 - val_loss: 0.1852 - val_categorical_accuracy: 0.9425\n",
      "Epoch 8/15\n",
      "15/15 [==============================] - 10s 682ms/step - loss: 0.1389 - categorical_accuracy: 0.9446 - val_loss: 0.1573 - val_categorical_accuracy: 0.9491\n",
      "Epoch 9/15\n",
      "15/15 [==============================] - 10s 680ms/step - loss: 0.1142 - categorical_accuracy: 0.9645 - val_loss: 0.1438 - val_categorical_accuracy: 0.9535\n",
      "Epoch 10/15\n",
      "15/15 [==============================] - 10s 681ms/step - loss: 0.0962 - categorical_accuracy: 0.9684 - val_loss: 0.1347 - val_categorical_accuracy: 0.9558\n",
      "Epoch 11/15\n",
      "15/15 [==============================] - 10s 680ms/step - loss: 0.0908 - categorical_accuracy: 0.9690 - val_loss: 0.1187 - val_categorical_accuracy: 0.9558\n",
      "Epoch 12/15\n",
      "15/15 [==============================] - 11s 772ms/step - loss: 0.0649 - categorical_accuracy: 0.9823 - val_loss: 0.1122 - val_categorical_accuracy: 0.9668\n",
      "Epoch 13/15\n",
      "15/15 [==============================] - 11s 762ms/step - loss: 0.0482 - categorical_accuracy: 0.9861 - val_loss: 0.0797 - val_categorical_accuracy: 0.9779\n",
      "Epoch 14/15\n",
      "15/15 [==============================] - 12s 770ms/step - loss: 0.0367 - categorical_accuracy: 0.9900 - val_loss: 0.0760 - val_categorical_accuracy: 0.9735\n",
      "Epoch 15/15\n",
      "15/15 [==============================] - 11s 766ms/step - loss: 0.0370 - categorical_accuracy: 0.9917 - val_loss: 0.0779 - val_categorical_accuracy: 0.9735\n"
     ]
    },
    {
     "name": "stderr",
     "output_type": "stream",
     "text": [
      "\u001b[32m[I 2022-06-10 20:33:04,398]\u001b[0m Trial 15 finished with value: 0.9734513163566589 and parameters: {'n_epochs': 15, 'learning_rate': 0.0008519790059661107, 'filters_1': 30, 'kernel_size_1': 8, 'filters_2': 54, 'kernel_size_2': 6, 'lin_1_n': 65}. Best is trial 13 with value: 0.9867256879806519.\u001b[0m\n"
     ]
    },
    {
     "name": "stdout",
     "output_type": "stream",
     "text": [
      "Epoch 1/25\n",
      "15/15 [==============================] - 7s 428ms/step - loss: 1.1695 - categorical_accuracy: 0.5044 - val_loss: 0.7948 - val_categorical_accuracy: 0.6748\n",
      "Epoch 2/25\n",
      "15/15 [==============================] - 6s 422ms/step - loss: 0.6904 - categorical_accuracy: 0.7090 - val_loss: 0.5640 - val_categorical_accuracy: 0.7743\n",
      "Epoch 3/25\n",
      "15/15 [==============================] - 6s 424ms/step - loss: 0.4880 - categorical_accuracy: 0.8060 - val_loss: 0.4247 - val_categorical_accuracy: 0.8186\n",
      "Epoch 4/25\n",
      "15/15 [==============================] - 6s 427ms/step - loss: 0.3652 - categorical_accuracy: 0.8592 - val_loss: 0.4246 - val_categorical_accuracy: 0.8119\n",
      "Epoch 5/25\n",
      "15/15 [==============================] - 7s 442ms/step - loss: 0.3063 - categorical_accuracy: 0.8792 - val_loss: 0.3178 - val_categorical_accuracy: 0.8717\n",
      "Epoch 6/25\n",
      "15/15 [==============================] - 7s 438ms/step - loss: 0.2762 - categorical_accuracy: 0.8958 - val_loss: 0.3028 - val_categorical_accuracy: 0.8894\n",
      "Epoch 7/25\n",
      "15/15 [==============================] - ETA: 0s - loss: 0.2265 - categorical_accuracy: 0.9180"
     ]
    },
    {
     "name": "stderr",
     "output_type": "stream",
     "text": [
      "\u001b[32m[I 2022-06-10 20:33:50,195]\u001b[0m Trial 16 pruned. Trial was pruned at epoch 6.\u001b[0m\n"
     ]
    },
    {
     "name": "stdout",
     "output_type": "stream",
     "text": [
      "Epoch 1/35\n",
      "15/15 [==============================] - ETA: 0s - loss: 1.0861 - categorical_accuracy: 0.5238"
     ]
    },
    {
     "name": "stderr",
     "output_type": "stream",
     "text": [
      "\u001b[32m[I 2022-06-10 20:34:03,212]\u001b[0m Trial 17 pruned. Trial was pruned at epoch 0.\u001b[0m\n"
     ]
    },
    {
     "name": "stdout",
     "output_type": "stream",
     "text": [
      "Epoch 1/5\n",
      "15/15 [==============================] - 14s 880ms/step - loss: 1.2589 - categorical_accuracy: 0.4839 - val_loss: 0.7311 - val_categorical_accuracy: 0.6969\n",
      "Epoch 2/5\n",
      "15/15 [==============================] - ETA: 0s - loss: 0.6709 - categorical_accuracy: 0.7239"
     ]
    },
    {
     "name": "stderr",
     "output_type": "stream",
     "text": [
      "\u001b[32m[I 2022-06-10 20:34:29,978]\u001b[0m Trial 18 pruned. Trial was pruned at epoch 1.\u001b[0m\n"
     ]
    },
    {
     "name": "stdout",
     "output_type": "stream",
     "text": [
      "Epoch 1/45\n",
      "15/15 [==============================] - ETA: 0s - loss: 1.1844 - categorical_accuracy: 0.4102"
     ]
    },
    {
     "name": "stderr",
     "output_type": "stream",
     "text": [
      "\u001b[32m[I 2022-06-10 20:34:47,499]\u001b[0m Trial 19 pruned. Trial was pruned at epoch 0.\u001b[0m\n"
     ]
    },
    {
     "name": "stdout",
     "output_type": "stream",
     "text": [
      "Epoch 1/35\n",
      "15/15 [==============================] - 8s 540ms/step - loss: 1.1227 - categorical_accuracy: 0.5338 - val_loss: 0.7360 - val_categorical_accuracy: 0.6637\n",
      "Epoch 2/35\n",
      "15/15 [==============================] - 8s 533ms/step - loss: 0.6674 - categorical_accuracy: 0.7156 - val_loss: 0.5503 - val_categorical_accuracy: 0.7522\n",
      "Epoch 3/35\n",
      "15/15 [==============================] - 8s 547ms/step - loss: 0.5243 - categorical_accuracy: 0.7833 - val_loss: 0.4517 - val_categorical_accuracy: 0.8119\n",
      "Epoch 4/35\n",
      "15/15 [==============================] - 8s 536ms/step - loss: 0.4188 - categorical_accuracy: 0.8348 - val_loss: 0.3654 - val_categorical_accuracy: 0.8540\n",
      "Epoch 5/35\n",
      "15/15 [==============================] - 8s 543ms/step - loss: 0.3419 - categorical_accuracy: 0.8487 - val_loss: 0.3241 - val_categorical_accuracy: 0.8739\n",
      "Epoch 6/35\n",
      "15/15 [==============================] - 8s 549ms/step - loss: 0.2786 - categorical_accuracy: 0.8864 - val_loss: 0.3188 - val_categorical_accuracy: 0.9093\n",
      "Epoch 7/35\n",
      "15/15 [==============================] - 8s 537ms/step - loss: 0.2340 - categorical_accuracy: 0.9113 - val_loss: 0.3518 - val_categorical_accuracy: 0.8252\n",
      "Epoch 8/35\n",
      "15/15 [==============================] - 8s 538ms/step - loss: 0.2250 - categorical_accuracy: 0.9041 - val_loss: 0.2277 - val_categorical_accuracy: 0.9159\n",
      "Epoch 9/35\n",
      "15/15 [==============================] - 8s 540ms/step - loss: 0.1545 - categorical_accuracy: 0.9468 - val_loss: 0.2059 - val_categorical_accuracy: 0.9248\n",
      "Epoch 10/35\n",
      "15/15 [==============================] - 8s 551ms/step - loss: 0.1450 - categorical_accuracy: 0.9451 - val_loss: 0.1749 - val_categorical_accuracy: 0.9535\n",
      "Epoch 11/35\n",
      "15/15 [==============================] - 8s 534ms/step - loss: 0.1104 - categorical_accuracy: 0.9667 - val_loss: 0.1442 - val_categorical_accuracy: 0.9580\n",
      "Epoch 12/35\n",
      "15/15 [==============================] - 8s 536ms/step - loss: 0.0893 - categorical_accuracy: 0.9706 - val_loss: 0.1436 - val_categorical_accuracy: 0.9580\n",
      "Epoch 13/35\n",
      "15/15 [==============================] - 8s 525ms/step - loss: 0.1017 - categorical_accuracy: 0.9590 - val_loss: 0.1265 - val_categorical_accuracy: 0.9580\n",
      "Epoch 14/35\n",
      "15/15 [==============================] - 8s 525ms/step - loss: 0.0742 - categorical_accuracy: 0.9751 - val_loss: 0.1101 - val_categorical_accuracy: 0.9801\n",
      "Epoch 15/35\n",
      "15/15 [==============================] - 8s 528ms/step - loss: 0.0611 - categorical_accuracy: 0.9834 - val_loss: 0.0948 - val_categorical_accuracy: 0.9646\n",
      "Epoch 16/35\n",
      "15/15 [==============================] - 8s 527ms/step - loss: 0.0506 - categorical_accuracy: 0.9867 - val_loss: 0.0938 - val_categorical_accuracy: 0.9624\n",
      "Epoch 17/35\n",
      "15/15 [==============================] - 8s 535ms/step - loss: 0.0478 - categorical_accuracy: 0.9856 - val_loss: 0.0914 - val_categorical_accuracy: 0.9735\n",
      "Epoch 18/35\n",
      "15/15 [==============================] - 8s 534ms/step - loss: 0.0377 - categorical_accuracy: 0.9933 - val_loss: 0.0870 - val_categorical_accuracy: 0.9757\n",
      "Epoch 19/35\n",
      "15/15 [==============================] - 8s 531ms/step - loss: 0.0382 - categorical_accuracy: 0.9895 - val_loss: 0.0654 - val_categorical_accuracy: 0.9823\n",
      "Epoch 20/35\n",
      "15/15 [==============================] - 8s 532ms/step - loss: 0.0330 - categorical_accuracy: 0.9906 - val_loss: 0.0582 - val_categorical_accuracy: 0.9801\n",
      "Epoch 21/35\n",
      "15/15 [==============================] - 8s 533ms/step - loss: 0.0348 - categorical_accuracy: 0.9889 - val_loss: 0.0600 - val_categorical_accuracy: 0.9845\n",
      "Epoch 22/35\n",
      "15/15 [==============================] - 8s 534ms/step - loss: 0.0393 - categorical_accuracy: 0.9839 - val_loss: 0.0823 - val_categorical_accuracy: 0.9757\n",
      "Epoch 23/35\n",
      "15/15 [==============================] - 8s 540ms/step - loss: 0.0285 - categorical_accuracy: 0.9945 - val_loss: 0.0669 - val_categorical_accuracy: 0.9845\n",
      "Epoch 24/35\n",
      "15/15 [==============================] - 8s 527ms/step - loss: 0.0225 - categorical_accuracy: 0.9945 - val_loss: 0.0514 - val_categorical_accuracy: 0.9845\n",
      "Epoch 25/35\n",
      "15/15 [==============================] - 8s 535ms/step - loss: 0.0172 - categorical_accuracy: 0.9972 - val_loss: 0.0427 - val_categorical_accuracy: 0.9845\n",
      "Epoch 26/35\n",
      "15/15 [==============================] - 8s 528ms/step - loss: 0.0169 - categorical_accuracy: 0.9950 - val_loss: 0.0392 - val_categorical_accuracy: 0.9889\n",
      "Epoch 27/35\n",
      "15/15 [==============================] - 8s 531ms/step - loss: 0.0113 - categorical_accuracy: 0.9989 - val_loss: 0.0393 - val_categorical_accuracy: 0.9912\n",
      "Epoch 28/35\n",
      "15/15 [==============================] - 8s 541ms/step - loss: 0.0103 - categorical_accuracy: 0.9989 - val_loss: 0.0407 - val_categorical_accuracy: 0.9934\n",
      "Epoch 29/35\n",
      "15/15 [==============================] - 8s 542ms/step - loss: 0.0125 - categorical_accuracy: 0.9967 - val_loss: 0.0383 - val_categorical_accuracy: 0.9912\n",
      "Epoch 30/35\n",
      "15/15 [==============================] - 8s 542ms/step - loss: 0.0095 - categorical_accuracy: 0.9989 - val_loss: 0.0323 - val_categorical_accuracy: 0.9889\n",
      "Epoch 31/35\n",
      "15/15 [==============================] - 8s 537ms/step - loss: 0.0098 - categorical_accuracy: 0.9983 - val_loss: 0.0330 - val_categorical_accuracy: 0.9912\n",
      "Epoch 32/35\n",
      "15/15 [==============================] - 8s 534ms/step - loss: 0.0097 - categorical_accuracy: 0.9989 - val_loss: 0.0502 - val_categorical_accuracy: 0.9889\n",
      "Epoch 33/35\n",
      "15/15 [==============================] - 8s 536ms/step - loss: 0.0073 - categorical_accuracy: 0.9989 - val_loss: 0.0320 - val_categorical_accuracy: 0.9889\n",
      "Epoch 34/35\n",
      "15/15 [==============================] - 8s 538ms/step - loss: 0.0089 - categorical_accuracy: 0.9983 - val_loss: 0.0295 - val_categorical_accuracy: 0.9889\n",
      "Epoch 35/35\n",
      "15/15 [==============================] - 8s 533ms/step - loss: 0.0082 - categorical_accuracy: 0.9983 - val_loss: 0.0338 - val_categorical_accuracy: 0.9934\n"
     ]
    },
    {
     "name": "stderr",
     "output_type": "stream",
     "text": [
      "\u001b[32m[I 2022-06-10 20:39:29,434]\u001b[0m Trial 20 finished with value: 0.9933628439903259 and parameters: {'n_epochs': 35, 'learning_rate': 0.0006920615808798661, 'filters_1': 20, 'kernel_size_1': 8, 'filters_2': 48, 'kernel_size_2': 6, 'lin_1_n': 79}. Best is trial 20 with value: 0.9933628439903259.\u001b[0m\n"
     ]
    },
    {
     "name": "stdout",
     "output_type": "stream",
     "text": [
      "Epoch 1/35\n",
      "15/15 [==============================] - 9s 573ms/step - loss: 1.1301 - categorical_accuracy: 0.4939 - val_loss: 0.7150 - val_categorical_accuracy: 0.6858\n",
      "Epoch 2/35\n",
      "15/15 [==============================] - 8s 561ms/step - loss: 0.6372 - categorical_accuracy: 0.7278 - val_loss: 0.5765 - val_categorical_accuracy: 0.7611\n",
      "Epoch 3/35\n",
      "15/15 [==============================] - ETA: 0s - loss: 0.4970 - categorical_accuracy: 0.7899"
     ]
    },
    {
     "name": "stderr",
     "output_type": "stream",
     "text": [
      "\u001b[32m[I 2022-06-10 20:39:55,381]\u001b[0m Trial 21 pruned. Trial was pruned at epoch 2.\u001b[0m\n"
     ]
    },
    {
     "name": "stdout",
     "output_type": "stream",
     "text": [
      "Epoch 1/30\n",
      "15/15 [==============================] - 15s 954ms/step - loss: 1.2220 - categorical_accuracy: 0.4584 - val_loss: 0.7243 - val_categorical_accuracy: 0.6726\n",
      "Epoch 2/30\n",
      "15/15 [==============================] - ETA: 0s - loss: 0.6697 - categorical_accuracy: 0.7206"
     ]
    },
    {
     "name": "stderr",
     "output_type": "stream",
     "text": [
      "\u001b[32m[I 2022-06-10 20:40:24,373]\u001b[0m Trial 22 pruned. Trial was pruned at epoch 1.\u001b[0m\n"
     ]
    },
    {
     "name": "stdout",
     "output_type": "stream",
     "text": [
      "Epoch 1/20\n",
      "15/15 [==============================] - ETA: 0s - loss: 1.1116 - categorical_accuracy: 0.5139"
     ]
    },
    {
     "name": "stderr",
     "output_type": "stream",
     "text": [
      "\u001b[32m[I 2022-06-10 20:40:30,966]\u001b[0m Trial 23 pruned. Trial was pruned at epoch 0.\u001b[0m\n"
     ]
    },
    {
     "name": "stdout",
     "output_type": "stream",
     "text": [
      "Epoch 1/35\n",
      "15/15 [==============================] - ETA: 0s - loss: 1.1740 - categorical_accuracy: 0.4318"
     ]
    },
    {
     "name": "stderr",
     "output_type": "stream",
     "text": [
      "\u001b[32m[I 2022-06-10 20:40:44,957]\u001b[0m Trial 24 pruned. Trial was pruned at epoch 0.\u001b[0m\n"
     ]
    },
    {
     "name": "stdout",
     "output_type": "stream",
     "text": [
      "Epoch 1/45\n",
      "15/15 [==============================] - ETA: 0s - loss: 1.1446 - categorical_accuracy: 0.5200"
     ]
    },
    {
     "name": "stderr",
     "output_type": "stream",
     "text": [
      "\u001b[32m[I 2022-06-10 20:41:01,599]\u001b[0m Trial 25 pruned. Trial was pruned at epoch 0.\u001b[0m\n"
     ]
    },
    {
     "name": "stdout",
     "output_type": "stream",
     "text": [
      "Epoch 1/25\n",
      "15/15 [==============================] - 10s 641ms/step - loss: 0.8596 - categorical_accuracy: 0.6098 - val_loss: 0.6030 - val_categorical_accuracy: 0.7212\n",
      "Epoch 2/25\n",
      "15/15 [==============================] - 9s 602ms/step - loss: 0.5247 - categorical_accuracy: 0.7794 - val_loss: 0.4021 - val_categorical_accuracy: 0.8230\n",
      "Epoch 3/25\n",
      "15/15 [==============================] - 9s 625ms/step - loss: 0.4037 - categorical_accuracy: 0.8254 - val_loss: 0.3344 - val_categorical_accuracy: 0.8650\n",
      "Epoch 4/25\n",
      "15/15 [==============================] - 9s 620ms/step - loss: 0.2901 - categorical_accuracy: 0.8786 - val_loss: 0.2549 - val_categorical_accuracy: 0.9093\n",
      "Epoch 5/25\n",
      "15/15 [==============================] - 9s 613ms/step - loss: 0.2077 - categorical_accuracy: 0.9257 - val_loss: 0.2180 - val_categorical_accuracy: 0.9115\n",
      "Epoch 6/25\n",
      "15/15 [==============================] - 9s 606ms/step - loss: 0.1726 - categorical_accuracy: 0.9385 - val_loss: 0.1713 - val_categorical_accuracy: 0.9513\n",
      "Epoch 7/25\n",
      "15/15 [==============================] - 9s 595ms/step - loss: 0.1346 - categorical_accuracy: 0.9534 - val_loss: 0.1477 - val_categorical_accuracy: 0.9447\n",
      "Epoch 8/25\n",
      "15/15 [==============================] - 9s 596ms/step - loss: 0.1042 - categorical_accuracy: 0.9640 - val_loss: 0.1411 - val_categorical_accuracy: 0.9580\n",
      "Epoch 9/25\n",
      "15/15 [==============================] - 9s 594ms/step - loss: 0.1074 - categorical_accuracy: 0.9573 - val_loss: 0.1182 - val_categorical_accuracy: 0.9558\n",
      "Epoch 10/25\n",
      "15/15 [==============================] - 9s 595ms/step - loss: 0.0622 - categorical_accuracy: 0.9839 - val_loss: 0.1126 - val_categorical_accuracy: 0.9690\n",
      "Epoch 11/25\n",
      "15/15 [==============================] - 9s 592ms/step - loss: 0.0693 - categorical_accuracy: 0.9800 - val_loss: 0.1022 - val_categorical_accuracy: 0.9602\n",
      "Epoch 12/25\n",
      "15/15 [==============================] - 9s 610ms/step - loss: 0.0518 - categorical_accuracy: 0.9873 - val_loss: 0.0700 - val_categorical_accuracy: 0.9779\n",
      "Epoch 13/25\n",
      "15/15 [==============================] - 9s 597ms/step - loss: 0.0343 - categorical_accuracy: 0.9917 - val_loss: 0.0596 - val_categorical_accuracy: 0.9757\n",
      "Epoch 14/25\n",
      "15/15 [==============================] - 9s 596ms/step - loss: 0.0247 - categorical_accuracy: 0.9950 - val_loss: 0.0577 - val_categorical_accuracy: 0.9823\n",
      "Epoch 15/25\n",
      "15/15 [==============================] - 9s 598ms/step - loss: 0.0202 - categorical_accuracy: 0.9961 - val_loss: 0.0741 - val_categorical_accuracy: 0.9757\n",
      "Epoch 16/25\n",
      "15/15 [==============================] - 9s 597ms/step - loss: 0.0372 - categorical_accuracy: 0.9884 - val_loss: 0.0532 - val_categorical_accuracy: 0.9867\n",
      "Epoch 17/25\n",
      "15/15 [==============================] - 9s 597ms/step - loss: 0.0214 - categorical_accuracy: 0.9967 - val_loss: 0.0460 - val_categorical_accuracy: 0.9845\n",
      "Epoch 18/25\n",
      "15/15 [==============================] - 9s 596ms/step - loss: 0.0118 - categorical_accuracy: 0.9989 - val_loss: 0.0460 - val_categorical_accuracy: 0.9867\n",
      "Epoch 19/25\n",
      "15/15 [==============================] - 9s 597ms/step - loss: 0.0108 - categorical_accuracy: 0.9983 - val_loss: 0.0488 - val_categorical_accuracy: 0.9867\n",
      "Epoch 20/25\n",
      "15/15 [==============================] - 9s 599ms/step - loss: 0.0110 - categorical_accuracy: 0.9994 - val_loss: 0.0467 - val_categorical_accuracy: 0.9889\n",
      "Epoch 21/25\n",
      "15/15 [==============================] - 9s 608ms/step - loss: 0.0108 - categorical_accuracy: 0.9983 - val_loss: 0.0386 - val_categorical_accuracy: 0.9823\n",
      "Epoch 22/25\n",
      "15/15 [==============================] - 9s 606ms/step - loss: 0.0144 - categorical_accuracy: 0.9978 - val_loss: 0.0500 - val_categorical_accuracy: 0.9845\n",
      "Epoch 23/25\n",
      "15/15 [==============================] - 9s 601ms/step - loss: 0.0096 - categorical_accuracy: 0.9983 - val_loss: 0.0441 - val_categorical_accuracy: 0.9801\n",
      "Epoch 24/25\n",
      "15/15 [==============================] - 9s 594ms/step - loss: 0.0135 - categorical_accuracy: 0.9961 - val_loss: 0.0455 - val_categorical_accuracy: 0.9801\n",
      "Epoch 25/25\n",
      "15/15 [==============================] - 9s 595ms/step - loss: 0.0059 - categorical_accuracy: 1.0000 - val_loss: 0.0454 - val_categorical_accuracy: 0.9867\n"
     ]
    },
    {
     "name": "stderr",
     "output_type": "stream",
     "text": [
      "\u001b[32m[I 2022-06-10 20:44:48,814]\u001b[0m Trial 26 finished with value: 0.9867256879806519 and parameters: {'n_epochs': 25, 'learning_rate': 0.0009041484918678552, 'filters_1': 10, 'kernel_size_1': 12, 'filters_2': 52, 'kernel_size_2': 6, 'lin_1_n': 98}. Best is trial 20 with value: 0.9933628439903259.\u001b[0m\n"
     ]
    },
    {
     "name": "stdout",
     "output_type": "stream",
     "text": [
      "Epoch 1/20\n",
      "15/15 [==============================] - ETA: 0s - loss: 1.1151 - categorical_accuracy: 0.5067"
     ]
    },
    {
     "name": "stderr",
     "output_type": "stream",
     "text": [
      "\u001b[32m[I 2022-06-10 20:44:57,204]\u001b[0m Trial 27 pruned. Trial was pruned at epoch 0.\u001b[0m\n"
     ]
    },
    {
     "name": "stdout",
     "output_type": "stream",
     "text": [
      "Epoch 1/25\n",
      "15/15 [==============================] - 10s 616ms/step - loss: 1.0665 - categorical_accuracy: 0.5654 - val_loss: 0.6672 - val_categorical_accuracy: 0.7323\n",
      "Epoch 2/25\n",
      "15/15 [==============================] - 9s 602ms/step - loss: 0.6194 - categorical_accuracy: 0.7539 - val_loss: 0.5554 - val_categorical_accuracy: 0.7699\n",
      "Epoch 3/25\n",
      "15/15 [==============================] - 9s 616ms/step - loss: 0.5006 - categorical_accuracy: 0.7905 - val_loss: 0.4406 - val_categorical_accuracy: 0.8142\n",
      "Epoch 4/25\n",
      "15/15 [==============================] - 9s 611ms/step - loss: 0.3994 - categorical_accuracy: 0.8271 - val_loss: 0.3342 - val_categorical_accuracy: 0.8761\n",
      "Epoch 5/25\n",
      "15/15 [==============================] - 9s 618ms/step - loss: 0.3126 - categorical_accuracy: 0.8803 - val_loss: 0.3736 - val_categorical_accuracy: 0.8164\n",
      "Epoch 6/25\n",
      "15/15 [==============================] - 9s 612ms/step - loss: 0.2892 - categorical_accuracy: 0.8875 - val_loss: 0.2873 - val_categorical_accuracy: 0.8805\n",
      "Epoch 7/25\n",
      "15/15 [==============================] - 9s 612ms/step - loss: 0.2109 - categorical_accuracy: 0.9285 - val_loss: 0.2057 - val_categorical_accuracy: 0.9425\n",
      "Epoch 8/25\n",
      "15/15 [==============================] - 9s 615ms/step - loss: 0.1779 - categorical_accuracy: 0.9401 - val_loss: 0.1972 - val_categorical_accuracy: 0.9469\n",
      "Epoch 9/25\n",
      "15/15 [==============================] - 9s 618ms/step - loss: 0.1569 - categorical_accuracy: 0.9468 - val_loss: 0.2492 - val_categorical_accuracy: 0.8872\n",
      "Epoch 10/25\n",
      "15/15 [==============================] - 9s 615ms/step - loss: 0.1426 - categorical_accuracy: 0.9479 - val_loss: 0.1409 - val_categorical_accuracy: 0.9668\n",
      "Epoch 11/25\n",
      "15/15 [==============================] - 9s 607ms/step - loss: 0.1063 - categorical_accuracy: 0.9706 - val_loss: 0.1419 - val_categorical_accuracy: 0.9668\n",
      "Epoch 12/25\n",
      "15/15 [==============================] - 9s 609ms/step - loss: 0.0801 - categorical_accuracy: 0.9789 - val_loss: 0.1064 - val_categorical_accuracy: 0.9690\n",
      "Epoch 13/25\n",
      "15/15 [==============================] - 9s 613ms/step - loss: 0.0687 - categorical_accuracy: 0.9795 - val_loss: 0.1238 - val_categorical_accuracy: 0.9580\n",
      "Epoch 14/25\n",
      "15/15 [==============================] - 9s 607ms/step - loss: 0.0569 - categorical_accuracy: 0.9873 - val_loss: 0.0873 - val_categorical_accuracy: 0.9735\n",
      "Epoch 15/25\n",
      "15/15 [==============================] - 9s 611ms/step - loss: 0.0492 - categorical_accuracy: 0.9861 - val_loss: 0.0786 - val_categorical_accuracy: 0.9735\n",
      "Epoch 16/25\n",
      "15/15 [==============================] - 9s 620ms/step - loss: 0.0430 - categorical_accuracy: 0.9884 - val_loss: 0.1174 - val_categorical_accuracy: 0.9469\n",
      "Epoch 17/25\n",
      "15/15 [==============================] - 9s 611ms/step - loss: 0.0713 - categorical_accuracy: 0.9739 - val_loss: 0.0979 - val_categorical_accuracy: 0.9690\n",
      "Epoch 18/25\n",
      "15/15 [==============================] - 9s 611ms/step - loss: 0.0529 - categorical_accuracy: 0.9845 - val_loss: 0.0674 - val_categorical_accuracy: 0.9823\n",
      "Epoch 19/25\n",
      "15/15 [==============================] - 9s 614ms/step - loss: 0.0337 - categorical_accuracy: 0.9928 - val_loss: 0.0662 - val_categorical_accuracy: 0.9801\n",
      "Epoch 20/25\n",
      "15/15 [==============================] - 9s 608ms/step - loss: 0.0279 - categorical_accuracy: 0.9939 - val_loss: 0.0572 - val_categorical_accuracy: 0.9735\n",
      "Epoch 21/25\n",
      "15/15 [==============================] - 9s 609ms/step - loss: 0.0227 - categorical_accuracy: 0.9961 - val_loss: 0.0661 - val_categorical_accuracy: 0.9801\n",
      "Epoch 22/25\n",
      "15/15 [==============================] - 9s 607ms/step - loss: 0.0206 - categorical_accuracy: 0.9956 - val_loss: 0.0514 - val_categorical_accuracy: 0.9845\n",
      "Epoch 23/25\n",
      "15/15 [==============================] - 9s 609ms/step - loss: 0.0211 - categorical_accuracy: 0.9950 - val_loss: 0.0550 - val_categorical_accuracy: 0.9823\n",
      "Epoch 24/25\n",
      "15/15 [==============================] - 9s 609ms/step - loss: 0.0174 - categorical_accuracy: 0.9950 - val_loss: 0.0408 - val_categorical_accuracy: 0.9845\n",
      "Epoch 25/25\n",
      "15/15 [==============================] - 9s 610ms/step - loss: 0.0204 - categorical_accuracy: 0.9956 - val_loss: 0.0545 - val_categorical_accuracy: 0.9757\n"
     ]
    },
    {
     "name": "stderr",
     "output_type": "stream",
     "text": [
      "\u001b[32m[I 2022-06-10 20:48:46,605]\u001b[0m Trial 28 finished with value: 0.9756637215614319 and parameters: {'n_epochs': 25, 'learning_rate': 0.000915452093854009, 'filters_1': 6, 'kernel_size_1': 12, 'filters_2': 42, 'kernel_size_2': 6, 'lin_1_n': 117}. Best is trial 20 with value: 0.9933628439903259.\u001b[0m\n"
     ]
    },
    {
     "name": "stdout",
     "output_type": "stream",
     "text": [
      "Epoch 1/45\n",
      "15/15 [==============================] - 8s 527ms/step - loss: 0.9868 - categorical_accuracy: 0.5721 - val_loss: 0.6730 - val_categorical_accuracy: 0.7035\n",
      "Epoch 2/45\n",
      "15/15 [==============================] - 8s 528ms/step - loss: 0.6284 - categorical_accuracy: 0.7350 - val_loss: 0.5242 - val_categorical_accuracy: 0.7633\n",
      "Epoch 3/45\n",
      "15/15 [==============================] - 8s 533ms/step - loss: 0.4854 - categorical_accuracy: 0.7894 - val_loss: 0.4266 - val_categorical_accuracy: 0.8097\n",
      "Epoch 4/45\n",
      "15/15 [==============================] - ETA: 0s - loss: 0.4223 - categorical_accuracy: 0.8248"
     ]
    },
    {
     "name": "stderr",
     "output_type": "stream",
     "text": [
      "\u001b[32m[I 2022-06-10 20:49:18,875]\u001b[0m Trial 29 pruned. Trial was pruned at epoch 3.\u001b[0m\n"
     ]
    }
   ],
   "source": [
    "study = optuna.create_study(direction='maximize')\n",
    "study.optimize(objective, n_trials=30)"
   ]
  },
  {
   "cell_type": "code",
   "execution_count": 19,
   "id": "95d11d74",
   "metadata": {},
   "outputs": [
    {
     "name": "stdout",
     "output_type": "stream",
     "text": [
      "{'n_epochs': 35, 'learning_rate': 0.0006920615808798661, 'filters_1': 20, 'kernel_size_1': 8, 'filters_2': 48, 'kernel_size_2': 6, 'lin_1_n': 79}\n"
     ]
    }
   ],
   "source": [
    "optimised_params = study.best_params\n",
    "print(optimised_params)"
   ]
  },
  {
   "cell_type": "code",
   "execution_count": 20,
   "id": "31deac79",
   "metadata": {},
   "outputs": [],
   "source": [
    "def opt_model(optimised_params):\n",
    "    n_epochs = optimised_params['n_epochs']\n",
    "    learning_rate = optimised_params['learning_rate']\n",
    "    optimiser = Adam(learning_rate=learning_rate)\n",
    "    # Conv 1\n",
    "    filters_1 = optimised_params['filters_1']\n",
    "    kernel_size_1 = optimised_params['kernel_size_1']\n",
    "    strides_1 = 1\n",
    "    padding_1 = 'same'\n",
    "    activation_1 = 'relu'\n",
    "    input_shape = (img_rows, img_cols, 1)\n",
    "    # Pool 1\n",
    "    pool_size_1 = 2\n",
    "    # Conv 2\n",
    "    filters_2 = optimised_params['filters_2']\n",
    "    kernel_size_2 = optimised_params['kernel_size_2']\n",
    "    strides_2 = 1\n",
    "    padding_2 = 'same'\n",
    "    activation_2 = 'relu'\n",
    "    # Pool 2\n",
    "    pool_size_2 = 2\n",
    "    # Droput\n",
    "    dropout_rate = 0.4\n",
    "    # Lin 1\n",
    "    lin_1_n = optimised_params['lin_1_n']\n",
    "    \n",
    "    model = Sequential()\n",
    "    model.add(Conv2D(filters=filters_1,\n",
    "                     kernel_size=kernel_size_1,\n",
    "                     strides=strides_1,\n",
    "                     padding=padding_1,\n",
    "                     activation=activation_1,\n",
    "                     input_shape=input_shape))\n",
    "    model.add(MaxPooling2D(pool_size=pool_size_1, strides=None))\n",
    "    model.add(Conv2D(filters=filters_2,\n",
    "                     kernel_size=kernel_size_2,\n",
    "                     strides=strides_2,\n",
    "                     padding=padding_2,\n",
    "                     activation=activation_2))\n",
    "    model.add(MaxPooling2D(pool_size=pool_size_2, strides=None))\n",
    "    model.add(Dropout(rate=dropout_rate))\n",
    "    model.add(Flatten())\n",
    "    model.add(Dense(units=lin_1_n, activation='relu'))\n",
    "    model.add(Dense(units=num_classes, activation='softmax'))\n",
    "    \n",
    "    model.compile(loss=categorical_crossentropy,\n",
    "              optimizer=optimiser,\n",
    "              metrics=['categorical_accuracy'])\n",
    "    \n",
    "    return model"
   ]
  },
  {
   "cell_type": "markdown",
   "id": "b477028b",
   "metadata": {},
   "source": [
    "# Folding"
   ]
  },
  {
   "cell_type": "code",
   "execution_count": 45,
   "id": "85f8e6fe",
   "metadata": {},
   "outputs": [
    {
     "name": "stdout",
     "output_type": "stream",
     "text": [
      "ALL CLASSES PRESENT\n",
      "{'n_epochs': 35, 'learning_rate': 0.0006920615808798661, 'filters_1': 20, 'kernel_size_1': 8, 'filters_2': 48, 'kernel_size_2': 6, 'lin_1_n': 79}\n"
     ]
    }
   ],
   "source": [
    "n_folds = 5\n",
    "kfold = KFold(n_splits=n_folds, shuffle=True)\n",
    "X = mels\n",
    "y = y \n",
    "# Human Optimisation...\n",
    "check_class_complete(kfold,X,y)\n",
    "#optimised_params['learning_rate'] = 0.0014280245429123698/2\n",
    "#optimised_params['n_epochs'] = 30\n",
    "n_epochs = optimised_params['n_epochs']\n",
    "fold_loss = np.zeros((n_folds,n_epochs))\n",
    "np.save('optimised_params',optimised_params)\n",
    "print(optimised_params)"
   ]
  },
  {
   "cell_type": "code",
   "execution_count": 46,
   "id": "c3c5e468-a020-4d34-a121-682bd0605741",
   "metadata": {},
   "outputs": [
    {
     "name": "stdout",
     "output_type": "stream",
     "text": [
      "-----------------------------------\n",
      "FOLD 1\n",
      "-----------------------------------\n",
      "Epoch 1/35\n",
      "53/53 [==============================] - 27s 508ms/step - loss: 0.6257 - categorical_accuracy: 0.7656 - val_loss: 0.3744 - val_categorical_accuracy: 0.8514\n",
      "Epoch 2/35\n",
      "53/53 [==============================] - 27s 519ms/step - loss: 0.3403 - categorical_accuracy: 0.8555 - val_loss: 0.2862 - val_categorical_accuracy: 0.8835\n",
      "Epoch 3/35\n",
      "53/53 [==============================] - 28s 531ms/step - loss: 0.2527 - categorical_accuracy: 0.8971 - val_loss: 0.2000 - val_categorical_accuracy: 0.9287\n",
      "Epoch 4/35\n",
      "53/53 [==============================] - 28s 525ms/step - loss: 0.2017 - categorical_accuracy: 0.9171 - val_loss: 0.1519 - val_categorical_accuracy: 0.9429\n",
      "Epoch 5/35\n",
      "53/53 [==============================] - 28s 522ms/step - loss: 0.1499 - categorical_accuracy: 0.9410 - val_loss: 0.1232 - val_categorical_accuracy: 0.9560\n",
      "Epoch 6/35\n",
      "53/53 [==============================] - 28s 520ms/step - loss: 0.1252 - categorical_accuracy: 0.9523 - val_loss: 0.1176 - val_categorical_accuracy: 0.9608\n",
      "Epoch 7/35\n",
      "53/53 [==============================] - 28s 519ms/step - loss: 0.0917 - categorical_accuracy: 0.9664 - val_loss: 0.1037 - val_categorical_accuracy: 0.9614\n",
      "Epoch 8/35\n",
      "53/53 [==============================] - 28s 521ms/step - loss: 0.0798 - categorical_accuracy: 0.9719 - val_loss: 0.0764 - val_categorical_accuracy: 0.9744\n",
      "Epoch 9/35\n",
      "53/53 [==============================] - 28s 537ms/step - loss: 0.0608 - categorical_accuracy: 0.9787 - val_loss: 0.0775 - val_categorical_accuracy: 0.9727\n",
      "Epoch 10/35\n",
      "53/53 [==============================] - 29s 549ms/step - loss: 0.0419 - categorical_accuracy: 0.9854 - val_loss: 0.0731 - val_categorical_accuracy: 0.9762\n",
      "Epoch 11/35\n",
      "53/53 [==============================] - 28s 524ms/step - loss: 0.0353 - categorical_accuracy: 0.9874 - val_loss: 0.0596 - val_categorical_accuracy: 0.9828\n",
      "Epoch 12/35\n",
      "53/53 [==============================] - 31s 584ms/step - loss: 0.0330 - categorical_accuracy: 0.9887 - val_loss: 0.0683 - val_categorical_accuracy: 0.9780\n",
      "Epoch 13/35\n",
      "53/53 [==============================] - 30s 568ms/step - loss: 0.0260 - categorical_accuracy: 0.9917 - val_loss: 0.0738 - val_categorical_accuracy: 0.9792\n",
      "Epoch 14/35\n",
      "53/53 [==============================] - 30s 567ms/step - loss: 0.0231 - categorical_accuracy: 0.9930 - val_loss: 0.0714 - val_categorical_accuracy: 0.9810\n",
      "Epoch 15/35\n",
      "53/53 [==============================] - 30s 575ms/step - loss: 0.0148 - categorical_accuracy: 0.9957 - val_loss: 0.0601 - val_categorical_accuracy: 0.9834\n",
      "Epoch 16/35\n",
      "53/53 [==============================] - 30s 572ms/step - loss: 0.0194 - categorical_accuracy: 0.9939 - val_loss: 0.0651 - val_categorical_accuracy: 0.9839\n",
      "Epoch 17/35\n",
      "53/53 [==============================] - 30s 569ms/step - loss: 0.0127 - categorical_accuracy: 0.9961 - val_loss: 0.0647 - val_categorical_accuracy: 0.9810\n",
      "Epoch 18/35\n",
      "53/53 [==============================] - 30s 569ms/step - loss: 0.0131 - categorical_accuracy: 0.9957 - val_loss: 0.0687 - val_categorical_accuracy: 0.9798\n",
      "Epoch 19/35\n",
      "53/53 [==============================] - 30s 571ms/step - loss: 0.0163 - categorical_accuracy: 0.9957 - val_loss: 0.0657 - val_categorical_accuracy: 0.9828\n",
      "Epoch 20/35\n",
      "53/53 [==============================] - 30s 575ms/step - loss: 0.0116 - categorical_accuracy: 0.9966 - val_loss: 0.0786 - val_categorical_accuracy: 0.9804\n",
      "Epoch 21/35\n",
      "53/53 [==============================] - 30s 570ms/step - loss: 0.0129 - categorical_accuracy: 0.9958 - val_loss: 0.0813 - val_categorical_accuracy: 0.9816\n",
      "Epoch 22/35\n",
      "53/53 [==============================] - 30s 570ms/step - loss: 0.0084 - categorical_accuracy: 0.9981 - val_loss: 0.0901 - val_categorical_accuracy: 0.9780\n",
      "Epoch 23/35\n",
      "53/53 [==============================] - 30s 572ms/step - loss: 0.0097 - categorical_accuracy: 0.9972 - val_loss: 0.0670 - val_categorical_accuracy: 0.9845\n",
      "Epoch 24/35\n",
      "53/53 [==============================] - 30s 569ms/step - loss: 0.0062 - categorical_accuracy: 0.9987 - val_loss: 0.0639 - val_categorical_accuracy: 0.9828\n",
      "Epoch 25/35\n",
      "53/53 [==============================] - 30s 567ms/step - loss: 0.0053 - categorical_accuracy: 0.9988 - val_loss: 0.0725 - val_categorical_accuracy: 0.9839\n",
      "Epoch 26/35\n",
      "53/53 [==============================] - 30s 569ms/step - loss: 0.0082 - categorical_accuracy: 0.9975 - val_loss: 0.0730 - val_categorical_accuracy: 0.9816\n",
      "Epoch 27/35\n",
      "53/53 [==============================] - 30s 574ms/step - loss: 0.0079 - categorical_accuracy: 0.9979 - val_loss: 0.0699 - val_categorical_accuracy: 0.9828\n",
      "Epoch 28/35\n",
      "53/53 [==============================] - 30s 573ms/step - loss: 0.0058 - categorical_accuracy: 0.9987 - val_loss: 0.0744 - val_categorical_accuracy: 0.9839\n",
      "Epoch 29/35\n",
      "53/53 [==============================] - 31s 580ms/step - loss: 0.0129 - categorical_accuracy: 0.9957 - val_loss: 0.0821 - val_categorical_accuracy: 0.9774\n",
      "Epoch 30/35\n",
      "53/53 [==============================] - 30s 576ms/step - loss: 0.0150 - categorical_accuracy: 0.9951 - val_loss: 0.0925 - val_categorical_accuracy: 0.9768\n",
      "Epoch 31/35\n",
      "53/53 [==============================] - 30s 571ms/step - loss: 0.0157 - categorical_accuracy: 0.9944 - val_loss: 0.0826 - val_categorical_accuracy: 0.9786\n",
      "Epoch 32/35\n",
      "53/53 [==============================] - 30s 568ms/step - loss: 0.0095 - categorical_accuracy: 0.9981 - val_loss: 0.0893 - val_categorical_accuracy: 0.9756\n",
      "Epoch 33/35\n",
      "53/53 [==============================] - 30s 568ms/step - loss: 0.0055 - categorical_accuracy: 0.9988 - val_loss: 0.0869 - val_categorical_accuracy: 0.9828\n",
      "Epoch 34/35\n",
      "53/53 [==============================] - 30s 569ms/step - loss: 0.0028 - categorical_accuracy: 0.9996 - val_loss: 0.0736 - val_categorical_accuracy: 0.9851\n",
      "Epoch 35/35\n",
      "53/53 [==============================] - 30s 571ms/step - loss: 0.0025 - categorical_accuracy: 0.9994 - val_loss: 0.0798 - val_categorical_accuracy: 0.9822\n",
      "-----------------------------------\n",
      "FOLD 2\n",
      "-----------------------------------\n",
      "Epoch 1/35\n",
      "53/53 [==============================] - 31s 571ms/step - loss: 0.6127 - categorical_accuracy: 0.7611 - val_loss: 0.3796 - val_categorical_accuracy: 0.8389\n",
      "Epoch 2/35\n",
      "53/53 [==============================] - 30s 567ms/step - loss: 0.3429 - categorical_accuracy: 0.8595 - val_loss: 0.2891 - val_categorical_accuracy: 0.8746\n",
      "Epoch 3/35\n",
      "53/53 [==============================] - 30s 573ms/step - loss: 0.2529 - categorical_accuracy: 0.8994 - val_loss: 0.2029 - val_categorical_accuracy: 0.9221\n",
      "Epoch 4/35\n",
      "53/53 [==============================] - 30s 569ms/step - loss: 0.1920 - categorical_accuracy: 0.9252 - val_loss: 0.1594 - val_categorical_accuracy: 0.9400\n",
      "Epoch 5/35\n",
      "53/53 [==============================] - 30s 572ms/step - loss: 0.1517 - categorical_accuracy: 0.9419 - val_loss: 0.1504 - val_categorical_accuracy: 0.9441\n",
      "Epoch 6/35\n",
      "53/53 [==============================] - 32s 601ms/step - loss: 0.1242 - categorical_accuracy: 0.9545 - val_loss: 0.1136 - val_categorical_accuracy: 0.9608\n",
      "Epoch 7/35\n",
      "53/53 [==============================] - 32s 595ms/step - loss: 0.0900 - categorical_accuracy: 0.9679 - val_loss: 0.0990 - val_categorical_accuracy: 0.9637\n",
      "Epoch 8/35\n",
      "53/53 [==============================] - 30s 572ms/step - loss: 0.0639 - categorical_accuracy: 0.9761 - val_loss: 0.0751 - val_categorical_accuracy: 0.9715\n",
      "Epoch 9/35\n",
      "53/53 [==============================] - 30s 570ms/step - loss: 0.0591 - categorical_accuracy: 0.9798 - val_loss: 0.0686 - val_categorical_accuracy: 0.9768\n",
      "Epoch 10/35\n",
      "53/53 [==============================] - 30s 563ms/step - loss: 0.0401 - categorical_accuracy: 0.9863 - val_loss: 0.0720 - val_categorical_accuracy: 0.9768\n",
      "Epoch 11/35\n",
      "53/53 [==============================] - 30s 565ms/step - loss: 0.0324 - categorical_accuracy: 0.9900 - val_loss: 0.0599 - val_categorical_accuracy: 0.9798\n",
      "Epoch 12/35\n",
      "53/53 [==============================] - 30s 559ms/step - loss: 0.0261 - categorical_accuracy: 0.9923 - val_loss: 0.0704 - val_categorical_accuracy: 0.9762\n",
      "Epoch 13/35\n",
      "53/53 [==============================] - 27s 517ms/step - loss: 0.0273 - categorical_accuracy: 0.9911 - val_loss: 0.0776 - val_categorical_accuracy: 0.9738\n"
     ]
    },
    {
     "name": "stdout",
     "output_type": "stream",
     "text": [
      "Epoch 14/35\n",
      "53/53 [==============================] - 27s 515ms/step - loss: 0.0184 - categorical_accuracy: 0.9954 - val_loss: 0.0533 - val_categorical_accuracy: 0.9810\n",
      "Epoch 15/35\n",
      "53/53 [==============================] - 27s 516ms/step - loss: 0.0145 - categorical_accuracy: 0.9957 - val_loss: 0.0631 - val_categorical_accuracy: 0.9834\n",
      "Epoch 16/35\n",
      "53/53 [==============================] - 27s 512ms/step - loss: 0.0127 - categorical_accuracy: 0.9961 - val_loss: 0.0584 - val_categorical_accuracy: 0.9834\n",
      "Epoch 17/35\n",
      "53/53 [==============================] - 27s 515ms/step - loss: 0.0161 - categorical_accuracy: 0.9935 - val_loss: 0.0608 - val_categorical_accuracy: 0.9834\n",
      "Epoch 18/35\n",
      "53/53 [==============================] - 27s 514ms/step - loss: 0.0105 - categorical_accuracy: 0.9969 - val_loss: 0.0685 - val_categorical_accuracy: 0.9816\n",
      "Epoch 19/35\n",
      "53/53 [==============================] - 27s 515ms/step - loss: 0.0082 - categorical_accuracy: 0.9982 - val_loss: 0.0731 - val_categorical_accuracy: 0.9810\n",
      "Epoch 20/35\n",
      "53/53 [==============================] - 27s 514ms/step - loss: 0.0059 - categorical_accuracy: 0.9988 - val_loss: 0.0804 - val_categorical_accuracy: 0.9804\n",
      "Epoch 21/35\n",
      "53/53 [==============================] - 27s 514ms/step - loss: 0.0092 - categorical_accuracy: 0.9969 - val_loss: 0.0723 - val_categorical_accuracy: 0.9816\n",
      "Epoch 22/35\n",
      "53/53 [==============================] - 27s 517ms/step - loss: 0.0127 - categorical_accuracy: 0.9957 - val_loss: 0.0551 - val_categorical_accuracy: 0.9845\n",
      "Epoch 23/35\n",
      "53/53 [==============================] - 27s 514ms/step - loss: 0.0082 - categorical_accuracy: 0.9981 - val_loss: 0.0651 - val_categorical_accuracy: 0.9828\n",
      "Epoch 24/35\n",
      "53/53 [==============================] - 31s 591ms/step - loss: 0.0058 - categorical_accuracy: 0.9987 - val_loss: 0.0636 - val_categorical_accuracy: 0.9828\n",
      "Epoch 25/35\n",
      "53/53 [==============================] - 30s 566ms/step - loss: 0.0072 - categorical_accuracy: 0.9981 - val_loss: 0.0846 - val_categorical_accuracy: 0.9798\n",
      "Epoch 26/35\n",
      "53/53 [==============================] - 30s 572ms/step - loss: 0.0168 - categorical_accuracy: 0.9939 - val_loss: 0.0811 - val_categorical_accuracy: 0.9792\n",
      "Epoch 27/35\n",
      "53/53 [==============================] - 30s 568ms/step - loss: 0.0131 - categorical_accuracy: 0.9958 - val_loss: 0.0881 - val_categorical_accuracy: 0.9786\n",
      "Epoch 28/35\n",
      "53/53 [==============================] - 30s 567ms/step - loss: 0.0149 - categorical_accuracy: 0.9938 - val_loss: 0.0918 - val_categorical_accuracy: 0.9786\n",
      "Epoch 29/35\n",
      "53/53 [==============================] - 30s 565ms/step - loss: 0.0129 - categorical_accuracy: 0.9954 - val_loss: 0.0815 - val_categorical_accuracy: 0.9750\n",
      "Epoch 30/35\n",
      "53/53 [==============================] - 30s 567ms/step - loss: 0.0060 - categorical_accuracy: 0.9985 - val_loss: 0.0872 - val_categorical_accuracy: 0.9798\n",
      "Epoch 31/35\n",
      "53/53 [==============================] - 30s 567ms/step - loss: 0.0030 - categorical_accuracy: 0.9993 - val_loss: 0.0801 - val_categorical_accuracy: 0.9816\n",
      "Epoch 32/35\n",
      "53/53 [==============================] - 30s 574ms/step - loss: 0.0038 - categorical_accuracy: 0.9991 - val_loss: 0.0891 - val_categorical_accuracy: 0.9834\n",
      "Epoch 33/35\n",
      "53/53 [==============================] - 30s 568ms/step - loss: 0.0044 - categorical_accuracy: 0.9987 - val_loss: 0.0549 - val_categorical_accuracy: 0.9839\n",
      "Epoch 34/35\n",
      "53/53 [==============================] - 31s 577ms/step - loss: 0.0026 - categorical_accuracy: 0.9993 - val_loss: 0.0708 - val_categorical_accuracy: 0.9822\n",
      "Epoch 35/35\n",
      "53/53 [==============================] - 30s 573ms/step - loss: 0.0020 - categorical_accuracy: 0.9994 - val_loss: 0.0870 - val_categorical_accuracy: 0.9798\n",
      "-----------------------------------\n",
      "FOLD 3\n",
      "-----------------------------------\n",
      "Epoch 1/35\n",
      "53/53 [==============================] - 31s 567ms/step - loss: 0.6815 - categorical_accuracy: 0.7467 - val_loss: 0.4426 - val_categorical_accuracy: 0.8169\n",
      "Epoch 2/35\n",
      "53/53 [==============================] - 31s 577ms/step - loss: 0.3699 - categorical_accuracy: 0.8430 - val_loss: 0.3237 - val_categorical_accuracy: 0.8662\n",
      "Epoch 3/35\n",
      "53/53 [==============================] - 30s 571ms/step - loss: 0.2933 - categorical_accuracy: 0.8809 - val_loss: 0.3071 - val_categorical_accuracy: 0.8841\n",
      "Epoch 4/35\n",
      "53/53 [==============================] - 32s 598ms/step - loss: 0.2377 - categorical_accuracy: 0.9065 - val_loss: 0.2147 - val_categorical_accuracy: 0.9197\n",
      "Epoch 5/35\n",
      "53/53 [==============================] - 32s 599ms/step - loss: 0.1977 - categorical_accuracy: 0.9202 - val_loss: 0.1797 - val_categorical_accuracy: 0.9215\n",
      "Epoch 6/35\n",
      "53/53 [==============================] - 31s 579ms/step - loss: 0.1575 - categorical_accuracy: 0.9407 - val_loss: 0.1517 - val_categorical_accuracy: 0.9411\n",
      "Epoch 7/35\n",
      "53/53 [==============================] - 30s 570ms/step - loss: 0.1198 - categorical_accuracy: 0.9572 - val_loss: 0.1341 - val_categorical_accuracy: 0.9495\n",
      "Epoch 8/35\n",
      "53/53 [==============================] - 30s 568ms/step - loss: 0.0947 - categorical_accuracy: 0.9646 - val_loss: 0.1046 - val_categorical_accuracy: 0.9625\n",
      "Epoch 9/35\n",
      "53/53 [==============================] - 31s 577ms/step - loss: 0.0832 - categorical_accuracy: 0.9706 - val_loss: 0.1090 - val_categorical_accuracy: 0.9614\n",
      "Epoch 10/35\n",
      "53/53 [==============================] - 31s 579ms/step - loss: 0.0663 - categorical_accuracy: 0.9762 - val_loss: 0.0949 - val_categorical_accuracy: 0.9661\n",
      "Epoch 11/35\n",
      "53/53 [==============================] - 30s 574ms/step - loss: 0.0590 - categorical_accuracy: 0.9805 - val_loss: 0.0807 - val_categorical_accuracy: 0.9715\n",
      "Epoch 12/35\n",
      "53/53 [==============================] - 30s 573ms/step - loss: 0.0429 - categorical_accuracy: 0.9859 - val_loss: 0.0841 - val_categorical_accuracy: 0.9685\n",
      "Epoch 13/35\n",
      "53/53 [==============================] - 31s 576ms/step - loss: 0.0360 - categorical_accuracy: 0.9908 - val_loss: 0.0761 - val_categorical_accuracy: 0.9721\n",
      "Epoch 14/35\n",
      "53/53 [==============================] - 30s 567ms/step - loss: 0.0324 - categorical_accuracy: 0.9887 - val_loss: 0.0689 - val_categorical_accuracy: 0.9780\n",
      "Epoch 15/35\n",
      "53/53 [==============================] - 30s 572ms/step - loss: 0.0287 - categorical_accuracy: 0.9906 - val_loss: 0.0800 - val_categorical_accuracy: 0.9762\n",
      "Epoch 16/35\n",
      "53/53 [==============================] - 30s 570ms/step - loss: 0.0232 - categorical_accuracy: 0.9923 - val_loss: 0.0862 - val_categorical_accuracy: 0.9685\n",
      "Epoch 17/35\n",
      "53/53 [==============================] - 30s 566ms/step - loss: 0.0210 - categorical_accuracy: 0.9941 - val_loss: 0.0713 - val_categorical_accuracy: 0.9774\n",
      "Epoch 18/35\n",
      "53/53 [==============================] - 30s 575ms/step - loss: 0.0131 - categorical_accuracy: 0.9964 - val_loss: 0.0725 - val_categorical_accuracy: 0.9715\n",
      "Epoch 19/35\n",
      "53/53 [==============================] - 31s 580ms/step - loss: 0.0147 - categorical_accuracy: 0.9960 - val_loss: 0.0825 - val_categorical_accuracy: 0.9756\n",
      "Epoch 20/35\n",
      "53/53 [==============================] - 30s 572ms/step - loss: 0.0112 - categorical_accuracy: 0.9966 - val_loss: 0.0947 - val_categorical_accuracy: 0.9727\n",
      "Epoch 21/35\n",
      "53/53 [==============================] - 31s 579ms/step - loss: 0.0101 - categorical_accuracy: 0.9970 - val_loss: 0.0730 - val_categorical_accuracy: 0.9792\n",
      "Epoch 22/35\n",
      "53/53 [==============================] - 31s 576ms/step - loss: 0.0106 - categorical_accuracy: 0.9961 - val_loss: 0.1052 - val_categorical_accuracy: 0.9679\n",
      "Epoch 23/35\n",
      "53/53 [==============================] - 30s 570ms/step - loss: 0.0099 - categorical_accuracy: 0.9975 - val_loss: 0.0657 - val_categorical_accuracy: 0.9798\n",
      "Epoch 24/35\n",
      "53/53 [==============================] - 30s 573ms/step - loss: 0.0139 - categorical_accuracy: 0.9964 - val_loss: 0.0766 - val_categorical_accuracy: 0.9792\n",
      "Epoch 25/35\n",
      "53/53 [==============================] - 30s 570ms/step - loss: 0.0085 - categorical_accuracy: 0.9978 - val_loss: 0.0686 - val_categorical_accuracy: 0.9792\n",
      "Epoch 26/35\n",
      "53/53 [==============================] - 30s 572ms/step - loss: 0.0065 - categorical_accuracy: 0.9979 - val_loss: 0.0692 - val_categorical_accuracy: 0.9822\n",
      "Epoch 27/35\n"
     ]
    },
    {
     "name": "stdout",
     "output_type": "stream",
     "text": [
      "53/53 [==============================] - 31s 577ms/step - loss: 0.0087 - categorical_accuracy: 0.9970 - val_loss: 0.0646 - val_categorical_accuracy: 0.9816\n",
      "Epoch 28/35\n",
      "53/53 [==============================] - 30s 570ms/step - loss: 0.0086 - categorical_accuracy: 0.9981 - val_loss: 0.0825 - val_categorical_accuracy: 0.9786\n",
      "Epoch 29/35\n",
      "53/53 [==============================] - 30s 574ms/step - loss: 0.0053 - categorical_accuracy: 0.9987 - val_loss: 0.0796 - val_categorical_accuracy: 0.9774\n",
      "Epoch 30/35\n",
      "53/53 [==============================] - 30s 573ms/step - loss: 0.0114 - categorical_accuracy: 0.9963 - val_loss: 0.0912 - val_categorical_accuracy: 0.9780\n",
      "Epoch 31/35\n",
      "53/53 [==============================] - 30s 569ms/step - loss: 0.0070 - categorical_accuracy: 0.9979 - val_loss: 0.0930 - val_categorical_accuracy: 0.9721\n",
      "Epoch 32/35\n",
      "53/53 [==============================] - 30s 571ms/step - loss: 0.0055 - categorical_accuracy: 0.9982 - val_loss: 0.0790 - val_categorical_accuracy: 0.9798\n",
      "Epoch 33/35\n",
      "53/53 [==============================] - 30s 562ms/step - loss: 0.0137 - categorical_accuracy: 0.9955 - val_loss: 0.0788 - val_categorical_accuracy: 0.9750\n",
      "Epoch 34/35\n",
      "53/53 [==============================] - 30s 565ms/step - loss: 0.0060 - categorical_accuracy: 0.9987 - val_loss: 0.0874 - val_categorical_accuracy: 0.9762\n",
      "Epoch 35/35\n",
      "53/53 [==============================] - 30s 564ms/step - loss: 0.0042 - categorical_accuracy: 0.9987 - val_loss: 0.0952 - val_categorical_accuracy: 0.9786\n",
      "-----------------------------------\n",
      "FOLD 4\n",
      "-----------------------------------\n",
      "Epoch 1/35\n",
      "53/53 [==============================] - 30s 561ms/step - loss: 0.6550 - categorical_accuracy: 0.7556 - val_loss: 0.4382 - val_categorical_accuracy: 0.8199\n",
      "Epoch 2/35\n",
      "53/53 [==============================] - 28s 536ms/step - loss: 0.3880 - categorical_accuracy: 0.8447 - val_loss: 0.3494 - val_categorical_accuracy: 0.8543\n",
      "Epoch 3/35\n",
      "53/53 [==============================] - 27s 516ms/step - loss: 0.3208 - categorical_accuracy: 0.8723 - val_loss: 0.3049 - val_categorical_accuracy: 0.8740\n",
      "Epoch 4/35\n",
      "53/53 [==============================] - 28s 520ms/step - loss: 0.2693 - categorical_accuracy: 0.8901 - val_loss: 0.2636 - val_categorical_accuracy: 0.9102\n",
      "Epoch 5/35\n",
      "53/53 [==============================] - 27s 517ms/step - loss: 0.2264 - categorical_accuracy: 0.9105 - val_loss: 0.2074 - val_categorical_accuracy: 0.9275\n",
      "Epoch 6/35\n",
      "53/53 [==============================] - 27s 515ms/step - loss: 0.1849 - categorical_accuracy: 0.9237 - val_loss: 0.1825 - val_categorical_accuracy: 0.9394\n",
      "Epoch 7/35\n",
      "53/53 [==============================] - 27s 518ms/step - loss: 0.1463 - categorical_accuracy: 0.9428 - val_loss: 0.1571 - val_categorical_accuracy: 0.9316\n",
      "Epoch 8/35\n",
      "53/53 [==============================] - 27s 516ms/step - loss: 0.1177 - categorical_accuracy: 0.9544 - val_loss: 0.1223 - val_categorical_accuracy: 0.9584\n",
      "Epoch 9/35\n",
      "53/53 [==============================] - 27s 516ms/step - loss: 0.1019 - categorical_accuracy: 0.9621 - val_loss: 0.0950 - val_categorical_accuracy: 0.9673\n",
      "Epoch 10/35\n",
      "53/53 [==============================] - 27s 515ms/step - loss: 0.0816 - categorical_accuracy: 0.9719 - val_loss: 0.0942 - val_categorical_accuracy: 0.9673\n",
      "Epoch 11/35\n",
      "53/53 [==============================] - 27s 515ms/step - loss: 0.0680 - categorical_accuracy: 0.9771 - val_loss: 0.1088 - val_categorical_accuracy: 0.9614\n",
      "Epoch 12/35\n",
      "53/53 [==============================] - 30s 564ms/step - loss: 0.0638 - categorical_accuracy: 0.9784 - val_loss: 0.1000 - val_categorical_accuracy: 0.9655\n",
      "Epoch 13/35\n",
      "53/53 [==============================] - 30s 571ms/step - loss: 0.0552 - categorical_accuracy: 0.9814 - val_loss: 0.0695 - val_categorical_accuracy: 0.9780\n",
      "Epoch 14/35\n",
      "53/53 [==============================] - 31s 579ms/step - loss: 0.0426 - categorical_accuracy: 0.9857 - val_loss: 0.0630 - val_categorical_accuracy: 0.9780\n",
      "Epoch 15/35\n",
      "53/53 [==============================] - 31s 583ms/step - loss: 0.0426 - categorical_accuracy: 0.9856 - val_loss: 0.0707 - val_categorical_accuracy: 0.9792\n",
      "Epoch 16/35\n",
      "53/53 [==============================] - 30s 575ms/step - loss: 0.0274 - categorical_accuracy: 0.9915 - val_loss: 0.0916 - val_categorical_accuracy: 0.9762\n",
      "Epoch 17/35\n",
      "53/53 [==============================] - 30s 572ms/step - loss: 0.0303 - categorical_accuracy: 0.9900 - val_loss: 0.0757 - val_categorical_accuracy: 0.9756\n",
      "Epoch 18/35\n",
      "53/53 [==============================] - 30s 572ms/step - loss: 0.0309 - categorical_accuracy: 0.9906 - val_loss: 0.0662 - val_categorical_accuracy: 0.9828\n",
      "Epoch 19/35\n",
      "53/53 [==============================] - 30s 572ms/step - loss: 0.0193 - categorical_accuracy: 0.9946 - val_loss: 0.0574 - val_categorical_accuracy: 0.9828\n",
      "Epoch 20/35\n",
      "53/53 [==============================] - 31s 576ms/step - loss: 0.0195 - categorical_accuracy: 0.9945 - val_loss: 0.0657 - val_categorical_accuracy: 0.9798\n",
      "Epoch 21/35\n",
      "53/53 [==============================] - 30s 573ms/step - loss: 0.0182 - categorical_accuracy: 0.9946 - val_loss: 0.0568 - val_categorical_accuracy: 0.9804\n",
      "Epoch 22/35\n",
      "53/53 [==============================] - 29s 555ms/step - loss: 0.0120 - categorical_accuracy: 0.9963 - val_loss: 0.0660 - val_categorical_accuracy: 0.9816\n",
      "Epoch 23/35\n",
      "53/53 [==============================] - 27s 514ms/step - loss: 0.0089 - categorical_accuracy: 0.9976 - val_loss: 0.0633 - val_categorical_accuracy: 0.9816\n",
      "Epoch 24/35\n",
      "53/53 [==============================] - 27s 517ms/step - loss: 0.0110 - categorical_accuracy: 0.9961 - val_loss: 0.0689 - val_categorical_accuracy: 0.9816\n",
      "Epoch 25/35\n",
      "53/53 [==============================] - 27s 516ms/step - loss: 0.0110 - categorical_accuracy: 0.9972 - val_loss: 0.0557 - val_categorical_accuracy: 0.9851\n",
      "Epoch 26/35\n",
      "53/53 [==============================] - 27s 515ms/step - loss: 0.0102 - categorical_accuracy: 0.9970 - val_loss: 0.0633 - val_categorical_accuracy: 0.9834\n",
      "Epoch 27/35\n",
      "53/53 [==============================] - 27s 515ms/step - loss: 0.0087 - categorical_accuracy: 0.9976 - val_loss: 0.0608 - val_categorical_accuracy: 0.9834\n",
      "Epoch 28/35\n",
      "53/53 [==============================] - 27s 515ms/step - loss: 0.0075 - categorical_accuracy: 0.9982 - val_loss: 0.0716 - val_categorical_accuracy: 0.9857\n",
      "Epoch 29/35\n",
      "53/53 [==============================] - 27s 516ms/step - loss: 0.0089 - categorical_accuracy: 0.9973 - val_loss: 0.0768 - val_categorical_accuracy: 0.9792\n",
      "Epoch 30/35\n",
      "53/53 [==============================] - 27s 515ms/step - loss: 0.0079 - categorical_accuracy: 0.9985 - val_loss: 0.0827 - val_categorical_accuracy: 0.9822\n",
      "Epoch 31/35\n",
      "53/53 [==============================] - 27s 515ms/step - loss: 0.0070 - categorical_accuracy: 0.9987 - val_loss: 0.0668 - val_categorical_accuracy: 0.9810\n",
      "Epoch 32/35\n",
      "53/53 [==============================] - 27s 516ms/step - loss: 0.0107 - categorical_accuracy: 0.9964 - val_loss: 0.0818 - val_categorical_accuracy: 0.9816\n",
      "Epoch 33/35\n",
      "53/53 [==============================] - 27s 516ms/step - loss: 0.0108 - categorical_accuracy: 0.9960 - val_loss: 0.0593 - val_categorical_accuracy: 0.9816\n",
      "Epoch 34/35\n",
      "53/53 [==============================] - 31s 588ms/step - loss: 0.0163 - categorical_accuracy: 0.9955 - val_loss: 0.0687 - val_categorical_accuracy: 0.9839\n",
      "Epoch 35/35\n",
      "53/53 [==============================] - 33s 619ms/step - loss: 0.0077 - categorical_accuracy: 0.9982 - val_loss: 0.0966 - val_categorical_accuracy: 0.9834\n",
      "-----------------------------------\n",
      "FOLD 5\n",
      "-----------------------------------\n",
      "Epoch 1/35\n",
      "53/53 [==============================] - 32s 589ms/step - loss: 0.6473 - categorical_accuracy: 0.7493 - val_loss: 0.4458 - val_categorical_accuracy: 0.8209\n",
      "Epoch 2/35\n",
      "53/53 [==============================] - 31s 577ms/step - loss: 0.3785 - categorical_accuracy: 0.8444 - val_loss: 0.3450 - val_categorical_accuracy: 0.8525\n",
      "Epoch 3/35\n",
      "53/53 [==============================] - 28s 520ms/step - loss: 0.3043 - categorical_accuracy: 0.8751 - val_loss: 0.2633 - val_categorical_accuracy: 0.8899\n",
      "Epoch 4/35\n",
      "53/53 [==============================] - 27s 517ms/step - loss: 0.2333 - categorical_accuracy: 0.9047 - val_loss: 0.2195 - val_categorical_accuracy: 0.9131\n"
     ]
    },
    {
     "name": "stdout",
     "output_type": "stream",
     "text": [
      "Epoch 5/35\n",
      "53/53 [==============================] - 27s 517ms/step - loss: 0.1986 - categorical_accuracy: 0.9202 - val_loss: 0.1884 - val_categorical_accuracy: 0.9209\n",
      "Epoch 6/35\n",
      "53/53 [==============================] - 27s 518ms/step - loss: 0.1559 - categorical_accuracy: 0.9394 - val_loss: 0.1550 - val_categorical_accuracy: 0.9358\n",
      "Epoch 7/35\n",
      "53/53 [==============================] - 27s 519ms/step - loss: 0.1268 - categorical_accuracy: 0.9523 - val_loss: 0.1359 - val_categorical_accuracy: 0.9518\n",
      "Epoch 8/35\n",
      "53/53 [==============================] - 27s 519ms/step - loss: 0.1022 - categorical_accuracy: 0.9628 - val_loss: 0.1118 - val_categorical_accuracy: 0.9560\n",
      "Epoch 9/35\n",
      "53/53 [==============================] - 27s 516ms/step - loss: 0.0878 - categorical_accuracy: 0.9654 - val_loss: 0.0949 - val_categorical_accuracy: 0.9703\n",
      "Epoch 10/35\n",
      "53/53 [==============================] - 27s 515ms/step - loss: 0.0620 - categorical_accuracy: 0.9755 - val_loss: 0.0781 - val_categorical_accuracy: 0.9756\n",
      "Epoch 11/35\n",
      "53/53 [==============================] - 28s 532ms/step - loss: 0.0472 - categorical_accuracy: 0.9856 - val_loss: 0.0782 - val_categorical_accuracy: 0.9738\n",
      "Epoch 12/35\n",
      "53/53 [==============================] - 28s 519ms/step - loss: 0.0462 - categorical_accuracy: 0.9838 - val_loss: 0.0676 - val_categorical_accuracy: 0.9792\n",
      "Epoch 13/35\n",
      "53/53 [==============================] - 28s 521ms/step - loss: 0.0371 - categorical_accuracy: 0.9883 - val_loss: 0.0669 - val_categorical_accuracy: 0.9839\n",
      "Epoch 14/35\n",
      "53/53 [==============================] - 31s 588ms/step - loss: 0.0294 - categorical_accuracy: 0.9912 - val_loss: 0.0729 - val_categorical_accuracy: 0.9816\n",
      "Epoch 15/35\n",
      "53/53 [==============================] - 31s 577ms/step - loss: 0.0256 - categorical_accuracy: 0.9920 - val_loss: 0.0543 - val_categorical_accuracy: 0.9857\n",
      "Epoch 16/35\n",
      "53/53 [==============================] - 30s 574ms/step - loss: 0.0207 - categorical_accuracy: 0.9923 - val_loss: 0.0514 - val_categorical_accuracy: 0.9881\n",
      "Epoch 17/35\n",
      "53/53 [==============================] - 30s 574ms/step - loss: 0.0180 - categorical_accuracy: 0.9945 - val_loss: 0.0505 - val_categorical_accuracy: 0.9857\n",
      "Epoch 18/35\n",
      "53/53 [==============================] - 30s 575ms/step - loss: 0.0128 - categorical_accuracy: 0.9972 - val_loss: 0.0595 - val_categorical_accuracy: 0.9881\n",
      "Epoch 19/35\n",
      "53/53 [==============================] - 30s 573ms/step - loss: 0.0132 - categorical_accuracy: 0.9961 - val_loss: 0.0551 - val_categorical_accuracy: 0.9833\n",
      "Epoch 20/35\n",
      "53/53 [==============================] - 30s 573ms/step - loss: 0.0127 - categorical_accuracy: 0.9963 - val_loss: 0.0476 - val_categorical_accuracy: 0.9863\n",
      "Epoch 21/35\n",
      "53/53 [==============================] - 31s 586ms/step - loss: 0.0134 - categorical_accuracy: 0.9958 - val_loss: 0.0629 - val_categorical_accuracy: 0.9839\n",
      "Epoch 22/35\n",
      "53/53 [==============================] - 30s 570ms/step - loss: 0.0089 - categorical_accuracy: 0.9973 - val_loss: 0.0450 - val_categorical_accuracy: 0.9899\n",
      "Epoch 23/35\n",
      "53/53 [==============================] - 30s 572ms/step - loss: 0.0076 - categorical_accuracy: 0.9987 - val_loss: 0.0616 - val_categorical_accuracy: 0.9881\n",
      "Epoch 24/35\n",
      "53/53 [==============================] - 30s 573ms/step - loss: 0.0114 - categorical_accuracy: 0.9967 - val_loss: 0.0747 - val_categorical_accuracy: 0.9804\n",
      "Epoch 25/35\n",
      "53/53 [==============================] - 30s 572ms/step - loss: 0.0097 - categorical_accuracy: 0.9969 - val_loss: 0.0569 - val_categorical_accuracy: 0.9863\n",
      "Epoch 26/35\n",
      "53/53 [==============================] - 31s 578ms/step - loss: 0.0065 - categorical_accuracy: 0.9982 - val_loss: 0.0626 - val_categorical_accuracy: 0.9863\n",
      "Epoch 27/35\n",
      "53/53 [==============================] - 30s 569ms/step - loss: 0.0094 - categorical_accuracy: 0.9964 - val_loss: 0.0703 - val_categorical_accuracy: 0.9857\n",
      "Epoch 28/35\n",
      "53/53 [==============================] - 27s 518ms/step - loss: 0.0070 - categorical_accuracy: 0.9978 - val_loss: 0.0538 - val_categorical_accuracy: 0.9869\n",
      "Epoch 29/35\n",
      "53/53 [==============================] - 28s 519ms/step - loss: 0.0033 - categorical_accuracy: 0.9994 - val_loss: 0.0455 - val_categorical_accuracy: 0.9905\n",
      "Epoch 30/35\n",
      "53/53 [==============================] - 27s 519ms/step - loss: 0.0063 - categorical_accuracy: 0.9981 - val_loss: 0.0563 - val_categorical_accuracy: 0.9851\n",
      "Epoch 31/35\n",
      "53/53 [==============================] - 28s 520ms/step - loss: 0.0065 - categorical_accuracy: 0.9981 - val_loss: 0.0724 - val_categorical_accuracy: 0.9845\n",
      "Epoch 32/35\n",
      "53/53 [==============================] - 28s 519ms/step - loss: 0.0036 - categorical_accuracy: 0.9996 - val_loss: 0.0777 - val_categorical_accuracy: 0.9851\n",
      "Epoch 33/35\n",
      "53/53 [==============================] - 29s 549ms/step - loss: 0.0029 - categorical_accuracy: 0.9994 - val_loss: 0.0575 - val_categorical_accuracy: 0.9875\n",
      "Epoch 34/35\n",
      "53/53 [==============================] - 29s 541ms/step - loss: 0.0023 - categorical_accuracy: 0.9996 - val_loss: 0.0489 - val_categorical_accuracy: 0.9899\n",
      "Epoch 35/35\n",
      "53/53 [==============================] - 28s 525ms/step - loss: 0.0040 - categorical_accuracy: 0.9987 - val_loss: 0.0881 - val_categorical_accuracy: 0.9827\n"
     ]
    }
   ],
   "source": [
    "fold_no = 1\n",
    "for train_index, test_index in kfold.split(X, y):\n",
    "    \n",
    "    print(\"-----------------------------------\")\n",
    "    print(\"FOLD \"+str(fold_no))\n",
    "    print(\"-----------------------------------\")\n",
    "    \n",
    "    X_train, X_test = X[train_index], X[test_index]\n",
    "    y_train, y_test = y[train_index], y[test_index]\n",
    "    X_train,X_test,y_train,y_test, img_rows, img_cols = format_for_CNN(X_train,X_test,y_train,y_test)\n",
    "    \n",
    "    model = opt_model(optimised_params)\n",
    "\n",
    "    history = model.fit(X_train, y_train,\n",
    "                        batch_size=128,\n",
    "                        epochs=n_epochs,\n",
    "                        verbose=1,\n",
    "                        validation_data=(X_test, y_test))\n",
    "    \n",
    "    fold_loss[fold_no-1] = history.history['val_categorical_accuracy']\n",
    "    fold_no += 1"
   ]
  },
  {
   "cell_type": "code",
   "execution_count": 47,
   "id": "38373fa3",
   "metadata": {},
   "outputs": [
    {
     "data": {
      "image/png": "[encoded data removed]",
      "text/plain": [
       "<Figure size 432x288 with 1 Axes>"
      ]
     },
     "metadata": {
      "needs_background": "light"
     },
     "output_type": "display_data"
    },
    {
     "name": "stdout",
     "output_type": "stream",
     "text": [
      "Mean val_categorical_accuracy:  0.98133\n"
     ]
    }
   ],
   "source": [
    "for i in range(n_folds):\n",
    "    plt.plot(fold_loss[i], label='Fold: '+str(i))\n",
    "plt.xlabel('Epoch')\n",
    "plt.ylabel('val_categorical_accuracy')\n",
    "plt.legend()\n",
    "plt.show()\n",
    "mean_acc = np.mean(fold_loss[:,-1])\n",
    "print('Mean val_categorical_accuracy: ',np.around(mean_acc,5))"
   ]
  },
  {
   "cell_type": "code",
   "execution_count": 65,
   "id": "b8a740d4-cd04-4440-94ed-d936f9f32c13",
   "metadata": {},
   "outputs": [
    {
     "name": "stdout",
     "output_type": "stream",
     "text": [
      "1st convolution layer: 20 x 8\n"
     ]
    },
    {
     "data": {
      "image/png": "[encoded data removed]",
      "text/plain": [
       "<Figure size 1440x1440 with 20 Axes>"
      ]
     },
     "metadata": {},
     "output_type": "display_data"
    },
    {
     "name": "stdout",
     "output_type": "stream",
     "text": [
      "2nd convolution layer: 48 x 6\n"
     ]
    },
    {
     "data": {
      "image/png": "[encoded data removed]",
      "text/plain": [
       "<Figure size 1440x3600 with 48 Axes>"
      ]
     },
     "metadata": {},
     "output_type": "display_data"
    }
   ],
   "source": [
    "# model.layers will print a list of layer parameters/values\n",
    "filters1, biases1 = model.layers[0].get_weights()\n",
    "filters2, biases2 = model.layers[2].get_weights()\n",
    "\n",
    "# normalize filter values to range 0-1 for better colormapping during plotting\n",
    "def norm_filter(kernel):\n",
    "    return (kernel - np.min(kernel)) / (np.max(kernel) - np.min(kernel))\n",
    "\n",
    "n_1 = optimised_params['filters_1']\n",
    "print('1st convolution layer:',n_1,'x',optimised_params['kernel_size_1'])\n",
    "fig, axs = plt.subplots(1,n_1, figsize=(20, 20))\n",
    "axs = axs.ravel()\n",
    "for i in range(n_1):\n",
    "    axs[i].imshow(norm_filter(filters1[:,:,0,i]), cmap=plt.cm.binary)\n",
    "    axs[i].set_xticks([]); axs[i].set_yticks([]); axs[i].grid(False)\n",
    "plt.show()\n",
    "\n",
    "n_2 = optimised_params['filters_2']\n",
    "print('2nd convolution layer:',n_2,'x',optimised_params['kernel_size_2'])\n",
    "fig, axs = plt.subplots(1,n_2, figsize=(20, 50))\n",
    "axs = axs.ravel()\n",
    "for i in range(n_2):\n",
    "    axs[i].imshow(norm_filter(filters2[:,:,0,i]), cmap=plt.cm.binary)\n",
    "    axs[i].set_xticks([]); axs[i].set_yticks([]); axs[i].grid(False)"
   ]
  },
  {
   "cell_type": "markdown",
   "id": "c33e41aa-e13c-4f0e-aa1d-2c23a6450b37",
   "metadata": {},
   "source": [
    "### Evaluation"
   ]
  },
  {
   "cell_type": "code",
   "execution_count": 83,
   "id": "7dd8cefa",
   "metadata": {},
   "outputs": [
    {
     "name": "stdout",
     "output_type": "stream",
     "text": [
      "(2256, 128, 51)\n",
      "(2256,)\n",
      "(1266, 128, 51)\n",
      "(1266,)\n",
      "(10512, 128, 51)\n",
      "(10512,)\n"
     ]
    }
   ],
   "source": [
    "mels = np.load('mels.npz')['data'] # Good labels augmented\n",
    "y = np.load('mels_lables.npz',allow_pickle=True)['data']\n",
    "num_classes = len(np.unique(y))\n",
    "\n",
    "TEST_images = np.load('mels_TEST.npz')['data'] # Bad labels unaugmented\n",
    "TEST_y = np.load('mels_lables_TEST.npz',allow_pickle=True)['data']\n",
    "\n",
    "BIG_images = np.load('mels_TRAIN_ALL.npz')['data'] # All Augmented\n",
    "BIG_y = np.load('mels_lables_TRAIN_ALL.npz',allow_pickle=True)['data']\n",
    " \n",
    "mels_UNAUGMENTED = np.load('mels_UNAUGMENTED.npz')['data'] # Good labels unaugmented\n",
    "mels_lables_UNAUGMENTED = np.load('mels_lables_UNAUGMENTED.npz',allow_pickle=True)['data']\n",
    "\n",
    "print(mels.shape)\n",
    "print(y.shape)\n",
    "print(TEST_images.shape)\n",
    "print(TEST_y.shape)\n",
    "print(BIG_images.shape)\n",
    "print(BIG_y.shape)"
   ]
  },
  {
   "cell_type": "code",
   "execution_count": 89,
   "id": "9a280386",
   "metadata": {},
   "outputs": [],
   "source": [
    "#_, TEST_images, y, TEST_y = train_test_split(mels_UNAUGMENTED, mels_lables_UNAUGMENTED, test_size=0.2, random_state=42)\n",
    "_, X_test, _,y_test , _, _ = format_for_CNN(mels_UNAUGMENTED, mels_UNAUGMENTED, mels_lables_UNAUGMENTED, mels_lables_UNAUGMENTED)"
   ]
  },
  {
   "cell_type": "code",
   "execution_count": 90,
   "id": "faca6693",
   "metadata": {},
   "outputs": [
    {
     "name": "stdout",
     "output_type": "stream",
     "text": [
      "(113, 128, 51)\n",
      "(564, 128, 51, 1)\n"
     ]
    }
   ],
   "source": [
    "print(TEST_images.shape)\n",
    "print(X_test.shape)"
   ]
  },
  {
   "cell_type": "code",
   "execution_count": 91,
   "id": "4df78284-fb4a-41e0-9261-3bd8b75afd39",
   "metadata": {},
   "outputs": [],
   "source": [
    "predicted_prob = model.predict(X_test)\n",
    "predictions = np.argmax(predicted_prob, axis=1)"
   ]
  },
  {
   "cell_type": "code",
   "execution_count": 95,
   "id": "45c33277",
   "metadata": {},
   "outputs": [
    {
     "name": "stdout",
     "output_type": "stream",
     "text": [
      "(564,)\n",
      "(564, 4)\n"
     ]
    },
    {
     "data": {
      "text/plain": [
       "array([[0, 0, 1, 0],\n",
       "       [0, 0, 1, 0],\n",
       "       [0, 0, 1, 0],\n",
       "       ...,\n",
       "       [0, 0, 1, 0],\n",
       "       [0, 0, 1, 0],\n",
       "       [0, 0, 1, 0]], dtype=uint8)"
      ]
     },
     "execution_count": 95,
     "metadata": {},
     "output_type": "execute_result"
    }
   ],
   "source": [
    "print(predictions.shape)\n",
    "print(y_test.shape)\n",
    "y_test"
   ]
  },
  {
   "cell_type": "code",
   "execution_count": 97,
   "id": "5a94e5a0",
   "metadata": {},
   "outputs": [
    {
     "data": {
      "image/png": "[encoded data removed]",
      "text/plain": [
       "<Figure size 432x432 with 2 Axes>"
      ]
     },
     "metadata": {
      "needs_background": "light"
     },
     "output_type": "display_data"
    }
   ],
   "source": [
    "labels_list = np.unique(y)\n",
    "#onehot_v = pd.get_dummies(y_test)\n",
    "onehot_y = onehot_v.to_numpy()\n",
    "truths = np.argmax(y_test, axis=1)\n",
    "cm = confusion_matrix(truths, predictions, labels=range(num_classes))\n",
    "plot_confusion_matrix(cm,labels_list,normalize=False,savefig = 'CM_CNN_OPT')"
   ]
  },
  {
   "cell_type": "code",
   "execution_count": null,
   "id": "4acdf60a",
   "metadata": {},
   "outputs": [],
   "source": []
  }
 ],
 "metadata": {
  "kernelspec": {
   "display_name": "Python 3 (ipykernel)",
   "language": "python",
   "name": "python3"
  },
  "language_info": {
   "codemirror_mode": {
    "name": "ipython",
    "version": 3
   },
   "file_extension": ".py",
   "mimetype": "text/x-python",
   "name": "python",
   "nbconvert_exporter": "python",
   "pygments_lexer": "ipython3",
   "version": "3.8.12"
  },
  "toc-autonumbering": false
 },
 "nbformat": 4,
 "nbformat_minor": 5
}
