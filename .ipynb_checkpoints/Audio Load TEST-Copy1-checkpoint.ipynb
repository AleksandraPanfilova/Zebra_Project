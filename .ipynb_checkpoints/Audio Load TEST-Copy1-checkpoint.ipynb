{
 "cells": [
  {
   "cell_type": "code",
   "execution_count": 2,
   "id": "8c56ec81",
   "metadata": {},
   "outputs": [],
   "source": [
    "from barney_functions import *\n",
    "import librosa\n",
    "import numpy as np\n",
    "import pandas as pd\n",
    "from matplotlib import pyplot as plt\n",
    "import random\n",
    "import re\n",
    "import os\n",
    "from tqdm import tqdm \n",
    "import soundfile as sf\n",
    "import xarray as xr"
   ]
  },
  {
   "cell_type": "code",
   "execution_count": 3,
   "id": "af8d6b0d",
   "metadata": {},
   "outputs": [],
   "source": [
    "audio_path = 'zebra audio sample_Bing_413/all/'\n",
    "audio_path_long = 'Audio Files All/'\n",
    "nzebra_path = 'big bounce small.wav'\n",
    "spreadsheet_path = 'Zebras.Assumption.data_Bing_413 .xlsx'\n",
    "df = add_labels_to_excel(spreadsheet_path)\n",
    "zebra_labels = df['label']"
   ]
  },
  {
   "cell_type": "code",
   "execution_count": 4,
   "id": "dac19ebd",
   "metadata": {},
   "outputs": [
    {
     "name": "stdout",
     "output_type": "stream",
     "text": [
      "Finding file lengths\n"
     ]
    },
    {
     "name": "stderr",
     "output_type": "stream",
     "text": [
      "100%|███████████████████████████████████████| 1719/1719 [01:09<00:00, 24.80it/s]\n"
     ]
    },
    {
     "name": "stdout",
     "output_type": "stream",
     "text": [
      "Reducing to 97th percentile\n"
     ]
    },
    {
     "name": "stderr",
     "output_type": "stream",
     "text": [
      "100%|███████████████████████████████████| 1719/1719 [00:00<00:00, 670199.72it/s]\n"
     ]
    },
    {
     "name": "stdout",
     "output_type": "stream",
     "text": [
      "Data size reduction:  1.002\n",
      "Removed classes:  ['snort' 'squeal' 'whinnie']\n",
      "New max length:  36981\n",
      "Number of samples removed: 53\n"
     ]
    },
    {
     "data": {
      "image/png": "[encoded data removed]",
      "text/plain": [
       "<Figure size 432x288 with 1 Axes>"
      ]
     },
     "metadata": {
      "needs_background": "light"
     },
     "output_type": "display_data"
    },
    {
     "name": "stdout",
     "output_type": "stream",
     "text": [
      "(1666, 36981)\n"
     ]
    }
   ],
   "source": [
    "audio_size,audio_list_short,labels_short,idx_longest = length_finder_bad_labels(audio_path_long,97)\n",
    "zebra_labels = pd.Series(data=labels_short, index=[np.arange(len(labels_short))])\n",
    "audio_files = pad(audio_list_short,audio_size)\n",
    "print(audio_files.shape)"
   ]
  },
  {
   "cell_type": "code",
   "execution_count": 5,
   "id": "77249652",
   "metadata": {},
   "outputs": [
    {
     "name": "stdout",
     "output_type": "stream",
     "text": [
      "Initial class proportions:\n",
      "[0.822 0.008 0.097 0.072]\n",
      "----------------------\n",
      "Balancing: snort\n",
      "Multiplier: 1.0\n",
      "----------------------\n",
      "Balancing: softsnort\n",
      "Multiplier: 41.0\n",
      "----------------------\n",
      "Balancing: squeal\n",
      "Multiplier: 2.0\n",
      "----------------------\n",
      "Balancing: whinnie\n",
      "Multiplier: 3.0\n",
      "----------------------\n",
      "Final class proportions:\n",
      "[0.521 0.218 0.123 0.137]\n"
     ]
    }
   ],
   "source": [
    "balanced, balanced_labels = balancer(audio_files,zebra_labels)"
   ]
  },
  {
   "cell_type": "code",
   "execution_count": 6,
   "id": "c1744e38",
   "metadata": {},
   "outputs": [
    {
     "name": "stdout",
     "output_type": "stream",
     "text": [
      "Augmenting 2628 samples\n"
     ]
    },
    {
     "name": "stderr",
     "output_type": "stream",
     "text": [
      "100%|██████████████████████████████████████| 2628/2628 [00:06<00:00, 387.28it/s]\n"
     ]
    }
   ],
   "source": [
    "augmented_audio = augment_audio_faster_smaller(balanced)"
   ]
  },
  {
   "cell_type": "code",
   "execution_count": 7,
   "id": "3bfe417f",
   "metadata": {},
   "outputs": [
    {
     "name": "stdout",
     "output_type": "stream",
     "text": [
      "(4, 2628, 44377)\n",
      "Augmented dataset size:  3.731928192 GB\n"
     ]
    }
   ],
   "source": [
    "print(augmented_audio.shape)\n",
    "print(\"Augmented dataset size: \",augmented_audio.nbytes/(1e9), 'GB')"
   ]
  },
  {
   "cell_type": "code",
   "execution_count": 8,
   "id": "d37229ab",
   "metadata": {},
   "outputs": [
    {
     "name": "stdout",
     "output_type": "stream",
     "text": [
      "Augmentation  1 / 4\n"
     ]
    },
    {
     "name": "stderr",
     "output_type": "stream",
     "text": [
      "100%|██████████████████████████████████████| 2628/2628 [00:13<00:00, 198.12it/s]\n"
     ]
    },
    {
     "name": "stdout",
     "output_type": "stream",
     "text": [
      "Augmentation  2 / 4\n"
     ]
    },
    {
     "name": "stderr",
     "output_type": "stream",
     "text": [
      "100%|██████████████████████████████████████| 2628/2628 [00:13<00:00, 196.77it/s]\n"
     ]
    },
    {
     "name": "stdout",
     "output_type": "stream",
     "text": [
      "Augmentation  3 / 4\n"
     ]
    },
    {
     "name": "stderr",
     "output_type": "stream",
     "text": [
      "100%|██████████████████████████████████████| 2628/2628 [00:12<00:00, 208.33it/s]\n"
     ]
    },
    {
     "name": "stdout",
     "output_type": "stream",
     "text": [
      "Augmentation  4 / 4\n"
     ]
    },
    {
     "name": "stderr",
     "output_type": "stream",
     "text": [
      "100%|██████████████████████████████████████| 2628/2628 [00:12<00:00, 211.09it/s]\n"
     ]
    }
   ],
   "source": [
    "mels = calc_melstft(augmented_audio)\n",
    "mels_norm_db = librosa.util.normalize(librosa.power_to_db(mels))"
   ]
  },
  {
   "cell_type": "code",
   "execution_count": 9,
   "id": "09685e0c",
   "metadata": {},
   "outputs": [
    {
     "data": {
      "text/plain": [
       "(4, 2628, 128, 87)"
      ]
     },
     "execution_count": 9,
     "metadata": {},
     "output_type": "execute_result"
    }
   ],
   "source": [
    "mels_norm_db.shape"
   ]
  },
  {
   "cell_type": "code",
   "execution_count": 10,
   "id": "87d8461d",
   "metadata": {},
   "outputs": [
    {
     "name": "stdout",
     "output_type": "stream",
     "text": [
      "Flattening\n",
      "Final data shape: (10512, 128, 87)\n",
      "Final labels shape: (10512,)\n",
      "Final dataset size:  0.936493056 GB\n"
     ]
    }
   ],
   "source": [
    "mels_1D = np.zeros(mels_norm_db[0].shape)\n",
    "mels_labels = balanced_labels\n",
    "mels_1D = mels_norm_db[0]\n",
    "print(\"Flattening\")\n",
    "for i in range(1,mels_norm_db.shape[0]):\n",
    "    mels_1D = np.concatenate((mels_1D,mels_norm_db[i]), axis = 0)\n",
    "    mels_labels = np.concatenate((mels_labels,balanced_labels))\n",
    "print(\"Final data shape:\",mels_1D.shape)\n",
    "print(\"Final labels shape:\",mels_labels.shape)\n",
    "print(\"Final dataset size: \",mels_norm_db.nbytes/(1e9), 'GB')"
   ]
  },
  {
   "cell_type": "code",
   "execution_count": 15,
   "id": "8441b05f",
   "metadata": {},
   "outputs": [],
   "source": [
    "diff = int(np.abs((51-len(mels_1D[0,0,:]))/2))\n",
    "mels_1D_new = mels_1D[:,:,diff:-(diff)]"
   ]
  },
  {
   "cell_type": "code",
   "execution_count": 16,
   "id": "95f1d20c",
   "metadata": {},
   "outputs": [
    {
     "name": "stdout",
     "output_type": "stream",
     "text": [
      "18\n",
      "Final data shape: (4, 2628, 128, 87)\n",
      "Final data shape: (10512, 128, 51)\n"
     ]
    }
   ],
   "source": [
    "print(diff)\n",
    "print(\"Final data shape:\",mels.shape)\n",
    "print(\"Final data shape:\",mels_1D_new.shape)"
   ]
  },
  {
   "cell_type": "code",
   "execution_count": 18,
   "id": "c413854f",
   "metadata": {},
   "outputs": [
    {
     "data": {
      "image/png": "[encoded data removed]",
      "text/plain": [
       "<Figure size 432x288 with 2 Axes>"
      ]
     },
     "metadata": {
      "needs_background": "light"
     },
     "output_type": "display_data"
    },
    {
     "name": "stdout",
     "output_type": "stream",
     "text": [
      "(10512, 128, 51)\n",
      "Final dataset size:  0.548978688 GB\n"
     ]
    }
   ],
   "source": [
    "examplesample = idx_longest\n",
    "ax = librosa.display.specshow(mels_1D_new[examplesample,:,:],x_axis=\"time\",y_axis=\"mel\")\n",
    "plt.colorbar()\n",
    "plt.title(\"MEL Spectogram: Sample \"+str(examplesample))\n",
    "plt.show()\n",
    "print(mels_1D_new.shape)\n",
    "print(\"Final dataset size: \",mels_1D_new.nbytes/(1e9), 'GB')"
   ]
  },
  {
   "cell_type": "code",
   "execution_count": 20,
   "id": "ac64bc5e",
   "metadata": {},
   "outputs": [],
   "source": [
    "listen(balanced[examplesample])\n",
    "listen(librosa.feature.inverse.mel_to_audio(mels_1D_new[examplesample]))"
   ]
  },
  {
   "cell_type": "code",
   "execution_count": 22,
   "id": "936b81e9",
   "metadata": {},
   "outputs": [],
   "source": [
    "np.savez_compressed('mels_TRAIN_ALL',data=mels_1D_new)\n",
    "np.savez_compressed('mels_lables_TRAIN_ALL',data=mels_labels)"
   ]
  },
  {
   "cell_type": "code",
   "execution_count": null,
   "id": "c7103fed",
   "metadata": {},
   "outputs": [],
   "source": []
  }
 ],
 "metadata": {
  "kernelspec": {
   "display_name": "Python 3 (ipykernel)",
   "language": "python",
   "name": "python3"
  },
  "language_info": {
   "codemirror_mode": {
    "name": "ipython",
    "version": 3
   },
   "file_extension": ".py",
   "mimetype": "text/x-python",
   "name": "python",
   "nbconvert_exporter": "python",
   "pygments_lexer": "ipython3",
   "version": "3.8.12"
  }
 },
 "nbformat": 4,
 "nbformat_minor": 5
}
