{
 "cells": [
  {
   "cell_type": "code",
   "execution_count": null,
   "id": "b29c4005",
   "metadata": {},
   "outputs": [],
   "source": [
    "from loading_augmenting_functions import add_labels_to_excel,gen_audio_array,buffer,shifter,louder,plot_mel,augment_audio,plot_sample,hsr_loader,lsr_loader,calc_stft,calc_melstft,spec_plot"
   ]
  },
  {
   "cell_type": "code",
   "execution_count": null,
   "id": "80ee872c",
   "metadata": {},
   "outputs": [],
   "source": [
    "import librosa\n",
    "import numpy as np\n",
    "import pandas as pd\n",
    "from matplotlib import pyplot as plt\n",
    "import random\n",
    "import re"
   ]
  },
  {
   "cell_type": "code",
   "execution_count": null,
   "id": "840e818d",
   "metadata": {},
   "outputs": [],
   "source": [
    "audio_path = 'zebra audio sample_Bing_413/all/'\n",
    "spreadsheet_path = 'Zebras.Assumption.data_Bing_413 .xlsx'\n",
    "df = add_labels_to_excel(spreadsheet_path)"
   ]
  },
  {
   "cell_type": "code",
   "execution_count": null,
   "id": "d09feb22",
   "metadata": {},
   "outputs": [],
   "source": [
    "audio_files, audio_size, index_longest = gen_audio_array(audio_path,df)"
   ]
  },
  {
   "cell_type": "code",
   "execution_count": null,
   "id": "f4110f22",
   "metadata": {},
   "outputs": [],
   "source": [
    "augmented_audio = augment_audio(audio_files)"
   ]
  },
  {
   "cell_type": "code",
   "execution_count": null,
   "id": "9c74359a",
   "metadata": {},
   "outputs": [],
   "source": [
    "plot_sample(augmented_audio,4)"
   ]
  },
  {
   "cell_type": "code",
   "execution_count": null,
   "id": "875f25b4",
   "metadata": {},
   "outputs": [],
   "source": [
    "stfts = calc_stft(augmented_audio)"
   ]
  },
  {
   "cell_type": "code",
   "execution_count": null,
   "id": "15c65860",
   "metadata": {},
   "outputs": [],
   "source": [
    "spec_plot(stfts[0,0,:,:])"
   ]
  }
 ],
 "metadata": {
  "kernelspec": {
   "display_name": "Python 3 (ipykernel)",
   "language": "python",
   "name": "python3"
  },
  "language_info": {
   "codemirror_mode": {
    "name": "ipython",
    "version": 3
   },
   "file_extension": ".py",
   "mimetype": "text/x-python",
   "name": "python",
   "nbconvert_exporter": "python",
   "pygments_lexer": "ipython3",
   "version": "3.8.12"
  }
 },
 "nbformat": 4,
 "nbformat_minor": 5
}
