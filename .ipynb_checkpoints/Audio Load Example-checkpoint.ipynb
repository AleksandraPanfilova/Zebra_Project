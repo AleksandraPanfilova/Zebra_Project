{
 "cells": [
  {
   "cell_type": "code",
   "execution_count": 1,
   "id": "9f194d2a",
   "metadata": {},
   "outputs": [],
   "source": [
    "#from barney_functions import add_labels_to_excel,gen_audio_array,buffer,shifter,louder,plot_mel,augment_audio,plot_sample,hsr_loader,lsr_loader,calc_stft,calc_melstft,spec_plot, gen_labels, gen_audio_array_noexcel,augment_audio_faster\n",
    "from barney_functions import *"
   ]
  },
  {
   "cell_type": "code",
   "execution_count": 2,
   "id": "43c5f78c",
   "metadata": {},
   "outputs": [],
   "source": [
    "import librosa\n",
    "import numpy as np\n",
    "import pandas as pd\n",
    "from matplotlib import pyplot as plt\n",
    "import random\n",
    "import re\n",
    "import os\n",
    "from tqdm import tqdm \n",
    "import soundfile as sf"
   ]
  },
  {
   "cell_type": "markdown",
   "id": "3a63ad32",
   "metadata": {},
   "source": [
    "# Load Zebra"
   ]
  },
  {
   "cell_type": "code",
   "execution_count": 3,
   "id": "6a40eceb",
   "metadata": {},
   "outputs": [
    {
     "name": "stdout",
     "output_type": "stream",
     "text": [
      "Finding longest file (Better Labels)\n"
     ]
    },
    {
     "name": "stderr",
     "output_type": "stream",
     "text": [
      "100%|█████████████████████████████████████████| 413/413 [00:17<00:00, 24.13it/s]\n"
     ]
    },
    {
     "name": "stdout",
     "output_type": "stream",
     "text": [
      "Loading files\n"
     ]
    },
    {
     "name": "stderr",
     "output_type": "stream",
     "text": [
      "100%|█████████████████████████████████████████| 413/413 [00:12<00:00, 32.58it/s]\n"
     ]
    }
   ],
   "source": [
    "audio_path = 'zebra audio sample_Bing_413/all/'\n",
    "audio_path_long = 'Audio Files All/'\n",
    "spreadsheet_path = 'Zebras.Assumption.data_Bing_413 .xlsx'\n",
    "df = add_labels_to_excel(spreadsheet_path)\n",
    "audio_files, audio_size, index_longest = gen_audio_array(audio_path,df)\n",
    "zebra_labels = df['label']\n",
    "\n",
    "#audio_files, audio_size, filenames_long, longest_file = gen_audio_array_noexcel(audio_path_long)\n",
    "#zebra_labels = gen_labels(filenames_long)"
   ]
  },
  {
   "cell_type": "code",
   "execution_count": 4,
   "id": "6c6a1767",
   "metadata": {},
   "outputs": [
    {
     "name": "stdout",
     "output_type": "stream",
     "text": [
      "Initial class proportions:\n",
      "[0.574 0.034 0.092 0.3  ]\n",
      "----------------------\n",
      "Balancing: snort\n",
      "Multiplier: 1.0\n",
      "----------------------\n",
      "Balancing: softsnort\n",
      "Multiplier: 11.0\n",
      "----------------------\n",
      "Balancing: squeal\n",
      "Multiplier: 3.0\n",
      "----------------------\n",
      "Balancing: whinnie\n",
      "Multiplier: 1.0\n",
      "----------------------\n",
      "Final class proportions:\n",
      "[0.377 0.245 0.181 0.197]\n"
     ]
    }
   ],
   "source": [
    "balanced, balanced_labels = balancer(audio_files,zebra_labels)"
   ]
  },
  {
   "cell_type": "markdown",
   "id": "8b42ef45",
   "metadata": {},
   "source": [
    "# Generate not zebera"
   ]
  },
  {
   "cell_type": "code",
   "execution_count": 5,
   "id": "cdd8f3c8",
   "metadata": {
    "scrolled": true
   },
   "outputs": [
    {
     "name": "stdout",
     "output_type": "stream",
     "text": [
      "Padding\n"
     ]
    },
    {
     "name": "stderr",
     "output_type": "stream",
     "text": [
      "100%|█████████████████████████████████████| 1136/1136 [00:00<00:00, 3477.76it/s]\n"
     ]
    }
   ],
   "source": [
    "nzebra_path = 'big bounce small.wav'\n",
    "nzebra_audio, labels_nzebra = gen_nzebra(nzebra_path,audio_size)\n",
    "#save_nzebra(nzebra_audio)"
   ]
  },
  {
   "cell_type": "code",
   "execution_count": 6,
   "id": "51f21f89",
   "metadata": {},
   "outputs": [],
   "source": [
    "all_audio, all_lables = add_nzebra(audio_files,zebra_labels,nzebra_audio,labels_nzebra)"
   ]
  },
  {
   "cell_type": "code",
   "execution_count": 7,
   "id": "a8ff88d9",
   "metadata": {},
   "outputs": [
    {
     "name": "stdout",
     "output_type": "stream",
     "text": [
      "Unaugmented dataset size:  0.494725816 GB\n"
     ]
    }
   ],
   "source": [
    "print(\"Unaugmented dataset size: \",all_audio.nbytes/(1e9), 'GB')"
   ]
  },
  {
   "cell_type": "markdown",
   "id": "f0d6f732",
   "metadata": {},
   "source": [
    "# Augment Audio"
   ]
  },
  {
   "cell_type": "code",
   "execution_count": 8,
   "id": "5d0967ff",
   "metadata": {},
   "outputs": [
    {
     "name": "stdout",
     "output_type": "stream",
     "text": [
      "Augmenting 413 samples\n"
     ]
    },
    {
     "name": "stderr",
     "output_type": "stream",
     "text": [
      "100%|████████████████████████████████████████| 413/413 [00:01<00:00, 260.13it/s]\n"
     ]
    }
   ],
   "source": [
    "augmented_audio = augment_audio_faster_smaller(audio_files)"
   ]
  },
  {
   "cell_type": "code",
   "execution_count": 9,
   "id": "19187b86",
   "metadata": {},
   "outputs": [
    {
     "name": "stdout",
     "output_type": "stream",
     "text": [
      "(4, 413, 127753)\n",
      "Augmented dataset size:  1.688383648 GB\n"
     ]
    }
   ],
   "source": [
    "print(augmented_audio.shape)\n",
    "print(\"Augmented dataset size: \",augmented_audio.nbytes/(1e9), 'GB')"
   ]
  },
  {
   "cell_type": "code",
   "execution_count": 10,
   "id": "9a4b9888",
   "metadata": {},
   "outputs": [
    {
     "data": {
      "text/plain": [
       "[<matplotlib.lines.Line2D at 0x7feca4987400>]"
      ]
     },
     "execution_count": 10,
     "metadata": {},
     "output_type": "execute_result"
    },
    {
     "data": {
      "image/png": "[encoded data removed]",
      "text/plain": [
       "<Figure size 432x288 with 1 Axes>"
      ]
     },
     "metadata": {
      "needs_background": "light"
     },
     "output_type": "display_data"
    }
   ],
   "source": [
    "plt.plot(audio_files[400])"
   ]
  },
  {
   "cell_type": "code",
   "execution_count": 11,
   "id": "e643c0e3",
   "metadata": {},
   "outputs": [
    {
     "data": {
      "image/png": "[encoded data removed]",
      "text/plain": [
       "<Figure size 432x288 with 1 Axes>"
      ]
     },
     "metadata": {
      "needs_background": "light"
     },
     "output_type": "display_data"
    }
   ],
   "source": [
    "plot_sample(augmented_audio,400)"
   ]
  },
  {
   "cell_type": "code",
   "execution_count": null,
   "id": "b5f0ebce",
   "metadata": {},
   "outputs": [
    {
     "name": "stdout",
     "output_type": "stream",
     "text": [
      "Augmentation  1\n"
     ]
    },
    {
     "name": "stderr",
     "output_type": "stream",
     "text": [
      " 77%|██████████████████████████████▉         | 319/413 [00:02<00:00, 140.06it/s]"
     ]
    }
   ],
   "source": [
    "stfts = calc_stft(augmented_audio)\n",
    "#mels = calc_melstft(augmented_audio)"
   ]
  },
  {
   "cell_type": "code",
   "execution_count": null,
   "id": "d9c7c558",
   "metadata": {},
   "outputs": [],
   "source": [
    "print(stfts.shape)\n",
    "print(\"Augmented dataset size: \",stfts.nbytes/(1e9), 'GB')"
   ]
  },
  {
   "cell_type": "code",
   "execution_count": null,
   "id": "37d33f21",
   "metadata": {},
   "outputs": [],
   "source": [
    "spec_plot(stfts[2,400,:,:])"
   ]
  },
  {
   "cell_type": "code",
   "execution_count": null,
   "id": "dd3b0cfa",
   "metadata": {},
   "outputs": [],
   "source": [
    "stfts_1D = np.zeros(stfts[0].shape)\n",
    "stfts_1D = stfts[0]\n",
    "for i in tqdm(range(1,stfts.shape[0])):\n",
    "    stfts_1D = np.concatenate((stfts_1D,stfts[i]), axis = 0)"
   ]
  },
  {
   "cell_type": "code",
   "execution_count": null,
   "id": "c7f8f231",
   "metadata": {},
   "outputs": [],
   "source": [
    "stfts_1D.shape\n",
    "print(\"Dataset size: \",stfts_1D.nbytes/(1e9), 'GB')"
   ]
  },
  {
   "cell_type": "code",
   "execution_count": null,
   "id": "4f870ab7",
   "metadata": {},
   "outputs": [],
   "source": [
    "np.savez_compressed('stfts_array',stfts_1D)\n",
    "#stfts = np.load('stfts_array.npz')"
   ]
  },
  {
   "cell_type": "code",
   "execution_count": null,
   "id": "d74eef14",
   "metadata": {},
   "outputs": [],
   "source": []
  }
 ],
 "metadata": {
  "kernelspec": {
   "display_name": "Python 3 (ipykernel)",
   "language": "python",
   "name": "python3"
  },
  "language_info": {
   "codemirror_mode": {
    "name": "ipython",
    "version": 3
   },
   "file_extension": ".py",
   "mimetype": "text/x-python",
   "name": "python",
   "nbconvert_exporter": "python",
   "pygments_lexer": "ipython3",
   "version": "3.8.12"
  }
 },
 "nbformat": 4,
 "nbformat_minor": 5
}
