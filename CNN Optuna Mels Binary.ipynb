{
 "cells": [
  {
   "cell_type": "markdown",
   "id": "31b96237-3f28-4806-8b82-84d8470e2a06",
   "metadata": {},
   "source": [
    "### Audio Load by Barney"
   ]
  },
  {
   "cell_type": "code",
   "execution_count": 1,
   "id": "49122b1e",
   "metadata": {},
   "outputs": [],
   "source": [
    "from barney_functions import *\n",
    "import librosa\n",
    "import numpy as np\n",
    "import pandas as pd\n",
    "from matplotlib import pyplot as plt\n",
    "import random\n",
    "import re\n",
    "import soundfile as sf\n",
    "import itertools\n",
    "from sklearn.metrics import confusion_matrix\n",
    "from sklearn.model_selection import train_test_split"
   ]
  },
  {
   "cell_type": "code",
   "execution_count": 39,
   "id": "d861e0cb",
   "metadata": {},
   "outputs": [],
   "source": [
    "X_train = np.load('mels_BAD_PROPER_train.npz')['data']\n",
    "y_train = np.load('mels_lables_BAD_PROPER_train.npz',allow_pickle=True)['data']\n",
    "X_val = np.load('mels_BAD_PROPER_val.npz')['data']\n",
    "y_val = np.load('mels_lables_BAD_PROPER_val.npz',allow_pickle=True)['data']\n",
    "X_test = np.load('mels_BAD_PROPER_test.npz')['data']\n",
    "y_test = np.load('mels_lables_BAD_PROPER_test.npz',allow_pickle=True)['data']\n",
    "num_classes = len(np.unique(y_train))\n",
    "classes = np.unique(y_train)"
   ]
  },
  {
   "cell_type": "code",
   "execution_count": 40,
   "id": "9395546d",
   "metadata": {},
   "outputs": [
    {
     "name": "stdout",
     "output_type": "stream",
     "text": [
      "(7016, 128, 51)\n",
      "(7016,)\n",
      "(127, 128, 51)\n",
      "(127,)\n",
      "(127, 128, 51)\n",
      "(127,)\n",
      "OK\n"
     ]
    },
    {
     "data": {
      "text/plain": [
       "array(['snort', 'squeal'], dtype=object)"
      ]
     },
     "execution_count": 40,
     "metadata": {},
     "output_type": "execute_result"
    }
   ],
   "source": [
    "print(X_train.shape)\n",
    "print(y_train.shape)\n",
    "print(X_val.shape)\n",
    "print(y_val.shape)\n",
    "print(X_test.shape)\n",
    "print(y_test.shape)\n",
    "check_class_complete_gen(y_test, y_val,y_train)\n",
    "np.unique(y_train)"
   ]
  },
  {
   "cell_type": "markdown",
   "id": "84d428ee-3e68-44f3-a905-4efd194d55fe",
   "metadata": {},
   "source": [
    "# CNN"
   ]
  },
  {
   "cell_type": "code",
   "execution_count": 4,
   "id": "e808c88f-20c8-4117-aa14-cb7eec2acf63",
   "metadata": {},
   "outputs": [
    {
     "name": "stderr",
     "output_type": "stream",
     "text": [
      "/Users/barnabyemmens/opt/anaconda3/envs/appml/lib/python3.8/site-packages/tqdm/auto.py:22: TqdmWarning: IProgress not found. Please update jupyter and ipywidgets. See https://ipywidgets.readthedocs.io/en/stable/user_install.html\n",
      "  from .autonotebook import tqdm as notebook_tqdm\n"
     ]
    }
   ],
   "source": [
    "import keras\n",
    "import tensorflow as tf\n",
    "from tensorflow.keras.models import Sequential\n",
    "from tensorflow.keras.layers import Conv2D, MaxPooling2D, Flatten, Dense, Dropout\n",
    "from tensorflow.keras.losses import categorical_crossentropy\n",
    "from tensorflow.keras.optimizers import Adadelta, Adam\n",
    "from optuna.integration import TFKerasPruningCallback\n",
    "tf.compat.v1.logging.set_verbosity(tf.compat.v1.logging.ERROR)"
   ]
  },
  {
   "cell_type": "code",
   "execution_count": 5,
   "id": "cf80e544",
   "metadata": {},
   "outputs": [],
   "source": [
    "from sklearn.model_selection import KFold"
   ]
  },
  {
   "cell_type": "code",
   "execution_count": 6,
   "id": "64b2e74e",
   "metadata": {},
   "outputs": [],
   "source": [
    "import optuna"
   ]
  },
  {
   "cell_type": "code",
   "execution_count": 7,
   "id": "95ee2853",
   "metadata": {},
   "outputs": [
    {
     "name": "stdout",
     "output_type": "stream",
     "text": [
      "Num CPUs Available:  1\n"
     ]
    }
   ],
   "source": [
    "print(\"Num CPUs Available: \", len(tf.config.list_physical_devices('CPU')))"
   ]
  },
  {
   "cell_type": "markdown",
   "id": "d037fe21",
   "metadata": {},
   "source": [
    "# Optimising"
   ]
  },
  {
   "cell_type": "code",
   "execution_count": 8,
   "id": "ec39cc72",
   "metadata": {},
   "outputs": [],
   "source": [
    "def objective(trial):\n",
    "    n_epochs = trial.suggest_int(\"n_epochs\", low=5, high=50, step=5)\n",
    "    learning_rate = trial.suggest_float(\"learning_rate\", 1e-5, 1e-3)\n",
    "    optimiser = Adam(learning_rate=learning_rate)\n",
    "    \n",
    "    filters_1 = trial.suggest_int(\"filters_1\",low=2,high=32,step=2)\n",
    "    kernel_1 = trial.suggest_int(\"kernel_size_1\",low=8,high=16,step=4)\n",
    "    strides_1 = 1\n",
    "    padding_1 = 'same'\n",
    "    activation_1 = 'relu'\n",
    "    input_shape = (img_rows, img_cols, 1)\n",
    "    pool_size_1 = trial.suggest_int(\"pool_size_1\",low=2,high=4,step=1)\n",
    "    \n",
    "    filters_2 = trial.suggest_int(\"filters_2\",low=2,high=64,step=2)\n",
    "    kernel_2 = trial.suggest_int(\"kernel_size_2\",low=4,high=12,step=2)\n",
    "    strides_2 = 1\n",
    "    padding_2 = 'same'\n",
    "    activation_2 = 'relu'\n",
    "    pool_size_2 = trial.suggest_int(\"pool_size_2\",low=2,high=4,step=1)\n",
    "    \n",
    "    dropout_rate = trial.suggest_float(\"dropout_rate\", 0.1, 0.9)\n",
    "    \n",
    "    lin_1_n = trial.suggest_int(\"lin_1_n\",low=4,high=128,step=1)\n",
    "    \n",
    "    batch_size = trial.suggest_int(\"batch_size\",low=64,high=512,step=64)\n",
    "    \n",
    "    model = Sequential()\n",
    "    model.add(Conv2D(filters=filters_1,\n",
    "                     kernel_size=kernel_1,\n",
    "                     strides=strides_1,\n",
    "                     padding=padding_1,\n",
    "                     activation=activation_1,\n",
    "                     input_shape=input_shape))\n",
    "    model.add(MaxPooling2D(pool_size=pool_size_1, strides=None))\n",
    "    model.add(Conv2D(filters=filters_2,\n",
    "                     kernel_size=kernel_2,\n",
    "                     strides=strides_2,\n",
    "                     padding=padding_2,\n",
    "                     activation=activation_2))\n",
    "    model.add(MaxPooling2D(pool_size=pool_size_2, strides=None))\n",
    "    model.add(Dropout(rate=dropout_rate))\n",
    "    model.add(Flatten())\n",
    "    model.add(Dense(units=lin_1_n, activation='relu'))\n",
    "    model.add(Dense(units=num_classes, activation='softmax'))\n",
    "    \n",
    "    model.compile(loss=categorical_crossentropy,\n",
    "              optimizer=optimiser,\n",
    "              metrics=['categorical_accuracy'])\n",
    "    \n",
    "    monitor = \"val_categorical_accuracy\"\n",
    "    \n",
    "    callbacks = [\n",
    "        tf.keras.callbacks.EarlyStopping(patience=5),\n",
    "        TFKerasPruningCallback(trial, monitor)]\n",
    "    \n",
    "    fitted = model.fit(X_train, y_train,\n",
    "                       batch_size=batch_size,\n",
    "                       epochs=n_epochs,\n",
    "                       verbose=1,\n",
    "                       validation_data=(X_val, y_val),\n",
    "                       callbacks=callbacks)\n",
    "    \n",
    "    score = fitted.history[monitor][-1]\n",
    "    \n",
    "    return score"
   ]
  },
  {
   "cell_type": "code",
   "execution_count": 41,
   "id": "abd03c72",
   "metadata": {},
   "outputs": [
    {
     "name": "stdout",
     "output_type": "stream",
     "text": [
      "OK\n"
     ]
    }
   ],
   "source": [
    "X_train, X_val, y_train, y_val, img_rows, img_cols = format_for_CNN(X_train, X_val, y_train, y_val)\n",
    "check_class_complete_gen(y_train, y_val,y_train)"
   ]
  },
  {
   "cell_type": "code",
   "execution_count": 26,
   "id": "3c1bb46c",
   "metadata": {},
   "outputs": [
    {
     "name": "stdout",
     "output_type": "stream",
     "text": [
      "(7016, 128, 51, 1)\n",
      "(7016, 2)\n",
      "(127, 128, 51, 1)\n",
      "(127, 2)\n"
     ]
    }
   ],
   "source": [
    "print(X_train.shape)\n",
    "print(y_train.shape)\n",
    "print(X_val.shape)\n",
    "print(y_val.shape)"
   ]
  },
  {
   "cell_type": "code",
   "execution_count": null,
   "id": "87877cb0",
   "metadata": {},
   "outputs": [],
   "source": [
    "study = optuna.create_study(direction='maximize')"
   ]
  },
  {
   "cell_type": "code",
   "execution_count": 11,
   "id": "ab8aa2b5",
   "metadata": {},
   "outputs": [
    {
     "name": "stderr",
     "output_type": "stream",
     "text": [
      "\u001b[32m[I 2022-06-14 01:08:57,956]\u001b[0m A new study created in memory with name: no-name-9bfd3d1c-a60e-4f6b-af64-d65de1d9a7bd\u001b[0m\n",
      "2022-06-14 01:08:57.964741: I tensorflow/core/platform/cpu_feature_guard.cc:151] This TensorFlow binary is optimized with oneAPI Deep Neural Network Library (oneDNN) to use the following CPU instructions in performance-critical operations:  SSE4.1 SSE4.2 AVX AVX2 FMA\n",
      "To enable them in other operations, rebuild TensorFlow with the appropriate compiler flags.\n"
     ]
    },
    {
     "name": "stdout",
     "output_type": "stream",
     "text": [
      "Epoch 1/25\n",
      "28/28 [==============================] - 34s 1s/step - loss: 0.6030 - categorical_accuracy: 0.6622 - val_loss: 0.6467 - val_categorical_accuracy: 0.6299\n",
      "Epoch 2/25\n",
      "28/28 [==============================] - 33s 1s/step - loss: 0.4801 - categorical_accuracy: 0.7678 - val_loss: 0.5815 - val_categorical_accuracy: 0.6929\n",
      "Epoch 3/25\n",
      "28/28 [==============================] - 33s 1s/step - loss: 0.4155 - categorical_accuracy: 0.8059 - val_loss: 0.4937 - val_categorical_accuracy: 0.7638\n",
      "Epoch 4/25\n",
      "28/28 [==============================] - 32s 1s/step - loss: 0.3631 - categorical_accuracy: 0.8421 - val_loss: 0.4224 - val_categorical_accuracy: 0.8031\n",
      "Epoch 5/25\n",
      "28/28 [==============================] - 32s 1s/step - loss: 0.3136 - categorical_accuracy: 0.8709 - val_loss: 0.3480 - val_categorical_accuracy: 0.8583\n",
      "Epoch 6/25\n",
      "28/28 [==============================] - 32s 1s/step - loss: 0.2776 - categorical_accuracy: 0.8868 - val_loss: 0.4075 - val_categorical_accuracy: 0.8189\n",
      "Epoch 7/25\n",
      "28/28 [==============================] - 32s 1s/step - loss: 0.2493 - categorical_accuracy: 0.9021 - val_loss: 0.3283 - val_categorical_accuracy: 0.8583\n",
      "Epoch 8/25\n",
      "28/28 [==============================] - 32s 1s/step - loss: 0.2227 - categorical_accuracy: 0.9173 - val_loss: 0.2964 - val_categorical_accuracy: 0.8819\n",
      "Epoch 9/25\n",
      "28/28 [==============================] - 33s 1s/step - loss: 0.2022 - categorical_accuracy: 0.9222 - val_loss: 0.2928 - val_categorical_accuracy: 0.8898\n",
      "Epoch 10/25\n",
      "28/28 [==============================] - 34s 1s/step - loss: 0.1805 - categorical_accuracy: 0.9342 - val_loss: 0.2854 - val_categorical_accuracy: 0.8819\n",
      "Epoch 11/25\n",
      "28/28 [==============================] - 33s 1s/step - loss: 0.1600 - categorical_accuracy: 0.9458 - val_loss: 0.2804 - val_categorical_accuracy: 0.8976\n",
      "Epoch 12/25\n",
      "28/28 [==============================] - 36s 1s/step - loss: 0.1521 - categorical_accuracy: 0.9473 - val_loss: 0.2914 - val_categorical_accuracy: 0.8898\n",
      "Epoch 13/25\n",
      "28/28 [==============================] - 36s 1s/step - loss: 0.1347 - categorical_accuracy: 0.9545 - val_loss: 0.2505 - val_categorical_accuracy: 0.9055\n",
      "Epoch 14/25\n",
      "28/28 [==============================] - 32s 1s/step - loss: 0.1244 - categorical_accuracy: 0.9588 - val_loss: 0.2569 - val_categorical_accuracy: 0.8976\n",
      "Epoch 15/25\n",
      "28/28 [==============================] - 32s 1s/step - loss: 0.1151 - categorical_accuracy: 0.9609 - val_loss: 0.2699 - val_categorical_accuracy: 0.8898\n",
      "Epoch 16/25\n",
      "28/28 [==============================] - 31s 1s/step - loss: 0.1058 - categorical_accuracy: 0.9666 - val_loss: 0.2135 - val_categorical_accuracy: 0.9134\n",
      "Epoch 17/25\n",
      "28/28 [==============================] - 32s 1s/step - loss: 0.0990 - categorical_accuracy: 0.9661 - val_loss: 0.2488 - val_categorical_accuracy: 0.8976\n",
      "Epoch 18/25\n",
      "28/28 [==============================] - 31s 1s/step - loss: 0.0923 - categorical_accuracy: 0.9706 - val_loss: 0.2333 - val_categorical_accuracy: 0.9134\n",
      "Epoch 19/25\n",
      "28/28 [==============================] - 31s 1s/step - loss: 0.0845 - categorical_accuracy: 0.9725 - val_loss: 0.1518 - val_categorical_accuracy: 0.9449\n",
      "Epoch 20/25\n",
      "28/28 [==============================] - 32s 1s/step - loss: 0.0768 - categorical_accuracy: 0.9743 - val_loss: 0.1981 - val_categorical_accuracy: 0.9134\n",
      "Epoch 21/25\n",
      "28/28 [==============================] - 31s 1s/step - loss: 0.0739 - categorical_accuracy: 0.9751 - val_loss: 0.2587 - val_categorical_accuracy: 0.9055\n",
      "Epoch 22/25\n",
      "28/28 [==============================] - 31s 1s/step - loss: 0.0648 - categorical_accuracy: 0.9805 - val_loss: 0.2690 - val_categorical_accuracy: 0.8661\n",
      "Epoch 23/25\n",
      "28/28 [==============================] - 31s 1s/step - loss: 0.0605 - categorical_accuracy: 0.9805 - val_loss: 0.1605 - val_categorical_accuracy: 0.9291\n",
      "Epoch 24/25\n",
      "28/28 [==============================] - 31s 1s/step - loss: 0.0572 - categorical_accuracy: 0.9829 - val_loss: 0.1724 - val_categorical_accuracy: 0.9291\n"
     ]
    },
    {
     "name": "stderr",
     "output_type": "stream",
     "text": [
      "\u001b[32m[I 2022-06-14 01:21:57,495]\u001b[0m Trial 0 finished with value: 0.9291338324546814 and parameters: {'n_epochs': 25, 'learning_rate': 0.0002770067725670508, 'filters_1': 26, 'kernel_size_1': 12, 'pool_size_1': 2, 'filters_2': 32, 'kernel_size_2': 4, 'pool_size_2': 4, 'dropout_rate': 0.27535446208846337, 'lin_1_n': 25, 'batch_size': 256}. Best is trial 0 with value: 0.9291338324546814.\u001b[0m\n"
     ]
    },
    {
     "name": "stdout",
     "output_type": "stream",
     "text": [
      "Epoch 1/50\n",
      "14/14 [==============================] - 26s 2s/step - loss: 0.6893 - categorical_accuracy: 0.5496 - val_loss: 0.7016 - val_categorical_accuracy: 0.4646\n",
      "Epoch 2/50\n",
      "14/14 [==============================] - 25s 2s/step - loss: 0.6515 - categorical_accuracy: 0.6169 - val_loss: 0.7272 - val_categorical_accuracy: 0.4016\n",
      "Epoch 3/50\n",
      "14/14 [==============================] - 27s 2s/step - loss: 0.6151 - categorical_accuracy: 0.6531 - val_loss: 0.7004 - val_categorical_accuracy: 0.5276\n",
      "Epoch 4/50\n",
      "14/14 [==============================] - 28s 2s/step - loss: 0.5747 - categorical_accuracy: 0.6900 - val_loss: 0.7645 - val_categorical_accuracy: 0.4803\n",
      "Epoch 5/50\n",
      "14/14 [==============================] - 28s 2s/step - loss: 0.5464 - categorical_accuracy: 0.7166 - val_loss: 0.8215 - val_categorical_accuracy: 0.4567\n",
      "Epoch 6/50\n",
      "14/14 [==============================] - 28s 2s/step - loss: 0.5291 - categorical_accuracy: 0.7242 - val_loss: 0.7535 - val_categorical_accuracy: 0.5433\n",
      "Epoch 7/50\n",
      "14/14 [==============================] - 28s 2s/step - loss: 0.5021 - categorical_accuracy: 0.7483 - val_loss: 0.7042 - val_categorical_accuracy: 0.5827\n",
      "Epoch 8/50\n",
      "14/14 [==============================] - 29s 2s/step - loss: 0.4868 - categorical_accuracy: 0.7570 - val_loss: 0.7231 - val_categorical_accuracy: 0.5827\n"
     ]
    },
    {
     "name": "stderr",
     "output_type": "stream",
     "text": [
      "\u001b[32m[I 2022-06-14 01:25:35,782]\u001b[0m Trial 1 finished with value: 0.5826771855354309 and parameters: {'n_epochs': 50, 'learning_rate': 0.0002642396415404626, 'filters_1': 16, 'kernel_size_1': 8, 'pool_size_1': 2, 'filters_2': 12, 'kernel_size_2': 8, 'pool_size_2': 4, 'dropout_rate': 0.776992331143332, 'lin_1_n': 101, 'batch_size': 512}. Best is trial 0 with value: 0.9291338324546814.\u001b[0m\n"
     ]
    },
    {
     "name": "stdout",
     "output_type": "stream",
     "text": [
      "Epoch 1/25\n",
      "19/19 [==============================] - 71s 4s/step - loss: 0.7344 - categorical_accuracy: 0.4902 - val_loss: 0.6940 - val_categorical_accuracy: 0.0315\n",
      "Epoch 2/25\n",
      "19/19 [==============================] - 67s 4s/step - loss: 0.6932 - categorical_accuracy: 0.4835 - val_loss: 0.6932 - val_categorical_accuracy: 0.0315\n",
      "Epoch 3/25\n",
      "19/19 [==============================] - 68s 4s/step - loss: 0.6931 - categorical_accuracy: 0.5148 - val_loss: 0.6920 - val_categorical_accuracy: 0.9685\n",
      "Epoch 4/25\n",
      "19/19 [==============================] - 68s 4s/step - loss: 0.6931 - categorical_accuracy: 0.5165 - val_loss: 0.6903 - val_categorical_accuracy: 0.9685\n",
      "Epoch 5/25\n",
      "19/19 [==============================] - 68s 4s/step - loss: 0.6930 - categorical_accuracy: 0.5165 - val_loss: 0.6886 - val_categorical_accuracy: 0.9685\n",
      "Epoch 6/25\n",
      "19/19 [==============================] - 67s 4s/step - loss: 0.6930 - categorical_accuracy: 0.5165 - val_loss: 0.6870 - val_categorical_accuracy: 0.9685\n",
      "Epoch 7/25\n",
      "19/19 [==============================] - 68s 4s/step - loss: 0.6929 - categorical_accuracy: 0.5165 - val_loss: 0.6853 - val_categorical_accuracy: 0.9685\n",
      "Epoch 8/25\n",
      "19/19 [==============================] - 68s 4s/step - loss: 0.6929 - categorical_accuracy: 0.5165 - val_loss: 0.6836 - val_categorical_accuracy: 0.9685\n",
      "Epoch 9/25\n",
      "19/19 [==============================] - 67s 4s/step - loss: 0.6928 - categorical_accuracy: 0.5165 - val_loss: 0.6820 - val_categorical_accuracy: 0.9685\n",
      "Epoch 10/25\n",
      "19/19 [==============================] - 68s 4s/step - loss: 0.6928 - categorical_accuracy: 0.5165 - val_loss: 0.6801 - val_categorical_accuracy: 0.9685\n",
      "Epoch 11/25\n",
      "19/19 [==============================] - 68s 4s/step - loss: 0.6928 - categorical_accuracy: 0.5165 - val_loss: 0.6792 - val_categorical_accuracy: 0.9685\n",
      "Epoch 12/25\n",
      "19/19 [==============================] - 68s 4s/step - loss: 0.6928 - categorical_accuracy: 0.5165 - val_loss: 0.6783 - val_categorical_accuracy: 0.9685\n",
      "Epoch 13/25\n",
      "19/19 [==============================] - 68s 4s/step - loss: 0.6927 - categorical_accuracy: 0.5165 - val_loss: 0.6767 - val_categorical_accuracy: 0.9685\n",
      "Epoch 14/25\n",
      "19/19 [==============================] - 69s 4s/step - loss: 0.6927 - categorical_accuracy: 0.5165 - val_loss: 0.6756 - val_categorical_accuracy: 0.9685\n",
      "Epoch 15/25\n",
      "19/19 [==============================] - 70s 4s/step - loss: 0.6927 - categorical_accuracy: 0.5165 - val_loss: 0.6745 - val_categorical_accuracy: 0.9685\n",
      "Epoch 16/25\n",
      "19/19 [==============================] - 68s 4s/step - loss: 0.6927 - categorical_accuracy: 0.5165 - val_loss: 0.6737 - val_categorical_accuracy: 0.9685\n",
      "Epoch 17/25\n",
      "19/19 [==============================] - 71s 4s/step - loss: 0.6927 - categorical_accuracy: 0.5165 - val_loss: 0.6729 - val_categorical_accuracy: 0.9685\n",
      "Epoch 18/25\n",
      "19/19 [==============================] - 69s 4s/step - loss: 0.6927 - categorical_accuracy: 0.5165 - val_loss: 0.6719 - val_categorical_accuracy: 0.9685\n",
      "Epoch 19/25\n",
      "19/19 [==============================] - 68s 4s/step - loss: 0.6927 - categorical_accuracy: 0.5165 - val_loss: 0.6710 - val_categorical_accuracy: 0.9685\n",
      "Epoch 20/25\n",
      "19/19 [==============================] - 68s 4s/step - loss: 0.6926 - categorical_accuracy: 0.5165 - val_loss: 0.6703 - val_categorical_accuracy: 0.9685\n",
      "Epoch 21/25\n",
      "19/19 [==============================] - 68s 4s/step - loss: 0.6926 - categorical_accuracy: 0.5165 - val_loss: 0.6699 - val_categorical_accuracy: 0.9685\n",
      "Epoch 22/25\n",
      "19/19 [==============================] - 68s 4s/step - loss: 0.6926 - categorical_accuracy: 0.5165 - val_loss: 0.6687 - val_categorical_accuracy: 0.9685\n",
      "Epoch 23/25\n",
      "19/19 [==============================] - 68s 4s/step - loss: 0.6926 - categorical_accuracy: 0.5165 - val_loss: 0.6679 - val_categorical_accuracy: 0.9685\n",
      "Epoch 24/25\n",
      "19/19 [==============================] - 68s 4s/step - loss: 0.6926 - categorical_accuracy: 0.5165 - val_loss: 0.6675 - val_categorical_accuracy: 0.9685\n",
      "Epoch 25/25\n",
      "19/19 [==============================] - 68s 4s/step - loss: 0.6926 - categorical_accuracy: 0.5165 - val_loss: 0.6667 - val_categorical_accuracy: 0.9685\n"
     ]
    },
    {
     "name": "stderr",
     "output_type": "stream",
     "text": [
      "\u001b[32m[I 2022-06-14 01:54:00,672]\u001b[0m Trial 2 finished with value: 0.9685039520263672 and parameters: {'n_epochs': 25, 'learning_rate': 0.00034985316824705817, 'filters_1': 18, 'kernel_size_1': 16, 'pool_size_1': 2, 'filters_2': 42, 'kernel_size_2': 8, 'pool_size_2': 2, 'dropout_rate': 0.1548662937236178, 'lin_1_n': 31, 'batch_size': 384}. Best is trial 2 with value: 0.9685039520263672.\u001b[0m\n"
     ]
    },
    {
     "name": "stdout",
     "output_type": "stream",
     "text": [
      "Epoch 1/15\n",
      "110/110 [==============================] - 48s 432ms/step - loss: 0.4682 - categorical_accuracy: 0.7614 - val_loss: 0.3953 - val_categorical_accuracy: 0.8110\n",
      "Epoch 2/15\n",
      "110/110 [==============================] - 46s 422ms/step - loss: 0.2545 - categorical_accuracy: 0.8967 - val_loss: 0.2906 - val_categorical_accuracy: 0.8504\n",
      "Epoch 3/15\n",
      "110/110 [==============================] - 47s 426ms/step - loss: 0.1502 - categorical_accuracy: 0.9421 - val_loss: 0.3500 - val_categorical_accuracy: 0.8268\n",
      "Epoch 4/15\n",
      "110/110 [==============================] - 48s 435ms/step - loss: 0.1141 - categorical_accuracy: 0.9554 - val_loss: 0.3491 - val_categorical_accuracy: 0.8346\n",
      "Epoch 5/15\n",
      "110/110 [==============================] - 51s 461ms/step - loss: 0.0874 - categorical_accuracy: 0.9658 - val_loss: 0.1599 - val_categorical_accuracy: 0.9291\n",
      "Epoch 6/15\n",
      "110/110 [==============================] - 48s 438ms/step - loss: 0.0684 - categorical_accuracy: 0.9755 - val_loss: 0.1337 - val_categorical_accuracy: 0.9370\n",
      "Epoch 7/15\n",
      "110/110 [==============================] - 48s 438ms/step - loss: 0.0518 - categorical_accuracy: 0.9806 - val_loss: 0.1544 - val_categorical_accuracy: 0.9370\n",
      "Epoch 8/15\n",
      "110/110 [==============================] - 47s 430ms/step - loss: 0.0398 - categorical_accuracy: 0.9855 - val_loss: 0.1241 - val_categorical_accuracy: 0.9449\n",
      "Epoch 9/15\n",
      "110/110 [==============================] - 48s 434ms/step - loss: 0.0293 - categorical_accuracy: 0.9895 - val_loss: 0.1544 - val_categorical_accuracy: 0.9370\n",
      "Epoch 10/15\n",
      "110/110 [==============================] - 48s 437ms/step - loss: 0.0276 - categorical_accuracy: 0.9907 - val_loss: 0.1435 - val_categorical_accuracy: 0.9370\n",
      "Epoch 11/15\n",
      "110/110 [==============================] - 47s 429ms/step - loss: 0.0267 - categorical_accuracy: 0.9906 - val_loss: 0.1000 - val_categorical_accuracy: 0.9606\n",
      "Epoch 12/15\n",
      "110/110 [==============================] - 48s 436ms/step - loss: 0.0224 - categorical_accuracy: 0.9907 - val_loss: 0.1144 - val_categorical_accuracy: 0.9528\n",
      "Epoch 13/15\n",
      "110/110 [==============================] - 48s 434ms/step - loss: 0.0193 - categorical_accuracy: 0.9936 - val_loss: 0.1896 - val_categorical_accuracy: 0.9291\n",
      "Epoch 14/15\n",
      "110/110 [==============================] - 48s 440ms/step - loss: 0.0228 - categorical_accuracy: 0.9919 - val_loss: 0.2554 - val_categorical_accuracy: 0.9134\n",
      "Epoch 15/15\n",
      "110/110 [==============================] - 48s 433ms/step - loss: 0.0149 - categorical_accuracy: 0.9949 - val_loss: 0.1161 - val_categorical_accuracy: 0.9449\n"
     ]
    },
    {
     "name": "stderr",
     "output_type": "stream",
     "text": [
      "\u001b[32m[I 2022-06-14 02:05:58,949]\u001b[0m Trial 3 finished with value: 0.9448819160461426 and parameters: {'n_epochs': 15, 'learning_rate': 0.0009155805887424225, 'filters_1': 26, 'kernel_size_1': 12, 'pool_size_1': 2, 'filters_2': 12, 'kernel_size_2': 8, 'pool_size_2': 2, 'dropout_rate': 0.5704151126606425, 'lin_1_n': 123, 'batch_size': 64}. Best is trial 2 with value: 0.9685039520263672.\u001b[0m\n"
     ]
    },
    {
     "name": "stdout",
     "output_type": "stream",
     "text": [
      "Epoch 1/45\n",
      "14/14 [==============================] - 14s 944ms/step - loss: 0.6342 - categorical_accuracy: 0.6452 - val_loss: 0.7121 - val_categorical_accuracy: 0.4882\n",
      "Epoch 2/45\n",
      "14/14 [==============================] - 13s 939ms/step - loss: 0.5067 - categorical_accuracy: 0.7547 - val_loss: 0.6949 - val_categorical_accuracy: 0.5276\n",
      "Epoch 3/45\n",
      "14/14 [==============================] - 14s 965ms/step - loss: 0.4519 - categorical_accuracy: 0.7821 - val_loss: 0.6591 - val_categorical_accuracy: 0.5591\n",
      "Epoch 4/45\n",
      "14/14 [==============================] - 13s 950ms/step - loss: 0.4099 - categorical_accuracy: 0.8107 - val_loss: 0.5379 - val_categorical_accuracy: 0.7244\n",
      "Epoch 5/45\n",
      "14/14 [==============================] - 13s 952ms/step - loss: 0.3700 - categorical_accuracy: 0.8351 - val_loss: 0.4715 - val_categorical_accuracy: 0.8031\n",
      "Epoch 6/45\n",
      "14/14 [==============================] - 13s 939ms/step - loss: 0.3293 - categorical_accuracy: 0.8610 - val_loss: 0.2892 - val_categorical_accuracy: 0.8976\n",
      "Epoch 7/45\n",
      "14/14 [==============================] - 13s 957ms/step - loss: 0.2939 - categorical_accuracy: 0.8798 - val_loss: 0.2840 - val_categorical_accuracy: 0.9134\n",
      "Epoch 8/45\n",
      "14/14 [==============================] - 13s 942ms/step - loss: 0.2708 - categorical_accuracy: 0.8900 - val_loss: 0.3069 - val_categorical_accuracy: 0.8661\n",
      "Epoch 9/45\n",
      "14/14 [==============================] - 13s 941ms/step - loss: 0.2478 - categorical_accuracy: 0.9039 - val_loss: 0.2428 - val_categorical_accuracy: 0.9134\n",
      "Epoch 10/45\n",
      "14/14 [==============================] - 13s 942ms/step - loss: 0.2206 - categorical_accuracy: 0.9143 - val_loss: 0.2123 - val_categorical_accuracy: 0.9370\n",
      "Epoch 11/45\n",
      "14/14 [==============================] - 13s 938ms/step - loss: 0.1989 - categorical_accuracy: 0.9276 - val_loss: 0.2456 - val_categorical_accuracy: 0.9055\n",
      "Epoch 12/45\n",
      "14/14 [==============================] - 13s 946ms/step - loss: 0.1869 - categorical_accuracy: 0.9292 - val_loss: 0.2255 - val_categorical_accuracy: 0.9213\n",
      "Epoch 13/45\n",
      "14/14 [==============================] - 14s 962ms/step - loss: 0.1686 - categorical_accuracy: 0.9408 - val_loss: 0.2134 - val_categorical_accuracy: 0.9370\n",
      "Epoch 14/45\n",
      "14/14 [==============================] - 13s 950ms/step - loss: 0.1576 - categorical_accuracy: 0.9417 - val_loss: 0.1731 - val_categorical_accuracy: 0.9370\n",
      "Epoch 15/45\n",
      "14/14 [==============================] - 13s 948ms/step - loss: 0.1415 - categorical_accuracy: 0.9491 - val_loss: 0.1595 - val_categorical_accuracy: 0.9449\n",
      "Epoch 16/45\n",
      "14/14 [==============================] - 13s 940ms/step - loss: 0.1288 - categorical_accuracy: 0.9537 - val_loss: 0.1554 - val_categorical_accuracy: 0.9449\n",
      "Epoch 17/45\n",
      "14/14 [==============================] - 14s 985ms/step - loss: 0.1203 - categorical_accuracy: 0.9574 - val_loss: 0.1120 - val_categorical_accuracy: 0.9606\n",
      "Epoch 18/45\n",
      "14/14 [==============================] - 13s 952ms/step - loss: 0.1133 - categorical_accuracy: 0.9592 - val_loss: 0.1085 - val_categorical_accuracy: 0.9685\n",
      "Epoch 19/45\n",
      "14/14 [==============================] - 13s 945ms/step - loss: 0.1059 - categorical_accuracy: 0.9651 - val_loss: 0.1252 - val_categorical_accuracy: 0.9528\n",
      "Epoch 20/45\n",
      "14/14 [==============================] - 13s 958ms/step - loss: 0.0947 - categorical_accuracy: 0.9668 - val_loss: 0.1019 - val_categorical_accuracy: 0.9606\n",
      "Epoch 21/45\n",
      "14/14 [==============================] - 13s 943ms/step - loss: 0.0886 - categorical_accuracy: 0.9682 - val_loss: 0.1354 - val_categorical_accuracy: 0.9528\n",
      "Epoch 22/45\n",
      "14/14 [==============================] - 13s 938ms/step - loss: 0.0859 - categorical_accuracy: 0.9715 - val_loss: 0.1271 - val_categorical_accuracy: 0.9528\n",
      "Epoch 23/45\n",
      "14/14 [==============================] - 13s 941ms/step - loss: 0.0792 - categorical_accuracy: 0.9726 - val_loss: 0.1106 - val_categorical_accuracy: 0.9528\n",
      "Epoch 24/45\n",
      "14/14 [==============================] - 13s 937ms/step - loss: 0.0744 - categorical_accuracy: 0.9763 - val_loss: 0.1257 - val_categorical_accuracy: 0.9528\n",
      "Epoch 25/45\n",
      "14/14 [==============================] - 13s 942ms/step - loss: 0.0706 - categorical_accuracy: 0.9772 - val_loss: 0.0939 - val_categorical_accuracy: 0.9685\n",
      "Epoch 26/45\n",
      "14/14 [==============================] - 13s 957ms/step - loss: 0.0702 - categorical_accuracy: 0.9758 - val_loss: 0.1059 - val_categorical_accuracy: 0.9606\n",
      "Epoch 27/45\n",
      "14/14 [==============================] - 13s 955ms/step - loss: 0.0613 - categorical_accuracy: 0.9792 - val_loss: 0.1168 - val_categorical_accuracy: 0.9528\n",
      "Epoch 28/45\n",
      "14/14 [==============================] - 13s 949ms/step - loss: 0.0563 - categorical_accuracy: 0.9820 - val_loss: 0.1076 - val_categorical_accuracy: 0.9528\n",
      "Epoch 29/45\n",
      "14/14 [==============================] - 13s 944ms/step - loss: 0.0550 - categorical_accuracy: 0.9829 - val_loss: 0.1145 - val_categorical_accuracy: 0.9528\n",
      "Epoch 30/45\n",
      "14/14 [==============================] - 13s 954ms/step - loss: 0.0557 - categorical_accuracy: 0.9800 - val_loss: 0.1009 - val_categorical_accuracy: 0.9606\n"
     ]
    },
    {
     "name": "stderr",
     "output_type": "stream",
     "text": [
      "\u001b[32m[I 2022-06-14 02:12:38,351]\u001b[0m Trial 4 finished with value: 0.960629940032959 and parameters: {'n_epochs': 45, 'learning_rate': 0.0009290841058695773, 'filters_1': 2, 'kernel_size_1': 8, 'pool_size_1': 2, 'filters_2': 10, 'kernel_size_2': 8, 'pool_size_2': 3, 'dropout_rate': 0.16246528787405082, 'lin_1_n': 71, 'batch_size': 512}. Best is trial 2 with value: 0.9685039520263672.\u001b[0m\n"
     ]
    },
    {
     "name": "stdout",
     "output_type": "stream",
     "text": [
      "Epoch 1/20\n",
      "14/14 [==============================] - 40s 3s/step - loss: 0.6896 - categorical_accuracy: 0.5586 - val_loss: 0.6163 - val_categorical_accuracy: 0.9370\n",
      "Epoch 2/20\n",
      "14/14 [==============================] - 40s 3s/step - loss: 0.6267 - categorical_accuracy: 0.6424 - val_loss: 0.5918 - val_categorical_accuracy: 0.6614\n",
      "Epoch 3/20\n",
      "14/14 [==============================] - 42s 3s/step - loss: 0.5611 - categorical_accuracy: 0.6981 - val_loss: 0.5026 - val_categorical_accuracy: 0.7874\n",
      "Epoch 4/20\n",
      "14/14 [==============================] - 42s 3s/step - loss: 0.5142 - categorical_accuracy: 0.7349 - val_loss: 0.4960 - val_categorical_accuracy: 0.7402\n",
      "Epoch 5/20\n",
      "14/14 [==============================] - 40s 3s/step - loss: 0.4755 - categorical_accuracy: 0.7631 - val_loss: 0.5140 - val_categorical_accuracy: 0.7165\n",
      "Epoch 6/20\n",
      "14/14 [==============================] - 40s 3s/step - loss: 0.4356 - categorical_accuracy: 0.7909 - val_loss: 0.4955 - val_categorical_accuracy: 0.7402\n",
      "Epoch 7/20\n",
      "14/14 [==============================] - 40s 3s/step - loss: 0.4049 - categorical_accuracy: 0.8100 - val_loss: 0.4736 - val_categorical_accuracy: 0.7480\n",
      "Epoch 8/20\n",
      "14/14 [==============================] - 40s 3s/step - loss: 0.3749 - categorical_accuracy: 0.8267 - val_loss: 0.5256 - val_categorical_accuracy: 0.6614\n",
      "Epoch 9/20\n",
      "14/14 [==============================] - 39s 3s/step - loss: 0.3564 - categorical_accuracy: 0.8432 - val_loss: 0.4923 - val_categorical_accuracy: 0.7165\n",
      "Epoch 10/20\n",
      "14/14 [==============================] - 40s 3s/step - loss: 0.3263 - categorical_accuracy: 0.8585 - val_loss: 0.4332 - val_categorical_accuracy: 0.7717\n",
      "Epoch 11/20\n",
      "14/14 [==============================] - 40s 3s/step - loss: 0.3047 - categorical_accuracy: 0.8713 - val_loss: 0.3664 - val_categorical_accuracy: 0.7953\n",
      "Epoch 12/20\n",
      "14/14 [==============================] - ETA: 0s - loss: 0.2834 - categorical_accuracy: 0.8824"
     ]
    },
    {
     "name": "stderr",
     "output_type": "stream",
     "text": [
      "\u001b[32m[I 2022-06-14 02:20:39,922]\u001b[0m Trial 5 pruned. Trial was pruned at epoch 11.\u001b[0m\n"
     ]
    },
    {
     "name": "stdout",
     "output_type": "stream",
     "text": [
      "Epoch 1/45\n",
      "28/28 [==============================] - 23s 826ms/step - loss: 0.6571 - categorical_accuracy: 0.6060 - val_loss: 0.6498 - val_categorical_accuracy: 0.6220\n",
      "Epoch 2/45\n",
      "28/28 [==============================] - 23s 810ms/step - loss: 0.5385 - categorical_accuracy: 0.7281 - val_loss: 0.5702 - val_categorical_accuracy: 0.7323\n",
      "Epoch 3/45\n",
      "28/28 [==============================] - 23s 811ms/step - loss: 0.4707 - categorical_accuracy: 0.7695 - val_loss: 0.5163 - val_categorical_accuracy: 0.7953\n",
      "Epoch 4/45\n",
      "28/28 [==============================] - 23s 812ms/step - loss: 0.4266 - categorical_accuracy: 0.7942 - val_loss: 0.4817 - val_categorical_accuracy: 0.8110\n",
      "Epoch 5/45\n",
      "28/28 [==============================] - 23s 809ms/step - loss: 0.3970 - categorical_accuracy: 0.8187 - val_loss: 0.3781 - val_categorical_accuracy: 0.8976\n",
      "Epoch 6/45\n",
      "28/28 [==============================] - 23s 804ms/step - loss: 0.3742 - categorical_accuracy: 0.8291 - val_loss: 0.3632 - val_categorical_accuracy: 0.9213\n",
      "Epoch 7/45\n",
      "28/28 [==============================] - 23s 805ms/step - loss: 0.3496 - categorical_accuracy: 0.8451 - val_loss: 0.3431 - val_categorical_accuracy: 0.9291\n",
      "Epoch 8/45\n",
      "28/28 [==============================] - 23s 832ms/step - loss: 0.3328 - categorical_accuracy: 0.8566 - val_loss: 0.3320 - val_categorical_accuracy: 0.9291\n",
      "Epoch 9/45\n",
      "28/28 [==============================] - 23s 806ms/step - loss: 0.3145 - categorical_accuracy: 0.8659 - val_loss: 0.3610 - val_categorical_accuracy: 0.9134\n",
      "Epoch 10/45\n",
      "28/28 [==============================] - 23s 815ms/step - loss: 0.2921 - categorical_accuracy: 0.8826 - val_loss: 0.2533 - val_categorical_accuracy: 0.9606\n",
      "Epoch 11/45\n",
      "28/28 [==============================] - 23s 819ms/step - loss: 0.2890 - categorical_accuracy: 0.8800 - val_loss: 0.2471 - val_categorical_accuracy: 0.9606\n",
      "Epoch 12/45\n",
      "28/28 [==============================] - 23s 805ms/step - loss: 0.2675 - categorical_accuracy: 0.8922 - val_loss: 0.2585 - val_categorical_accuracy: 0.9528\n",
      "Epoch 13/45\n",
      "28/28 [==============================] - 23s 809ms/step - loss: 0.2610 - categorical_accuracy: 0.8969 - val_loss: 0.2209 - val_categorical_accuracy: 0.9685\n",
      "Epoch 14/45\n",
      "28/28 [==============================] - 23s 831ms/step - loss: 0.2514 - categorical_accuracy: 0.9012 - val_loss: 0.2261 - val_categorical_accuracy: 0.9685\n",
      "Epoch 15/45\n",
      "28/28 [==============================] - 23s 807ms/step - loss: 0.2404 - categorical_accuracy: 0.9059 - val_loss: 0.1922 - val_categorical_accuracy: 0.9685\n",
      "Epoch 16/45\n",
      "28/28 [==============================] - 23s 822ms/step - loss: 0.2348 - categorical_accuracy: 0.9054 - val_loss: 0.2546 - val_categorical_accuracy: 0.9528\n",
      "Epoch 17/45\n",
      "28/28 [==============================] - 23s 803ms/step - loss: 0.2308 - categorical_accuracy: 0.9084 - val_loss: 0.2023 - val_categorical_accuracy: 0.9764\n",
      "Epoch 18/45\n",
      "28/28 [==============================] - 23s 812ms/step - loss: 0.2148 - categorical_accuracy: 0.9190 - val_loss: 0.1969 - val_categorical_accuracy: 0.9764\n",
      "Epoch 19/45\n",
      "28/28 [==============================] - 23s 826ms/step - loss: 0.2063 - categorical_accuracy: 0.9218 - val_loss: 0.2161 - val_categorical_accuracy: 0.9606\n",
      "Epoch 20/45\n",
      "28/28 [==============================] - 23s 808ms/step - loss: 0.2112 - categorical_accuracy: 0.9199 - val_loss: 0.1820 - val_categorical_accuracy: 0.9606\n",
      "Epoch 21/45\n",
      "28/28 [==============================] - 23s 806ms/step - loss: 0.2034 - categorical_accuracy: 0.9202 - val_loss: 0.1788 - val_categorical_accuracy: 0.9764\n",
      "Epoch 22/45\n",
      "28/28 [==============================] - 23s 822ms/step - loss: 0.1944 - categorical_accuracy: 0.9253 - val_loss: 0.2215 - val_categorical_accuracy: 0.9606\n",
      "Epoch 23/45\n",
      "28/28 [==============================] - 23s 806ms/step - loss: 0.1872 - categorical_accuracy: 0.9266 - val_loss: 0.2105 - val_categorical_accuracy: 0.9685\n",
      "Epoch 24/45\n",
      "28/28 [==============================] - 23s 822ms/step - loss: 0.1769 - categorical_accuracy: 0.9299 - val_loss: 0.1905 - val_categorical_accuracy: 0.9685\n",
      "Epoch 25/45\n",
      "28/28 [==============================] - 23s 817ms/step - loss: 0.1829 - categorical_accuracy: 0.9293 - val_loss: 0.1475 - val_categorical_accuracy: 0.9685\n",
      "Epoch 26/45\n",
      "28/28 [==============================] - 25s 897ms/step - loss: 0.1815 - categorical_accuracy: 0.9300 - val_loss: 0.2043 - val_categorical_accuracy: 0.9685\n",
      "Epoch 27/45\n",
      "28/28 [==============================] - 25s 885ms/step - loss: 0.1723 - categorical_accuracy: 0.9330 - val_loss: 0.1728 - val_categorical_accuracy: 0.9685\n",
      "Epoch 28/45\n",
      "28/28 [==============================] - 23s 811ms/step - loss: 0.1695 - categorical_accuracy: 0.9381 - val_loss: 0.1856 - val_categorical_accuracy: 0.9685\n",
      "Epoch 29/45\n",
      "28/28 [==============================] - 23s 816ms/step - loss: 0.1638 - categorical_accuracy: 0.9354 - val_loss: 0.1802 - val_categorical_accuracy: 0.9685\n",
      "Epoch 30/45\n",
      "28/28 [==============================] - 23s 811ms/step - loss: 0.1651 - categorical_accuracy: 0.9340 - val_loss: 0.2022 - val_categorical_accuracy: 0.9685\n"
     ]
    },
    {
     "name": "stderr",
     "output_type": "stream",
     "text": [
      "\u001b[32m[I 2022-06-14 02:32:09,053]\u001b[0m Trial 6 finished with value: 0.9685039520263672 and parameters: {'n_epochs': 45, 'learning_rate': 0.00017052801060260048, 'filters_1': 2, 'kernel_size_1': 12, 'pool_size_1': 3, 'filters_2': 52, 'kernel_size_2': 6, 'pool_size_2': 2, 'dropout_rate': 0.7859492523205107, 'lin_1_n': 93, 'batch_size': 256}. Best is trial 2 with value: 0.9685039520263672.\u001b[0m\n"
     ]
    },
    {
     "name": "stdout",
     "output_type": "stream",
     "text": [
      "Epoch 1/35\n",
      "55/55 [==============================] - 53s 949ms/step - loss: 0.6192 - categorical_accuracy: 0.6378 - val_loss: 0.5316 - val_categorical_accuracy: 0.6772\n",
      "Epoch 2/35\n",
      "55/55 [==============================] - 51s 936ms/step - loss: 0.4769 - categorical_accuracy: 0.7641 - val_loss: 0.4135 - val_categorical_accuracy: 0.7559\n",
      "Epoch 3/35\n",
      "55/55 [==============================] - 52s 945ms/step - loss: 0.3999 - categorical_accuracy: 0.8100 - val_loss: 0.3654 - val_categorical_accuracy: 0.7953\n",
      "Epoch 4/35\n",
      "55/55 [==============================] - 52s 949ms/step - loss: 0.3430 - categorical_accuracy: 0.8476 - val_loss: 0.2647 - val_categorical_accuracy: 0.8819\n",
      "Epoch 5/35\n",
      "55/55 [==============================] - 52s 943ms/step - loss: 0.2819 - categorical_accuracy: 0.8779 - val_loss: 0.2319 - val_categorical_accuracy: 0.8976\n",
      "Epoch 6/35\n",
      "55/55 [==============================] - 51s 935ms/step - loss: 0.2312 - categorical_accuracy: 0.9048 - val_loss: 0.1915 - val_categorical_accuracy: 0.9291\n",
      "Epoch 7/35\n",
      "55/55 [==============================] - 52s 947ms/step - loss: 0.2048 - categorical_accuracy: 0.9169 - val_loss: 0.1669 - val_categorical_accuracy: 0.9213\n",
      "Epoch 8/35\n",
      "55/55 [==============================] - 52s 942ms/step - loss: 0.1844 - categorical_accuracy: 0.9229 - val_loss: 0.1536 - val_categorical_accuracy: 0.9449\n",
      "Epoch 9/35\n",
      "55/55 [==============================] - 52s 954ms/step - loss: 0.1504 - categorical_accuracy: 0.9438 - val_loss: 0.1329 - val_categorical_accuracy: 0.9370\n",
      "Epoch 10/35\n",
      "55/55 [==============================] - 52s 943ms/step - loss: 0.1453 - categorical_accuracy: 0.9420 - val_loss: 0.1135 - val_categorical_accuracy: 0.9370\n",
      "Epoch 11/35\n",
      "55/55 [==============================] - 51s 935ms/step - loss: 0.1267 - categorical_accuracy: 0.9555 - val_loss: 0.0832 - val_categorical_accuracy: 0.9606\n",
      "Epoch 12/35\n",
      "55/55 [==============================] - 52s 951ms/step - loss: 0.1156 - categorical_accuracy: 0.9552 - val_loss: 0.0920 - val_categorical_accuracy: 0.9606\n",
      "Epoch 13/35\n",
      "55/55 [==============================] - 52s 941ms/step - loss: 0.0966 - categorical_accuracy: 0.9629 - val_loss: 0.1128 - val_categorical_accuracy: 0.9370\n",
      "Epoch 14/35\n",
      "55/55 [==============================] - 52s 947ms/step - loss: 0.1092 - categorical_accuracy: 0.9585 - val_loss: 0.0902 - val_categorical_accuracy: 0.9528\n",
      "Epoch 15/35\n",
      "55/55 [==============================] - 52s 944ms/step - loss: 0.0992 - categorical_accuracy: 0.9625 - val_loss: 0.0938 - val_categorical_accuracy: 0.9606\n",
      "Epoch 16/35\n",
      "55/55 [==============================] - 52s 947ms/step - loss: 0.0858 - categorical_accuracy: 0.9692 - val_loss: 0.1139 - val_categorical_accuracy: 0.9370\n"
     ]
    },
    {
     "name": "stderr",
     "output_type": "stream",
     "text": [
      "\u001b[32m[I 2022-06-14 02:46:00,530]\u001b[0m Trial 7 finished with value: 0.9370078444480896 and parameters: {'n_epochs': 35, 'learning_rate': 0.0004817655469872558, 'filters_1': 20, 'kernel_size_1': 16, 'pool_size_1': 4, 'filters_2': 12, 'kernel_size_2': 12, 'pool_size_2': 4, 'dropout_rate': 0.7372983159655105, 'lin_1_n': 111, 'batch_size': 128}. Best is trial 2 with value: 0.9685039520263672.\u001b[0m\n"
     ]
    },
    {
     "name": "stdout",
     "output_type": "stream",
     "text": [
      "Epoch 1/25\n",
      "22/22 [==============================] - 29s 1s/step - loss: 0.7032 - categorical_accuracy: 0.5527 - val_loss: 0.6170 - val_categorical_accuracy: 0.9528\n",
      "Epoch 2/25\n",
      "22/22 [==============================] - 28s 1s/step - loss: 0.6280 - categorical_accuracy: 0.6418 - val_loss: 0.5818 - val_categorical_accuracy: 0.7638\n",
      "Epoch 3/25\n",
      "22/22 [==============================] - 27s 1s/step - loss: 0.5683 - categorical_accuracy: 0.6961 - val_loss: 0.5610 - val_categorical_accuracy: 0.7165\n",
      "Epoch 4/25\n",
      "22/22 [==============================] - 26s 1s/step - loss: 0.5216 - categorical_accuracy: 0.7392 - val_loss: 0.5300 - val_categorical_accuracy: 0.7402\n",
      "Epoch 5/25\n",
      "22/22 [==============================] - 26s 1s/step - loss: 0.4868 - categorical_accuracy: 0.7516 - val_loss: 0.5737 - val_categorical_accuracy: 0.6378\n",
      "Epoch 6/25\n",
      "22/22 [==============================] - 27s 1s/step - loss: 0.4573 - categorical_accuracy: 0.7795 - val_loss: 0.5145 - val_categorical_accuracy: 0.7480\n",
      "Epoch 7/25\n",
      "22/22 [==============================] - 27s 1s/step - loss: 0.4283 - categorical_accuracy: 0.7939 - val_loss: 0.4646 - val_categorical_accuracy: 0.7953\n",
      "Epoch 8/25\n",
      "22/22 [==============================] - 27s 1s/step - loss: 0.3952 - categorical_accuracy: 0.8186 - val_loss: 0.4144 - val_categorical_accuracy: 0.8425\n",
      "Epoch 9/25\n",
      "22/22 [==============================] - 27s 1s/step - loss: 0.3809 - categorical_accuracy: 0.8264 - val_loss: 0.4133 - val_categorical_accuracy: 0.8425\n",
      "Epoch 10/25\n",
      "22/22 [==============================] - 27s 1s/step - loss: 0.3580 - categorical_accuracy: 0.8425 - val_loss: 0.3808 - val_categorical_accuracy: 0.8504\n",
      "Epoch 11/25\n",
      "22/22 [==============================] - ETA: 0s - loss: 0.3348 - categorical_accuracy: 0.8562"
     ]
    },
    {
     "name": "stderr",
     "output_type": "stream",
     "text": [
      "\u001b[32m[I 2022-06-14 02:50:58,250]\u001b[0m Trial 8 pruned. Trial was pruned at epoch 10.\u001b[0m\n"
     ]
    },
    {
     "name": "stdout",
     "output_type": "stream",
     "text": [
      "Epoch 1/40\n",
      "19/19 [==============================] - ETA: 0s - loss: 0.5781 - categorical_accuracy: 0.6827"
     ]
    },
    {
     "name": "stderr",
     "output_type": "stream",
     "text": [
      "\u001b[32m[I 2022-06-14 02:51:39,476]\u001b[0m Trial 9 pruned. Trial was pruned at epoch 0.\u001b[0m\n"
     ]
    },
    {
     "name": "stdout",
     "output_type": "stream",
     "text": [
      "Epoch 1/5\n",
      "19/19 [==============================] - 59s 3s/step - loss: 0.6806 - categorical_accuracy: 0.5432 - val_loss: 0.6335 - val_categorical_accuracy: 0.9213\n",
      "Epoch 2/5\n",
      "19/19 [==============================] - 59s 3s/step - loss: 0.6533 - categorical_accuracy: 0.6300 - val_loss: 0.6253 - val_categorical_accuracy: 0.7795\n",
      "Epoch 3/5\n",
      "19/19 [==============================] - 58s 3s/step - loss: 0.6253 - categorical_accuracy: 0.6648 - val_loss: 0.6318 - val_categorical_accuracy: 0.7165\n",
      "Epoch 4/5\n",
      "19/19 [==============================] - 58s 3s/step - loss: 0.5953 - categorical_accuracy: 0.6936 - val_loss: 0.6104 - val_categorical_accuracy: 0.7165\n",
      "Epoch 5/5\n",
      "19/19 [==============================] - 59s 3s/step - loss: 0.5699 - categorical_accuracy: 0.7020 - val_loss: 0.6509 - val_categorical_accuracy: 0.5906\n"
     ]
    },
    {
     "name": "stderr",
     "output_type": "stream",
     "text": [
      "\u001b[32m[I 2022-06-14 02:56:32,930]\u001b[0m Trial 10 finished with value: 0.5905511975288391 and parameters: {'n_epochs': 5, 'learning_rate': 2.8629535258241118e-05, 'filters_1': 14, 'kernel_size_1': 16, 'pool_size_1': 3, 'filters_2': 40, 'kernel_size_2': 10, 'pool_size_2': 2, 'dropout_rate': 0.12497751325140524, 'lin_1_n': 4, 'batch_size': 384}. Best is trial 2 with value: 0.9685039520263672.\u001b[0m\n"
     ]
    },
    {
     "name": "stdout",
     "output_type": "stream",
     "text": [
      "Epoch 1/35\n",
      "37/37 [==============================] - 25s 671ms/step - loss: 0.6865 - categorical_accuracy: 0.5475 - val_loss: 0.6325 - val_categorical_accuracy: 0.9606\n",
      "Epoch 2/35\n",
      "37/37 [==============================] - 25s 671ms/step - loss: 0.6547 - categorical_accuracy: 0.6204 - val_loss: 0.6245 - val_categorical_accuracy: 0.8031\n",
      "Epoch 3/35\n",
      "37/37 [==============================] - 25s 671ms/step - loss: 0.6186 - categorical_accuracy: 0.6561 - val_loss: 0.6400 - val_categorical_accuracy: 0.6299\n",
      "Epoch 4/35\n",
      "37/37 [==============================] - 25s 668ms/step - loss: 0.5768 - categorical_accuracy: 0.6958 - val_loss: 0.6837 - val_categorical_accuracy: 0.5512\n",
      "Epoch 5/35\n",
      "37/37 [==============================] - 25s 672ms/step - loss: 0.5396 - categorical_accuracy: 0.7255 - val_loss: 0.5995 - val_categorical_accuracy: 0.6772\n",
      "Epoch 6/35\n",
      "37/37 [==============================] - 26s 689ms/step - loss: 0.5094 - categorical_accuracy: 0.7524 - val_loss: 0.6338 - val_categorical_accuracy: 0.6063\n",
      "Epoch 7/35\n",
      "37/37 [==============================] - 25s 674ms/step - loss: 0.4878 - categorical_accuracy: 0.7608 - val_loss: 0.6392 - val_categorical_accuracy: 0.6063\n",
      "Epoch 8/35\n",
      "37/37 [==============================] - 25s 677ms/step - loss: 0.4725 - categorical_accuracy: 0.7707 - val_loss: 0.5642 - val_categorical_accuracy: 0.6772\n",
      "Epoch 9/35\n",
      "37/37 [==============================] - 25s 676ms/step - loss: 0.4602 - categorical_accuracy: 0.7729 - val_loss: 0.5647 - val_categorical_accuracy: 0.6850\n",
      "Epoch 10/35\n",
      "37/37 [==============================] - 25s 680ms/step - loss: 0.4499 - categorical_accuracy: 0.7836 - val_loss: 0.5653 - val_categorical_accuracy: 0.6850\n",
      "Epoch 11/35\n",
      "37/37 [==============================] - 25s 677ms/step - loss: 0.4359 - categorical_accuracy: 0.7955 - val_loss: 0.5494 - val_categorical_accuracy: 0.6772\n",
      "Epoch 12/35\n",
      "37/37 [==============================] - 25s 676ms/step - loss: 0.4247 - categorical_accuracy: 0.8067 - val_loss: 0.5231 - val_categorical_accuracy: 0.6929\n",
      "Epoch 13/35\n",
      "37/37 [==============================] - 25s 685ms/step - loss: 0.4113 - categorical_accuracy: 0.8097 - val_loss: 0.5133 - val_categorical_accuracy: 0.7087\n",
      "Epoch 14/35\n",
      "37/37 [==============================] - 26s 689ms/step - loss: 0.4073 - categorical_accuracy: 0.8127 - val_loss: 0.5276 - val_categorical_accuracy: 0.6850\n",
      "Epoch 15/35\n",
      "37/37 [==============================] - 28s 764ms/step - loss: 0.3967 - categorical_accuracy: 0.8171 - val_loss: 0.4867 - val_categorical_accuracy: 0.7402\n",
      "Epoch 16/35\n",
      "37/37 [==============================] - 26s 694ms/step - loss: 0.3879 - categorical_accuracy: 0.8240 - val_loss: 0.4963 - val_categorical_accuracy: 0.7244\n",
      "Epoch 17/35\n",
      "37/37 [==============================] - ETA: 0s - loss: 0.3849 - categorical_accuracy: 0.8264"
     ]
    },
    {
     "name": "stderr",
     "output_type": "stream",
     "text": [
      "\u001b[32m[I 2022-06-14 03:03:43,623]\u001b[0m Trial 11 pruned. Trial was pruned at epoch 16.\u001b[0m\n"
     ]
    },
    {
     "name": "stdout",
     "output_type": "stream",
     "text": [
      "Epoch 1/10\n",
      "19/19 [==============================] - 26s 1s/step - loss: 0.6535 - categorical_accuracy: 0.6083 - val_loss: 0.5687 - val_categorical_accuracy: 0.7244\n",
      "Epoch 2/10\n",
      "19/19 [==============================] - 26s 1s/step - loss: 0.5001 - categorical_accuracy: 0.7429 - val_loss: 0.7202 - val_categorical_accuracy: 0.5512\n",
      "Epoch 3/10\n",
      "19/19 [==============================] - 26s 1s/step - loss: 0.4317 - categorical_accuracy: 0.7901 - val_loss: 0.4299 - val_categorical_accuracy: 0.7795\n",
      "Epoch 4/10\n",
      "19/19 [==============================] - 26s 1s/step - loss: 0.3592 - categorical_accuracy: 0.8432 - val_loss: 0.3458 - val_categorical_accuracy: 0.8425\n",
      "Epoch 5/10\n",
      "19/19 [==============================] - ETA: 0s - loss: 0.2963 - categorical_accuracy: 0.8769"
     ]
    },
    {
     "name": "stderr",
     "output_type": "stream",
     "text": [
      "\u001b[32m[I 2022-06-14 03:05:53,926]\u001b[0m Trial 12 pruned. Trial was pruned at epoch 4.\u001b[0m\n"
     ]
    },
    {
     "name": "stdout",
     "output_type": "stream",
     "text": [
      "Epoch 1/30\n",
      "28/28 [==============================] - 39s 1s/step - loss: 0.6745 - categorical_accuracy: 0.5781 - val_loss: 0.6304 - val_categorical_accuracy: 0.7402\n",
      "Epoch 2/30\n",
      "28/28 [==============================] - 39s 1s/step - loss: 0.6095 - categorical_accuracy: 0.6566 - val_loss: 0.6131 - val_categorical_accuracy: 0.5906\n",
      "Epoch 3/30\n",
      "28/28 [==============================] - ETA: 0s - loss: 0.5421 - categorical_accuracy: 0.7172"
     ]
    },
    {
     "name": "stderr",
     "output_type": "stream",
     "text": [
      "\u001b[32m[I 2022-06-14 03:07:51,424]\u001b[0m Trial 13 pruned. Trial was pruned at epoch 2.\u001b[0m\n"
     ]
    },
    {
     "name": "stdout",
     "output_type": "stream",
     "text": [
      "Epoch 1/50\n",
      "22/22 [==============================] - ETA: 0s - loss: 0.6072 - categorical_accuracy: 0.6491"
     ]
    },
    {
     "name": "stderr",
     "output_type": "stream",
     "text": [
      "\u001b[32m[I 2022-06-14 03:08:35,040]\u001b[0m Trial 14 pruned. Trial was pruned at epoch 0.\u001b[0m\n"
     ]
    },
    {
     "name": "stdout",
     "output_type": "stream",
     "text": [
      "Epoch 1/40\n",
      "37/37 [==============================] - ETA: 0s - loss: 0.6614 - categorical_accuracy: 0.5999"
     ]
    },
    {
     "name": "stderr",
     "output_type": "stream",
     "text": [
      "\u001b[32m[I 2022-06-14 03:09:30,501]\u001b[0m Trial 15 pruned. Trial was pruned at epoch 0.\u001b[0m\n"
     ]
    },
    {
     "name": "stdout",
     "output_type": "stream",
     "text": [
      "Epoch 1/20\n",
      "16/16 [==============================] - 47s 3s/step - loss: 0.6971 - categorical_accuracy: 0.5513 - val_loss: 0.6365 - val_categorical_accuracy: 0.7402\n",
      "Epoch 2/20\n",
      "16/16 [==============================] - 47s 3s/step - loss: 0.5534 - categorical_accuracy: 0.7204 - val_loss: 0.5447 - val_categorical_accuracy: 0.6772\n",
      "Epoch 3/20\n",
      "16/16 [==============================] - 46s 3s/step - loss: 0.4514 - categorical_accuracy: 0.7768 - val_loss: 0.4556 - val_categorical_accuracy: 0.7795\n",
      "Epoch 4/20\n",
      "16/16 [==============================] - ETA: 0s - loss: 0.3921 - categorical_accuracy: 0.8156"
     ]
    },
    {
     "name": "stderr",
     "output_type": "stream",
     "text": [
      "\u001b[32m[I 2022-06-14 03:12:36,909]\u001b[0m Trial 16 pruned. Trial was pruned at epoch 3.\u001b[0m\n"
     ]
    },
    {
     "name": "stdout",
     "output_type": "stream",
     "text": [
      "Epoch 1/30\n",
      "37/37 [==============================] - ETA: 0s - loss: 0.6386 - categorical_accuracy: 0.6213"
     ]
    },
    {
     "name": "stderr",
     "output_type": "stream",
     "text": [
      "\u001b[32m[I 2022-06-14 03:12:59,231]\u001b[0m Trial 17 pruned. Trial was pruned at epoch 0.\u001b[0m\n"
     ]
    },
    {
     "name": "stdout",
     "output_type": "stream",
     "text": [
      "Epoch 1/40\n",
      "22/22 [==============================] - 37s 2s/step - loss: 0.6771 - categorical_accuracy: 0.5981 - val_loss: 0.6000 - val_categorical_accuracy: 0.7795\n",
      "Epoch 2/40\n",
      "22/22 [==============================] - 36s 2s/step - loss: 0.5257 - categorical_accuracy: 0.7420 - val_loss: 0.6330 - val_categorical_accuracy: 0.5669\n",
      "Epoch 3/40\n",
      "22/22 [==============================] - 37s 2s/step - loss: 0.4514 - categorical_accuracy: 0.7798 - val_loss: 0.6224 - val_categorical_accuracy: 0.5827\n",
      "Epoch 4/40\n",
      "22/22 [==============================] - ETA: 0s - loss: 0.4012 - categorical_accuracy: 0.8143"
     ]
    },
    {
     "name": "stderr",
     "output_type": "stream",
     "text": [
      "\u001b[32m[I 2022-06-14 03:15:26,228]\u001b[0m Trial 18 pruned. Trial was pruned at epoch 3.\u001b[0m\n"
     ]
    },
    {
     "name": "stdout",
     "output_type": "stream",
     "text": [
      "Epoch 1/20\n",
      "16/16 [==============================] - ETA: 0s - loss: 0.6465 - categorical_accuracy: 0.6133"
     ]
    },
    {
     "name": "stderr",
     "output_type": "stream",
     "text": [
      "\u001b[32m[I 2022-06-14 03:16:01,847]\u001b[0m Trial 19 pruned. Trial was pruned at epoch 0.\u001b[0m\n"
     ]
    },
    {
     "name": "stdout",
     "output_type": "stream",
     "text": [
      "Epoch 1/35\n",
      "28/28 [==============================] - ETA: 0s - loss: 0.6460 - categorical_accuracy: 0.6116"
     ]
    },
    {
     "name": "stderr",
     "output_type": "stream",
     "text": [
      "\u001b[32m[I 2022-06-14 03:16:52,756]\u001b[0m Trial 20 pruned. Trial was pruned at epoch 0.\u001b[0m\n"
     ]
    },
    {
     "name": "stdout",
     "output_type": "stream",
     "text": [
      "Epoch 1/45\n",
      "16/16 [==============================] - ETA: 0s - loss: 0.6357 - categorical_accuracy: 0.6521"
     ]
    },
    {
     "name": "stderr",
     "output_type": "stream",
     "text": [
      "\u001b[32m[I 2022-06-14 03:17:07,949]\u001b[0m Trial 21 pruned. Trial was pruned at epoch 0.\u001b[0m\n"
     ]
    },
    {
     "name": "stdout",
     "output_type": "stream",
     "text": [
      "Epoch 1/45\n",
      "14/14 [==============================] - 20s 1s/step - loss: 0.6943 - categorical_accuracy: 0.5620 - val_loss: 0.6657 - val_categorical_accuracy: 0.7165\n",
      "Epoch 2/45\n",
      "14/14 [==============================] - 19s 1s/step - loss: 0.6140 - categorical_accuracy: 0.6705 - val_loss: 0.6741 - val_categorical_accuracy: 0.5984\n",
      "Epoch 3/45\n",
      "14/14 [==============================] - ETA: 0s - loss: 0.5224 - categorical_accuracy: 0.7383"
     ]
    },
    {
     "name": "stderr",
     "output_type": "stream",
     "text": [
      "\u001b[32m[I 2022-06-14 03:18:06,196]\u001b[0m Trial 22 pruned. Trial was pruned at epoch 2.\u001b[0m\n"
     ]
    },
    {
     "name": "stdout",
     "output_type": "stream",
     "text": [
      "Epoch 1/50\n",
      "19/19 [==============================] - ETA: 0s - loss: 0.5699 - categorical_accuracy: 0.6916"
     ]
    },
    {
     "name": "stderr",
     "output_type": "stream",
     "text": [
      "\u001b[32m[I 2022-06-14 03:18:21,637]\u001b[0m Trial 23 pruned. Trial was pruned at epoch 0.\u001b[0m\n"
     ]
    },
    {
     "name": "stdout",
     "output_type": "stream",
     "text": [
      "Epoch 1/45\n",
      "16/16 [==============================] - ETA: 0s - loss: 0.6286 - categorical_accuracy: 0.6317"
     ]
    },
    {
     "name": "stderr",
     "output_type": "stream",
     "text": [
      "\u001b[32m[I 2022-06-14 03:18:47,847]\u001b[0m Trial 24 pruned. Trial was pruned at epoch 0.\u001b[0m\n"
     ]
    },
    {
     "name": "stdout",
     "output_type": "stream",
     "text": [
      "Epoch 1/30\n",
      "22/22 [==============================] - 44s 2s/step - loss: 0.7045 - categorical_accuracy: 0.4883 - val_loss: 0.6722 - val_categorical_accuracy: 0.8819\n",
      "Epoch 2/30\n",
      "22/22 [==============================] - 41s 2s/step - loss: 0.6829 - categorical_accuracy: 0.5577 - val_loss: 0.6988 - val_categorical_accuracy: 0.4961\n",
      "Epoch 3/30\n",
      "22/22 [==============================] - 41s 2s/step - loss: 0.6497 - categorical_accuracy: 0.6638 - val_loss: 0.6788 - val_categorical_accuracy: 0.5906\n",
      "Epoch 4/30\n",
      "22/22 [==============================] - 40s 2s/step - loss: 0.5934 - categorical_accuracy: 0.6842 - val_loss: 0.6132 - val_categorical_accuracy: 0.7008\n",
      "Epoch 5/30\n",
      "22/22 [==============================] - 41s 2s/step - loss: 0.5459 - categorical_accuracy: 0.7236 - val_loss: 0.6038 - val_categorical_accuracy: 0.6850\n",
      "Epoch 6/30\n",
      "22/22 [==============================] - ETA: 0s - loss: 0.5111 - categorical_accuracy: 0.7471"
     ]
    },
    {
     "name": "stderr",
     "output_type": "stream",
     "text": [
      "\u001b[32m[I 2022-06-14 03:22:56,298]\u001b[0m Trial 25 pruned. Trial was pruned at epoch 5.\u001b[0m\n"
     ]
    },
    {
     "name": "stdout",
     "output_type": "stream",
     "text": [
      "Epoch 1/40\n",
      "55/55 [==============================] - 32s 580ms/step - loss: 0.5922 - categorical_accuracy: 0.6730 - val_loss: 0.5487 - val_categorical_accuracy: 0.7244\n",
      "Epoch 2/40\n",
      "55/55 [==============================] - 32s 575ms/step - loss: 0.4293 - categorical_accuracy: 0.8012 - val_loss: 0.4579 - val_categorical_accuracy: 0.7795\n",
      "Epoch 3/40\n",
      "55/55 [==============================] - 32s 584ms/step - loss: 0.3507 - categorical_accuracy: 0.8412 - val_loss: 0.3720 - val_categorical_accuracy: 0.8583\n",
      "Epoch 4/40\n",
      "55/55 [==============================] - 32s 584ms/step - loss: 0.2730 - categorical_accuracy: 0.8857 - val_loss: 0.3175 - val_categorical_accuracy: 0.9134\n",
      "Epoch 5/40\n",
      "55/55 [==============================] - 32s 583ms/step - loss: 0.2156 - categorical_accuracy: 0.9185 - val_loss: 0.2309 - val_categorical_accuracy: 0.9606\n",
      "Epoch 6/40\n",
      "55/55 [==============================] - 32s 576ms/step - loss: 0.1654 - categorical_accuracy: 0.9400 - val_loss: 0.2367 - val_categorical_accuracy: 0.9528\n",
      "Epoch 7/40\n",
      "55/55 [==============================] - 32s 576ms/step - loss: 0.1421 - categorical_accuracy: 0.9495 - val_loss: 0.1856 - val_categorical_accuracy: 0.9606\n",
      "Epoch 8/40\n",
      "55/55 [==============================] - 32s 590ms/step - loss: 0.1235 - categorical_accuracy: 0.9538 - val_loss: 0.1719 - val_categorical_accuracy: 0.9528\n",
      "Epoch 9/40\n",
      "55/55 [==============================] - 32s 580ms/step - loss: 0.0963 - categorical_accuracy: 0.9661 - val_loss: 0.1547 - val_categorical_accuracy: 0.9685\n",
      "Epoch 10/40\n",
      "55/55 [==============================] - 32s 579ms/step - loss: 0.0814 - categorical_accuracy: 0.9722 - val_loss: 0.1819 - val_categorical_accuracy: 0.9213\n",
      "Epoch 11/40\n",
      "55/55 [==============================] - 32s 583ms/step - loss: 0.0753 - categorical_accuracy: 0.9763 - val_loss: 0.1160 - val_categorical_accuracy: 0.9449\n",
      "Epoch 12/40\n",
      "55/55 [==============================] - 32s 577ms/step - loss: 0.0712 - categorical_accuracy: 0.9743 - val_loss: 0.0995 - val_categorical_accuracy: 0.9764\n",
      "Epoch 13/40\n",
      "55/55 [==============================] - 33s 592ms/step - loss: 0.0631 - categorical_accuracy: 0.9785 - val_loss: 0.0879 - val_categorical_accuracy: 0.9843\n",
      "Epoch 14/40\n",
      "55/55 [==============================] - 32s 584ms/step - loss: 0.0489 - categorical_accuracy: 0.9860 - val_loss: 0.1370 - val_categorical_accuracy: 0.9449\n",
      "Epoch 15/40\n",
      "55/55 [==============================] - 32s 588ms/step - loss: 0.0492 - categorical_accuracy: 0.9850 - val_loss: 0.1769 - val_categorical_accuracy: 0.9291\n",
      "Epoch 16/40\n",
      "55/55 [==============================] - 32s 589ms/step - loss: 0.0375 - categorical_accuracy: 0.9877 - val_loss: 0.1440 - val_categorical_accuracy: 0.9449\n",
      "Epoch 17/40\n",
      "55/55 [==============================] - 32s 583ms/step - loss: 0.0379 - categorical_accuracy: 0.9893 - val_loss: 0.2069 - val_categorical_accuracy: 0.9213\n",
      "Epoch 18/40\n",
      "55/55 [==============================] - 32s 583ms/step - loss: 0.0341 - categorical_accuracy: 0.9883 - val_loss: 0.1414 - val_categorical_accuracy: 0.9213\n"
     ]
    },
    {
     "name": "stderr",
     "output_type": "stream",
     "text": [
      "\u001b[32m[I 2022-06-14 03:32:33,578]\u001b[0m Trial 26 finished with value: 0.9212598204612732 and parameters: {'n_epochs': 40, 'learning_rate': 0.00036024938051185, 'filters_1': 22, 'kernel_size_1': 12, 'pool_size_1': 3, 'filters_2': 34, 'kernel_size_2': 6, 'pool_size_2': 3, 'dropout_rate': 0.5146364276798218, 'lin_1_n': 66, 'batch_size': 128}. Best is trial 2 with value: 0.9685039520263672.\u001b[0m\n"
     ]
    },
    {
     "name": "stdout",
     "output_type": "stream",
     "text": [
      "Epoch 1/15\n",
      "14/14 [==============================] - ETA: 0s - loss: 0.7472 - categorical_accuracy: 0.5284"
     ]
    },
    {
     "name": "stderr",
     "output_type": "stream",
     "text": [
      "\u001b[32m[I 2022-06-14 03:33:31,842]\u001b[0m Trial 27 pruned. Trial was pruned at epoch 0.\u001b[0m\n"
     ]
    },
    {
     "name": "stdout",
     "output_type": "stream",
     "text": [
      "Epoch 1/45\n",
      "16/16 [==============================] - 16s 974ms/step - loss: 0.6455 - categorical_accuracy: 0.6306 - val_loss: 0.6077 - val_categorical_accuracy: 0.6850\n",
      "Epoch 2/45\n",
      "16/16 [==============================] - ETA: 0s - loss: 0.5012 - categorical_accuracy: 0.7514"
     ]
    },
    {
     "name": "stderr",
     "output_type": "stream",
     "text": [
      "\u001b[32m[I 2022-06-14 03:34:03,776]\u001b[0m Trial 28 pruned. Trial was pruned at epoch 1.\u001b[0m\n"
     ]
    },
    {
     "name": "stdout",
     "output_type": "stream",
     "text": [
      "Epoch 1/25\n",
      "28/28 [==============================] - ETA: 0s - loss: 0.6833 - categorical_accuracy: 0.5630"
     ]
    },
    {
     "name": "stderr",
     "output_type": "stream",
     "text": [
      "\u001b[32m[I 2022-06-14 03:34:27,573]\u001b[0m Trial 29 pruned. Trial was pruned at epoch 0.\u001b[0m\n"
     ]
    },
    {
     "name": "stdout",
     "output_type": "stream",
     "text": [
      "Epoch 1/35\n",
      "19/19 [==============================] - 47s 2s/step - loss: 0.6711 - categorical_accuracy: 0.5767 - val_loss: 0.6231 - val_categorical_accuracy: 0.8189\n",
      "Epoch 2/35\n",
      "19/19 [==============================] - 43s 2s/step - loss: 0.6226 - categorical_accuracy: 0.6552 - val_loss: 0.5802 - val_categorical_accuracy: 0.8110\n",
      "Epoch 3/35\n",
      "19/19 [==============================] - 43s 2s/step - loss: 0.5755 - categorical_accuracy: 0.6940 - val_loss: 0.5834 - val_categorical_accuracy: 0.7480\n",
      "Epoch 4/35\n",
      "19/19 [==============================] - 42s 2s/step - loss: 0.5325 - categorical_accuracy: 0.7342 - val_loss: 0.5282 - val_categorical_accuracy: 0.7638\n",
      "Epoch 5/35\n",
      "19/19 [==============================] - ETA: 0s - loss: 0.4992 - categorical_accuracy: 0.7593"
     ]
    },
    {
     "name": "stderr",
     "output_type": "stream",
     "text": [
      "\u001b[32m[I 2022-06-14 03:38:04,263]\u001b[0m Trial 30 pruned. Trial was pruned at epoch 4.\u001b[0m\n"
     ]
    },
    {
     "name": "stdout",
     "output_type": "stream",
     "text": [
      "Epoch 1/15\n",
      "110/110 [==============================] - 50s 449ms/step - loss: 0.5037 - categorical_accuracy: 0.7432 - val_loss: 0.4475 - val_categorical_accuracy: 0.7323\n",
      "Epoch 2/15\n",
      "110/110 [==============================] - 49s 448ms/step - loss: 0.3200 - categorical_accuracy: 0.8635 - val_loss: 0.3663 - val_categorical_accuracy: 0.8189\n",
      "Epoch 3/15\n",
      "110/110 [==============================] - 49s 447ms/step - loss: 0.2358 - categorical_accuracy: 0.9044 - val_loss: 0.2056 - val_categorical_accuracy: 0.8976\n",
      "Epoch 4/15\n",
      "110/110 [==============================] - 50s 451ms/step - loss: 0.1958 - categorical_accuracy: 0.9205 - val_loss: 0.3167 - val_categorical_accuracy: 0.8504\n",
      "Epoch 5/15\n",
      "110/110 [==============================] - 49s 448ms/step - loss: 0.1609 - categorical_accuracy: 0.9366 - val_loss: 0.2135 - val_categorical_accuracy: 0.9134\n",
      "Epoch 6/15\n",
      "110/110 [==============================] - ETA: 0s - loss: 0.1266 - categorical_accuracy: 0.9527"
     ]
    },
    {
     "name": "stderr",
     "output_type": "stream",
     "text": [
      "\u001b[32m[I 2022-06-14 03:43:00,735]\u001b[0m Trial 31 pruned. Trial was pruned at epoch 5.\u001b[0m\n"
     ]
    },
    {
     "name": "stdout",
     "output_type": "stream",
     "text": [
      "Epoch 1/15\n",
      "110/110 [==============================] - 51s 462ms/step - loss: 0.5129 - categorical_accuracy: 0.7316 - val_loss: 0.4422 - val_categorical_accuracy: 0.7244\n",
      "Epoch 2/15\n",
      "110/110 [==============================] - 50s 459ms/step - loss: 0.3485 - categorical_accuracy: 0.8421 - val_loss: 0.3479 - val_categorical_accuracy: 0.8110\n",
      "Epoch 3/15\n",
      "110/110 [==============================] - 50s 458ms/step - loss: 0.2547 - categorical_accuracy: 0.8928 - val_loss: 0.3724 - val_categorical_accuracy: 0.8110\n",
      "Epoch 4/15\n",
      "110/110 [==============================] - 50s 459ms/step - loss: 0.1881 - categorical_accuracy: 0.9218 - val_loss: 0.2360 - val_categorical_accuracy: 0.9213\n",
      "Epoch 5/15\n",
      "110/110 [==============================] - 51s 460ms/step - loss: 0.1528 - categorical_accuracy: 0.9401 - val_loss: 0.2015 - val_categorical_accuracy: 0.9134\n",
      "Epoch 6/15\n",
      "110/110 [==============================] - ETA: 0s - loss: 0.1101 - categorical_accuracy: 0.9577"
     ]
    },
    {
     "name": "stderr",
     "output_type": "stream",
     "text": [
      "\u001b[32m[I 2022-06-14 03:48:05,300]\u001b[0m Trial 32 pruned. Trial was pruned at epoch 5.\u001b[0m\n"
     ]
    },
    {
     "name": "stdout",
     "output_type": "stream",
     "text": [
      "Epoch 1/5\n",
      "55/55 [==============================] - 47s 851ms/step - loss: 0.5684 - categorical_accuracy: 0.6864 - val_loss: 0.4606 - val_categorical_accuracy: 0.7087\n",
      "Epoch 2/5\n",
      "55/55 [==============================] - 46s 838ms/step - loss: 0.4130 - categorical_accuracy: 0.8086 - val_loss: 0.4167 - val_categorical_accuracy: 0.7795\n",
      "Epoch 3/5\n",
      "55/55 [==============================] - 45s 822ms/step - loss: 0.3343 - categorical_accuracy: 0.8539 - val_loss: 0.3200 - val_categorical_accuracy: 0.8976\n",
      "Epoch 4/5\n",
      "55/55 [==============================] - 49s 891ms/step - loss: 0.2645 - categorical_accuracy: 0.8868 - val_loss: 0.5330 - val_categorical_accuracy: 0.7087\n",
      "Epoch 5/5\n",
      "55/55 [==============================] - 47s 848ms/step - loss: 0.2180 - categorical_accuracy: 0.9128 - val_loss: 0.2600 - val_categorical_accuracy: 0.9055\n"
     ]
    },
    {
     "name": "stderr",
     "output_type": "stream",
     "text": [
      "\u001b[32m[I 2022-06-14 03:51:59,716]\u001b[0m Trial 33 finished with value: 0.9055117964744568 and parameters: {'n_epochs': 5, 'learning_rate': 0.0008873880070826122, 'filters_1': 26, 'kernel_size_1': 8, 'pool_size_1': 2, 'filters_2': 14, 'kernel_size_2': 10, 'pool_size_2': 2, 'dropout_rate': 0.8245067122331159, 'lin_1_n': 95, 'batch_size': 128}. Best is trial 2 with value: 0.9685039520263672.\u001b[0m\n"
     ]
    },
    {
     "name": "stdout",
     "output_type": "stream",
     "text": [
      "Epoch 1/10\n",
      "14/14 [==============================] - ETA: 0s - loss: 0.6708 - categorical_accuracy: 0.5875"
     ]
    },
    {
     "name": "stderr",
     "output_type": "stream",
     "text": [
      "\u001b[32m[I 2022-06-14 03:52:46,485]\u001b[0m Trial 34 pruned. Trial was pruned at epoch 0.\u001b[0m\n"
     ]
    },
    {
     "name": "stdout",
     "output_type": "stream",
     "text": [
      "Epoch 1/25\n",
      "55/55 [==============================] - 82s 1s/step - loss: 0.6359 - categorical_accuracy: 0.6166 - val_loss: 0.5084 - val_categorical_accuracy: 0.7244\n",
      "Epoch 2/25\n",
      "55/55 [==============================] - 80s 1s/step - loss: 0.4756 - categorical_accuracy: 0.7687 - val_loss: 0.3418 - val_categorical_accuracy: 0.8189\n",
      "Epoch 3/25\n",
      "55/55 [==============================] - 81s 1s/step - loss: 0.4242 - categorical_accuracy: 0.7943 - val_loss: 0.3479 - val_categorical_accuracy: 0.8346\n",
      "Epoch 4/25\n",
      "55/55 [==============================] - 80s 1s/step - loss: 0.3557 - categorical_accuracy: 0.8445 - val_loss: 0.3455 - val_categorical_accuracy: 0.8504\n",
      "Epoch 5/25\n",
      "55/55 [==============================] - ETA: 0s - loss: 0.3333 - categorical_accuracy: 0.8536"
     ]
    },
    {
     "name": "stderr",
     "output_type": "stream",
     "text": [
      "\u001b[32m[I 2022-06-14 03:59:31,772]\u001b[0m Trial 35 pruned. Trial was pruned at epoch 4.\u001b[0m\n"
     ]
    },
    {
     "name": "stdout",
     "output_type": "stream",
     "text": [
      "Epoch 1/20\n",
      "37/37 [==============================] - 40s 1s/step - loss: 0.6263 - categorical_accuracy: 0.6455 - val_loss: 0.5552 - val_categorical_accuracy: 0.7402\n",
      "Epoch 2/20\n",
      "37/37 [==============================] - ETA: 0s - loss: 0.4711 - categorical_accuracy: 0.7680"
     ]
    },
    {
     "name": "stderr",
     "output_type": "stream",
     "text": [
      "\u001b[32m[I 2022-06-14 04:00:51,838]\u001b[0m Trial 36 pruned. Trial was pruned at epoch 1.\u001b[0m\n"
     ]
    },
    {
     "name": "stdout",
     "output_type": "stream",
     "text": [
      "Epoch 1/10\n",
      "110/110 [==============================] - ETA: 0s - loss: 0.5444 - categorical_accuracy: 0.7040"
     ]
    },
    {
     "name": "stderr",
     "output_type": "stream",
     "text": [
      "\u001b[32m[I 2022-06-14 04:01:35,551]\u001b[0m Trial 37 pruned. Trial was pruned at epoch 0.\u001b[0m\n"
     ]
    },
    {
     "name": "stdout",
     "output_type": "stream",
     "text": [
      "Epoch 1/50\n",
      "22/22 [==============================] - ETA: 0s - loss: 0.6708 - categorical_accuracy: 0.6059"
     ]
    },
    {
     "name": "stderr",
     "output_type": "stream",
     "text": [
      "\u001b[32m[I 2022-06-14 04:02:08,114]\u001b[0m Trial 38 pruned. Trial was pruned at epoch 0.\u001b[0m\n"
     ]
    },
    {
     "name": "stdout",
     "output_type": "stream",
     "text": [
      "Epoch 1/35\n",
      "19/19 [==============================] - 62s 3s/step - loss: 0.7526 - categorical_accuracy: 0.5239 - val_loss: 0.5908 - val_categorical_accuracy: 0.7953\n",
      "Epoch 2/35\n",
      "19/19 [==============================] - 61s 3s/step - loss: 0.5495 - categorical_accuracy: 0.7209 - val_loss: 0.7025 - val_categorical_accuracy: 0.5118\n",
      "Epoch 3/35\n",
      "19/19 [==============================] - 61s 3s/step - loss: 0.4384 - categorical_accuracy: 0.7862 - val_loss: 0.6436 - val_categorical_accuracy: 0.5984\n",
      "Epoch 4/35\n",
      "19/19 [==============================] - ETA: 0s - loss: 0.3481 - categorical_accuracy: 0.8429"
     ]
    },
    {
     "name": "stderr",
     "output_type": "stream",
     "text": [
      "\u001b[32m[I 2022-06-14 04:06:13,484]\u001b[0m Trial 39 pruned. Trial was pruned at epoch 3.\u001b[0m\n"
     ]
    },
    {
     "name": "stdout",
     "output_type": "stream",
     "text": [
      "Epoch 1/30\n",
      "14/14 [==============================] - 45s 3s/step - loss: 0.6800 - categorical_accuracy: 0.5623 - val_loss: 0.6041 - val_categorical_accuracy: 0.8898\n",
      "Epoch 2/30\n",
      "14/14 [==============================] - 45s 3s/step - loss: 0.6097 - categorical_accuracy: 0.6596 - val_loss: 0.5986 - val_categorical_accuracy: 0.5591\n",
      "Epoch 3/30\n",
      "14/14 [==============================] - 43s 3s/step - loss: 0.5362 - categorical_accuracy: 0.7156 - val_loss: 0.5093 - val_categorical_accuracy: 0.6850\n",
      "Epoch 4/30\n",
      "14/14 [==============================] - 44s 3s/step - loss: 0.4843 - categorical_accuracy: 0.7583 - val_loss: 0.4822 - val_categorical_accuracy: 0.7087\n",
      "Epoch 5/30\n",
      "14/14 [==============================] - ETA: 0s - loss: 0.4466 - categorical_accuracy: 0.7855"
     ]
    },
    {
     "name": "stderr",
     "output_type": "stream",
     "text": [
      "\u001b[32m[I 2022-06-14 04:09:55,797]\u001b[0m Trial 40 pruned. Trial was pruned at epoch 4.\u001b[0m\n"
     ]
    },
    {
     "name": "stdout",
     "output_type": "stream",
     "text": [
      "Epoch 1/40\n",
      "55/55 [==============================] - ETA: 0s - loss: 0.6113 - categorical_accuracy: 0.6404"
     ]
    },
    {
     "name": "stderr",
     "output_type": "stream",
     "text": [
      "\u001b[32m[I 2022-06-14 04:10:51,118]\u001b[0m Trial 41 pruned. Trial was pruned at epoch 0.\u001b[0m\n"
     ]
    },
    {
     "name": "stdout",
     "output_type": "stream",
     "text": [
      "Epoch 1/45\n",
      "110/110 [==============================] - 49s 438ms/step - loss: 0.6278 - categorical_accuracy: 0.6337 - val_loss: 0.4911 - val_categorical_accuracy: 0.7874\n",
      "Epoch 2/45\n",
      "110/110 [==============================] - 48s 433ms/step - loss: 0.4987 - categorical_accuracy: 0.7454 - val_loss: 0.4238 - val_categorical_accuracy: 0.7638\n",
      "Epoch 3/45\n",
      "110/110 [==============================] - ETA: 0s - loss: 0.4138 - categorical_accuracy: 0.8096"
     ]
    },
    {
     "name": "stderr",
     "output_type": "stream",
     "text": [
      "\u001b[32m[I 2022-06-14 04:13:15,068]\u001b[0m Trial 42 pruned. Trial was pruned at epoch 2.\u001b[0m\n"
     ]
    },
    {
     "name": "stdout",
     "output_type": "stream",
     "text": [
      "Epoch 1/35\n",
      "37/37 [==============================] - 51s 1s/step - loss: 0.6641 - categorical_accuracy: 0.5859 - val_loss: 0.5339 - val_categorical_accuracy: 0.8976\n",
      "Epoch 2/35\n",
      "37/37 [==============================] - 51s 1s/step - loss: 0.5322 - categorical_accuracy: 0.7181 - val_loss: 0.4480 - val_categorical_accuracy: 0.7402\n",
      "Epoch 3/35\n",
      "37/37 [==============================] - 50s 1s/step - loss: 0.4600 - categorical_accuracy: 0.7751 - val_loss: 0.3886 - val_categorical_accuracy: 0.7717\n",
      "Epoch 4/35\n",
      "37/37 [==============================] - 51s 1s/step - loss: 0.3855 - categorical_accuracy: 0.8281 - val_loss: 0.3411 - val_categorical_accuracy: 0.8189\n",
      "Epoch 5/35\n",
      "37/37 [==============================] - 50s 1s/step - loss: 0.3342 - categorical_accuracy: 0.8523 - val_loss: 0.2904 - val_categorical_accuracy: 0.8583\n",
      "Epoch 6/35\n",
      "37/37 [==============================] - ETA: 0s - loss: 0.3102 - categorical_accuracy: 0.8673"
     ]
    },
    {
     "name": "stderr",
     "output_type": "stream",
     "text": [
      "\u001b[32m[I 2022-06-14 04:18:20,202]\u001b[0m Trial 43 pruned. Trial was pruned at epoch 5.\u001b[0m\n"
     ]
    },
    {
     "name": "stdout",
     "output_type": "stream",
     "text": [
      "Epoch 1/25\n",
      "55/55 [==============================] - 49s 889ms/step - loss: 0.6254 - categorical_accuracy: 0.6364 - val_loss: 0.5451 - val_categorical_accuracy: 0.6693\n",
      "Epoch 2/25\n",
      "55/55 [==============================] - ETA: 0s - loss: 0.5111 - categorical_accuracy: 0.7410"
     ]
    },
    {
     "name": "stderr",
     "output_type": "stream",
     "text": [
      "\u001b[32m[I 2022-06-14 04:19:58,319]\u001b[0m Trial 44 pruned. Trial was pruned at epoch 1.\u001b[0m\n"
     ]
    },
    {
     "name": "stdout",
     "output_type": "stream",
     "text": [
      "Epoch 1/40\n",
      "28/28 [==============================] - 52s 2s/step - loss: 0.6242 - categorical_accuracy: 0.6368 - val_loss: 0.5516 - val_categorical_accuracy: 0.6772\n",
      "Epoch 2/40\n",
      "28/28 [==============================] - ETA: 0s - loss: 0.4707 - categorical_accuracy: 0.7651"
     ]
    },
    {
     "name": "stderr",
     "output_type": "stream",
     "text": [
      "\u001b[32m[I 2022-06-14 04:21:41,454]\u001b[0m Trial 45 pruned. Trial was pruned at epoch 1.\u001b[0m\n"
     ]
    },
    {
     "name": "stdout",
     "output_type": "stream",
     "text": [
      "Epoch 1/20\n",
      "110/110 [==============================] - 25s 223ms/step - loss: 0.5390 - categorical_accuracy: 0.7108 - val_loss: 0.3918 - val_categorical_accuracy: 0.8110\n",
      "Epoch 2/20\n",
      "110/110 [==============================] - 24s 215ms/step - loss: 0.3518 - categorical_accuracy: 0.8445 - val_loss: 0.3170 - val_categorical_accuracy: 0.8740\n",
      "Epoch 3/20\n",
      "110/110 [==============================] - 24s 218ms/step - loss: 0.2389 - categorical_accuracy: 0.9028 - val_loss: 0.1952 - val_categorical_accuracy: 0.9370\n",
      "Epoch 4/20\n",
      "110/110 [==============================] - 27s 242ms/step - loss: 0.1695 - categorical_accuracy: 0.9356 - val_loss: 0.1650 - val_categorical_accuracy: 0.9606\n",
      "Epoch 5/20\n",
      "110/110 [==============================] - 24s 222ms/step - loss: 0.1330 - categorical_accuracy: 0.9507 - val_loss: 0.1510 - val_categorical_accuracy: 0.9606\n",
      "Epoch 6/20\n",
      "110/110 [==============================] - 24s 216ms/step - loss: 0.1112 - categorical_accuracy: 0.9588 - val_loss: 0.1079 - val_categorical_accuracy: 0.9843\n",
      "Epoch 7/20\n",
      "110/110 [==============================] - 24s 216ms/step - loss: 0.0897 - categorical_accuracy: 0.9676 - val_loss: 0.1277 - val_categorical_accuracy: 0.9528\n",
      "Epoch 8/20\n",
      "110/110 [==============================] - 24s 217ms/step - loss: 0.0696 - categorical_accuracy: 0.9763 - val_loss: 0.1413 - val_categorical_accuracy: 0.9528\n",
      "Epoch 9/20\n",
      "110/110 [==============================] - 24s 217ms/step - loss: 0.0687 - categorical_accuracy: 0.9753 - val_loss: 0.0871 - val_categorical_accuracy: 0.9606\n",
      "Epoch 10/20\n",
      "110/110 [==============================] - 24s 216ms/step - loss: 0.0631 - categorical_accuracy: 0.9771 - val_loss: 0.0869 - val_categorical_accuracy: 0.9606\n",
      "Epoch 11/20\n",
      "110/110 [==============================] - 24s 216ms/step - loss: 0.0507 - categorical_accuracy: 0.9822 - val_loss: 0.1020 - val_categorical_accuracy: 0.9606\n",
      "Epoch 12/20\n",
      "110/110 [==============================] - 24s 215ms/step - loss: 0.0423 - categorical_accuracy: 0.9869 - val_loss: 0.1006 - val_categorical_accuracy: 0.9528\n",
      "Epoch 13/20\n",
      "110/110 [==============================] - 24s 216ms/step - loss: 0.0348 - categorical_accuracy: 0.9882 - val_loss: 0.1197 - val_categorical_accuracy: 0.9528\n",
      "Epoch 14/20\n",
      "110/110 [==============================] - 24s 215ms/step - loss: 0.0372 - categorical_accuracy: 0.9862 - val_loss: 0.1158 - val_categorical_accuracy: 0.9528\n",
      "Epoch 15/20\n",
      "110/110 [==============================] - 24s 216ms/step - loss: 0.0405 - categorical_accuracy: 0.9862 - val_loss: 0.0976 - val_categorical_accuracy: 0.9606\n"
     ]
    },
    {
     "name": "stderr",
     "output_type": "stream",
     "text": [
      "\u001b[32m[I 2022-06-14 04:27:42,627]\u001b[0m Trial 46 finished with value: 0.960629940032959 and parameters: {'n_epochs': 20, 'learning_rate': 0.0003780265453368531, 'filters_1': 12, 'kernel_size_1': 12, 'pool_size_1': 4, 'filters_2': 52, 'kernel_size_2': 6, 'pool_size_2': 3, 'dropout_rate': 0.553317093169381, 'lin_1_n': 101, 'batch_size': 64}. Best is trial 2 with value: 0.9685039520263672.\u001b[0m\n"
     ]
    },
    {
     "name": "stdout",
     "output_type": "stream",
     "text": [
      "Epoch 1/20\n",
      "110/110 [==============================] - ETA: 0s - loss: 0.4809 - categorical_accuracy: 0.7581"
     ]
    },
    {
     "name": "stderr",
     "output_type": "stream",
     "text": [
      "\u001b[32m[I 2022-06-14 04:28:09,371]\u001b[0m Trial 47 pruned. Trial was pruned at epoch 0.\u001b[0m\n"
     ]
    },
    {
     "name": "stdout",
     "output_type": "stream",
     "text": [
      "Epoch 1/15\n",
      "19/19 [==============================] - ETA: 0s - loss: 0.6585 - categorical_accuracy: 0.5931"
     ]
    },
    {
     "name": "stderr",
     "output_type": "stream",
     "text": [
      "\u001b[32m[I 2022-06-14 04:28:30,006]\u001b[0m Trial 48 pruned. Trial was pruned at epoch 0.\u001b[0m\n"
     ]
    },
    {
     "name": "stdout",
     "output_type": "stream",
     "text": [
      "Epoch 1/25\n",
      "110/110 [==============================] - 25s 221ms/step - loss: 0.5566 - categorical_accuracy: 0.6901 - val_loss: 0.5183 - val_categorical_accuracy: 0.6929\n",
      "Epoch 2/25\n",
      "110/110 [==============================] - 24s 220ms/step - loss: 0.4092 - categorical_accuracy: 0.8120 - val_loss: 0.3756 - val_categorical_accuracy: 0.8583\n",
      "Epoch 3/25\n",
      "110/110 [==============================] - 25s 223ms/step - loss: 0.3377 - categorical_accuracy: 0.8519 - val_loss: 0.4092 - val_categorical_accuracy: 0.8110\n",
      "Epoch 4/25\n",
      "110/110 [==============================] - 24s 221ms/step - loss: 0.2755 - categorical_accuracy: 0.8858 - val_loss: 0.3046 - val_categorical_accuracy: 0.8976\n",
      "Epoch 5/25\n",
      "110/110 [==============================] - 24s 220ms/step - loss: 0.2313 - categorical_accuracy: 0.9108 - val_loss: 0.2830 - val_categorical_accuracy: 0.8976\n",
      "Epoch 6/25\n",
      "110/110 [==============================] - 24s 220ms/step - loss: 0.2007 - categorical_accuracy: 0.9243 - val_loss: 0.2436 - val_categorical_accuracy: 0.9370\n",
      "Epoch 7/25\n",
      "110/110 [==============================] - 24s 220ms/step - loss: 0.1868 - categorical_accuracy: 0.9284 - val_loss: 0.2262 - val_categorical_accuracy: 0.9370\n",
      "Epoch 8/25\n",
      "110/110 [==============================] - ETA: 0s - loss: 0.1675 - categorical_accuracy: 0.9351"
     ]
    },
    {
     "name": "stderr",
     "output_type": "stream",
     "text": [
      "\u001b[32m[I 2022-06-14 04:31:45,000]\u001b[0m Trial 49 pruned. Trial was pruned at epoch 7.\u001b[0m\n"
     ]
    }
   ],
   "source": [
    "study.optimize(objective, n_trials=50)"
   ]
  },
  {
   "cell_type": "code",
   "execution_count": 42,
   "id": "13d27eae",
   "metadata": {},
   "outputs": [
    {
     "name": "stdout",
     "output_type": "stream",
     "text": [
      "Epoch 1/20\n",
      "37/37 [==============================] - ETA: 0s - loss: 0.6436 - categorical_accuracy: 0.6304"
     ]
    },
    {
     "name": "stderr",
     "output_type": "stream",
     "text": [
      "\u001b[32m[I 2022-06-14 08:54:30,041]\u001b[0m Trial 51 pruned. Trial was pruned at epoch 0.\u001b[0m\n"
     ]
    },
    {
     "name": "stdout",
     "output_type": "stream",
     "text": [
      "Epoch 1/20\n",
      "55/55 [==============================] - ETA: 0s - loss: 0.5630 - categorical_accuracy: 0.6903"
     ]
    },
    {
     "name": "stderr",
     "output_type": "stream",
     "text": [
      "\u001b[32m[I 2022-06-14 08:55:13,264]\u001b[0m Trial 52 pruned. Trial was pruned at epoch 0.\u001b[0m\n"
     ]
    },
    {
     "name": "stdout",
     "output_type": "stream",
     "text": [
      "Epoch 1/50\n",
      "110/110 [==============================] - 29s 263ms/step - loss: 0.5275 - categorical_accuracy: 0.7219 - val_loss: 0.5134 - val_categorical_accuracy: 0.7087\n",
      "Epoch 2/50\n",
      "110/110 [==============================] - 30s 273ms/step - loss: 0.3476 - categorical_accuracy: 0.8458 - val_loss: 0.3583 - val_categorical_accuracy: 0.8740\n",
      "Epoch 3/50\n",
      "110/110 [==============================] - 30s 269ms/step - loss: 0.2296 - categorical_accuracy: 0.9044 - val_loss: 0.2464 - val_categorical_accuracy: 0.9449\n",
      "Epoch 4/50\n",
      "110/110 [==============================] - 28s 257ms/step - loss: 0.1830 - categorical_accuracy: 0.9276 - val_loss: 0.2410 - val_categorical_accuracy: 0.9449\n",
      "Epoch 5/50\n",
      "110/110 [==============================] - 29s 261ms/step - loss: 0.1319 - categorical_accuracy: 0.9514 - val_loss: 0.1446 - val_categorical_accuracy: 0.9606\n",
      "Epoch 6/50\n",
      "110/110 [==============================] - 29s 265ms/step - loss: 0.1119 - categorical_accuracy: 0.9582 - val_loss: 0.2285 - val_categorical_accuracy: 0.9291\n",
      "Epoch 7/50\n",
      "110/110 [==============================] - 29s 263ms/step - loss: 0.0956 - categorical_accuracy: 0.9654 - val_loss: 0.1481 - val_categorical_accuracy: 0.9528\n",
      "Epoch 8/50\n",
      "110/110 [==============================] - 29s 260ms/step - loss: 0.0838 - categorical_accuracy: 0.9684 - val_loss: 0.1650 - val_categorical_accuracy: 0.9449\n",
      "Epoch 9/50\n",
      "110/110 [==============================] - 28s 258ms/step - loss: 0.0705 - categorical_accuracy: 0.9746 - val_loss: 0.1294 - val_categorical_accuracy: 0.9449\n",
      "Epoch 10/50\n",
      "110/110 [==============================] - 30s 273ms/step - loss: 0.0661 - categorical_accuracy: 0.9755 - val_loss: 0.1145 - val_categorical_accuracy: 0.9528\n",
      "Epoch 11/50\n",
      "110/110 [==============================] - 30s 268ms/step - loss: 0.0656 - categorical_accuracy: 0.9758 - val_loss: 0.1970 - val_categorical_accuracy: 0.9370\n",
      "Epoch 12/50\n",
      "110/110 [==============================] - 30s 270ms/step - loss: 0.0644 - categorical_accuracy: 0.9759 - val_loss: 0.1546 - val_categorical_accuracy: 0.9370\n",
      "Epoch 13/50\n",
      "110/110 [==============================] - 30s 270ms/step - loss: 0.0492 - categorical_accuracy: 0.9828 - val_loss: 0.1818 - val_categorical_accuracy: 0.9449\n",
      "Epoch 14/50\n",
      "110/110 [==============================] - 30s 270ms/step - loss: 0.0434 - categorical_accuracy: 0.9838 - val_loss: 0.1384 - val_categorical_accuracy: 0.9528\n",
      "Epoch 15/50\n",
      "110/110 [==============================] - 29s 263ms/step - loss: 0.0418 - categorical_accuracy: 0.9857 - val_loss: 0.1735 - val_categorical_accuracy: 0.9291\n"
     ]
    },
    {
     "name": "stderr",
     "output_type": "stream",
     "text": [
      "\u001b[32m[I 2022-06-14 09:02:32,169]\u001b[0m Trial 53 finished with value: 0.9291338324546814 and parameters: {'n_epochs': 50, 'learning_rate': 0.00047662485223488914, 'filters_1': 14, 'kernel_size_1': 12, 'pool_size_1': 4, 'filters_2': 62, 'kernel_size_2': 6, 'pool_size_2': 2, 'dropout_rate': 0.741089428197466, 'lin_1_n': 102, 'batch_size': 64}. Best is trial 2 with value: 0.9685039520263672.\u001b[0m\n"
     ]
    },
    {
     "name": "stdout",
     "output_type": "stream",
     "text": [
      "Epoch 1/30\n",
      "55/55 [==============================] - ETA: 0s - loss: 0.6357 - categorical_accuracy: 0.6200"
     ]
    },
    {
     "name": "stderr",
     "output_type": "stream",
     "text": [
      "\u001b[32m[I 2022-06-14 09:03:05,240]\u001b[0m Trial 54 pruned. Trial was pruned at epoch 0.\u001b[0m\n"
     ]
    },
    {
     "name": "stdout",
     "output_type": "stream",
     "text": [
      "Epoch 1/45\n",
      "110/110 [==============================] - 22s 201ms/step - loss: 0.7850 - categorical_accuracy: 0.5178 - val_loss: 0.6169 - val_categorical_accuracy: 0.9685\n",
      "Epoch 2/45\n",
      "110/110 [==============================] - 21s 190ms/step - loss: 0.6911 - categorical_accuracy: 0.5483 - val_loss: 0.6133 - val_categorical_accuracy: 0.9685\n",
      "Epoch 3/45\n",
      "110/110 [==============================] - 21s 193ms/step - loss: 0.6694 - categorical_accuracy: 0.5771 - val_loss: 0.6239 - val_categorical_accuracy: 0.9134\n",
      "Epoch 4/45\n",
      "110/110 [==============================] - 21s 194ms/step - loss: 0.6487 - categorical_accuracy: 0.6046 - val_loss: 0.6409 - val_categorical_accuracy: 0.6772\n",
      "Epoch 5/45\n",
      "110/110 [==============================] - 22s 198ms/step - loss: 0.6318 - categorical_accuracy: 0.6207 - val_loss: 0.5774 - val_categorical_accuracy: 0.8268\n",
      "Epoch 6/45\n",
      "110/110 [==============================] - 21s 190ms/step - loss: 0.6213 - categorical_accuracy: 0.6345 - val_loss: 0.5574 - val_categorical_accuracy: 0.8504\n",
      "Epoch 7/45\n",
      "110/110 [==============================] - 22s 198ms/step - loss: 0.6081 - categorical_accuracy: 0.6464 - val_loss: 0.5341 - val_categorical_accuracy: 0.8031\n",
      "Epoch 8/45\n",
      "110/110 [==============================] - 23s 208ms/step - loss: 0.5990 - categorical_accuracy: 0.6568 - val_loss: 0.5130 - val_categorical_accuracy: 0.8425\n",
      "Epoch 9/45\n",
      "110/110 [==============================] - 22s 198ms/step - loss: 0.5886 - categorical_accuracy: 0.6642 - val_loss: 0.4855 - val_categorical_accuracy: 0.8819\n",
      "Epoch 10/45\n",
      "110/110 [==============================] - 21s 189ms/step - loss: 0.5746 - categorical_accuracy: 0.6753 - val_loss: 0.4732 - val_categorical_accuracy: 0.8740\n",
      "Epoch 11/45\n",
      "110/110 [==============================] - 20s 186ms/step - loss: 0.5732 - categorical_accuracy: 0.6784 - val_loss: 0.4733 - val_categorical_accuracy: 0.8661\n",
      "Epoch 12/45\n",
      "110/110 [==============================] - 21s 191ms/step - loss: 0.5685 - categorical_accuracy: 0.6803 - val_loss: 0.4611 - val_categorical_accuracy: 0.8583\n",
      "Epoch 13/45\n",
      "110/110 [==============================] - 21s 193ms/step - loss: 0.5588 - categorical_accuracy: 0.6911 - val_loss: 0.4301 - val_categorical_accuracy: 0.8898\n",
      "Epoch 14/45\n",
      "110/110 [==============================] - 21s 192ms/step - loss: 0.5531 - categorical_accuracy: 0.6990 - val_loss: 0.4190 - val_categorical_accuracy: 0.8976\n",
      "Epoch 15/45\n",
      "110/110 [==============================] - 21s 191ms/step - loss: 0.5545 - categorical_accuracy: 0.6984 - val_loss: 0.4238 - val_categorical_accuracy: 0.8898\n",
      "Epoch 16/45\n",
      "110/110 [==============================] - 22s 198ms/step - loss: 0.5400 - categorical_accuracy: 0.7107 - val_loss: 0.4055 - val_categorical_accuracy: 0.8898\n",
      "Epoch 17/45\n",
      "110/110 [==============================] - 21s 195ms/step - loss: 0.5341 - categorical_accuracy: 0.7119 - val_loss: 0.3828 - val_categorical_accuracy: 0.9134\n",
      "Epoch 18/45\n",
      "110/110 [==============================] - 24s 223ms/step - loss: 0.5294 - categorical_accuracy: 0.7251 - val_loss: 0.3834 - val_categorical_accuracy: 0.9055\n",
      "Epoch 19/45\n",
      "110/110 [==============================] - 26s 238ms/step - loss: 0.5207 - categorical_accuracy: 0.7308 - val_loss: 0.3660 - val_categorical_accuracy: 0.9055\n",
      "Epoch 20/45\n",
      "110/110 [==============================] - 22s 196ms/step - loss: 0.5160 - categorical_accuracy: 0.7303 - val_loss: 0.3638 - val_categorical_accuracy: 0.9213\n",
      "Epoch 21/45\n",
      "110/110 [==============================] - 22s 196ms/step - loss: 0.5187 - categorical_accuracy: 0.7288 - val_loss: 0.3584 - val_categorical_accuracy: 0.9213\n",
      "Epoch 22/45\n",
      "110/110 [==============================] - 22s 198ms/step - loss: 0.5052 - categorical_accuracy: 0.7395 - val_loss: 0.3526 - val_categorical_accuracy: 0.9055\n",
      "Epoch 23/45\n",
      "110/110 [==============================] - 21s 193ms/step - loss: 0.5062 - categorical_accuracy: 0.7406 - val_loss: 0.3406 - val_categorical_accuracy: 0.9213\n",
      "Epoch 24/45\n",
      "110/110 [==============================] - 21s 194ms/step - loss: 0.5039 - categorical_accuracy: 0.7407 - val_loss: 0.3409 - val_categorical_accuracy: 0.9213\n",
      "Epoch 25/45\n",
      "110/110 [==============================] - 21s 188ms/step - loss: 0.5012 - categorical_accuracy: 0.7474 - val_loss: 0.3374 - val_categorical_accuracy: 0.9213\n",
      "Epoch 26/45\n",
      "110/110 [==============================] - 21s 189ms/step - loss: 0.4952 - categorical_accuracy: 0.7520 - val_loss: 0.3455 - val_categorical_accuracy: 0.8898\n",
      "Epoch 27/45\n",
      "110/110 [==============================] - 21s 193ms/step - loss: 0.4971 - categorical_accuracy: 0.7453 - val_loss: 0.3302 - val_categorical_accuracy: 0.9291\n",
      "Epoch 28/45\n",
      "110/110 [==============================] - 21s 195ms/step - loss: 0.4920 - categorical_accuracy: 0.7523 - val_loss: 0.3179 - val_categorical_accuracy: 0.9370\n",
      "Epoch 29/45\n",
      "110/110 [==============================] - 21s 195ms/step - loss: 0.4896 - categorical_accuracy: 0.7507 - val_loss: 0.3179 - val_categorical_accuracy: 0.9291\n",
      "Epoch 30/45\n",
      "110/110 [==============================] - 21s 189ms/step - loss: 0.4857 - categorical_accuracy: 0.7563 - val_loss: 0.3204 - val_categorical_accuracy: 0.9213\n",
      "Epoch 31/45\n",
      "110/110 [==============================] - 21s 188ms/step - loss: 0.4788 - categorical_accuracy: 0.7593 - val_loss: 0.3114 - val_categorical_accuracy: 0.9291\n",
      "Epoch 32/45\n",
      "110/110 [==============================] - 21s 192ms/step - loss: 0.4850 - categorical_accuracy: 0.7547 - val_loss: 0.3071 - val_categorical_accuracy: 0.9370\n",
      "Epoch 33/45\n",
      "110/110 [==============================] - 21s 192ms/step - loss: 0.4799 - categorical_accuracy: 0.7650 - val_loss: 0.3030 - val_categorical_accuracy: 0.9370\n",
      "Epoch 34/45\n",
      "110/110 [==============================] - 20s 184ms/step - loss: 0.4771 - categorical_accuracy: 0.7586 - val_loss: 0.2858 - val_categorical_accuracy: 0.9370\n",
      "Epoch 35/45\n",
      "110/110 [==============================] - 21s 194ms/step - loss: 0.4688 - categorical_accuracy: 0.7620 - val_loss: 0.3018 - val_categorical_accuracy: 0.9291\n",
      "Epoch 36/45\n",
      "110/110 [==============================] - 21s 189ms/step - loss: 0.4689 - categorical_accuracy: 0.7664 - val_loss: 0.2878 - val_categorical_accuracy: 0.9370\n",
      "Epoch 37/45\n",
      "110/110 [==============================] - 20s 186ms/step - loss: 0.4613 - categorical_accuracy: 0.7745 - val_loss: 0.2747 - val_categorical_accuracy: 0.9370\n",
      "Epoch 38/45\n",
      "110/110 [==============================] - 22s 197ms/step - loss: 0.4628 - categorical_accuracy: 0.7685 - val_loss: 0.2831 - val_categorical_accuracy: 0.9213\n",
      "Epoch 39/45\n",
      "110/110 [==============================] - 21s 187ms/step - loss: 0.4623 - categorical_accuracy: 0.7737 - val_loss: 0.2694 - val_categorical_accuracy: 0.9370\n",
      "Epoch 40/45\n",
      "110/110 [==============================] - 20s 185ms/step - loss: 0.4576 - categorical_accuracy: 0.7707 - val_loss: 0.2839 - val_categorical_accuracy: 0.9291\n",
      "Epoch 41/45\n",
      "110/110 [==============================] - 20s 185ms/step - loss: 0.4606 - categorical_accuracy: 0.7687 - val_loss: 0.2803 - val_categorical_accuracy: 0.9291\n",
      "Epoch 42/45\n",
      "110/110 [==============================] - 20s 184ms/step - loss: 0.4601 - categorical_accuracy: 0.7715 - val_loss: 0.2992 - val_categorical_accuracy: 0.9134\n",
      "Epoch 43/45\n",
      "110/110 [==============================] - 21s 186ms/step - loss: 0.4526 - categorical_accuracy: 0.7739 - val_loss: 0.2788 - val_categorical_accuracy: 0.9213\n",
      "Epoch 44/45\n",
      "110/110 [==============================] - 21s 187ms/step - loss: 0.4544 - categorical_accuracy: 0.7735 - val_loss: 0.2842 - val_categorical_accuracy: 0.9134\n"
     ]
    },
    {
     "name": "stderr",
     "output_type": "stream",
     "text": [
      "\u001b[32m[I 2022-06-14 09:18:44,260]\u001b[0m Trial 55 finished with value: 0.913385808467865 and parameters: {'n_epochs': 45, 'learning_rate': 0.00021281474857040615, 'filters_1': 2, 'kernel_size_1': 12, 'pool_size_1': 4, 'filters_2': 2, 'kernel_size_2': 4, 'pool_size_2': 3, 'dropout_rate': 0.5411771768134458, 'lin_1_n': 122, 'batch_size': 64}. Best is trial 2 with value: 0.9685039520263672.\u001b[0m\n"
     ]
    },
    {
     "name": "stdout",
     "output_type": "stream",
     "text": [
      "Epoch 1/15\n",
      "28/28 [==============================] - ETA: 0s - loss: 0.6090 - categorical_accuracy: 0.6521"
     ]
    },
    {
     "name": "stderr",
     "output_type": "stream",
     "text": [
      "\u001b[32m[I 2022-06-14 09:19:02,559]\u001b[0m Trial 56 pruned. Trial was pruned at epoch 0.\u001b[0m\n"
     ]
    },
    {
     "name": "stdout",
     "output_type": "stream",
     "text": [
      "Epoch 1/10\n",
      "22/22 [==============================] - ETA: 0s - loss: 0.5892 - categorical_accuracy: 0.6653"
     ]
    },
    {
     "name": "stderr",
     "output_type": "stream",
     "text": [
      "\u001b[32m[I 2022-06-14 09:20:01,438]\u001b[0m Trial 57 pruned. Trial was pruned at epoch 0.\u001b[0m\n"
     ]
    },
    {
     "name": "stdout",
     "output_type": "stream",
     "text": [
      "Epoch 1/30\n",
      "16/16 [==============================] - ETA: 0s - loss: 0.6940 - categorical_accuracy: 0.5686"
     ]
    },
    {
     "name": "stderr",
     "output_type": "stream",
     "text": [
      "\u001b[32m[I 2022-06-14 09:20:19,832]\u001b[0m Trial 58 pruned. Trial was pruned at epoch 0.\u001b[0m\n"
     ]
    },
    {
     "name": "stdout",
     "output_type": "stream",
     "text": [
      "Epoch 1/25\n",
      "55/55 [==============================] - 38s 680ms/step - loss: 0.5100 - categorical_accuracy: 0.7375 - val_loss: 0.4750 - val_categorical_accuracy: 0.7717\n",
      "Epoch 2/25\n",
      "55/55 [==============================] - 37s 678ms/step - loss: 0.3023 - categorical_accuracy: 0.8674 - val_loss: 0.3176 - val_categorical_accuracy: 0.8740\n",
      "Epoch 3/25\n",
      "55/55 [==============================] - 37s 676ms/step - loss: 0.1916 - categorical_accuracy: 0.9306 - val_loss: 0.2634 - val_categorical_accuracy: 0.9134\n",
      "Epoch 4/25\n",
      "55/55 [==============================] - 37s 679ms/step - loss: 0.1268 - categorical_accuracy: 0.9545 - val_loss: 0.1566 - val_categorical_accuracy: 0.9606\n",
      "Epoch 5/25\n",
      "55/55 [==============================] - 38s 694ms/step - loss: 0.0825 - categorical_accuracy: 0.9741 - val_loss: 0.1438 - val_categorical_accuracy: 0.9606\n",
      "Epoch 6/25\n",
      "55/55 [==============================] - 38s 699ms/step - loss: 0.0571 - categorical_accuracy: 0.9812 - val_loss: 0.1556 - val_categorical_accuracy: 0.9449\n",
      "Epoch 7/25\n",
      "55/55 [==============================] - 39s 706ms/step - loss: 0.0569 - categorical_accuracy: 0.9810 - val_loss: 0.1399 - val_categorical_accuracy: 0.9606\n",
      "Epoch 8/25\n",
      "55/55 [==============================] - 38s 695ms/step - loss: 0.0311 - categorical_accuracy: 0.9913 - val_loss: 0.1031 - val_categorical_accuracy: 0.9685\n",
      "Epoch 9/25\n",
      "55/55 [==============================] - 38s 688ms/step - loss: 0.0212 - categorical_accuracy: 0.9944 - val_loss: 0.0869 - val_categorical_accuracy: 0.9764\n",
      "Epoch 10/25\n",
      "55/55 [==============================] - 38s 699ms/step - loss: 0.0208 - categorical_accuracy: 0.9933 - val_loss: 0.1248 - val_categorical_accuracy: 0.9449\n",
      "Epoch 11/25\n",
      "55/55 [==============================] - 38s 682ms/step - loss: 0.0140 - categorical_accuracy: 0.9966 - val_loss: 0.0992 - val_categorical_accuracy: 0.9606\n",
      "Epoch 12/25\n",
      "55/55 [==============================] - 38s 687ms/step - loss: 0.0162 - categorical_accuracy: 0.9953 - val_loss: 0.1217 - val_categorical_accuracy: 0.9606\n",
      "Epoch 13/25\n",
      "55/55 [==============================] - 38s 687ms/step - loss: 0.0118 - categorical_accuracy: 0.9969 - val_loss: 0.0977 - val_categorical_accuracy: 0.9685\n",
      "Epoch 14/25\n",
      "55/55 [==============================] - 38s 697ms/step - loss: 0.0079 - categorical_accuracy: 0.9986 - val_loss: 0.1123 - val_categorical_accuracy: 0.9528\n"
     ]
    },
    {
     "name": "stderr",
     "output_type": "stream",
     "text": [
      "\u001b[32m[I 2022-06-14 09:29:11,086]\u001b[0m Trial 59 finished with value: 0.9527559280395508 and parameters: {'n_epochs': 25, 'learning_rate': 0.0005428225640789256, 'filters_1': 6, 'kernel_size_1': 12, 'pool_size_1': 2, 'filters_2': 46, 'kernel_size_2': 8, 'pool_size_2': 2, 'dropout_rate': 0.31223428908709155, 'lin_1_n': 74, 'batch_size': 128}. Best is trial 2 with value: 0.9685039520263672.\u001b[0m\n"
     ]
    },
    {
     "name": "stdout",
     "output_type": "stream",
     "text": [
      "Epoch 1/25\n",
      "37/37 [==============================] - ETA: 0s - loss: 0.6591 - categorical_accuracy: 0.6147"
     ]
    },
    {
     "name": "stderr",
     "output_type": "stream",
     "text": [
      "\u001b[32m[I 2022-06-14 09:29:43,057]\u001b[0m Trial 60 pruned. Trial was pruned at epoch 0.\u001b[0m\n"
     ]
    }
   ],
   "source": [
    "study.optimize(objective, n_trials=10)"
   ]
  },
  {
   "cell_type": "code",
   "execution_count": 43,
   "id": "95d11d74",
   "metadata": {},
   "outputs": [
    {
     "name": "stdout",
     "output_type": "stream",
     "text": [
      "{'n_epochs': 25, 'learning_rate': 0.00034985316824705817, 'filters_1': 18, 'kernel_size_1': 16, 'pool_size_1': 2, 'filters_2': 42, 'kernel_size_2': 8, 'pool_size_2': 2, 'dropout_rate': 0.1548662937236178, 'lin_1_n': 31, 'batch_size': 384}\n"
     ]
    }
   ],
   "source": [
    "optimised_params = study.best_params\n",
    "print(optimised_params)"
   ]
  },
  {
   "cell_type": "code",
   "execution_count": 44,
   "id": "31deac79",
   "metadata": {},
   "outputs": [],
   "source": [
    "def opt_model(optimised_params):\n",
    "    n_epochs = optimised_params['n_epochs']\n",
    "    learning_rate = optimised_params['learning_rate']\n",
    "    optimiser = Adam(learning_rate=learning_rate)\n",
    "    # Conv 1\n",
    "    filters_1 = optimised_params['filters_1']\n",
    "    kernel_size_1 = optimised_params['kernel_size_1']\n",
    "    strides_1 = 1\n",
    "    padding_1 = 'same'\n",
    "    activation_1 = 'relu'\n",
    "    input_shape = (img_rows, img_cols, 1)\n",
    "    # Pool 1\n",
    "    pool_size_1 = optimised_params['pool_size_1']\n",
    "    # Conv 2\n",
    "    filters_2 = optimised_params['filters_2']\n",
    "    kernel_size_2 = optimised_params['kernel_size_2']\n",
    "    strides_2 = 1\n",
    "    padding_2 = 'same'\n",
    "    activation_2 = 'relu'\n",
    "    # Pool 2\n",
    "    pool_size_2 = optimised_params['pool_size_2']\n",
    "    # Droput\n",
    "    dropout_rate = optimised_params['dropout_rate']\n",
    "    # Lin 1\n",
    "    lin_1_n = optimised_params['lin_1_n']\n",
    "    \n",
    "    model = Sequential()\n",
    "    model.add(Conv2D(filters=filters_1,\n",
    "                     kernel_size=kernel_size_1,\n",
    "                     strides=strides_1,\n",
    "                     padding=padding_1,\n",
    "                     activation=activation_1,\n",
    "                     input_shape=input_shape))\n",
    "    model.add(MaxPooling2D(pool_size=pool_size_1, strides=None))\n",
    "    model.add(Conv2D(filters=filters_2,\n",
    "                     kernel_size=kernel_size_2,\n",
    "                     strides=strides_2,\n",
    "                     padding=padding_2,\n",
    "                     activation=activation_2))\n",
    "    model.add(MaxPooling2D(pool_size=pool_size_2, strides=None))\n",
    "    model.add(Dropout(rate=dropout_rate))\n",
    "    model.add(Flatten())\n",
    "    model.add(Dense(units=lin_1_n, activation='relu'))\n",
    "    model.add(Dense(units=num_classes, activation='softmax'))\n",
    "    \n",
    "    model.compile(loss=categorical_crossentropy,\n",
    "              optimizer=optimiser,\n",
    "              metrics=['categorical_accuracy'])\n",
    "    \n",
    "    return model"
   ]
  },
  {
   "cell_type": "markdown",
   "id": "de8f7bfb",
   "metadata": {},
   "source": [
    "# Final Training"
   ]
  },
  {
   "cell_type": "code",
   "execution_count": 45,
   "id": "097ea8af",
   "metadata": {},
   "outputs": [
    {
     "name": "stdout",
     "output_type": "stream",
     "text": [
      "Epoch 1/25\n",
      "19/19 [==============================] - 77s 4s/step - loss: 0.6749 - categorical_accuracy: 0.6008 - val_loss: 0.6606 - val_categorical_accuracy: 0.5433\n",
      "Epoch 2/25\n",
      "19/19 [==============================] - 73s 4s/step - loss: 0.5228 - categorical_accuracy: 0.7295 - val_loss: 0.6139 - val_categorical_accuracy: 0.6142\n",
      "Epoch 3/25\n",
      "19/19 [==============================] - 78s 4s/step - loss: 0.4449 - categorical_accuracy: 0.7905 - val_loss: 0.7129 - val_categorical_accuracy: 0.5748\n",
      "Epoch 4/25\n",
      "19/19 [==============================] - 90s 5s/step - loss: 0.3962 - categorical_accuracy: 0.8160 - val_loss: 0.5457 - val_categorical_accuracy: 0.7087\n",
      "Epoch 5/25\n",
      "19/19 [==============================] - 90s 5s/step - loss: 0.3507 - categorical_accuracy: 0.8421 - val_loss: 0.4994 - val_categorical_accuracy: 0.7323\n",
      "Epoch 6/25\n",
      "19/19 [==============================] - 90s 5s/step - loss: 0.3006 - categorical_accuracy: 0.8757 - val_loss: 0.4954 - val_categorical_accuracy: 0.7402\n",
      "Epoch 7/25\n",
      "19/19 [==============================] - 72s 4s/step - loss: 0.2713 - categorical_accuracy: 0.8881 - val_loss: 0.4489 - val_categorical_accuracy: 0.7559\n",
      "Epoch 8/25\n",
      "19/19 [==============================] - 72s 4s/step - loss: 0.2359 - categorical_accuracy: 0.9116 - val_loss: 0.3473 - val_categorical_accuracy: 0.8346\n",
      "Epoch 9/25\n",
      "19/19 [==============================] - 72s 4s/step - loss: 0.2076 - categorical_accuracy: 0.9249 - val_loss: 0.3132 - val_categorical_accuracy: 0.8740\n",
      "Epoch 10/25\n",
      "19/19 [==============================] - 72s 4s/step - loss: 0.1726 - categorical_accuracy: 0.9418 - val_loss: 0.3305 - val_categorical_accuracy: 0.8661\n",
      "Epoch 11/25\n",
      "19/19 [==============================] - 75s 4s/step - loss: 0.1443 - categorical_accuracy: 0.9535 - val_loss: 0.2792 - val_categorical_accuracy: 0.8819\n",
      "Epoch 12/25\n",
      "19/19 [==============================] - 73s 4s/step - loss: 0.1227 - categorical_accuracy: 0.9609 - val_loss: 0.2807 - val_categorical_accuracy: 0.8898\n",
      "Epoch 13/25\n",
      "19/19 [==============================] - 73s 4s/step - loss: 0.1061 - categorical_accuracy: 0.9666 - val_loss: 0.2042 - val_categorical_accuracy: 0.9370\n",
      "Epoch 14/25\n",
      "19/19 [==============================] - 74s 4s/step - loss: 0.0911 - categorical_accuracy: 0.9704 - val_loss: 0.1830 - val_categorical_accuracy: 0.9213\n",
      "Epoch 15/25\n",
      "19/19 [==============================] - 76s 4s/step - loss: 0.0793 - categorical_accuracy: 0.9771 - val_loss: 0.1760 - val_categorical_accuracy: 0.9370\n",
      "Epoch 16/25\n",
      "19/19 [==============================] - 77s 4s/step - loss: 0.0683 - categorical_accuracy: 0.9799 - val_loss: 0.2014 - val_categorical_accuracy: 0.9291\n",
      "Epoch 17/25\n",
      "19/19 [==============================] - 74s 4s/step - loss: 0.0589 - categorical_accuracy: 0.9832 - val_loss: 0.1183 - val_categorical_accuracy: 0.9528\n",
      "Epoch 18/25\n",
      "19/19 [==============================] - 90s 5s/step - loss: 0.0556 - categorical_accuracy: 0.9826 - val_loss: 0.1473 - val_categorical_accuracy: 0.9291\n",
      "Epoch 19/25\n",
      "19/19 [==============================] - 90s 5s/step - loss: 0.0445 - categorical_accuracy: 0.9865 - val_loss: 0.1573 - val_categorical_accuracy: 0.9055\n",
      "Epoch 20/25\n",
      "19/19 [==============================] - 88s 5s/step - loss: 0.0407 - categorical_accuracy: 0.9883 - val_loss: 0.1104 - val_categorical_accuracy: 0.9370\n",
      "Epoch 21/25\n",
      "19/19 [==============================] - 73s 4s/step - loss: 0.0421 - categorical_accuracy: 0.9869 - val_loss: 0.1168 - val_categorical_accuracy: 0.9370\n",
      "Epoch 22/25\n",
      "19/19 [==============================] - 74s 4s/step - loss: 0.0310 - categorical_accuracy: 0.9920 - val_loss: 0.1280 - val_categorical_accuracy: 0.9291\n",
      "Epoch 23/25\n",
      "19/19 [==============================] - 80s 4s/step - loss: 0.0326 - categorical_accuracy: 0.9895 - val_loss: 0.1581 - val_categorical_accuracy: 0.9213\n",
      "Epoch 24/25\n",
      "19/19 [==============================] - 90s 5s/step - loss: 0.0251 - categorical_accuracy: 0.9934 - val_loss: 0.1839 - val_categorical_accuracy: 0.8976\n",
      "Epoch 25/25\n",
      "19/19 [==============================] - 79s 4s/step - loss: 0.0215 - categorical_accuracy: 0.9947 - val_loss: 0.0928 - val_categorical_accuracy: 0.9528\n"
     ]
    }
   ],
   "source": [
    "model = opt_model(optimised_params)\n",
    "callbacks = [tf.keras.callbacks.EarlyStopping(patience=5)]\n",
    "n_epochs = optimised_params['n_epochs']\n",
    "batch_size = optimised_params['batch_size']\n",
    "history  = model.fit(X_train, y_train,\n",
    "                               batch_size=batch_size,\n",
    "                               epochs=n_epochs,\n",
    "                               verbose=1,\n",
    "                               validation_data=(X_val, y_val),\n",
    "                               callbacks = [tf.keras.callbacks.EarlyStopping(patience=5)])"
   ]
  },
  {
   "cell_type": "code",
   "execution_count": 46,
   "id": "4dcddb3b",
   "metadata": {},
   "outputs": [
    {
     "data": {
      "image/png": "[encoded data removed]",
      "text/plain": [
       "<Figure size 432x288 with 1 Axes>"
      ]
     },
     "metadata": {
      "needs_background": "light"
     },
     "output_type": "display_data"
    },
    {
     "name": "stdout",
     "output_type": "stream",
     "text": [
      "val_categorical_accuracy:  0.9527559280395508\n"
     ]
    }
   ],
   "source": [
    "plt.plot(history.history['categorical_accuracy'],label=\"categorical_accuracy\")\n",
    "plt.plot(history.history['val_categorical_accuracy'],label='val_categorical_accuracy')\n",
    "plt.xlabel('Epoch')\n",
    "plt.ylabel('Accuracy')\n",
    "plt.title(\"Model training performance\")\n",
    "plt.legend()\n",
    "plt.show()\n",
    "val_acc = history.history['val_categorical_accuracy'][-1]\n",
    "print(\"val_categorical_accuracy: \",val_acc)"
   ]
  },
  {
   "cell_type": "code",
   "execution_count": 53,
   "id": "b8a740d4-cd04-4440-94ed-d936f9f32c13",
   "metadata": {},
   "outputs": [
    {
     "name": "stdout",
     "output_type": "stream",
     "text": [
      "1st convolution layer: 18 x 16\n"
     ]
    },
    {
     "data": {
      "image/png": "[encoded data removed]",
      "text/plain": [
       "<Figure size 1440x1440 with 18 Axes>"
      ]
     },
     "metadata": {},
     "output_type": "display_data"
    },
    {
     "name": "stdout",
     "output_type": "stream",
     "text": [
      "2nd convolution layer: 42 x 8\n"
     ]
    },
    {
     "data": {
      "image/png": "[encoded data removed]",
      "text/plain": [
       "<Figure size 1440x3600 with 42 Axes>"
      ]
     },
     "metadata": {},
     "output_type": "display_data"
    }
   ],
   "source": [
    "# model.layers will print a list of layer parameters/values\n",
    "filters1, biases1 = model.layers[0].get_weights()\n",
    "filters2, biases2 = model.layers[2].get_weights()\n",
    "\n",
    "# normalize filter values to range 0-1 for better colormapping during plotting\n",
    "def norm_filter(kernel):\n",
    "    return (kernel - np.min(kernel)) / (np.max(kernel) - np.min(kernel))\n",
    "\n",
    "n_1 = optimised_params['filters_1']\n",
    "print('1st convolution layer:',n_1,'x',optimised_params['kernel_size_1'])\n",
    "fig, axs = plt.subplots(1,n_1, figsize=(20, 20))\n",
    "axs = axs.ravel()\n",
    "for i in range(n_1):\n",
    "    axs[i].imshow(norm_filter(filters1[:,:,0,i]), cmap=plt.cm.binary)\n",
    "    axs[i].set_xticks([]); axs[i].set_yticks([]); axs[i].grid(False)\n",
    "plt.show()\n",
    "\n",
    "n_2 = optimised_params['filters_2']\n",
    "print('2nd convolution layer:',n_2,'x',optimised_params['kernel_size_2'])\n",
    "fig, axs = plt.subplots(1,n_2, figsize=(20, 50))\n",
    "axs = axs.ravel()\n",
    "for i in range(n_2):\n",
    "    axs[i].imshow(norm_filter(filters2[:,:,0,i]), cmap=plt.cm.binary)\n",
    "    axs[i].set_xticks([]); axs[i].set_yticks([]); axs[i].grid(False)"
   ]
  },
  {
   "cell_type": "markdown",
   "id": "c33e41aa-e13c-4f0e-aa1d-2c23a6450b37",
   "metadata": {},
   "source": [
    "### Evaluation"
   ]
  },
  {
   "cell_type": "code",
   "execution_count": 54,
   "id": "edfaafca",
   "metadata": {},
   "outputs": [
    {
     "ename": "ValueError",
     "evalue": "Data must be 1-dimensional",
     "output_type": "error",
     "traceback": [
      "\u001b[0;31m---------------------------------------------------------------------------\u001b[0m",
      "\u001b[0;31mValueError\u001b[0m                                Traceback (most recent call last)",
      "Input \u001b[0;32mIn [54]\u001b[0m, in \u001b[0;36m<cell line: 3>\u001b[0;34m()\u001b[0m\n\u001b[1;32m      1\u001b[0m X_train \u001b[38;5;241m=\u001b[39m np\u001b[38;5;241m.\u001b[39mload(\u001b[38;5;124m'\u001b[39m\u001b[38;5;124mmels_BAD_PROPER_train.npz\u001b[39m\u001b[38;5;124m'\u001b[39m)[\u001b[38;5;124m'\u001b[39m\u001b[38;5;124mdata\u001b[39m\u001b[38;5;124m'\u001b[39m]\n\u001b[1;32m      2\u001b[0m y_train \u001b[38;5;241m=\u001b[39m np\u001b[38;5;241m.\u001b[39mload(\u001b[38;5;124m'\u001b[39m\u001b[38;5;124mmels_lables_BAD_PROPER_train.npz\u001b[39m\u001b[38;5;124m'\u001b[39m,allow_pickle\u001b[38;5;241m=\u001b[39m\u001b[38;5;28;01mTrue\u001b[39;00m)[\u001b[38;5;124m'\u001b[39m\u001b[38;5;124mdata\u001b[39m\u001b[38;5;124m'\u001b[39m]\n\u001b[0;32m----> 3\u001b[0m _,X_test,_,y_test,_,_ \u001b[38;5;241m=\u001b[39m \u001b[43mformat_for_CNN\u001b[49m\u001b[43m(\u001b[49m\u001b[43mX_train\u001b[49m\u001b[43m,\u001b[49m\u001b[43m \u001b[49m\u001b[43mX_test\u001b[49m\u001b[43m,\u001b[49m\u001b[43m \u001b[49m\u001b[43my_train\u001b[49m\u001b[43m,\u001b[49m\u001b[43m \u001b[49m\u001b[43my_test\u001b[49m\u001b[43m)\u001b[49m\n",
      "File \u001b[0;32m~/Desktop/3rd Year/Applied Machine Learning/Final Project/GIt/Zebra_Project/barney_functions.py:565\u001b[0m, in \u001b[0;36mformat_for_CNN\u001b[0;34m(X_train, X_test, y_train, y_test)\u001b[0m\n\u001b[1;32m    562\u001b[0m label_list \u001b[38;5;241m=\u001b[39m onehot_t\u001b[38;5;241m.\u001b[39mcolumns\n\u001b[1;32m    563\u001b[0m y_train \u001b[38;5;241m=\u001b[39m onehot_t\u001b[38;5;241m.\u001b[39mto_numpy()\n\u001b[0;32m--> 565\u001b[0m onehot_v \u001b[38;5;241m=\u001b[39m \u001b[43mpd\u001b[49m\u001b[38;5;241;43m.\u001b[39;49m\u001b[43mget_dummies\u001b[49m\u001b[43m(\u001b[49m\u001b[43my_test\u001b[49m\u001b[43m)\u001b[49m\n\u001b[1;32m    566\u001b[0m y_test \u001b[38;5;241m=\u001b[39m onehot_v\u001b[38;5;241m.\u001b[39mto_numpy()\n\u001b[1;32m    567\u001b[0m \u001b[38;5;28;01mreturn\u001b[39;00m X_train,X_test,y_train,y_test,img_rows,img_cols\n",
      "File \u001b[0;32m~/opt/anaconda3/envs/appml/lib/python3.8/site-packages/pandas/core/reshape/reshape.py:989\u001b[0m, in \u001b[0;36mget_dummies\u001b[0;34m(data, prefix, prefix_sep, dummy_na, columns, sparse, drop_first, dtype)\u001b[0m\n\u001b[1;32m    987\u001b[0m     result \u001b[38;5;241m=\u001b[39m concat(with_dummies, axis\u001b[38;5;241m=\u001b[39m\u001b[38;5;241m1\u001b[39m)\n\u001b[1;32m    988\u001b[0m \u001b[38;5;28;01melse\u001b[39;00m:\n\u001b[0;32m--> 989\u001b[0m     result \u001b[38;5;241m=\u001b[39m \u001b[43m_get_dummies_1d\u001b[49m\u001b[43m(\u001b[49m\n\u001b[1;32m    990\u001b[0m \u001b[43m        \u001b[49m\u001b[43mdata\u001b[49m\u001b[43m,\u001b[49m\n\u001b[1;32m    991\u001b[0m \u001b[43m        \u001b[49m\u001b[43mprefix\u001b[49m\u001b[43m,\u001b[49m\n\u001b[1;32m    992\u001b[0m \u001b[43m        \u001b[49m\u001b[43mprefix_sep\u001b[49m\u001b[43m,\u001b[49m\n\u001b[1;32m    993\u001b[0m \u001b[43m        \u001b[49m\u001b[43mdummy_na\u001b[49m\u001b[43m,\u001b[49m\n\u001b[1;32m    994\u001b[0m \u001b[43m        \u001b[49m\u001b[43msparse\u001b[49m\u001b[38;5;241;43m=\u001b[39;49m\u001b[43msparse\u001b[49m\u001b[43m,\u001b[49m\n\u001b[1;32m    995\u001b[0m \u001b[43m        \u001b[49m\u001b[43mdrop_first\u001b[49m\u001b[38;5;241;43m=\u001b[39;49m\u001b[43mdrop_first\u001b[49m\u001b[43m,\u001b[49m\n\u001b[1;32m    996\u001b[0m \u001b[43m        \u001b[49m\u001b[43mdtype\u001b[49m\u001b[38;5;241;43m=\u001b[39;49m\u001b[43mdtype\u001b[49m\u001b[43m,\u001b[49m\n\u001b[1;32m    997\u001b[0m \u001b[43m    \u001b[49m\u001b[43m)\u001b[49m\n\u001b[1;32m    998\u001b[0m \u001b[38;5;28;01mreturn\u001b[39;00m result\n",
      "File \u001b[0;32m~/opt/anaconda3/envs/appml/lib/python3.8/site-packages/pandas/core/reshape/reshape.py:1013\u001b[0m, in \u001b[0;36m_get_dummies_1d\u001b[0;34m(data, prefix, prefix_sep, dummy_na, sparse, drop_first, dtype)\u001b[0m\n\u001b[1;32m   1010\u001b[0m \u001b[38;5;28;01mfrom\u001b[39;00m \u001b[38;5;21;01mpandas\u001b[39;00m\u001b[38;5;21;01m.\u001b[39;00m\u001b[38;5;21;01mcore\u001b[39;00m\u001b[38;5;21;01m.\u001b[39;00m\u001b[38;5;21;01mreshape\u001b[39;00m\u001b[38;5;21;01m.\u001b[39;00m\u001b[38;5;21;01mconcat\u001b[39;00m \u001b[38;5;28;01mimport\u001b[39;00m concat\n\u001b[1;32m   1012\u001b[0m \u001b[38;5;66;03m# Series avoids inconsistent NaN handling\u001b[39;00m\n\u001b[0;32m-> 1013\u001b[0m codes, levels \u001b[38;5;241m=\u001b[39m factorize_from_iterable(\u001b[43mSeries\u001b[49m\u001b[43m(\u001b[49m\u001b[43mdata\u001b[49m\u001b[43m)\u001b[49m)\n\u001b[1;32m   1015\u001b[0m \u001b[38;5;28;01mif\u001b[39;00m dtype \u001b[38;5;129;01mis\u001b[39;00m \u001b[38;5;28;01mNone\u001b[39;00m:\n\u001b[1;32m   1016\u001b[0m     dtype \u001b[38;5;241m=\u001b[39m np\u001b[38;5;241m.\u001b[39mdtype(np\u001b[38;5;241m.\u001b[39muint8)\n",
      "File \u001b[0;32m~/opt/anaconda3/envs/appml/lib/python3.8/site-packages/pandas/core/series.py:451\u001b[0m, in \u001b[0;36mSeries.__init__\u001b[0;34m(self, data, index, dtype, name, copy, fastpath)\u001b[0m\n\u001b[1;32m    449\u001b[0m         data \u001b[38;5;241m=\u001b[39m data\u001b[38;5;241m.\u001b[39mcopy()\n\u001b[1;32m    450\u001b[0m \u001b[38;5;28;01melse\u001b[39;00m:\n\u001b[0;32m--> 451\u001b[0m     data \u001b[38;5;241m=\u001b[39m \u001b[43msanitize_array\u001b[49m\u001b[43m(\u001b[49m\u001b[43mdata\u001b[49m\u001b[43m,\u001b[49m\u001b[43m \u001b[49m\u001b[43mindex\u001b[49m\u001b[43m,\u001b[49m\u001b[43m \u001b[49m\u001b[43mdtype\u001b[49m\u001b[43m,\u001b[49m\u001b[43m \u001b[49m\u001b[43mcopy\u001b[49m\u001b[43m)\u001b[49m\n\u001b[1;32m    453\u001b[0m     manager \u001b[38;5;241m=\u001b[39m get_option(\u001b[38;5;124m\"\u001b[39m\u001b[38;5;124mmode.data_manager\u001b[39m\u001b[38;5;124m\"\u001b[39m)\n\u001b[1;32m    454\u001b[0m     \u001b[38;5;28;01mif\u001b[39;00m manager \u001b[38;5;241m==\u001b[39m \u001b[38;5;124m\"\u001b[39m\u001b[38;5;124mblock\u001b[39m\u001b[38;5;124m\"\u001b[39m:\n",
      "File \u001b[0;32m~/opt/anaconda3/envs/appml/lib/python3.8/site-packages/pandas/core/construction.py:598\u001b[0m, in \u001b[0;36msanitize_array\u001b[0;34m(data, index, dtype, copy, raise_cast_failure, allow_2d)\u001b[0m\n\u001b[1;32m    595\u001b[0m             subarr \u001b[38;5;241m=\u001b[39m cast(np\u001b[38;5;241m.\u001b[39mndarray, subarr)\n\u001b[1;32m    596\u001b[0m             subarr \u001b[38;5;241m=\u001b[39m maybe_infer_to_datetimelike(subarr)\n\u001b[0;32m--> 598\u001b[0m subarr \u001b[38;5;241m=\u001b[39m \u001b[43m_sanitize_ndim\u001b[49m\u001b[43m(\u001b[49m\u001b[43msubarr\u001b[49m\u001b[43m,\u001b[49m\u001b[43m \u001b[49m\u001b[43mdata\u001b[49m\u001b[43m,\u001b[49m\u001b[43m \u001b[49m\u001b[43mdtype\u001b[49m\u001b[43m,\u001b[49m\u001b[43m \u001b[49m\u001b[43mindex\u001b[49m\u001b[43m,\u001b[49m\u001b[43m \u001b[49m\u001b[43mallow_2d\u001b[49m\u001b[38;5;241;43m=\u001b[39;49m\u001b[43mallow_2d\u001b[49m\u001b[43m)\u001b[49m\n\u001b[1;32m    600\u001b[0m \u001b[38;5;28;01mif\u001b[39;00m \u001b[38;5;28misinstance\u001b[39m(subarr, np\u001b[38;5;241m.\u001b[39mndarray):\n\u001b[1;32m    601\u001b[0m     \u001b[38;5;66;03m# at this point we should have dtype be None or subarr.dtype == dtype\u001b[39;00m\n\u001b[1;32m    602\u001b[0m     dtype \u001b[38;5;241m=\u001b[39m cast(np\u001b[38;5;241m.\u001b[39mdtype, dtype)\n",
      "File \u001b[0;32m~/opt/anaconda3/envs/appml/lib/python3.8/site-packages/pandas/core/construction.py:649\u001b[0m, in \u001b[0;36m_sanitize_ndim\u001b[0;34m(result, data, dtype, index, allow_2d)\u001b[0m\n\u001b[1;32m    647\u001b[0m     \u001b[38;5;28;01mif\u001b[39;00m allow_2d:\n\u001b[1;32m    648\u001b[0m         \u001b[38;5;28;01mreturn\u001b[39;00m result\n\u001b[0;32m--> 649\u001b[0m     \u001b[38;5;28;01mraise\u001b[39;00m \u001b[38;5;167;01mValueError\u001b[39;00m(\u001b[38;5;124m\"\u001b[39m\u001b[38;5;124mData must be 1-dimensional\u001b[39m\u001b[38;5;124m\"\u001b[39m)\n\u001b[1;32m    650\u001b[0m \u001b[38;5;28;01mif\u001b[39;00m is_object_dtype(dtype) \u001b[38;5;129;01mand\u001b[39;00m \u001b[38;5;28misinstance\u001b[39m(dtype, ExtensionDtype):\n\u001b[1;32m    651\u001b[0m     \u001b[38;5;66;03m# i.e. PandasDtype(\"O\")\u001b[39;00m\n\u001b[1;32m    653\u001b[0m     result \u001b[38;5;241m=\u001b[39m com\u001b[38;5;241m.\u001b[39masarray_tuplesafe(data, dtype\u001b[38;5;241m=\u001b[39mnp\u001b[38;5;241m.\u001b[39mdtype(\u001b[38;5;124m\"\u001b[39m\u001b[38;5;124mobject\u001b[39m\u001b[38;5;124m\"\u001b[39m))\n",
      "\u001b[0;31mValueError\u001b[0m: Data must be 1-dimensional"
     ]
    }
   ],
   "source": [
    "X_train = np.load('mels_BAD_PROPER_train.npz')['data']\n",
    "y_train = np.load('mels_lables_BAD_PROPER_train.npz',allow_pickle=True)['data']\n",
    "_,X_test,_,y_test,_,_ = format_for_CNN(X_train, X_test, y_train, y_test)"
   ]
  },
  {
   "cell_type": "code",
   "execution_count": 55,
   "id": "df7e2870",
   "metadata": {},
   "outputs": [
    {
     "name": "stdout",
     "output_type": "stream",
     "text": [
      "(127, 128, 51, 1)\n",
      "(127, 2)\n"
     ]
    }
   ],
   "source": [
    "print(X_test.shape)\n",
    "print(y_test.shape)"
   ]
  },
  {
   "cell_type": "code",
   "execution_count": 56,
   "id": "4df78284-fb4a-41e0-9261-3bd8b75afd39",
   "metadata": {},
   "outputs": [],
   "source": [
    "predicted_prob = model.predict(X_test)\n",
    "predictions = np.argmax(predicted_prob, axis=1)"
   ]
  },
  {
   "cell_type": "code",
   "execution_count": 57,
   "id": "5a94e5a0",
   "metadata": {},
   "outputs": [
    {
     "data": {
      "image/png": "[encoded data removed]",
      "text/plain": [
       "<Figure size 432x432 with 2 Axes>"
      ]
     },
     "metadata": {
      "needs_background": "light"
     },
     "output_type": "display_data"
    }
   ],
   "source": [
    "labels_list = np.unique(classes)\n",
    "truths = np.argmax(y_test, axis=1)\n",
    "cm = confusion_matrix(truths, predictions, labels=range(num_classes))\n",
    "test_acc = plot_confusion_matrix(cm,labels_list,normalize=False,savefig = 'CM_CNN_OPT')"
   ]
  },
  {
   "cell_type": "code",
   "execution_count": 58,
   "id": "894f112c",
   "metadata": {},
   "outputs": [
    {
     "name": "stdout",
     "output_type": "stream",
     "text": [
      "0.9527559280395508\n",
      "0.9212598425196851\n"
     ]
    }
   ],
   "source": [
    "print(val_acc)\n",
    "print(test_acc)"
   ]
  },
  {
   "cell_type": "code",
   "execution_count": null,
   "id": "de85725d",
   "metadata": {},
   "outputs": [],
   "source": []
  }
 ],
 "metadata": {
  "kernelspec": {
   "display_name": "Python 3 (ipykernel)",
   "language": "python",
   "name": "python3"
  },
  "language_info": {
   "codemirror_mode": {
    "name": "ipython",
    "version": 3
   },
   "file_extension": ".py",
   "mimetype": "text/x-python",
   "name": "python",
   "nbconvert_exporter": "python",
   "pygments_lexer": "ipython3",
   "version": "3.8.12"
  },
  "toc-autonumbering": false
 },
 "nbformat": 4,
 "nbformat_minor": 5
}
