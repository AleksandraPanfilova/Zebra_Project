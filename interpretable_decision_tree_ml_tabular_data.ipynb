{
  "nbformat": 4,
  "nbformat_minor": 0,
  "metadata": {
    "colab": {
      "name": "interpretable_decision_tree_ml_tabular_data.ipynb",
      "provenance": []
    },
    "kernelspec": {
      "name": "python3",
      "display_name": "Python 3"
    },
    "language_info": {
      "name": "python"
    }
  },
  "cells": [
    {
      "cell_type": "code",
      "execution_count": 1,
      "metadata": {
        "id": "ucWIdkeONPqD"
      },
      "outputs": [],
      "source": [
        "import pandas as pd\n",
        "import numpy as np\n",
        "import re"
      ]
    },
    {
      "cell_type": "markdown",
      "source": [
        "Importing data in pandas"
      ],
      "metadata": {
        "id": "wPjKM33eNbGS"
      }
    },
    {
      "cell_type": "code",
      "source": [
        "data = pd.read_excel('/content/drive/MyDrive/zebra classification /Zebras.Assumption.data_Bing_413 .xlsx',sheet_name='Assumptions.all')\n",
        "\n",
        "data  "
      ],
      "metadata": {
        "id": "wJLibhtANd8i",
        "colab": {
          "base_uri": "https://localhost:8080/",
          "height": 406
        },
        "outputId": "fb01c14c-ccd8-4dc3-c361-5f12a2ec869c"
      },
      "execution_count": 6,
      "outputs": [
        {
          "output_type": "execute_result",
          "data": {
            "text/plain": [
              "                      file      q25      q50      q75    fpeak  duration  \\\n",
              "0    05011.squeal.trim.wav    1.024   22.542  144.346  509.753     0.234   \n",
              "1    05073.squeal.trim.wav    4.626  391.921  635.612  537.097     0.155   \n",
              "2    05074.squeal.trim.wav    9.773  558.276  806.924  769.535     0.087   \n",
              "3    18023.squeal.trim.wav  378.288  439.051  489.999  442.747     0.165   \n",
              "4    19002.squeal.trim.wav  414.270  485.271  627.478  449.798     0.138   \n",
              "..                     ...      ...      ...      ...      ...       ...   \n",
              "408   83033.snort.trim.wav    2.413   33.731  162.388  689.083     0.303   \n",
              "409   83035.snort.trim.wav   12.324  106.265  286.088  181.432     0.169   \n",
              "410   83051.snort.trim.wav    1.511   47.826  302.461  197.067     0.549   \n",
              "411   83053.snort.trim.wav    4.978   70.706  211.919   94.333     0.669   \n",
              "412   83054.snort.trim.wav    2.142   33.163  142.663  872.093     0.514   \n",
              "\n",
              "      am.var  am.rate  am.extent  harmonicity  \n",
              "0    203.701   25.684      7.931        10.16  \n",
              "1    204.375   16.133     12.668        20.27  \n",
              "2    243.896    5.745     42.452        17.58  \n",
              "3    245.843    9.098     27.022        13.51  \n",
              "4    225.379   18.142     12.423        13.93  \n",
              "..       ...      ...        ...          ...  \n",
              "408  413.913   34.701     11.928         6.15  \n",
              "409  386.167   29.581     13.054         8.15  \n",
              "410  393.041   25.510     15.407         4.52  \n",
              "411  477.292   29.899     15.963         7.78  \n",
              "412  448.085   30.173     14.850        11.90  \n",
              "\n",
              "[413 rows x 10 columns]"
            ],
            "text/html": [
              "\n",
              "  <div id=\"df-d5f69959-9cc7-4b23-9e58-4a51562d3a6d\">\n",
              "    <div class=\"colab-df-container\">\n",
              "      <div>\n",
              "<style scoped>\n",
              "    .dataframe tbody tr th:only-of-type {\n",
              "        vertical-align: middle;\n",
              "    }\n",
              "\n",
              "    .dataframe tbody tr th {\n",
              "        vertical-align: top;\n",
              "    }\n",
              "\n",
              "    .dataframe thead th {\n",
              "        text-align: right;\n",
              "    }\n",
              "</style>\n",
              "<table border=\"1\" class=\"dataframe\">\n",
              "  <thead>\n",
              "    <tr style=\"text-align: right;\">\n",
              "      <th></th>\n",
              "      <th>file</th>\n",
              "      <th>q25</th>\n",
              "      <th>q50</th>\n",
              "      <th>q75</th>\n",
              "      <th>fpeak</th>\n",
              "      <th>duration</th>\n",
              "      <th>am.var</th>\n",
              "      <th>am.rate</th>\n",
              "      <th>am.extent</th>\n",
              "      <th>harmonicity</th>\n",
              "    </tr>\n",
              "  </thead>\n",
              "  <tbody>\n",
              "    <tr>\n",
              "      <th>0</th>\n",
              "      <td>05011.squeal.trim.wav</td>\n",
              "      <td>1.024</td>\n",
              "      <td>22.542</td>\n",
              "      <td>144.346</td>\n",
              "      <td>509.753</td>\n",
              "      <td>0.234</td>\n",
              "      <td>203.701</td>\n",
              "      <td>25.684</td>\n",
              "      <td>7.931</td>\n",
              "      <td>10.16</td>\n",
              "    </tr>\n",
              "    <tr>\n",
              "      <th>1</th>\n",
              "      <td>05073.squeal.trim.wav</td>\n",
              "      <td>4.626</td>\n",
              "      <td>391.921</td>\n",
              "      <td>635.612</td>\n",
              "      <td>537.097</td>\n",
              "      <td>0.155</td>\n",
              "      <td>204.375</td>\n",
              "      <td>16.133</td>\n",
              "      <td>12.668</td>\n",
              "      <td>20.27</td>\n",
              "    </tr>\n",
              "    <tr>\n",
              "      <th>2</th>\n",
              "      <td>05074.squeal.trim.wav</td>\n",
              "      <td>9.773</td>\n",
              "      <td>558.276</td>\n",
              "      <td>806.924</td>\n",
              "      <td>769.535</td>\n",
              "      <td>0.087</td>\n",
              "      <td>243.896</td>\n",
              "      <td>5.745</td>\n",
              "      <td>42.452</td>\n",
              "      <td>17.58</td>\n",
              "    </tr>\n",
              "    <tr>\n",
              "      <th>3</th>\n",
              "      <td>18023.squeal.trim.wav</td>\n",
              "      <td>378.288</td>\n",
              "      <td>439.051</td>\n",
              "      <td>489.999</td>\n",
              "      <td>442.747</td>\n",
              "      <td>0.165</td>\n",
              "      <td>245.843</td>\n",
              "      <td>9.098</td>\n",
              "      <td>27.022</td>\n",
              "      <td>13.51</td>\n",
              "    </tr>\n",
              "    <tr>\n",
              "      <th>4</th>\n",
              "      <td>19002.squeal.trim.wav</td>\n",
              "      <td>414.270</td>\n",
              "      <td>485.271</td>\n",
              "      <td>627.478</td>\n",
              "      <td>449.798</td>\n",
              "      <td>0.138</td>\n",
              "      <td>225.379</td>\n",
              "      <td>18.142</td>\n",
              "      <td>12.423</td>\n",
              "      <td>13.93</td>\n",
              "    </tr>\n",
              "    <tr>\n",
              "      <th>...</th>\n",
              "      <td>...</td>\n",
              "      <td>...</td>\n",
              "      <td>...</td>\n",
              "      <td>...</td>\n",
              "      <td>...</td>\n",
              "      <td>...</td>\n",
              "      <td>...</td>\n",
              "      <td>...</td>\n",
              "      <td>...</td>\n",
              "      <td>...</td>\n",
              "    </tr>\n",
              "    <tr>\n",
              "      <th>408</th>\n",
              "      <td>83033.snort.trim.wav</td>\n",
              "      <td>2.413</td>\n",
              "      <td>33.731</td>\n",
              "      <td>162.388</td>\n",
              "      <td>689.083</td>\n",
              "      <td>0.303</td>\n",
              "      <td>413.913</td>\n",
              "      <td>34.701</td>\n",
              "      <td>11.928</td>\n",
              "      <td>6.15</td>\n",
              "    </tr>\n",
              "    <tr>\n",
              "      <th>409</th>\n",
              "      <td>83035.snort.trim.wav</td>\n",
              "      <td>12.324</td>\n",
              "      <td>106.265</td>\n",
              "      <td>286.088</td>\n",
              "      <td>181.432</td>\n",
              "      <td>0.169</td>\n",
              "      <td>386.167</td>\n",
              "      <td>29.581</td>\n",
              "      <td>13.054</td>\n",
              "      <td>8.15</td>\n",
              "    </tr>\n",
              "    <tr>\n",
              "      <th>410</th>\n",
              "      <td>83051.snort.trim.wav</td>\n",
              "      <td>1.511</td>\n",
              "      <td>47.826</td>\n",
              "      <td>302.461</td>\n",
              "      <td>197.067</td>\n",
              "      <td>0.549</td>\n",
              "      <td>393.041</td>\n",
              "      <td>25.510</td>\n",
              "      <td>15.407</td>\n",
              "      <td>4.52</td>\n",
              "    </tr>\n",
              "    <tr>\n",
              "      <th>411</th>\n",
              "      <td>83053.snort.trim.wav</td>\n",
              "      <td>4.978</td>\n",
              "      <td>70.706</td>\n",
              "      <td>211.919</td>\n",
              "      <td>94.333</td>\n",
              "      <td>0.669</td>\n",
              "      <td>477.292</td>\n",
              "      <td>29.899</td>\n",
              "      <td>15.963</td>\n",
              "      <td>7.78</td>\n",
              "    </tr>\n",
              "    <tr>\n",
              "      <th>412</th>\n",
              "      <td>83054.snort.trim.wav</td>\n",
              "      <td>2.142</td>\n",
              "      <td>33.163</td>\n",
              "      <td>142.663</td>\n",
              "      <td>872.093</td>\n",
              "      <td>0.514</td>\n",
              "      <td>448.085</td>\n",
              "      <td>30.173</td>\n",
              "      <td>14.850</td>\n",
              "      <td>11.90</td>\n",
              "    </tr>\n",
              "  </tbody>\n",
              "</table>\n",
              "<p>413 rows × 10 columns</p>\n",
              "</div>\n",
              "      <button class=\"colab-df-convert\" onclick=\"convertToInteractive('df-d5f69959-9cc7-4b23-9e58-4a51562d3a6d')\"\n",
              "              title=\"Convert this dataframe to an interactive table.\"\n",
              "              style=\"display:none;\">\n",
              "        \n",
              "  <svg xmlns=\"http://www.w3.org/2000/svg\" height=\"24px\"viewBox=\"0 0 24 24\"\n",
              "       width=\"24px\">\n",
              "    <path d=\"M0 0h24v24H0V0z\" fill=\"none\"/>\n",
              "    <path d=\"M18.56 5.44l.94 2.06.94-2.06 2.06-.94-2.06-.94-.94-2.06-.94 2.06-2.06.94zm-11 1L8.5 8.5l.94-2.06 2.06-.94-2.06-.94L8.5 2.5l-.94 2.06-2.06.94zm10 10l.94 2.06.94-2.06 2.06-.94-2.06-.94-.94-2.06-.94 2.06-2.06.94z\"/><path d=\"M17.41 7.96l-1.37-1.37c-.4-.4-.92-.59-1.43-.59-.52 0-1.04.2-1.43.59L10.3 9.45l-7.72 7.72c-.78.78-.78 2.05 0 2.83L4 21.41c.39.39.9.59 1.41.59.51 0 1.02-.2 1.41-.59l7.78-7.78 2.81-2.81c.8-.78.8-2.07 0-2.86zM5.41 20L4 18.59l7.72-7.72 1.47 1.35L5.41 20z\"/>\n",
              "  </svg>\n",
              "      </button>\n",
              "      \n",
              "  <style>\n",
              "    .colab-df-container {\n",
              "      display:flex;\n",
              "      flex-wrap:wrap;\n",
              "      gap: 12px;\n",
              "    }\n",
              "\n",
              "    .colab-df-convert {\n",
              "      background-color: #E8F0FE;\n",
              "      border: none;\n",
              "      border-radius: 50%;\n",
              "      cursor: pointer;\n",
              "      display: none;\n",
              "      fill: #1967D2;\n",
              "      height: 32px;\n",
              "      padding: 0 0 0 0;\n",
              "      width: 32px;\n",
              "    }\n",
              "\n",
              "    .colab-df-convert:hover {\n",
              "      background-color: #E2EBFA;\n",
              "      box-shadow: 0px 1px 2px rgba(60, 64, 67, 0.3), 0px 1px 3px 1px rgba(60, 64, 67, 0.15);\n",
              "      fill: #174EA6;\n",
              "    }\n",
              "\n",
              "    [theme=dark] .colab-df-convert {\n",
              "      background-color: #3B4455;\n",
              "      fill: #D2E3FC;\n",
              "    }\n",
              "\n",
              "    [theme=dark] .colab-df-convert:hover {\n",
              "      background-color: #434B5C;\n",
              "      box-shadow: 0px 1px 3px 1px rgba(0, 0, 0, 0.15);\n",
              "      filter: drop-shadow(0px 1px 2px rgba(0, 0, 0, 0.3));\n",
              "      fill: #FFFFFF;\n",
              "    }\n",
              "  </style>\n",
              "\n",
              "      <script>\n",
              "        const buttonEl =\n",
              "          document.querySelector('#df-d5f69959-9cc7-4b23-9e58-4a51562d3a6d button.colab-df-convert');\n",
              "        buttonEl.style.display =\n",
              "          google.colab.kernel.accessAllowed ? 'block' : 'none';\n",
              "\n",
              "        async function convertToInteractive(key) {\n",
              "          const element = document.querySelector('#df-d5f69959-9cc7-4b23-9e58-4a51562d3a6d');\n",
              "          const dataTable =\n",
              "            await google.colab.kernel.invokeFunction('convertToInteractive',\n",
              "                                                     [key], {});\n",
              "          if (!dataTable) return;\n",
              "\n",
              "          const docLinkHtml = 'Like what you see? Visit the ' +\n",
              "            '<a target=\"_blank\" href=https://colab.research.google.com/notebooks/data_table.ipynb>data table notebook</a>'\n",
              "            + ' to learn more about interactive tables.';\n",
              "          element.innerHTML = '';\n",
              "          dataTable['output_type'] = 'display_data';\n",
              "          await google.colab.output.renderOutput(dataTable, element);\n",
              "          const docLink = document.createElement('div');\n",
              "          docLink.innerHTML = docLinkHtml;\n",
              "          element.appendChild(docLink);\n",
              "        }\n",
              "      </script>\n",
              "    </div>\n",
              "  </div>\n",
              "  "
            ]
          },
          "metadata": {},
          "execution_count": 6
        }
      ]
    },
    {
      "cell_type": "markdown",
      "source": [
        "Creating the labels from the 'file' column"
      ],
      "metadata": {
        "id": "gExyf5BOcLpQ"
      }
    },
    {
      "cell_type": "code",
      "source": [
        "labels = []\n",
        "for i in data['file']:\n",
        "  y = re.findall('whinnie|snort|softsnort|squeal', i)\n",
        "  labels.append(y)\n"
      ],
      "metadata": {
        "id": "z-lzSeXOcARJ"
      },
      "execution_count": 7,
      "outputs": []
    },
    {
      "cell_type": "code",
      "source": [
        "#clever way of doing that above\n",
        "# [re.findall('whinnie|snort|softsnort|squeal', i) for i in data['file']]"
      ],
      "metadata": {
        "id": "t_wvOFcdoThn"
      },
      "execution_count": null,
      "outputs": []
    },
    {
      "cell_type": "markdown",
      "source": [
        "Adding the labels to the dataset"
      ],
      "metadata": {
        "id": "bAC7NgrPnj5V"
      }
    },
    {
      "cell_type": "code",
      "source": [
        "data[['labels']] = labels"
      ],
      "metadata": {
        "id": "jK5_rbM8nDVD"
      },
      "execution_count": 8,
      "outputs": []
    },
    {
      "cell_type": "markdown",
      "source": [
        "Removing the file column"
      ],
      "metadata": {
        "id": "IHEJK9WansS2"
      }
    },
    {
      "cell_type": "code",
      "source": [
        "data.drop(\"file\", axis=1, inplace = True)\n",
        "data"
      ],
      "metadata": {
        "colab": {
          "base_uri": "https://localhost:8080/",
          "height": 406
        },
        "id": "p5mRxcotnVZE",
        "outputId": "f6f6e1eb-d93e-4557-f192-e9318cf8cb6d"
      },
      "execution_count": 9,
      "outputs": [
        {
          "output_type": "execute_result",
          "data": {
            "text/plain": [
              "         q25      q50      q75    fpeak  duration   am.var  am.rate  \\\n",
              "0      1.024   22.542  144.346  509.753     0.234  203.701   25.684   \n",
              "1      4.626  391.921  635.612  537.097     0.155  204.375   16.133   \n",
              "2      9.773  558.276  806.924  769.535     0.087  243.896    5.745   \n",
              "3    378.288  439.051  489.999  442.747     0.165  245.843    9.098   \n",
              "4    414.270  485.271  627.478  449.798     0.138  225.379   18.142   \n",
              "..       ...      ...      ...      ...       ...      ...      ...   \n",
              "408    2.413   33.731  162.388  689.083     0.303  413.913   34.701   \n",
              "409   12.324  106.265  286.088  181.432     0.169  386.167   29.581   \n",
              "410    1.511   47.826  302.461  197.067     0.549  393.041   25.510   \n",
              "411    4.978   70.706  211.919   94.333     0.669  477.292   29.899   \n",
              "412    2.142   33.163  142.663  872.093     0.514  448.085   30.173   \n",
              "\n",
              "     am.extent  harmonicity  labels  \n",
              "0        7.931        10.16  squeal  \n",
              "1       12.668        20.27  squeal  \n",
              "2       42.452        17.58  squeal  \n",
              "3       27.022        13.51  squeal  \n",
              "4       12.423        13.93  squeal  \n",
              "..         ...          ...     ...  \n",
              "408     11.928         6.15   snort  \n",
              "409     13.054         8.15   snort  \n",
              "410     15.407         4.52   snort  \n",
              "411     15.963         7.78   snort  \n",
              "412     14.850        11.90   snort  \n",
              "\n",
              "[413 rows x 10 columns]"
            ],
            "text/html": [
              "\n",
              "  <div id=\"df-ab7c6c14-8b1b-45f3-82a8-05228eafb516\">\n",
              "    <div class=\"colab-df-container\">\n",
              "      <div>\n",
              "<style scoped>\n",
              "    .dataframe tbody tr th:only-of-type {\n",
              "        vertical-align: middle;\n",
              "    }\n",
              "\n",
              "    .dataframe tbody tr th {\n",
              "        vertical-align: top;\n",
              "    }\n",
              "\n",
              "    .dataframe thead th {\n",
              "        text-align: right;\n",
              "    }\n",
              "</style>\n",
              "<table border=\"1\" class=\"dataframe\">\n",
              "  <thead>\n",
              "    <tr style=\"text-align: right;\">\n",
              "      <th></th>\n",
              "      <th>q25</th>\n",
              "      <th>q50</th>\n",
              "      <th>q75</th>\n",
              "      <th>fpeak</th>\n",
              "      <th>duration</th>\n",
              "      <th>am.var</th>\n",
              "      <th>am.rate</th>\n",
              "      <th>am.extent</th>\n",
              "      <th>harmonicity</th>\n",
              "      <th>labels</th>\n",
              "    </tr>\n",
              "  </thead>\n",
              "  <tbody>\n",
              "    <tr>\n",
              "      <th>0</th>\n",
              "      <td>1.024</td>\n",
              "      <td>22.542</td>\n",
              "      <td>144.346</td>\n",
              "      <td>509.753</td>\n",
              "      <td>0.234</td>\n",
              "      <td>203.701</td>\n",
              "      <td>25.684</td>\n",
              "      <td>7.931</td>\n",
              "      <td>10.16</td>\n",
              "      <td>squeal</td>\n",
              "    </tr>\n",
              "    <tr>\n",
              "      <th>1</th>\n",
              "      <td>4.626</td>\n",
              "      <td>391.921</td>\n",
              "      <td>635.612</td>\n",
              "      <td>537.097</td>\n",
              "      <td>0.155</td>\n",
              "      <td>204.375</td>\n",
              "      <td>16.133</td>\n",
              "      <td>12.668</td>\n",
              "      <td>20.27</td>\n",
              "      <td>squeal</td>\n",
              "    </tr>\n",
              "    <tr>\n",
              "      <th>2</th>\n",
              "      <td>9.773</td>\n",
              "      <td>558.276</td>\n",
              "      <td>806.924</td>\n",
              "      <td>769.535</td>\n",
              "      <td>0.087</td>\n",
              "      <td>243.896</td>\n",
              "      <td>5.745</td>\n",
              "      <td>42.452</td>\n",
              "      <td>17.58</td>\n",
              "      <td>squeal</td>\n",
              "    </tr>\n",
              "    <tr>\n",
              "      <th>3</th>\n",
              "      <td>378.288</td>\n",
              "      <td>439.051</td>\n",
              "      <td>489.999</td>\n",
              "      <td>442.747</td>\n",
              "      <td>0.165</td>\n",
              "      <td>245.843</td>\n",
              "      <td>9.098</td>\n",
              "      <td>27.022</td>\n",
              "      <td>13.51</td>\n",
              "      <td>squeal</td>\n",
              "    </tr>\n",
              "    <tr>\n",
              "      <th>4</th>\n",
              "      <td>414.270</td>\n",
              "      <td>485.271</td>\n",
              "      <td>627.478</td>\n",
              "      <td>449.798</td>\n",
              "      <td>0.138</td>\n",
              "      <td>225.379</td>\n",
              "      <td>18.142</td>\n",
              "      <td>12.423</td>\n",
              "      <td>13.93</td>\n",
              "      <td>squeal</td>\n",
              "    </tr>\n",
              "    <tr>\n",
              "      <th>...</th>\n",
              "      <td>...</td>\n",
              "      <td>...</td>\n",
              "      <td>...</td>\n",
              "      <td>...</td>\n",
              "      <td>...</td>\n",
              "      <td>...</td>\n",
              "      <td>...</td>\n",
              "      <td>...</td>\n",
              "      <td>...</td>\n",
              "      <td>...</td>\n",
              "    </tr>\n",
              "    <tr>\n",
              "      <th>408</th>\n",
              "      <td>2.413</td>\n",
              "      <td>33.731</td>\n",
              "      <td>162.388</td>\n",
              "      <td>689.083</td>\n",
              "      <td>0.303</td>\n",
              "      <td>413.913</td>\n",
              "      <td>34.701</td>\n",
              "      <td>11.928</td>\n",
              "      <td>6.15</td>\n",
              "      <td>snort</td>\n",
              "    </tr>\n",
              "    <tr>\n",
              "      <th>409</th>\n",
              "      <td>12.324</td>\n",
              "      <td>106.265</td>\n",
              "      <td>286.088</td>\n",
              "      <td>181.432</td>\n",
              "      <td>0.169</td>\n",
              "      <td>386.167</td>\n",
              "      <td>29.581</td>\n",
              "      <td>13.054</td>\n",
              "      <td>8.15</td>\n",
              "      <td>snort</td>\n",
              "    </tr>\n",
              "    <tr>\n",
              "      <th>410</th>\n",
              "      <td>1.511</td>\n",
              "      <td>47.826</td>\n",
              "      <td>302.461</td>\n",
              "      <td>197.067</td>\n",
              "      <td>0.549</td>\n",
              "      <td>393.041</td>\n",
              "      <td>25.510</td>\n",
              "      <td>15.407</td>\n",
              "      <td>4.52</td>\n",
              "      <td>snort</td>\n",
              "    </tr>\n",
              "    <tr>\n",
              "      <th>411</th>\n",
              "      <td>4.978</td>\n",
              "      <td>70.706</td>\n",
              "      <td>211.919</td>\n",
              "      <td>94.333</td>\n",
              "      <td>0.669</td>\n",
              "      <td>477.292</td>\n",
              "      <td>29.899</td>\n",
              "      <td>15.963</td>\n",
              "      <td>7.78</td>\n",
              "      <td>snort</td>\n",
              "    </tr>\n",
              "    <tr>\n",
              "      <th>412</th>\n",
              "      <td>2.142</td>\n",
              "      <td>33.163</td>\n",
              "      <td>142.663</td>\n",
              "      <td>872.093</td>\n",
              "      <td>0.514</td>\n",
              "      <td>448.085</td>\n",
              "      <td>30.173</td>\n",
              "      <td>14.850</td>\n",
              "      <td>11.90</td>\n",
              "      <td>snort</td>\n",
              "    </tr>\n",
              "  </tbody>\n",
              "</table>\n",
              "<p>413 rows × 10 columns</p>\n",
              "</div>\n",
              "      <button class=\"colab-df-convert\" onclick=\"convertToInteractive('df-ab7c6c14-8b1b-45f3-82a8-05228eafb516')\"\n",
              "              title=\"Convert this dataframe to an interactive table.\"\n",
              "              style=\"display:none;\">\n",
              "        \n",
              "  <svg xmlns=\"http://www.w3.org/2000/svg\" height=\"24px\"viewBox=\"0 0 24 24\"\n",
              "       width=\"24px\">\n",
              "    <path d=\"M0 0h24v24H0V0z\" fill=\"none\"/>\n",
              "    <path d=\"M18.56 5.44l.94 2.06.94-2.06 2.06-.94-2.06-.94-.94-2.06-.94 2.06-2.06.94zm-11 1L8.5 8.5l.94-2.06 2.06-.94-2.06-.94L8.5 2.5l-.94 2.06-2.06.94zm10 10l.94 2.06.94-2.06 2.06-.94-2.06-.94-.94-2.06-.94 2.06-2.06.94z\"/><path d=\"M17.41 7.96l-1.37-1.37c-.4-.4-.92-.59-1.43-.59-.52 0-1.04.2-1.43.59L10.3 9.45l-7.72 7.72c-.78.78-.78 2.05 0 2.83L4 21.41c.39.39.9.59 1.41.59.51 0 1.02-.2 1.41-.59l7.78-7.78 2.81-2.81c.8-.78.8-2.07 0-2.86zM5.41 20L4 18.59l7.72-7.72 1.47 1.35L5.41 20z\"/>\n",
              "  </svg>\n",
              "      </button>\n",
              "      \n",
              "  <style>\n",
              "    .colab-df-container {\n",
              "      display:flex;\n",
              "      flex-wrap:wrap;\n",
              "      gap: 12px;\n",
              "    }\n",
              "\n",
              "    .colab-df-convert {\n",
              "      background-color: #E8F0FE;\n",
              "      border: none;\n",
              "      border-radius: 50%;\n",
              "      cursor: pointer;\n",
              "      display: none;\n",
              "      fill: #1967D2;\n",
              "      height: 32px;\n",
              "      padding: 0 0 0 0;\n",
              "      width: 32px;\n",
              "    }\n",
              "\n",
              "    .colab-df-convert:hover {\n",
              "      background-color: #E2EBFA;\n",
              "      box-shadow: 0px 1px 2px rgba(60, 64, 67, 0.3), 0px 1px 3px 1px rgba(60, 64, 67, 0.15);\n",
              "      fill: #174EA6;\n",
              "    }\n",
              "\n",
              "    [theme=dark] .colab-df-convert {\n",
              "      background-color: #3B4455;\n",
              "      fill: #D2E3FC;\n",
              "    }\n",
              "\n",
              "    [theme=dark] .colab-df-convert:hover {\n",
              "      background-color: #434B5C;\n",
              "      box-shadow: 0px 1px 3px 1px rgba(0, 0, 0, 0.15);\n",
              "      filter: drop-shadow(0px 1px 2px rgba(0, 0, 0, 0.3));\n",
              "      fill: #FFFFFF;\n",
              "    }\n",
              "  </style>\n",
              "\n",
              "      <script>\n",
              "        const buttonEl =\n",
              "          document.querySelector('#df-ab7c6c14-8b1b-45f3-82a8-05228eafb516 button.colab-df-convert');\n",
              "        buttonEl.style.display =\n",
              "          google.colab.kernel.accessAllowed ? 'block' : 'none';\n",
              "\n",
              "        async function convertToInteractive(key) {\n",
              "          const element = document.querySelector('#df-ab7c6c14-8b1b-45f3-82a8-05228eafb516');\n",
              "          const dataTable =\n",
              "            await google.colab.kernel.invokeFunction('convertToInteractive',\n",
              "                                                     [key], {});\n",
              "          if (!dataTable) return;\n",
              "\n",
              "          const docLinkHtml = 'Like what you see? Visit the ' +\n",
              "            '<a target=\"_blank\" href=https://colab.research.google.com/notebooks/data_table.ipynb>data table notebook</a>'\n",
              "            + ' to learn more about interactive tables.';\n",
              "          element.innerHTML = '';\n",
              "          dataTable['output_type'] = 'display_data';\n",
              "          await google.colab.output.renderOutput(dataTable, element);\n",
              "          const docLink = document.createElement('div');\n",
              "          docLink.innerHTML = docLinkHtml;\n",
              "          element.appendChild(docLink);\n",
              "        }\n",
              "      </script>\n",
              "    </div>\n",
              "  </div>\n",
              "  "
            ]
          },
          "metadata": {},
          "execution_count": 9
        }
      ]
    },
    {
      "cell_type": "markdown",
      "source": [
        "\n",
        "1) Splitting the data between features and labels"
      ],
      "metadata": {
        "id": "WfeoB7zwnDHE"
      }
    },
    {
      "cell_type": "code",
      "source": [
        "Y = data['labels']\n",
        "X = data.drop('labels', axis = 1)"
      ],
      "metadata": {
        "id": "UwwqE5NOocwz"
      },
      "execution_count": 49,
      "outputs": []
    },
    {
      "cell_type": "code",
      "source": [
        "labels_names = Y.unique()"
      ],
      "metadata": {
        "id": "KJMVsTaKASF6"
      },
      "execution_count": 50,
      "outputs": []
    },
    {
      "cell_type": "markdown",
      "source": [
        "2) Splitting between training and test set"
      ],
      "metadata": {
        "id": "2r7k0x0ipcV7"
      }
    },
    {
      "cell_type": "code",
      "source": [
        "from sklearn.tree import DecisionTreeClassifier, export_graphviz\n",
        "from sklearn.model_selection import train_test_split\n",
        "import graphviz"
      ],
      "metadata": {
        "id": "0xGuguLhpgkt"
      },
      "execution_count": 17,
      "outputs": []
    },
    {
      "cell_type": "code",
      "source": [
        "#keith, here we can just stratify but i dont know how cause there is no variable label in the x\n",
        "x_train, x_test, y_train, y_test = train_test_split(X, Y, test_size = 0.2, train_size = 0.8)"
      ],
      "metadata": {
        "id": "L8G-rCNBuI_A"
      },
      "execution_count": 24,
      "outputs": []
    },
    {
      "cell_type": "markdown",
      "source": [
        "\n",
        "3) Defining the model and hyperparam"
      ],
      "metadata": {
        "id": "GIH-piYXwNaB"
      }
    },
    {
      "cell_type": "code",
      "source": [
        "#min number of sample in each leaf\n",
        "min_samples_split = [int(x) for x in range(15,25)]\n",
        "#max number level of questions in each tree\n",
        "max_depth = [int(x) for x in range(2,6)]"
      ],
      "metadata": {
        "id": "xdUbG1KCniMI"
      },
      "execution_count": 23,
      "outputs": []
    },
    {
      "cell_type": "code",
      "source": [
        "#hyperparam tuning\n",
        "param_grid = {\n",
        "    'min_samples_split': min_samples_split,\n",
        "    'max_depth': max_depth\n",
        "}\n",
        "param_grid\n"
      ],
      "metadata": {
        "id": "NLDu9j-gnJKh",
        "colab": {
          "base_uri": "https://localhost:8080/"
        },
        "outputId": "84428e72-7426-488e-8a8b-638d104515e1"
      },
      "execution_count": 26,
      "outputs": [
        {
          "output_type": "execute_result",
          "data": {
            "text/plain": [
              "{'max_depth': [2, 3, 4, 5],\n",
              " 'min_samples_split': [15, 16, 17, 18, 19, 20, 21, 22, 23, 24]}"
            ]
          },
          "metadata": {},
          "execution_count": 26
        }
      ]
    },
    {
      "cell_type": "markdown",
      "source": [
        "I will now define the model so that we can apply that hyperparam grid"
      ],
      "metadata": {
        "id": "8Cn2MrAssOXV"
      }
    },
    {
      "cell_type": "code",
      "source": [
        "model1 = DecisionTreeClassifier()"
      ],
      "metadata": {
        "id": "gdIi__f2u9iS"
      },
      "execution_count": 28,
      "outputs": []
    },
    {
      "cell_type": "code",
      "source": [
        "#importing the grid that allows us to tune\n",
        "from sklearn.model_selection import GridSearchCV\n",
        "\n",
        "#applying the grid i created\n",
        "rf_grid = GridSearchCV(model1, param_grid, cv = 3, verbose = 2)"
      ],
      "metadata": {
        "id": "GGyUnWPwrw57",
        "colab": {
          "base_uri": "https://localhost:8080/"
        },
        "outputId": "1b418092-d415-421f-d320-d6ee45b260ee"
      },
      "execution_count": 30,
      "outputs": [
        {
          "output_type": "execute_result",
          "data": {
            "text/plain": [
              "GridSearchCV(cv=3, estimator=DecisionTreeClassifier(),\n",
              "             param_grid={'max_depth': [2, 3, 4, 5],\n",
              "                         'min_samples_split': [15, 16, 17, 18, 19, 20, 21, 22,\n",
              "                                               23, 24]},\n",
              "             verbose=2)"
            ]
          },
          "metadata": {},
          "execution_count": 30
        }
      ]
    },
    {
      "cell_type": "markdown",
      "source": [
        "Now before fitting, Id like to define all the possibility of different hyperparameters"
      ],
      "metadata": {
        "id": "FlMqlBmQmR4j"
      }
    },
    {
      "cell_type": "code",
      "source": [
        "rf_grid.fit(x_train,y_train)\n",
        "\n",
        "#the grids best result was: {'max_depth': 3, 'min_samples_split': 19} which led to a 86,7 score"
      ],
      "metadata": {
        "id": "h-N6QollydVm"
      },
      "execution_count": null,
      "outputs": []
    },
    {
      "cell_type": "code",
      "source": [
        "rf_grid.best_params_"
      ],
      "metadata": {
        "colab": {
          "base_uri": "https://localhost:8080/"
        },
        "id": "f41EY3-huixj",
        "outputId": "8b8aed8e-da68-4cb7-c229-aac583053cfb"
      },
      "execution_count": 32,
      "outputs": [
        {
          "output_type": "execute_result",
          "data": {
            "text/plain": [
              "{'max_depth': 3, 'min_samples_split': 19}"
            ]
          },
          "metadata": {},
          "execution_count": 32
        }
      ]
    },
    {
      "cell_type": "code",
      "source": [
        "rf_grid.score(x_train, y_train)"
      ],
      "metadata": {
        "colab": {
          "base_uri": "https://localhost:8080/"
        },
        "id": "lPdsWxaP0uau",
        "outputId": "ecbba563-8f8f-4dd0-b093-a4af33cca74b"
      },
      "execution_count": 33,
      "outputs": [
        {
          "output_type": "execute_result",
          "data": {
            "text/plain": [
              "0.9121212121212121"
            ]
          },
          "metadata": {},
          "execution_count": 33
        }
      ]
    },
    {
      "cell_type": "code",
      "source": [
        "rf_grid.score(x_test, y_test)"
      ],
      "metadata": {
        "colab": {
          "base_uri": "https://localhost:8080/"
        },
        "id": "fKt9_oPc02fO",
        "outputId": "7f11b06f-bc2e-45fa-8e0f-384662b40ea9"
      },
      "execution_count": 34,
      "outputs": [
        {
          "output_type": "execute_result",
          "data": {
            "text/plain": [
              "0.8674698795180723"
            ]
          },
          "metadata": {},
          "execution_count": 34
        }
      ]
    },
    {
      "cell_type": "markdown",
      "source": [
        "# **Fitting the tree 1 so I can draw it**"
      ],
      "metadata": {
        "id": "zhUa4Nxs9Qan"
      }
    },
    {
      "cell_type": "markdown",
      "source": [
        "Defining the a tree model using the best known hp"
      ],
      "metadata": {
        "id": "hdpv_Uwr9jPQ"
      }
    },
    {
      "cell_type": "code",
      "source": [
        "model1_best = DecisionTreeClassifier(max_depth = 3,\n",
        "                                     min_samples_split = 19)"
      ],
      "metadata": {
        "id": "ySXe_wgc9imf"
      },
      "execution_count": 38,
      "outputs": []
    },
    {
      "cell_type": "code",
      "source": [
        "model1_best.fit(x_test,y_test)"
      ],
      "metadata": {
        "colab": {
          "base_uri": "https://localhost:8080/"
        },
        "id": "jBoRkKt29Slh",
        "outputId": "49413249-bbf5-47ce-e6d0-482c5096f185"
      },
      "execution_count": 39,
      "outputs": [
        {
          "output_type": "execute_result",
          "data": {
            "text/plain": [
              "DecisionTreeClassifier(max_depth=3, min_samples_split=19)"
            ]
          },
          "metadata": {},
          "execution_count": 39
        }
      ]
    },
    {
      "cell_type": "markdown",
      "source": [
        "Representing the tree visually"
      ],
      "metadata": {
        "id": "HYUJ8YkHu3iH"
      }
    },
    {
      "cell_type": "code",
      "source": [
        "dot_data = export_graphviz(decision_tree = model1_best,   \n",
        "                      out_file=None, \n",
        "                      feature_names=X.columns,       #Provide X Variables Column Names \n",
        "                      class_names=labels_names,      # Provide Target Variable Column Name\n",
        "                      filled=True, rounded=True,     # Controls the look of the nodes and colours it\n",
        "                      special_characters=True)  \n",
        "\n",
        "graph = graphviz.Source(dot_data)  \n",
        "graph "
      ],
      "metadata": {
        "colab": {
          "base_uri": "https://localhost:8080/",
          "height": 598
        },
        "id": "2FDWYH1q7_Ig",
        "outputId": "6f8c5743-4909-4093-b705-de775d87c4a1"
      },
      "execution_count": 52,
      "outputs": [
        {
          "output_type": "execute_result",
          "data": {
            "text/plain": [
              "<graphviz.files.Source at 0x7fbd655c4f10>"
            ],
            "image/svg+xml": "<?xml version=\"1.0\" encoding=\"UTF-8\" standalone=\"no\"?>\n<!DOCTYPE svg PUBLIC \"-//W3C//DTD SVG 1.1//EN\"\n \"http://www.w3.org/Graphics/SVG/1.1/DTD/svg11.dtd\">\n<!-- Generated by graphviz version 2.40.1 (20161225.0304)\n -->\n<!-- Title: Tree Pages: 1 -->\n<svg width=\"380pt\" height=\"433pt\"\n viewBox=\"0.00 0.00 380.00 433.00\" xmlns=\"http://www.w3.org/2000/svg\" xmlns:xlink=\"http://www.w3.org/1999/xlink\">\n<g id=\"graph0\" class=\"graph\" transform=\"scale(1 1) rotate(0) translate(4 429)\">\n<title>Tree</title>\n<polygon fill=\"#ffffff\" stroke=\"transparent\" points=\"-4,4 -4,-429 376,-429 376,4 -4,4\"/>\n<!-- 0 -->\n<g id=\"node1\" class=\"node\">\n<title>0</title>\n<path fill=\"#f4caac\" stroke=\"#000000\" d=\"M287,-425C287,-425 156,-425 156,-425 150,-425 144,-419 144,-413 144,-413 144,-354 144,-354 144,-348 150,-342 156,-342 156,-342 287,-342 287,-342 293,-342 299,-348 299,-354 299,-354 299,-413 299,-413 299,-419 293,-425 287,-425\"/>\n<text text-anchor=\"start\" x=\"174.5\" y=\"-409.8\" font-family=\"Helvetica,sans-Serif\" font-size=\"14.00\" fill=\"#000000\">q50 ≤ 656.003</text>\n<text text-anchor=\"start\" x=\"183.5\" y=\"-394.8\" font-family=\"Helvetica,sans-Serif\" font-size=\"14.00\" fill=\"#000000\">gini = 0.595</text>\n<text text-anchor=\"start\" x=\"177.5\" y=\"-379.8\" font-family=\"Helvetica,sans-Serif\" font-size=\"14.00\" fill=\"#000000\">samples = 83</text>\n<text text-anchor=\"start\" x=\"152\" y=\"-364.8\" font-family=\"Helvetica,sans-Serif\" font-size=\"14.00\" fill=\"#000000\">value = [47, 4, 11, 21]</text>\n<text text-anchor=\"start\" x=\"174.5\" y=\"-349.8\" font-family=\"Helvetica,sans-Serif\" font-size=\"14.00\" fill=\"#000000\">class = squeal</text>\n</g>\n<!-- 1 -->\n<g id=\"node2\" class=\"node\">\n<title>1</title>\n<path fill=\"#eda979\" stroke=\"#000000\" d=\"M203,-306C203,-306 80,-306 80,-306 74,-306 68,-300 68,-294 68,-294 68,-235 68,-235 68,-229 74,-223 80,-223 80,-223 203,-223 203,-223 209,-223 215,-229 215,-235 215,-235 215,-294 215,-294 215,-300 209,-306 203,-306\"/>\n<text text-anchor=\"start\" x=\"93\" y=\"-290.8\" font-family=\"Helvetica,sans-Serif\" font-size=\"14.00\" fill=\"#000000\">duration ≤ 0.17</text>\n<text text-anchor=\"start\" x=\"103.5\" y=\"-275.8\" font-family=\"Helvetica,sans-Serif\" font-size=\"14.00\" fill=\"#000000\">gini = 0.426</text>\n<text text-anchor=\"start\" x=\"97.5\" y=\"-260.8\" font-family=\"Helvetica,sans-Serif\" font-size=\"14.00\" fill=\"#000000\">samples = 64</text>\n<text text-anchor=\"start\" x=\"76\" y=\"-245.8\" font-family=\"Helvetica,sans-Serif\" font-size=\"14.00\" fill=\"#000000\">value = [47, 4, 11, 2]</text>\n<text text-anchor=\"start\" x=\"94.5\" y=\"-230.8\" font-family=\"Helvetica,sans-Serif\" font-size=\"14.00\" fill=\"#000000\">class = squeal</text>\n</g>\n<!-- 0&#45;&gt;1 -->\n<g id=\"edge1\" class=\"edge\">\n<title>0&#45;&gt;1</title>\n<path fill=\"none\" stroke=\"#000000\" d=\"M193.5199,-341.8796C187.6469,-333.1434 181.3927,-323.8404 175.3321,-314.8253\"/>\n<polygon fill=\"#000000\" stroke=\"#000000\" points=\"178.0834,-312.6444 169.5995,-306.2981 172.2741,-316.5498 178.0834,-312.6444\"/>\n<text text-anchor=\"middle\" x=\"164.7915\" y=\"-327.1314\" font-family=\"Helvetica,sans-Serif\" font-size=\"14.00\" fill=\"#000000\">True</text>\n</g>\n<!-- 6 -->\n<g id=\"node7\" class=\"node\">\n<title>6</title>\n<path fill=\"#d739e5\" stroke=\"#000000\" d=\"M360,-298.5C360,-298.5 245,-298.5 245,-298.5 239,-298.5 233,-292.5 233,-286.5 233,-286.5 233,-242.5 233,-242.5 233,-236.5 239,-230.5 245,-230.5 245,-230.5 360,-230.5 360,-230.5 366,-230.5 372,-236.5 372,-242.5 372,-242.5 372,-286.5 372,-286.5 372,-292.5 366,-298.5 360,-298.5\"/>\n<text text-anchor=\"start\" x=\"273\" y=\"-283.3\" font-family=\"Helvetica,sans-Serif\" font-size=\"14.00\" fill=\"#000000\">gini = 0.0</text>\n<text text-anchor=\"start\" x=\"258.5\" y=\"-268.3\" font-family=\"Helvetica,sans-Serif\" font-size=\"14.00\" fill=\"#000000\">samples = 19</text>\n<text text-anchor=\"start\" x=\"241\" y=\"-253.3\" font-family=\"Helvetica,sans-Serif\" font-size=\"14.00\" fill=\"#000000\">value = [0, 0, 0, 19]</text>\n<text text-anchor=\"start\" x=\"261.5\" y=\"-238.3\" font-family=\"Helvetica,sans-Serif\" font-size=\"14.00\" fill=\"#000000\">class = snort</text>\n</g>\n<!-- 0&#45;&gt;6 -->\n<g id=\"edge6\" class=\"edge\">\n<title>0&#45;&gt;6</title>\n<path fill=\"none\" stroke=\"#000000\" d=\"M249.8299,-341.8796C257.4643,-330.6636 265.7348,-318.5131 273.4099,-307.2372\"/>\n<polygon fill=\"#000000\" stroke=\"#000000\" points=\"276.4092,-309.0511 279.1428,-298.8149 270.6225,-305.1122 276.4092,-309.0511\"/>\n<text text-anchor=\"middle\" x=\"283.8093\" y=\"-319.6755\" font-family=\"Helvetica,sans-Serif\" font-size=\"14.00\" fill=\"#000000\">False</text>\n</g>\n<!-- 2 -->\n<g id=\"node3\" class=\"node\">\n<title>2</title>\n<path fill=\"#65b3eb\" stroke=\"#000000\" d=\"M119,-179.5C119,-179.5 12,-179.5 12,-179.5 6,-179.5 0,-173.5 0,-167.5 0,-167.5 0,-123.5 0,-123.5 0,-117.5 6,-111.5 12,-111.5 12,-111.5 119,-111.5 119,-111.5 125,-111.5 131,-117.5 131,-123.5 131,-123.5 131,-167.5 131,-167.5 131,-173.5 125,-179.5 119,-179.5\"/>\n<text text-anchor=\"start\" x=\"32\" y=\"-164.3\" font-family=\"Helvetica,sans-Serif\" font-size=\"14.00\" fill=\"#000000\">gini = 0.34</text>\n<text text-anchor=\"start\" x=\"21.5\" y=\"-149.3\" font-family=\"Helvetica,sans-Serif\" font-size=\"14.00\" fill=\"#000000\">samples = 10</text>\n<text text-anchor=\"start\" x=\"8\" y=\"-134.3\" font-family=\"Helvetica,sans-Serif\" font-size=\"14.00\" fill=\"#000000\">value = [1, 1, 8, 0]</text>\n<text text-anchor=\"start\" x=\"12.5\" y=\"-119.3\" font-family=\"Helvetica,sans-Serif\" font-size=\"14.00\" fill=\"#000000\">class = softsnort</text>\n</g>\n<!-- 1&#45;&gt;2 -->\n<g id=\"edge2\" class=\"edge\">\n<title>1&#45;&gt;2</title>\n<path fill=\"none\" stroke=\"#000000\" d=\"M114.9189,-222.8796C107.826,-211.7735 100.1479,-199.7513 93.0063,-188.5691\"/>\n<polygon fill=\"#000000\" stroke=\"#000000\" points=\"95.7477,-186.3589 87.4154,-179.8149 89.8482,-190.1267 95.7477,-186.3589\"/>\n</g>\n<!-- 3 -->\n<g id=\"node4\" class=\"node\">\n<title>3</title>\n<path fill=\"#e99558\" stroke=\"#000000\" d=\"M276,-187C276,-187 161,-187 161,-187 155,-187 149,-181 149,-175 149,-175 149,-116 149,-116 149,-110 155,-104 161,-104 161,-104 276,-104 276,-104 282,-104 288,-110 288,-116 288,-116 288,-175 288,-175 288,-181 282,-187 276,-187\"/>\n<text text-anchor=\"start\" x=\"162\" y=\"-171.8\" font-family=\"Helvetica,sans-Serif\" font-size=\"14.00\" fill=\"#000000\">am.var ≤ 297.854</text>\n<text text-anchor=\"start\" x=\"180.5\" y=\"-156.8\" font-family=\"Helvetica,sans-Serif\" font-size=\"14.00\" fill=\"#000000\">gini = 0.267</text>\n<text text-anchor=\"start\" x=\"174.5\" y=\"-141.8\" font-family=\"Helvetica,sans-Serif\" font-size=\"14.00\" fill=\"#000000\">samples = 54</text>\n<text text-anchor=\"start\" x=\"157\" y=\"-126.8\" font-family=\"Helvetica,sans-Serif\" font-size=\"14.00\" fill=\"#000000\">value = [46, 3, 3, 2]</text>\n<text text-anchor=\"start\" x=\"171.5\" y=\"-111.8\" font-family=\"Helvetica,sans-Serif\" font-size=\"14.00\" fill=\"#000000\">class = squeal</text>\n</g>\n<!-- 1&#45;&gt;3 -->\n<g id=\"edge3\" class=\"edge\">\n<title>1&#45;&gt;3</title>\n<path fill=\"none\" stroke=\"#000000\" d=\"M168.4309,-222.8796C174.0837,-214.1434 180.1033,-204.8404 185.9366,-195.8253\"/>\n<polygon fill=\"#000000\" stroke=\"#000000\" points=\"188.9601,-197.5952 191.4542,-187.2981 183.0831,-193.7924 188.9601,-197.5952\"/>\n</g>\n<!-- 4 -->\n<g id=\"node5\" class=\"node\">\n<title>4</title>\n<path fill=\"#ffffff\" stroke=\"#000000\" d=\"M195,-68C195,-68 88,-68 88,-68 82,-68 76,-62 76,-56 76,-56 76,-12 76,-12 76,-6 82,0 88,0 88,0 195,0 195,0 201,0 207,-6 207,-12 207,-12 207,-56 207,-56 207,-62 201,-68 195,-68\"/>\n<text text-anchor=\"start\" x=\"108\" y=\"-52.8\" font-family=\"Helvetica,sans-Serif\" font-size=\"14.00\" fill=\"#000000\">gini = 0.64</text>\n<text text-anchor=\"start\" x=\"102\" y=\"-37.8\" font-family=\"Helvetica,sans-Serif\" font-size=\"14.00\" fill=\"#000000\">samples = 5</text>\n<text text-anchor=\"start\" x=\"84\" y=\"-22.8\" font-family=\"Helvetica,sans-Serif\" font-size=\"14.00\" fill=\"#000000\">value = [0, 2, 1, 2]</text>\n<text text-anchor=\"start\" x=\"91.5\" y=\"-7.8\" font-family=\"Helvetica,sans-Serif\" font-size=\"14.00\" fill=\"#000000\">class = whinnie</text>\n</g>\n<!-- 3&#45;&gt;4 -->\n<g id=\"edge4\" class=\"edge\">\n<title>3&#45;&gt;4</title>\n<path fill=\"none\" stroke=\"#000000\" d=\"M189.828,-103.9815C183.6715,-95.0666 177.1557,-85.6313 170.9695,-76.6734\"/>\n<polygon fill=\"#000000\" stroke=\"#000000\" points=\"173.7245,-74.5034 165.1619,-68.2637 167.9645,-78.4811 173.7245,-74.5034\"/>\n</g>\n<!-- 5 -->\n<g id=\"node6\" class=\"node\">\n<title>5</title>\n<path fill=\"#e78946\" stroke=\"#000000\" d=\"M352,-68C352,-68 237,-68 237,-68 231,-68 225,-62 225,-56 225,-56 225,-12 225,-12 225,-6 231,0 237,0 237,0 352,0 352,0 358,0 364,-6 364,-12 364,-12 364,-56 364,-56 364,-62 358,-68 352,-68\"/>\n<text text-anchor=\"start\" x=\"256.5\" y=\"-52.8\" font-family=\"Helvetica,sans-Serif\" font-size=\"14.00\" fill=\"#000000\">gini = 0.117</text>\n<text text-anchor=\"start\" x=\"250.5\" y=\"-37.8\" font-family=\"Helvetica,sans-Serif\" font-size=\"14.00\" fill=\"#000000\">samples = 49</text>\n<text text-anchor=\"start\" x=\"233\" y=\"-22.8\" font-family=\"Helvetica,sans-Serif\" font-size=\"14.00\" fill=\"#000000\">value = [46, 1, 2, 0]</text>\n<text text-anchor=\"start\" x=\"247.5\" y=\"-7.8\" font-family=\"Helvetica,sans-Serif\" font-size=\"14.00\" fill=\"#000000\">class = squeal</text>\n</g>\n<!-- 3&#45;&gt;5 -->\n<g id=\"edge5\" class=\"edge\">\n<title>3&#45;&gt;5</title>\n<path fill=\"none\" stroke=\"#000000\" d=\"M246.7996,-103.9815C252.8762,-95.0666 259.3074,-85.6313 265.4132,-76.6734\"/>\n<polygon fill=\"#000000\" stroke=\"#000000\" points=\"268.4052,-78.498 271.1454,-68.2637 262.6211,-74.5555 268.4052,-78.498\"/>\n</g>\n</g>\n</svg>\n"
          },
          "metadata": {},
          "execution_count": 52
        }
      ]
    },
    {
      "cell_type": "markdown",
      "source": [
        "# Other tree with different specs"
      ],
      "metadata": {
        "id": "HPI5B2MDGoSb"
      }
    },
    {
      "cell_type": "code",
      "source": [
        "#new hp grid\n",
        "#min number of sample in each leaf\n",
        "min_samples_split2 = [int(x) for x in range(12,30)]\n",
        "#max number level of questions in each tree\n",
        "max_depth2 = [int(x) for x in range(3,8)]\n",
        "\n",
        "\n",
        "#hyperparam tuning\n",
        "param_grid2 = {\n",
        "    'min_samples_split': min_samples_split2,\n",
        "    'max_depth': max_depth2\n",
        "}\n",
        "param_grid2\n"
      ],
      "metadata": {
        "id": "zsRuxBaTGsyV"
      },
      "execution_count": null,
      "outputs": []
    },
    {
      "cell_type": "markdown",
      "source": [
        "Creating a model 2 and a search grid "
      ],
      "metadata": {
        "id": "QDvhoz3nHDd6"
      }
    },
    {
      "cell_type": "code",
      "source": [
        "model2 = DecisionTreeClassifier()"
      ],
      "metadata": {
        "id": "DBee5xfBHGti"
      },
      "execution_count": 55,
      "outputs": []
    },
    {
      "cell_type": "code",
      "source": [
        "rf_grid2 = GridSearchCV(model2, param_grid2, cv = 5, verbose = 2)"
      ],
      "metadata": {
        "id": "2G7fQWm2HKay"
      },
      "execution_count": 60,
      "outputs": []
    },
    {
      "cell_type": "markdown",
      "source": [
        "Running GridSearchCV, a function that create all the possibilities and store those possibilities in rf_grid2.\n",
        "\n",
        "To actually run these possibilities, I will run rf_grid.fit(training data)\n",
        "\n",
        "Then I select the best possibility and run a decision tree with it."
      ],
      "metadata": {
        "id": "nxEDhm7ZHWh6"
      }
    },
    {
      "cell_type": "code",
      "source": [
        "rf_grid2.fit(x_train,y_train)\n",
        "\n",
        "#{'max_depth': 4, 'min_samples_split': 12} train = 0.87, test = 0.93"
      ],
      "metadata": {
        "id": "ZvuMiSlVMclB"
      },
      "execution_count": null,
      "outputs": []
    },
    {
      "cell_type": "markdown",
      "source": [
        "Now ill discover the best set of hyperparams. The object rf_grid2 has (the method fit used earlier and) the attribute best_params to check the best models."
      ],
      "metadata": {
        "id": "hoEmAP2gNA_l"
      }
    },
    {
      "cell_type": "code",
      "source": [
        "rf_grid2.best_params_"
      ],
      "metadata": {
        "colab": {
          "base_uri": "https://localhost:8080/"
        },
        "id": "zLUHhLoZNFCs",
        "outputId": "aafdc247-a75b-4fa7-bab0-73b36c95d034"
      },
      "execution_count": 62,
      "outputs": [
        {
          "output_type": "execute_result",
          "data": {
            "text/plain": [
              "{'max_depth': 4, 'min_samples_split': 12}"
            ]
          },
          "metadata": {},
          "execution_count": 62
        }
      ]
    },
    {
      "cell_type": "markdown",
      "source": [
        "getting the train and test scores: score() is also a method of rf_grid2"
      ],
      "metadata": {
        "id": "uphJbF_4QCYw"
      }
    },
    {
      "cell_type": "code",
      "source": [
        "rf_grid2.score(x_train,y_train)"
      ],
      "metadata": {
        "colab": {
          "base_uri": "https://localhost:8080/"
        },
        "id": "0Ej61YXGQbUY",
        "outputId": "8cbe99da-4801-4178-e565-82191ba283d7"
      },
      "execution_count": 63,
      "outputs": [
        {
          "output_type": "execute_result",
          "data": {
            "text/plain": [
              "0.9333333333333333"
            ]
          },
          "metadata": {},
          "execution_count": 63
        }
      ]
    },
    {
      "cell_type": "code",
      "source": [
        "rf_grid2.score(x_test,y_test)"
      ],
      "metadata": {
        "colab": {
          "base_uri": "https://localhost:8080/"
        },
        "id": "73QMaDKsSGYn",
        "outputId": "98dcad0a-6a93-4a48-e1d1-2a30a3f9bda0"
      },
      "execution_count": 64,
      "outputs": [
        {
          "output_type": "execute_result",
          "data": {
            "text/plain": [
              "0.8795180722891566"
            ]
          },
          "metadata": {},
          "execution_count": 64
        }
      ]
    },
    {
      "cell_type": "markdown",
      "source": [
        "plotting this second tree"
      ],
      "metadata": {
        "id": "kQrtM51gTp6e"
      }
    },
    {
      "cell_type": "code",
      "source": [
        "model2_best = DecisionTreeClassifier(max_depth = 4,\n",
        "                                     min_samples_split = 12)\n",
        "\n",
        "model2_best.fit(x_test,y_test)"
      ],
      "metadata": {
        "colab": {
          "base_uri": "https://localhost:8080/"
        },
        "id": "8Vpe-TeoTrdq",
        "outputId": "097fafd9-91e0-4021-bf84-00f6ea7ae585"
      },
      "execution_count": 66,
      "outputs": [
        {
          "output_type": "execute_result",
          "data": {
            "text/plain": [
              "DecisionTreeClassifier(max_depth=4, min_samples_split=12)"
            ]
          },
          "metadata": {},
          "execution_count": 66
        }
      ]
    },
    {
      "cell_type": "code",
      "source": [
        "dot_data = export_graphviz(decision_tree = model2_best,   \n",
        "                      out_file=None, \n",
        "                      feature_names=X.columns,       #Provide X Variables Column Names \n",
        "                      class_names=labels_names,      # Provide Target Variable Column Name\n",
        "                      filled=True, rounded=True,     # Controls the look of the nodes and colours it\n",
        "                      special_characters=True)  \n",
        "\n",
        "graph = graphviz.Source(dot_data)  \n",
        "graph "
      ],
      "metadata": {
        "colab": {
          "base_uri": "https://localhost:8080/",
          "height": 757
        },
        "id": "h9kR6SAqT3vn",
        "outputId": "48a66de7-625e-4c7b-b86a-76e6059d086e"
      },
      "execution_count": 67,
      "outputs": [
        {
          "output_type": "execute_result",
          "data": {
            "text/plain": [
              "<graphviz.files.Source at 0x7fbd65540450>"
            ],
            "image/svg+xml": "<?xml version=\"1.0\" encoding=\"UTF-8\" standalone=\"no\"?>\n<!DOCTYPE svg PUBLIC \"-//W3C//DTD SVG 1.1//EN\"\n \"http://www.w3.org/Graphics/SVG/1.1/DTD/svg11.dtd\">\n<!-- Generated by graphviz version 2.40.1 (20161225.0304)\n -->\n<!-- Title: Tree Pages: 1 -->\n<svg width=\"448pt\" height=\"552pt\"\n viewBox=\"0.00 0.00 448.00 552.00\" xmlns=\"http://www.w3.org/2000/svg\" xmlns:xlink=\"http://www.w3.org/1999/xlink\">\n<g id=\"graph0\" class=\"graph\" transform=\"scale(1 1) rotate(0) translate(4 548)\">\n<title>Tree</title>\n<polygon fill=\"#ffffff\" stroke=\"transparent\" points=\"-4,4 -4,-548 444,-548 444,4 -4,4\"/>\n<!-- 0 -->\n<g id=\"node1\" class=\"node\">\n<title>0</title>\n<path fill=\"#f4caac\" stroke=\"#000000\" d=\"M287,-544C287,-544 156,-544 156,-544 150,-544 144,-538 144,-532 144,-532 144,-473 144,-473 144,-467 150,-461 156,-461 156,-461 287,-461 287,-461 293,-461 299,-467 299,-473 299,-473 299,-532 299,-532 299,-538 293,-544 287,-544\"/>\n<text text-anchor=\"start\" x=\"174.5\" y=\"-528.8\" font-family=\"Helvetica,sans-Serif\" font-size=\"14.00\" fill=\"#000000\">q50 ≤ 656.003</text>\n<text text-anchor=\"start\" x=\"183.5\" y=\"-513.8\" font-family=\"Helvetica,sans-Serif\" font-size=\"14.00\" fill=\"#000000\">gini = 0.595</text>\n<text text-anchor=\"start\" x=\"177.5\" y=\"-498.8\" font-family=\"Helvetica,sans-Serif\" font-size=\"14.00\" fill=\"#000000\">samples = 83</text>\n<text text-anchor=\"start\" x=\"152\" y=\"-483.8\" font-family=\"Helvetica,sans-Serif\" font-size=\"14.00\" fill=\"#000000\">value = [47, 4, 11, 21]</text>\n<text text-anchor=\"start\" x=\"174.5\" y=\"-468.8\" font-family=\"Helvetica,sans-Serif\" font-size=\"14.00\" fill=\"#000000\">class = squeal</text>\n</g>\n<!-- 1 -->\n<g id=\"node2\" class=\"node\">\n<title>1</title>\n<path fill=\"#eda979\" stroke=\"#000000\" d=\"M203,-425C203,-425 80,-425 80,-425 74,-425 68,-419 68,-413 68,-413 68,-354 68,-354 68,-348 74,-342 80,-342 80,-342 203,-342 203,-342 209,-342 215,-348 215,-354 215,-354 215,-413 215,-413 215,-419 209,-425 203,-425\"/>\n<text text-anchor=\"start\" x=\"93\" y=\"-409.8\" font-family=\"Helvetica,sans-Serif\" font-size=\"14.00\" fill=\"#000000\">duration ≤ 0.17</text>\n<text text-anchor=\"start\" x=\"103.5\" y=\"-394.8\" font-family=\"Helvetica,sans-Serif\" font-size=\"14.00\" fill=\"#000000\">gini = 0.426</text>\n<text text-anchor=\"start\" x=\"97.5\" y=\"-379.8\" font-family=\"Helvetica,sans-Serif\" font-size=\"14.00\" fill=\"#000000\">samples = 64</text>\n<text text-anchor=\"start\" x=\"76\" y=\"-364.8\" font-family=\"Helvetica,sans-Serif\" font-size=\"14.00\" fill=\"#000000\">value = [47, 4, 11, 2]</text>\n<text text-anchor=\"start\" x=\"94.5\" y=\"-349.8\" font-family=\"Helvetica,sans-Serif\" font-size=\"14.00\" fill=\"#000000\">class = squeal</text>\n</g>\n<!-- 0&#45;&gt;1 -->\n<g id=\"edge1\" class=\"edge\">\n<title>0&#45;&gt;1</title>\n<path fill=\"none\" stroke=\"#000000\" d=\"M193.5199,-460.8796C187.6469,-452.1434 181.3927,-442.8404 175.3321,-433.8253\"/>\n<polygon fill=\"#000000\" stroke=\"#000000\" points=\"178.0834,-431.6444 169.5995,-425.2981 172.2741,-435.5498 178.0834,-431.6444\"/>\n<text text-anchor=\"middle\" x=\"164.7915\" y=\"-446.1314\" font-family=\"Helvetica,sans-Serif\" font-size=\"14.00\" fill=\"#000000\">True</text>\n</g>\n<!-- 8 -->\n<g id=\"node9\" class=\"node\">\n<title>8</title>\n<path fill=\"#d739e5\" stroke=\"#000000\" d=\"M360,-417.5C360,-417.5 245,-417.5 245,-417.5 239,-417.5 233,-411.5 233,-405.5 233,-405.5 233,-361.5 233,-361.5 233,-355.5 239,-349.5 245,-349.5 245,-349.5 360,-349.5 360,-349.5 366,-349.5 372,-355.5 372,-361.5 372,-361.5 372,-405.5 372,-405.5 372,-411.5 366,-417.5 360,-417.5\"/>\n<text text-anchor=\"start\" x=\"273\" y=\"-402.3\" font-family=\"Helvetica,sans-Serif\" font-size=\"14.00\" fill=\"#000000\">gini = 0.0</text>\n<text text-anchor=\"start\" x=\"258.5\" y=\"-387.3\" font-family=\"Helvetica,sans-Serif\" font-size=\"14.00\" fill=\"#000000\">samples = 19</text>\n<text text-anchor=\"start\" x=\"241\" y=\"-372.3\" font-family=\"Helvetica,sans-Serif\" font-size=\"14.00\" fill=\"#000000\">value = [0, 0, 0, 19]</text>\n<text text-anchor=\"start\" x=\"261.5\" y=\"-357.3\" font-family=\"Helvetica,sans-Serif\" font-size=\"14.00\" fill=\"#000000\">class = snort</text>\n</g>\n<!-- 0&#45;&gt;8 -->\n<g id=\"edge8\" class=\"edge\">\n<title>0&#45;&gt;8</title>\n<path fill=\"none\" stroke=\"#000000\" d=\"M249.8299,-460.8796C257.4643,-449.6636 265.7348,-437.5131 273.4099,-426.2372\"/>\n<polygon fill=\"#000000\" stroke=\"#000000\" points=\"276.4092,-428.0511 279.1428,-417.8149 270.6225,-424.1122 276.4092,-428.0511\"/>\n<text text-anchor=\"middle\" x=\"283.8093\" y=\"-438.6755\" font-family=\"Helvetica,sans-Serif\" font-size=\"14.00\" fill=\"#000000\">False</text>\n</g>\n<!-- 2 -->\n<g id=\"node3\" class=\"node\">\n<title>2</title>\n<path fill=\"#65b3eb\" stroke=\"#000000\" d=\"M119,-298.5C119,-298.5 12,-298.5 12,-298.5 6,-298.5 0,-292.5 0,-286.5 0,-286.5 0,-242.5 0,-242.5 0,-236.5 6,-230.5 12,-230.5 12,-230.5 119,-230.5 119,-230.5 125,-230.5 131,-236.5 131,-242.5 131,-242.5 131,-286.5 131,-286.5 131,-292.5 125,-298.5 119,-298.5\"/>\n<text text-anchor=\"start\" x=\"32\" y=\"-283.3\" font-family=\"Helvetica,sans-Serif\" font-size=\"14.00\" fill=\"#000000\">gini = 0.34</text>\n<text text-anchor=\"start\" x=\"21.5\" y=\"-268.3\" font-family=\"Helvetica,sans-Serif\" font-size=\"14.00\" fill=\"#000000\">samples = 10</text>\n<text text-anchor=\"start\" x=\"8\" y=\"-253.3\" font-family=\"Helvetica,sans-Serif\" font-size=\"14.00\" fill=\"#000000\">value = [1, 1, 8, 0]</text>\n<text text-anchor=\"start\" x=\"12.5\" y=\"-238.3\" font-family=\"Helvetica,sans-Serif\" font-size=\"14.00\" fill=\"#000000\">class = softsnort</text>\n</g>\n<!-- 1&#45;&gt;2 -->\n<g id=\"edge2\" class=\"edge\">\n<title>1&#45;&gt;2</title>\n<path fill=\"none\" stroke=\"#000000\" d=\"M114.9189,-341.8796C107.826,-330.7735 100.1479,-318.7513 93.0063,-307.5691\"/>\n<polygon fill=\"#000000\" stroke=\"#000000\" points=\"95.7477,-305.3589 87.4154,-298.8149 89.8482,-309.1267 95.7477,-305.3589\"/>\n</g>\n<!-- 3 -->\n<g id=\"node4\" class=\"node\">\n<title>3</title>\n<path fill=\"#e99558\" stroke=\"#000000\" d=\"M276,-306C276,-306 161,-306 161,-306 155,-306 149,-300 149,-294 149,-294 149,-235 149,-235 149,-229 155,-223 161,-223 161,-223 276,-223 276,-223 282,-223 288,-229 288,-235 288,-235 288,-294 288,-294 288,-300 282,-306 276,-306\"/>\n<text text-anchor=\"start\" x=\"162\" y=\"-290.8\" font-family=\"Helvetica,sans-Serif\" font-size=\"14.00\" fill=\"#000000\">am.var ≤ 297.854</text>\n<text text-anchor=\"start\" x=\"180.5\" y=\"-275.8\" font-family=\"Helvetica,sans-Serif\" font-size=\"14.00\" fill=\"#000000\">gini = 0.267</text>\n<text text-anchor=\"start\" x=\"174.5\" y=\"-260.8\" font-family=\"Helvetica,sans-Serif\" font-size=\"14.00\" fill=\"#000000\">samples = 54</text>\n<text text-anchor=\"start\" x=\"157\" y=\"-245.8\" font-family=\"Helvetica,sans-Serif\" font-size=\"14.00\" fill=\"#000000\">value = [46, 3, 3, 2]</text>\n<text text-anchor=\"start\" x=\"171.5\" y=\"-230.8\" font-family=\"Helvetica,sans-Serif\" font-size=\"14.00\" fill=\"#000000\">class = squeal</text>\n</g>\n<!-- 1&#45;&gt;3 -->\n<g id=\"edge3\" class=\"edge\">\n<title>1&#45;&gt;3</title>\n<path fill=\"none\" stroke=\"#000000\" d=\"M168.4309,-341.8796C174.0837,-333.1434 180.1033,-323.8404 185.9366,-314.8253\"/>\n<polygon fill=\"#000000\" stroke=\"#000000\" points=\"188.9601,-316.5952 191.4542,-306.2981 183.0831,-312.7924 188.9601,-316.5952\"/>\n</g>\n<!-- 4 -->\n<g id=\"node5\" class=\"node\">\n<title>4</title>\n<path fill=\"#ffffff\" stroke=\"#000000\" d=\"M195,-179.5C195,-179.5 88,-179.5 88,-179.5 82,-179.5 76,-173.5 76,-167.5 76,-167.5 76,-123.5 76,-123.5 76,-117.5 82,-111.5 88,-111.5 88,-111.5 195,-111.5 195,-111.5 201,-111.5 207,-117.5 207,-123.5 207,-123.5 207,-167.5 207,-167.5 207,-173.5 201,-179.5 195,-179.5\"/>\n<text text-anchor=\"start\" x=\"108\" y=\"-164.3\" font-family=\"Helvetica,sans-Serif\" font-size=\"14.00\" fill=\"#000000\">gini = 0.64</text>\n<text text-anchor=\"start\" x=\"102\" y=\"-149.3\" font-family=\"Helvetica,sans-Serif\" font-size=\"14.00\" fill=\"#000000\">samples = 5</text>\n<text text-anchor=\"start\" x=\"84\" y=\"-134.3\" font-family=\"Helvetica,sans-Serif\" font-size=\"14.00\" fill=\"#000000\">value = [0, 2, 1, 2]</text>\n<text text-anchor=\"start\" x=\"91.5\" y=\"-119.3\" font-family=\"Helvetica,sans-Serif\" font-size=\"14.00\" fill=\"#000000\">class = whinnie</text>\n</g>\n<!-- 3&#45;&gt;4 -->\n<g id=\"edge4\" class=\"edge\">\n<title>3&#45;&gt;4</title>\n<path fill=\"none\" stroke=\"#000000\" d=\"M191.5691,-222.8796C184.3117,-211.6636 176.4497,-199.5131 169.1535,-188.2372\"/>\n<polygon fill=\"#000000\" stroke=\"#000000\" points=\"172.0748,-186.3093 163.7038,-179.8149 166.1978,-190.112 172.0748,-186.3093\"/>\n</g>\n<!-- 5 -->\n<g id=\"node6\" class=\"node\">\n<title>5</title>\n<path fill=\"#e78946\" stroke=\"#000000\" d=\"M352,-187C352,-187 237,-187 237,-187 231,-187 225,-181 225,-175 225,-175 225,-116 225,-116 225,-110 231,-104 237,-104 237,-104 352,-104 352,-104 358,-104 364,-110 364,-116 364,-116 364,-175 364,-175 364,-181 358,-187 352,-187\"/>\n<text text-anchor=\"start\" x=\"246\" y=\"-171.8\" font-family=\"Helvetica,sans-Serif\" font-size=\"14.00\" fill=\"#000000\">fpeak ≤ 45.476</text>\n<text text-anchor=\"start\" x=\"256.5\" y=\"-156.8\" font-family=\"Helvetica,sans-Serif\" font-size=\"14.00\" fill=\"#000000\">gini = 0.117</text>\n<text text-anchor=\"start\" x=\"250.5\" y=\"-141.8\" font-family=\"Helvetica,sans-Serif\" font-size=\"14.00\" fill=\"#000000\">samples = 49</text>\n<text text-anchor=\"start\" x=\"233\" y=\"-126.8\" font-family=\"Helvetica,sans-Serif\" font-size=\"14.00\" fill=\"#000000\">value = [46, 1, 2, 0]</text>\n<text text-anchor=\"start\" x=\"247.5\" y=\"-111.8\" font-family=\"Helvetica,sans-Serif\" font-size=\"14.00\" fill=\"#000000\">class = squeal</text>\n</g>\n<!-- 3&#45;&gt;5 -->\n<g id=\"edge5\" class=\"edge\">\n<title>3&#45;&gt;5</title>\n<path fill=\"none\" stroke=\"#000000\" d=\"M245.0811,-222.8796C250.6605,-214.1434 256.6019,-204.8404 262.3595,-195.8253\"/>\n<polygon fill=\"#000000\" stroke=\"#000000\" points=\"265.3726,-197.6098 267.8054,-187.2981 259.4731,-193.8421 265.3726,-197.6098\"/>\n</g>\n<!-- 6 -->\n<g id=\"node7\" class=\"node\">\n<title>6</title>\n<path fill=\"#399de5\" stroke=\"#000000\" d=\"M271,-68C271,-68 164,-68 164,-68 158,-68 152,-62 152,-56 152,-56 152,-12 152,-12 152,-6 158,0 164,0 164,0 271,0 271,0 277,0 283,-6 283,-12 283,-12 283,-56 283,-56 283,-62 277,-68 271,-68\"/>\n<text text-anchor=\"start\" x=\"188\" y=\"-52.8\" font-family=\"Helvetica,sans-Serif\" font-size=\"14.00\" fill=\"#000000\">gini = 0.0</text>\n<text text-anchor=\"start\" x=\"178\" y=\"-37.8\" font-family=\"Helvetica,sans-Serif\" font-size=\"14.00\" fill=\"#000000\">samples = 2</text>\n<text text-anchor=\"start\" x=\"160\" y=\"-22.8\" font-family=\"Helvetica,sans-Serif\" font-size=\"14.00\" fill=\"#000000\">value = [0, 0, 2, 0]</text>\n<text text-anchor=\"start\" x=\"164.5\" y=\"-7.8\" font-family=\"Helvetica,sans-Serif\" font-size=\"14.00\" fill=\"#000000\">class = softsnort</text>\n</g>\n<!-- 5&#45;&gt;6 -->\n<g id=\"edge6\" class=\"edge\">\n<title>5&#45;&gt;6</title>\n<path fill=\"none\" stroke=\"#000000\" d=\"M265.828,-103.9815C259.6715,-95.0666 253.1557,-85.6313 246.9695,-76.6734\"/>\n<polygon fill=\"#000000\" stroke=\"#000000\" points=\"249.7245,-74.5034 241.1619,-68.2637 243.9645,-78.4811 249.7245,-74.5034\"/>\n</g>\n<!-- 7 -->\n<g id=\"node8\" class=\"node\">\n<title>7</title>\n<path fill=\"#e6843d\" stroke=\"#000000\" d=\"M428,-68C428,-68 313,-68 313,-68 307,-68 301,-62 301,-56 301,-56 301,-12 301,-12 301,-6 307,0 313,0 313,0 428,0 428,0 434,0 440,-6 440,-12 440,-12 440,-56 440,-56 440,-62 434,-68 428,-68\"/>\n<text text-anchor=\"start\" x=\"332.5\" y=\"-52.8\" font-family=\"Helvetica,sans-Serif\" font-size=\"14.00\" fill=\"#000000\">gini = 0.042</text>\n<text text-anchor=\"start\" x=\"326.5\" y=\"-37.8\" font-family=\"Helvetica,sans-Serif\" font-size=\"14.00\" fill=\"#000000\">samples = 47</text>\n<text text-anchor=\"start\" x=\"309\" y=\"-22.8\" font-family=\"Helvetica,sans-Serif\" font-size=\"14.00\" fill=\"#000000\">value = [46, 1, 0, 0]</text>\n<text text-anchor=\"start\" x=\"323.5\" y=\"-7.8\" font-family=\"Helvetica,sans-Serif\" font-size=\"14.00\" fill=\"#000000\">class = squeal</text>\n</g>\n<!-- 5&#45;&gt;7 -->\n<g id=\"edge7\" class=\"edge\">\n<title>5&#45;&gt;7</title>\n<path fill=\"none\" stroke=\"#000000\" d=\"M322.7996,-103.9815C328.8762,-95.0666 335.3074,-85.6313 341.4132,-76.6734\"/>\n<polygon fill=\"#000000\" stroke=\"#000000\" points=\"344.4052,-78.498 347.1454,-68.2637 338.6211,-74.5555 344.4052,-78.498\"/>\n</g>\n</g>\n</svg>\n"
          },
          "metadata": {},
          "execution_count": 67
        }
      ]
    }
  ]
}