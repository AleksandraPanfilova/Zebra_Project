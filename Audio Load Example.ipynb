{
 "cells": [
  {
   "cell_type": "code",
   "execution_count": 1,
   "id": "9f194d2a",
   "metadata": {},
   "outputs": [],
   "source": [
    "from barney_functions import add_labels_to_excel,gen_audio_array,buffer,shifter,louder,plot_mel,augment_audio,plot_sample,hsr_loader,lsr_loader,calc_stft,calc_melstft,spec_plot, gen_labels, gen_audio_array_noexcel,augment_audio_faster"
   ]
  },
  {
   "cell_type": "code",
   "execution_count": 2,
   "id": "43c5f78c",
   "metadata": {},
   "outputs": [],
   "source": [
    "import librosa\n",
    "import numpy as np\n",
    "import pandas as pd\n",
    "from matplotlib import pyplot as plt\n",
    "import random\n",
    "import re\n",
    "import os\n",
    "from tqdm import tqdm "
   ]
  },
  {
   "cell_type": "markdown",
   "id": "3a63ad32",
   "metadata": {},
   "source": [
    "# Load Zebra"
   ]
  },
  {
   "cell_type": "code",
   "execution_count": 3,
   "id": "6a40eceb",
   "metadata": {},
   "outputs": [
    {
     "name": "stdout",
     "output_type": "stream",
     "text": [
      "Adding labels\n"
     ]
    },
    {
     "name": "stderr",
     "output_type": "stream",
     "text": [
      "100%|█████████████████████████████████████| 413/413 [00:00<00:00, 206097.27it/s]\n"
     ]
    },
    {
     "name": "stdout",
     "output_type": "stream",
     "text": [
      "Finding longest file (Worse Labels)\n"
     ]
    },
    {
     "name": "stderr",
     "output_type": "stream",
     "text": [
      "100%|████████████████████████████████████████| 413/413 [00:00<00:00, 867.90it/s]\n"
     ]
    }
   ],
   "source": [
    "audio_path = 'zebra audio sample_Bing_413/all/'\n",
    "audio_path_long = 'Audio Files All/'\n",
    "spreadsheet_path = 'Zebras.Assumption.data_Bing_413 .xlsx'\n",
    "df = add_labels_to_excel(spreadsheet_path)\n",
    "audio_files, index_longest, audio_size = hsr_loader(audio_path,df)\n",
    "#audio_files_long, audio_size_long, filenames_long, longest_file = gen_audio_array_noexcel(audio_path_long)\n",
    "zebra_labels = df['label']\n",
    "#labels_long = gen_labels(filenames_long)"
   ]
  },
  {
   "cell_type": "markdown",
   "id": "8b42ef45",
   "metadata": {},
   "source": [
    "# Generate not zebera"
   ]
  },
  {
   "cell_type": "code",
   "execution_count": 4,
   "id": "29b2be6d",
   "metadata": {},
   "outputs": [],
   "source": [
    "from playsound import playsound\n",
    "from barney_functions import listen,rand_slices,pad_from_list,gen_nzebra,save_nzebra,add_nzebra\n",
    "import soundfile as sf"
   ]
  },
  {
   "cell_type": "code",
   "execution_count": 5,
   "id": "cdd8f3c8",
   "metadata": {
    "scrolled": true
   },
   "outputs": [
    {
     "name": "stdout",
     "output_type": "stream",
     "text": [
      "Padding\n"
     ]
    },
    {
     "name": "stderr",
     "output_type": "stream",
     "text": [
      "100%|█████████████████████████████████████| 1233/1233 [00:00<00:00, 1532.63it/s]\n"
     ]
    }
   ],
   "source": [
    "nzebra_path = 'Big_bounce.wav'\n",
    "nzebra_audio, labels_nzebra = gen_nzebra(nzebra_path,audio_size)\n",
    "#save_nzebra(nzebra_audio)"
   ]
  },
  {
   "cell_type": "code",
   "execution_count": 7,
   "id": "51f21f89",
   "metadata": {},
   "outputs": [],
   "source": [
    "all_audio, all_lables = add_nzebra(audio_files,zebra_labels,nzebra_audio,labels_nzebra)"
   ]
  },
  {
   "cell_type": "markdown",
   "id": "f0d6f732",
   "metadata": {},
   "source": [
    "# Augment Audio"
   ]
  },
  {
   "cell_type": "code",
   "execution_count": 9,
   "id": "5d0967ff",
   "metadata": {},
   "outputs": [
    {
     "name": "stdout",
     "output_type": "stream",
     "text": [
      "Augmenting Non-noise\n"
     ]
    },
    {
     "name": "stderr",
     "output_type": "stream",
     "text": [
      "100%|█████████████████████████████████████████| 413/413 [00:05<00:00, 72.88it/s]\n"
     ]
    },
    {
     "name": "stdout",
     "output_type": "stream",
     "text": [
      "Making noise\n"
     ]
    },
    {
     "name": "stderr",
     "output_type": "stream",
     "text": [
      "100%|█████████████████████████████████████████| 413/413 [00:41<00:00, 10.05it/s]\n"
     ]
    }
   ],
   "source": [
    "augmented_audio = augment_audio(audio_files)\n",
    "#augmented_audio_long = augment_audio(audio_files_long)\n",
    "#augmented_audio_long_fast = augment_audio_faster(audio_files_long)"
   ]
  },
  {
   "cell_type": "code",
   "execution_count": 10,
   "id": "19187b86",
   "metadata": {},
   "outputs": [
    {
     "data": {
      "text/plain": [
       "(5, 413, 511008)"
      ]
     },
     "execution_count": 10,
     "metadata": {},
     "output_type": "execute_result"
    }
   ],
   "source": [
    "augmented_audio.shape"
   ]
  },
  {
   "cell_type": "code",
   "execution_count": 11,
   "id": "9a4b9888",
   "metadata": {},
   "outputs": [
    {
     "data": {
      "text/plain": [
       "[<matplotlib.lines.Line2D at 0x7fe1a8ab2430>]"
      ]
     },
     "execution_count": 11,
     "metadata": {},
     "output_type": "execute_result"
    },
    {
     "data": {
      "image/png": "[encoded data removed]",
      "text/plain": [
       "<Figure size 432x288 with 1 Axes>"
      ]
     },
     "metadata": {
      "needs_background": "light"
     },
     "output_type": "display_data"
    }
   ],
   "source": [
    "plt.plot(audio_files[400])"
   ]
  },
  {
   "cell_type": "code",
   "execution_count": 12,
   "id": "e643c0e3",
   "metadata": {},
   "outputs": [
    {
     "data": {
      "image/png": "[encoded data removed]",
      "text/plain": [
       "<Figure size 432x288 with 1 Axes>"
      ]
     },
     "metadata": {
      "needs_background": "light"
     },
     "output_type": "display_data"
    }
   ],
   "source": [
    "plot_sample(augmented_audio,400)"
   ]
  },
  {
   "cell_type": "code",
   "execution_count": 13,
   "id": "b5f0ebce",
   "metadata": {},
   "outputs": [
    {
     "name": "stdout",
     "output_type": "stream",
     "text": [
      "Augmentation  1\n"
     ]
    },
    {
     "name": "stderr",
     "output_type": "stream",
     "text": [
      "100%|█████████████████████████████████████████| 413/413 [00:13<00:00, 30.73it/s]\n"
     ]
    },
    {
     "name": "stdout",
     "output_type": "stream",
     "text": [
      "Augmentation  2\n"
     ]
    },
    {
     "name": "stderr",
     "output_type": "stream",
     "text": [
      "100%|█████████████████████████████████████████| 413/413 [00:14<00:00, 28.52it/s]\n"
     ]
    },
    {
     "name": "stdout",
     "output_type": "stream",
     "text": [
      "Augmentation  3\n"
     ]
    },
    {
     "name": "stderr",
     "output_type": "stream",
     "text": [
      "100%|█████████████████████████████████████████| 413/413 [00:14<00:00, 27.72it/s]\n"
     ]
    },
    {
     "name": "stdout",
     "output_type": "stream",
     "text": [
      "Augmentation  4\n"
     ]
    },
    {
     "name": "stderr",
     "output_type": "stream",
     "text": [
      "100%|█████████████████████████████████████████| 413/413 [00:14<00:00, 28.22it/s]\n"
     ]
    },
    {
     "name": "stdout",
     "output_type": "stream",
     "text": [
      "Augmentation  5\n"
     ]
    },
    {
     "name": "stderr",
     "output_type": "stream",
     "text": [
      "100%|█████████████████████████████████████████| 413/413 [00:14<00:00, 27.63it/s]\n"
     ]
    }
   ],
   "source": [
    "stfts = calc_stft(augmented_audio)\n",
    "#stfts_long = calc_stft(augmented_audio_long)\n",
    "#stfts_long_fast = calc_stft(augmented_audio_long_fast)\n",
    "#mels = calc_melstft(augmented_audio)"
   ]
  },
  {
   "cell_type": "code",
   "execution_count": 14,
   "id": "d9c7c558",
   "metadata": {},
   "outputs": [
    {
     "data": {
      "text/plain": [
       "(5, 413, 1025, 999)"
      ]
     },
     "execution_count": 14,
     "metadata": {},
     "output_type": "execute_result"
    }
   ],
   "source": [
    "stfts.shape"
   ]
  },
  {
   "cell_type": "code",
   "execution_count": 15,
   "id": "37d33f21",
   "metadata": {},
   "outputs": [
    {
     "data": {
      "image/png": "[encoded data removed]",
      "text/plain": [
       "<Figure size 432x288 with 1 Axes>"
      ]
     },
     "metadata": {
      "needs_background": "light"
     },
     "output_type": "display_data"
    }
   ],
   "source": [
    "spec_plot(stfts[4,400,:,:])"
   ]
  },
  {
   "cell_type": "code",
   "execution_count": 16,
   "id": "aebaa179",
   "metadata": {},
   "outputs": [],
   "source": [
    "#np.save('stfts_array',stfts)\n",
    "#np.save('stfts_array_long',stfts)"
   ]
  },
  {
   "cell_type": "code",
   "execution_count": 17,
   "id": "4f870ab7",
   "metadata": {},
   "outputs": [],
   "source": [
    "#stfts = np.load('stfts_array.npy')\n",
    "#stfts_long = np.load('stfts_array_long.npy')"
   ]
  },
  {
   "cell_type": "code",
   "execution_count": 18,
   "id": "dd3b0cfa",
   "metadata": {},
   "outputs": [
    {
     "name": "stderr",
     "output_type": "stream",
     "text": [
      "100%|█████████████████████████████████████████████| 4/4 [01:23<00:00, 20.97s/it]\n"
     ]
    }
   ],
   "source": [
    "stfts_1D = np.zeros(stfts[0].shape)\n",
    "stfts_1D = stfts[0]\n",
    "for i in tqdm(range(1,stfts.shape[0])):\n",
    "    stfts_1D = np.concatenate((stfts_1D,stfts[i]), axis = 0)"
   ]
  },
  {
   "cell_type": "code",
   "execution_count": 19,
   "id": "c7f8f231",
   "metadata": {},
   "outputs": [
    {
     "data": {
      "text/plain": [
       "(2065, 1025, 999)"
      ]
     },
     "execution_count": 19,
     "metadata": {},
     "output_type": "execute_result"
    }
   ],
   "source": [
    "stfts_1D.shape"
   ]
  },
  {
   "cell_type": "code",
   "execution_count": null,
   "id": "d74eef14",
   "metadata": {},
   "outputs": [],
   "source": []
  }
 ],
 "metadata": {
  "kernelspec": {
   "display_name": "Python 3 (ipykernel)",
   "language": "python",
   "name": "python3"
  },
  "language_info": {
   "codemirror_mode": {
    "name": "ipython",
    "version": 3
   },
   "file_extension": ".py",
   "mimetype": "text/x-python",
   "name": "python",
   "nbconvert_exporter": "python",
   "pygments_lexer": "ipython3",
   "version": "3.8.12"
  }
 },
 "nbformat": 4,
 "nbformat_minor": 5
}
