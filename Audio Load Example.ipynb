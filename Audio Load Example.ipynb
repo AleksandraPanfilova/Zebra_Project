{
 "cells": [
  {
   "cell_type": "code",
   "execution_count": 1,
   "id": "9e330baa",
   "metadata": {},
   "outputs": [],
   "source": [
    "from barney_functions import add_labels_to_excel,gen_audio_array,buffer,shifter,louder,plot_mel,augment_audio,plot_sample,hsr_loader,lsr_loader,calc_stft,calc_melstft,spec_plot, gen_labels, gen_audio_array_noexcel,augment_audio_faster"
   ]
  },
  {
   "cell_type": "code",
   "execution_count": 2,
   "id": "fd37ca7c",
   "metadata": {},
   "outputs": [],
   "source": [
    "import librosa\n",
    "import numpy as np\n",
    "import pandas as pd\n",
    "from matplotlib import pyplot as plt\n",
    "import random\n",
    "import re\n",
    "import os\n",
    "from tqdm import tqdm "
   ]
  },
  {
   "cell_type": "code",
   "execution_count": 4,
   "id": "e35fa52d",
   "metadata": {},
   "outputs": [
    {
     "name": "stdout",
     "output_type": "stream",
     "text": [
      "Adding labels\n"
     ]
    },
    {
     "name": "stderr",
     "output_type": "stream",
     "text": [
      "100%|█████████████████████████████████████| 413/413 [00:00<00:00, 503706.76it/s]\n"
     ]
    },
    {
     "name": "stdout",
     "output_type": "stream",
     "text": [
      "Finding longest file (Worse Labels)\n"
     ]
    },
    {
     "name": "stderr",
     "output_type": "stream",
     "text": [
      "100%|███████████████████████████████████████| 413/413 [00:00<00:00, 3137.46it/s]\n"
     ]
    },
    {
     "name": "stdout",
     "output_type": "stream",
     "text": [
      "Finding longest file (Worse Labels)\n"
     ]
    },
    {
     "name": "stderr",
     "output_type": "stream",
     "text": [
      "100%|███████████████████████████████████████| 1719/1719 [01:09<00:00, 24.69it/s]\n"
     ]
    },
    {
     "name": "stdout",
     "output_type": "stream",
     "text": [
      "Loading files\n"
     ]
    },
    {
     "name": "stderr",
     "output_type": "stream",
     "text": [
      "100%|███████████████████████████████████████| 1719/1719 [01:06<00:00, 25.71it/s]\n"
     ]
    }
   ],
   "source": [
    "audio_path = 'zebra audio sample_Bing_413/all/'\n",
    "audio_path_long = 'Audio Files All/'\n",
    "spreadsheet_path = 'Zebras.Assumption.data_Bing_413 .xlsx'\n",
    "df = add_labels_to_excel(spreadsheet_path)\n",
    "audio_files, index_longest = hsr_loader(audio_path,df)\n",
    "audio_files_long, _, filenames_long, longest_file = gen_audio_array_noexcel(audio_path_long)\n",
    "labels = df['label']\n",
    "labels_long = gen_labels(filenames_long)"
   ]
  },
  {
   "cell_type": "code",
   "execution_count": 5,
   "id": "c90cd210",
   "metadata": {},
   "outputs": [
    {
     "name": "stdout",
     "output_type": "stream",
     "text": [
      "Augmenting Non-noise\n"
     ]
    },
    {
     "name": "stderr",
     "output_type": "stream",
     "text": [
      "100%|█████████████████████████████████████████| 413/413 [00:06<00:00, 68.61it/s]\n"
     ]
    },
    {
     "name": "stdout",
     "output_type": "stream",
     "text": [
      "Making noise\n"
     ]
    },
    {
     "name": "stderr",
     "output_type": "stream",
     "text": [
      "100%|█████████████████████████████████████████| 413/413 [00:39<00:00, 10.35it/s]\n"
     ]
    },
    {
     "name": "stdout",
     "output_type": "stream",
     "text": [
      "Augmenting\n"
     ]
    },
    {
     "name": "stderr",
     "output_type": "stream",
     "text": [
      "100%|███████████████████████████████████████| 1719/1719 [00:22<00:00, 76.81it/s]\n"
     ]
    }
   ],
   "source": [
    "augmented_audio = augment_audio(audio_files)\n",
    "#augmented_audio_long = augment_audio(audio_files_long)\n",
    "augmented_audio_long_fast = augment_audio_faster(audio_files_long)"
   ]
  },
  {
   "cell_type": "code",
   "execution_count": 6,
   "id": "45c8c2f0",
   "metadata": {},
   "outputs": [
    {
     "data": {
      "text/plain": [
       "(5, 413, 511008)"
      ]
     },
     "execution_count": 6,
     "metadata": {},
     "output_type": "execute_result"
    }
   ],
   "source": [
    "augmented_audio.shape"
   ]
  },
  {
   "cell_type": "code",
   "execution_count": 7,
   "id": "69f0e6fb",
   "metadata": {},
   "outputs": [
    {
     "data": {
      "text/plain": [
       "[<matplotlib.lines.Line2D at 0x7fa5d0b33ac0>]"
      ]
     },
     "execution_count": 7,
     "metadata": {},
     "output_type": "execute_result"
    },
    {
     "data": {
      "image/png": "[encoded data removed]",
      "text/plain": [
       "<Figure size 432x288 with 1 Axes>"
      ]
     },
     "metadata": {
      "needs_background": "light"
     },
     "output_type": "display_data"
    }
   ],
   "source": [
    "plt.plot(audio_files_long[400])"
   ]
  },
  {
   "cell_type": "code",
   "execution_count": 8,
   "id": "7304e86f",
   "metadata": {},
   "outputs": [
    {
     "data": {
      "image/png": "[encoded data removed]",
      "text/plain": [
       "<Figure size 432x288 with 1 Axes>"
      ]
     },
     "metadata": {
      "needs_background": "light"
     },
     "output_type": "display_data"
    }
   ],
   "source": [
    "plot_sample(augmented_audio_long_fast,400)"
   ]
  },
  {
   "cell_type": "code",
   "execution_count": null,
   "id": "b015c83e",
   "metadata": {},
   "outputs": [
    {
     "name": "stdout",
     "output_type": "stream",
     "text": [
      "Augmentation  1\n"
     ]
    },
    {
     "name": "stderr",
     "output_type": "stream",
     "text": [
      "100%|███████████████████████████████████████| 1719/1719 [00:36<00:00, 46.75it/s]\n"
     ]
    },
    {
     "name": "stdout",
     "output_type": "stream",
     "text": [
      "Augmentation  2\n"
     ]
    },
    {
     "name": "stderr",
     "output_type": "stream",
     "text": [
      "100%|███████████████████████████████████████| 1719/1719 [00:38<00:00, 45.02it/s]\n"
     ]
    },
    {
     "name": "stdout",
     "output_type": "stream",
     "text": [
      "Augmentation  3\n"
     ]
    },
    {
     "name": "stderr",
     "output_type": "stream",
     "text": [
      " 19%|███████▍                                | 319/1719 [00:07<00:30, 46.12it/s]"
     ]
    }
   ],
   "source": [
    "#stfts = calc_stft(augmented_audio)\n",
    "#stfts_long = calc_stft(augmented_audio_long)\n",
    "stfts_long_fast = calc_stft(augmented_audio_long_fast)\n",
    "#mels = calc_melstft(augmented_audio)"
   ]
  },
  {
   "cell_type": "code",
   "execution_count": null,
   "id": "9abfbf06",
   "metadata": {},
   "outputs": [],
   "source": [
    "stfts_long_fast.shape"
   ]
  },
  {
   "cell_type": "code",
   "execution_count": null,
   "id": "8f2ec1a7",
   "metadata": {},
   "outputs": [],
   "source": [
    "spec_plot(stfts_long_fast[4,400,:,:])"
   ]
  },
  {
   "cell_type": "code",
   "execution_count": null,
   "id": "20f353d2",
   "metadata": {},
   "outputs": [],
   "source": [
    "#np.save('stfts_array',stfts)\n",
    "#np.save('stfts_array_long',stfts)"
   ]
  },
  {
   "cell_type": "code",
   "execution_count": null,
   "id": "df460236",
   "metadata": {},
   "outputs": [],
   "source": [
    "#stfts = np.load('stfts_array.npy')\n",
    "#stfts_long = np.load('stfts_array_long.npy')"
   ]
  },
  {
   "cell_type": "code",
   "execution_count": null,
   "id": "c7f3bdd3",
   "metadata": {},
   "outputs": [],
   "source": []
  },
  {
   "cell_type": "code",
   "execution_count": null,
   "id": "17ea1a2b",
   "metadata": {},
   "outputs": [],
   "source": []
  }
 ],
 "metadata": {
  "kernelspec": {
   "display_name": "Python 3 (ipykernel)",
   "language": "python",
   "name": "python3"
  },
  "language_info": {
   "codemirror_mode": {
    "name": "ipython",
    "version": 3
   },
   "file_extension": ".py",
   "mimetype": "text/x-python",
   "name": "python",
   "nbconvert_exporter": "python",
   "pygments_lexer": "ipython3",
   "version": "3.8.12"
  }
 },
 "nbformat": 4,
 "nbformat_minor": 5
}
