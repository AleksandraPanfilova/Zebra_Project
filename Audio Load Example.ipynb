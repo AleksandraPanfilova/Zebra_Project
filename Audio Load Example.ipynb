{
 "cells": [
  {
   "cell_type": "code",
   "execution_count": 1,
   "id": "9f194d2a",
   "metadata": {},
   "outputs": [],
   "source": [
    "#from barney_functions import add_labels_to_excel,gen_audio_array,buffer,shifter,louder,plot_mel,augment_audio,plot_sample,hsr_loader,lsr_loader,calc_stft,calc_melstft,spec_plot, gen_labels, gen_audio_array_noexcel,augment_audio_faster\n",
    "from barney_functions import *"
   ]
  },
  {
   "cell_type": "code",
   "execution_count": 2,
   "id": "43c5f78c",
   "metadata": {},
   "outputs": [],
   "source": [
    "import librosa\n",
    "import numpy as np\n",
    "import pandas as pd\n",
    "from matplotlib import pyplot as plt\n",
    "import random\n",
    "import re\n",
    "import os\n",
    "from tqdm import tqdm \n",
    "import soundfile as sf"
   ]
  },
  {
   "cell_type": "markdown",
   "id": "3a63ad32",
   "metadata": {},
   "source": [
    "# Load Zebra"
   ]
  },
  {
   "cell_type": "code",
   "execution_count": 3,
   "id": "6a40eceb",
   "metadata": {},
   "outputs": [
    {
     "name": "stdout",
     "output_type": "stream",
     "text": [
      "Finding longest\n"
     ]
    },
    {
     "name": "stderr",
     "output_type": "stream",
     "text": [
      "100%|████████████████████████████████████████| 413/413 [00:00<00:00, 894.01it/s]\n"
     ]
    },
    {
     "name": "stdout",
     "output_type": "stream",
     "text": [
      "Loading files\n"
     ]
    },
    {
     "name": "stderr",
     "output_type": "stream",
     "text": [
      "100%|████████████████████████████████████████| 413/413 [00:00<00:00, 924.86it/s]\n"
     ]
    }
   ],
   "source": [
    "audio_path = 'zebra audio sample_Bing_413/all/'\n",
    "audio_path_long = 'Audio Files All/'\n",
    "spreadsheet_path = 'Zebras.Assumption.data_Bing_413 .xlsx'\n",
    "df = add_labels_to_excel(spreadsheet_path)\n",
    "#audio_files, audio_size, index_longest = gen_audio_array(audio_path,df)\n",
    "zebra_labels = df['label']\n",
    "\n",
    "audio_files, index_longest, audio_size = hsr_loader(audio_path,df)\n",
    "#zebra_labels = gen_labels(filenames_long)"
   ]
  },
  {
   "cell_type": "code",
   "execution_count": 4,
   "id": "9087538a",
   "metadata": {},
   "outputs": [
    {
     "name": "stdout",
     "output_type": "stream",
     "text": [
      "Initial class proportions:\n",
      "[0.574 0.034 0.092 0.3  ]\n",
      "----------------------\n",
      "Balancing: snort\n",
      "Multiplier: 1.0\n",
      "----------------------\n",
      "Balancing: softsnort\n",
      "Multiplier: 11.0\n",
      "----------------------\n",
      "Balancing: squeal\n",
      "Multiplier: 3.0\n",
      "----------------------\n",
      "Balancing: whinnie\n",
      "Multiplier: 1.0\n",
      "----------------------\n",
      "Final class proportions:\n",
      "[0.377 0.245 0.181 0.197]\n"
     ]
    }
   ],
   "source": [
    "balanced, balanced_labels = balancer(audio_files,zebra_labels)"
   ]
  },
  {
   "cell_type": "markdown",
   "id": "8b42ef45",
   "metadata": {},
   "source": [
    "# Generate not zebera"
   ]
  },
  {
   "cell_type": "code",
   "execution_count": null,
   "id": "cdd8f3c8",
   "metadata": {
    "scrolled": true
   },
   "outputs": [
    {
     "name": "stdout",
     "output_type": "stream",
     "text": [
      "Padding\n"
     ]
    },
    {
     "name": "stderr",
     "output_type": "stream",
     "text": [
      "\r",
      "  0%|                                                  | 0/1599 [00:00<?, ?it/s]"
     ]
    }
   ],
   "source": [
    "nzebra_path = 'big bounce small.wav'\n",
    "nzebra_audio, labels_nzebra = gen_nzebra(nzebra_path,audio_size)\n",
    "#save_nzebra(nzebra_audio)"
   ]
  },
  {
   "cell_type": "code",
   "execution_count": null,
   "id": "51f21f89",
   "metadata": {},
   "outputs": [],
   "source": [
    "all_audio, all_lables = add_nzebra(audio_files,zebra_labels,nzebra_audio,labels_nzebra)"
   ]
  },
  {
   "cell_type": "code",
   "execution_count": null,
   "id": "a8ff88d9",
   "metadata": {},
   "outputs": [],
   "source": [
    "print(\"Unaugmented dataset size: \",all_audio.nbytes/(1e9), 'GB')"
   ]
  },
  {
   "cell_type": "markdown",
   "id": "f0d6f732",
   "metadata": {},
   "source": [
    "# Augment Audio"
   ]
  },
  {
   "cell_type": "code",
   "execution_count": null,
   "id": "5d0967ff",
   "metadata": {},
   "outputs": [],
   "source": [
    "augmented_audio = augment_audio_faster_smaller(audio_files)"
   ]
  },
  {
   "cell_type": "code",
   "execution_count": null,
   "id": "19187b86",
   "metadata": {},
   "outputs": [],
   "source": [
    "print(augmented_audio.shape)\n",
    "print(\"Augmented dataset size: \",augmented_audio.nbytes/(1e9), 'GB')"
   ]
  },
  {
   "cell_type": "code",
   "execution_count": null,
   "id": "9a4b9888",
   "metadata": {},
   "outputs": [],
   "source": [
    "plt.plot(audio_files[400])"
   ]
  },
  {
   "cell_type": "code",
   "execution_count": null,
   "id": "e643c0e3",
   "metadata": {},
   "outputs": [],
   "source": [
    "plot_sample(augmented_audio,400)"
   ]
  },
  {
   "cell_type": "code",
   "execution_count": null,
   "id": "b5f0ebce",
   "metadata": {},
   "outputs": [],
   "source": [
    "stfts = calc_stft(augmented_audio)\n",
    "#mels = calc_melstft(augmented_audio)"
   ]
  },
  {
   "cell_type": "code",
   "execution_count": null,
   "id": "d9c7c558",
   "metadata": {},
   "outputs": [],
   "source": [
    "print(stfts.shape)\n",
    "print(\"Augmented dataset size: \",stfts.nbytes/(1e9), 'GB')"
   ]
  },
  {
   "cell_type": "code",
   "execution_count": null,
   "id": "37d33f21",
   "metadata": {},
   "outputs": [],
   "source": [
    "spec_plot(stfts[2,400,:,:])"
   ]
  },
  {
   "cell_type": "code",
   "execution_count": null,
   "id": "dd3b0cfa",
   "metadata": {},
   "outputs": [],
   "source": [
    "stfts_1D = np.zeros(stfts[0].shape)\n",
    "stfts_1D = stfts[0]\n",
    "for i in tqdm(range(1,stfts.shape[0])):\n",
    "    stfts_1D = np.concatenate((stfts_1D,stfts[i]), axis = 0)\n",
    "stfts = None"
   ]
  },
  {
   "cell_type": "code",
   "execution_count": null,
   "id": "c7f8f231",
   "metadata": {},
   "outputs": [],
   "source": [
    "stfts_1D.shape\n",
    "print(\"Dataset size: \",stfts_1D.nbytes/(1e9), 'GB')"
   ]
  },
  {
   "cell_type": "code",
   "execution_count": null,
   "id": "4f870ab7",
   "metadata": {},
   "outputs": [],
   "source": [
    "#np.savez_compressed('stfts_array',stfts_1D)\n",
    "#stfts = np.load('stfts_array.npz')"
   ]
  },
  {
   "cell_type": "code",
   "execution_count": null,
   "id": "43861ec9",
   "metadata": {},
   "outputs": [],
   "source": [
    "import librosa.display"
   ]
  },
  {
   "cell_type": "code",
   "execution_count": null,
   "id": "d74eef14",
   "metadata": {},
   "outputs": [],
   "source": [
    "spec_plot(stfts_1D[0])"
   ]
  },
  {
   "cell_type": "code",
   "execution_count": null,
   "id": "39703530",
   "metadata": {},
   "outputs": [],
   "source": [
    "listen(librosa.istft(stfts_1D[1220]))"
   ]
  },
  {
   "cell_type": "code",
   "execution_count": null,
   "id": "1efd5946",
   "metadata": {},
   "outputs": [],
   "source": []
  }
 ],
 "metadata": {
  "kernelspec": {
   "display_name": "Python 3 (ipykernel)",
   "language": "python",
   "name": "python3"
  },
  "language_info": {
   "codemirror_mode": {
    "name": "ipython",
    "version": 3
   },
   "file_extension": ".py",
   "mimetype": "text/x-python",
   "name": "python",
   "nbconvert_exporter": "python",
   "pygments_lexer": "ipython3",
   "version": "3.8.12"
  }
 },
 "nbformat": 4,
 "nbformat_minor": 5
}
