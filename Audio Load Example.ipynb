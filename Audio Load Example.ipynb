{
 "cells": [
  {
   "cell_type": "code",
   "execution_count": 1,
   "id": "9f194d2a",
   "metadata": {},
   "outputs": [],
   "source": [
    "#from barney_functions import add_labels_to_excel,gen_audio_array,buffer,shifter,louder,plot_mel,augment_audio,plot_sample,hsr_loader,lsr_loader,calc_stft,calc_melstft,spec_plot, gen_labels, gen_audio_array_noexcel,augment_audio_faster\n",
    "from barney_functions import *"
   ]
  },
  {
   "cell_type": "code",
   "execution_count": 2,
   "id": "43c5f78c",
   "metadata": {},
   "outputs": [],
   "source": [
    "import librosa\n",
    "import numpy as np\n",
    "import pandas as pd\n",
    "from matplotlib import pyplot as plt\n",
    "import random\n",
    "import re\n",
    "import os\n",
    "from tqdm import tqdm \n",
    "import soundfile as sf"
   ]
  },
  {
   "cell_type": "markdown",
   "id": "3a63ad32",
   "metadata": {},
   "source": [
    "# Load Zebra"
   ]
  },
  {
   "cell_type": "code",
   "execution_count": 3,
   "id": "6a40eceb",
   "metadata": {},
   "outputs": [],
   "source": [
    "audio_path = 'zebra audio sample_Bing_413/all/'\n",
    "audio_path_long = 'Audio Files All/'\n",
    "spreadsheet_path = 'Zebras.Assumption.data_Bing_413 .xlsx'\n",
    "df = add_labels_to_excel(spreadsheet_path)\n",
    "zebra_labels = df['label']\n",
    "#audio_files_non_db, _, _ = gen_audio_array(audio_path,df)\n",
    "#audio_files, audio_size, index_longest= msr_log(audio_path,df)\n",
    "#zebra_labels = gen_labels(filenames_long)"
   ]
  },
  {
   "cell_type": "code",
   "execution_count": 4,
   "id": "abcf923d",
   "metadata": {},
   "outputs": [
    {
     "name": "stdout",
     "output_type": "stream",
     "text": [
      "Finding file lengths\n"
     ]
    },
    {
     "name": "stderr",
     "output_type": "stream",
     "text": [
      "100%|█████████████████████████████████████████| 413/413 [00:08<00:00, 50.44it/s]\n"
     ]
    },
    {
     "name": "stdout",
     "output_type": "stream",
     "text": [
      "Reducing to 97th percentile\n"
     ]
    },
    {
     "name": "stderr",
     "output_type": "stream",
     "text": [
      "100%|█████████████████████████████████████| 413/413 [00:00<00:00, 155974.03it/s]\n"
     ]
    },
    {
     "name": "stdout",
     "output_type": "stream",
     "text": [
      "Data size reduction:  0.546\n",
      "Removed classes:  ['whinnie']\n",
      "New max length:  21739\n",
      "Number of samples removed: 13\n"
     ]
    },
    {
     "data": {
      "image/png": "[encoded data removed]",
      "text/plain": [
       "<Figure size 432x288 with 1 Axes>"
      ]
     },
     "metadata": {
      "needs_background": "light"
     },
     "output_type": "display_data"
    }
   ],
   "source": [
    "audio_size,audio_list_short,labels_short = length_finder(audio_path,df,97)\n",
    "zebra_labels = pd.Series(data=labels_short, index=[np.arange(len(labels_short))])"
   ]
  },
  {
   "cell_type": "code",
   "execution_count": 5,
   "id": "df9d22b7",
   "metadata": {},
   "outputs": [
    {
     "name": "stderr",
     "output_type": "stream",
     "text": [
      "100%|███████████████████████████████████████| 400/400 [00:00<00:00, 5635.78it/s]\n"
     ]
    },
    {
     "name": "stdout",
     "output_type": "stream",
     "text": [
      "Initial class proportions:\n",
      "[0.592 0.035 0.095 0.278]\n",
      "----------------------\n",
      "Balancing: snort\n",
      "Multiplier: 1.0\n",
      "----------------------\n",
      "Balancing: softsnort\n",
      "Multiplier: 10.0\n",
      "----------------------\n",
      "Balancing: squeal\n",
      "Multiplier: 2.0\n",
      "----------------------\n",
      "Balancing: whinnie\n",
      "Multiplier: 1.0\n",
      "----------------------\n",
      "Final class proportions:\n",
      "[0.42  0.248 0.135 0.197]\n"
     ]
    }
   ],
   "source": [
    "audio_files = pad(audio_list_short,audio_size)\n",
    "balanced, balanced_labels = balancer(audio_files,zebra_labels)"
   ]
  },
  {
   "cell_type": "markdown",
   "id": "8b42ef45",
   "metadata": {},
   "source": [
    "# Generate not zebera"
   ]
  },
  {
   "cell_type": "code",
   "execution_count": 6,
   "id": "cdd8f3c8",
   "metadata": {
    "scrolled": true
   },
   "outputs": [],
   "source": [
    "#nzebra_path = 'big bounce small.wav'\n",
    "#nzebra_audio, labels_nzebra = gen_nzebra(nzebra_path,audio_size)\n",
    "#save_nzebra(nzebra_audio)"
   ]
  },
  {
   "cell_type": "code",
   "execution_count": 7,
   "id": "c05e0dfb",
   "metadata": {},
   "outputs": [],
   "source": [
    "#print(len(nzebra_audio))\n",
    "#plt.plot(nzebra_audio[2])"
   ]
  },
  {
   "cell_type": "code",
   "execution_count": 8,
   "id": "51f21f89",
   "metadata": {},
   "outputs": [],
   "source": [
    "#all_audio, all_lables = add_nzebra(audio_files,zebra_labels,nzebra_audio,labels_nzebra)"
   ]
  },
  {
   "cell_type": "code",
   "execution_count": 9,
   "id": "a8ff88d9",
   "metadata": {},
   "outputs": [],
   "source": [
    "#print(\"Unaugmented dataset size: \",all_audio.nbytes/(1e9), 'GB')"
   ]
  },
  {
   "cell_type": "markdown",
   "id": "f0d6f732",
   "metadata": {},
   "source": [
    "# Augment Audio"
   ]
  },
  {
   "cell_type": "code",
   "execution_count": 10,
   "id": "5d0967ff",
   "metadata": {},
   "outputs": [
    {
     "name": "stdout",
     "output_type": "stream",
     "text": [
      "Augmenting 400 samples\n"
     ]
    },
    {
     "name": "stderr",
     "output_type": "stream",
     "text": [
      "100%|████████████████████████████████████████| 400/400 [00:02<00:00, 183.72it/s]\n"
     ]
    }
   ],
   "source": [
    "augmented_audio = augment_audio_faster_smaller(audio_files)"
   ]
  },
  {
   "cell_type": "code",
   "execution_count": 11,
   "id": "19187b86",
   "metadata": {},
   "outputs": [
    {
     "name": "stdout",
     "output_type": "stream",
     "text": [
      "(4, 400, 119769)\n",
      "Augmented dataset size:  1.5330432 GB\n"
     ]
    }
   ],
   "source": [
    "print(augmented_audio.shape)\n",
    "print(\"Augmented dataset size: \",augmented_audio.nbytes/(1e9), 'GB')"
   ]
  },
  {
   "cell_type": "code",
   "execution_count": 72,
   "id": "e643c0e3",
   "metadata": {},
   "outputs": [
    {
     "data": {
      "image/png": "[encoded data removed]",
      "text/plain": [
       "<Figure size 432x288 with 1 Axes>"
      ]
     },
     "metadata": {
      "needs_background": "light"
     },
     "output_type": "display_data"
    }
   ],
   "source": [
    "plot_sample(augmented_audio,10)"
   ]
  },
  {
   "cell_type": "code",
   "execution_count": 13,
   "id": "fc6dc951",
   "metadata": {},
   "outputs": [
    {
     "name": "stderr",
     "output_type": "stream",
     "text": [
      "100%|█████████████████████████████████████████████| 4/4 [00:14<00:00,  3.59s/it]\n"
     ]
    }
   ],
   "source": [
    "#stfts = calc_stft(augmented_audio)\n",
    "mels = calc_melstft(augmented_audio)"
   ]
  },
  {
   "cell_type": "code",
   "execution_count": 14,
   "id": "b5f0ebce",
   "metadata": {},
   "outputs": [],
   "source": [
    "#stfts_norm_db = librosa.util.normalize(librosa.amplitude_to_db(stfts))\n",
    "mels_norm_db = librosa.util.normalize(librosa.power_to_db(mels))"
   ]
  },
  {
   "cell_type": "code",
   "execution_count": 15,
   "id": "d9c7c558",
   "metadata": {},
   "outputs": [
    {
     "name": "stdout",
     "output_type": "stream",
     "text": [
      "(4, 400, 128, 234)\n",
      "Augmented dataset size:  0.3833856 GB\n"
     ]
    }
   ],
   "source": [
    "#print(stfts_norm_db.shape)\n",
    "print(mels_norm_db.shape)\n",
    "print(\"Augmented dataset size: \",mels_norm_db.nbytes/(1e9), 'GB')"
   ]
  },
  {
   "cell_type": "markdown",
   "id": "ea2f7235",
   "metadata": {},
   "source": [
    "spec_plot(stfts_norm_db[0,100,:,:])\n",
    "plt.scatter(np.arange(0,len(stfts_norm_db[0,100,125,:])),stfts_norm_db[0,100,125,:],marker='x')\n",
    "plt.xlabel(\"Time\")\n",
    "plt.show()\n",
    "plt.scatter(np.arange(0,len(stfts_norm_db[0,100,:,125])),stfts_norm_db[0,100,:,125],marker='x')\n",
    "plt.xlabel(\"Hz\")\n",
    "plt.show()"
   ]
  },
  {
   "cell_type": "code",
   "execution_count": 76,
   "id": "f46f0484",
   "metadata": {},
   "outputs": [
    {
     "data": {
      "image/png": "[encoded data removed]",
      "text/plain": [
       "<Figure size 432x288 with 2 Axes>"
      ]
     },
     "metadata": {
      "needs_background": "light"
     },
     "output_type": "display_data"
    },
    {
     "data": {
      "image/png": "[encoded data removed]",
      "text/plain": [
       "<Figure size 432x288 with 1 Axes>"
      ]
     },
     "metadata": {
      "needs_background": "light"
     },
     "output_type": "display_data"
    },
    {
     "data": {
      "image/png": "[encoded data removed]",
      "text/plain": [
       "<Figure size 432x288 with 1 Axes>"
      ]
     },
     "metadata": {
      "needs_background": "light"
     },
     "output_type": "display_data"
    }
   ],
   "source": [
    "sampleidx = 399\n",
    "librosa.display.specshow(mels_norm_db[0,sampleidx,:,:],x_axis=\"time\",y_axis=\"mel\")\n",
    "#plt.imshow(librosa.amplitude_to_db(mels_norm_db[0,100,:,:]),origin='lower',aspect='auto')\n",
    "plt.colorbar()\n",
    "plt.show()\n",
    "plt.scatter(np.arange(0,len(mels_norm_db[0,sampleidx,10,:])),mels_norm_db[0,sampleidx,10,:],marker='x')\n",
    "plt.xlabel(\"Time\")\n",
    "plt.show()\n",
    "plt.scatter(np.arange(0,len(mels_norm_db[0,sampleidx,:,100])),mels_norm_db[0,sampleidx,:,100],marker='x')\n",
    "plt.xlabel(\"Hz\")\n",
    "plt.show()"
   ]
  },
  {
   "cell_type": "markdown",
   "id": "cee95756",
   "metadata": {},
   "source": [
    "stfts_1D = np.zeros(stfts[0].shape)\n",
    "stfts_1D = stfts[0]\n",
    "for i in tqdm(range(1,stfts.shape[0])):\n",
    "    stfts_1D = np.concatenate((stfts_1D,stfts[i]), axis = 0)\n",
    "stfts = None"
   ]
  },
  {
   "cell_type": "code",
   "execution_count": 17,
   "id": "befe97d7",
   "metadata": {},
   "outputs": [
    {
     "name": "stderr",
     "output_type": "stream",
     "text": [
      "100%|█████████████████████████████████████████████| 3/3 [00:00<00:00,  6.13it/s]\n"
     ]
    }
   ],
   "source": [
    "mels_1D = np.zeros(mels_norm_db[0].shape)\n",
    "mels_1D = mels_norm_db[0]\n",
    "for i in tqdm(range(1,mels_norm_db.shape[0])):\n",
    "    mels_1D = np.concatenate((mels_1D,mels_norm_db[i]), axis = 0)\n",
    "mels = None"
   ]
  },
  {
   "cell_type": "code",
   "execution_count": 22,
   "id": "c7f8f231",
   "metadata": {},
   "outputs": [
    {
     "name": "stdout",
     "output_type": "stream",
     "text": [
      "(1600, 128, 234)\n",
      "Dataset size:  0.3833856 GB\n"
     ]
    }
   ],
   "source": [
    "print(mels_1D.shape)\n",
    "print(\"Dataset size: \",mels_1D.nbytes/(1e9), 'GB')"
   ]
  },
  {
   "cell_type": "code",
   "execution_count": 19,
   "id": "4f870ab7",
   "metadata": {},
   "outputs": [],
   "source": [
    "#np.savez_compressed('stfts_array',stfts_1D)\n",
    "#stfts = np.load('stfts_array.npz')"
   ]
  },
  {
   "cell_type": "code",
   "execution_count": 20,
   "id": "d74eef14",
   "metadata": {},
   "outputs": [],
   "source": [
    "#spec_plot(stfts_1D[0])"
   ]
  },
  {
   "cell_type": "code",
   "execution_count": 21,
   "id": "2c747028",
   "metadata": {},
   "outputs": [],
   "source": [
    "#listen(librosa.istft(stfts_1D[1220]))"
   ]
  },
  {
   "cell_type": "code",
   "execution_count": null,
   "id": "4da3d493",
   "metadata": {},
   "outputs": [],
   "source": []
  }
 ],
 "metadata": {
  "kernelspec": {
   "display_name": "Python 3 (ipykernel)",
   "language": "python",
   "name": "python3"
  },
  "language_info": {
   "codemirror_mode": {
    "name": "ipython",
    "version": 3
   },
   "file_extension": ".py",
   "mimetype": "text/x-python",
   "name": "python",
   "nbconvert_exporter": "python",
   "pygments_lexer": "ipython3",
   "version": "3.8.12"
  }
 },
 "nbformat": 4,
 "nbformat_minor": 5
}
