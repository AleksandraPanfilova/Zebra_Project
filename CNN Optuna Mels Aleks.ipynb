{
 "cells": [
  {
   "cell_type": "code",
   "execution_count": 1,
   "id": "49122b1e",
   "metadata": {},
   "outputs": [
    {
     "name": "stderr",
     "output_type": "stream",
     "text": [
      "/Users/jhn949/opt/anaconda3/envs/TF/lib/python3.7/site-packages/tqdm/auto.py:22: TqdmWarning: IProgress not found. Please update jupyter and ipywidgets. See https://ipywidgets.readthedocs.io/en/stable/user_install.html\n",
      "  from .autonotebook import tqdm as notebook_tqdm\n"
     ]
    }
   ],
   "source": [
    "import os\n",
    "import tensorflow as tf\n",
    "import numpy as np\n",
    "import pandas as pd\n",
    "from sklearn.metrics import confusion_matrix\n",
    "from barney_functionsCNNonly import *\n",
    "from tensorflow.keras.models import Sequential\n",
    "from tensorflow.keras.layers import Conv2D, MaxPooling2D, Flatten, Dense, Dropout\n",
    "from tensorflow.keras.losses import categorical_crossentropy\n",
    "from tensorflow.keras.optimizers import Adadelta, Adam\n",
    "from sklearn.model_selection import train_test_split\n",
    "from sklearn.model_selection import KFold\n",
    "from sklearn.metrics import confusion_matrix\n",
    "import optuna\n",
    "from optuna.integration import TFKerasPruningCallback\n",
    "tf.compat.v1.logging.set_verbosity(tf.compat.v1.logging.ERROR)"
   ]
  },
  {
   "cell_type": "markdown",
   "id": "31b96237-3f28-4806-8b82-84d8470e2a06",
   "metadata": {},
   "source": [
    "### Audio Load by Barney"
   ]
  },
  {
   "cell_type": "code",
   "execution_count": 47,
   "id": "58003756",
   "metadata": {},
   "outputs": [],
   "source": [
    "mels = np.load('mels_train.npz')['data']\n",
    "y = np.load('mels_train_labels.npz',allow_pickle=True)['data']\n",
    "num_classes = len(np.unique(y))\n",
    "mels, TEST_images, y, TEST_y = train_test_split(mels, y, test_size=0.2, random_state=42)"
   ]
  },
  {
   "cell_type": "code",
   "execution_count": 48,
   "id": "4c9ceaee",
   "metadata": {},
   "outputs": [
    {
     "name": "stdout",
     "output_type": "stream",
     "text": [
      "(1424, 128, 51)\n",
      "(1424,)\n",
      "(356, 128, 51)\n",
      "(356,)\n"
     ]
    }
   ],
   "source": [
    "print(mels.shape)\n",
    "print(y.shape)\n",
    "print(TEST_images.shape)\n",
    "print(TEST_y.shape)"
   ]
  },
  {
   "cell_type": "markdown",
   "id": "84d428ee-3e68-44f3-a905-4efd194d55fe",
   "metadata": {},
   "source": [
    "# CNN"
   ]
  },
  {
   "cell_type": "markdown",
   "id": "d037fe21",
   "metadata": {},
   "source": [
    "# Optimising"
   ]
  },
  {
   "cell_type": "code",
   "execution_count": 104,
   "id": "ec39cc72",
   "metadata": {},
   "outputs": [],
   "source": [
    "def objective(trial):\n",
    "    \n",
    "    n_epochs = 35\n",
    "    learning_rate = 0.00041\n",
    "    optimiser = Adam(learning_rate=learning_rate)\n",
    "    \n",
    "    filters_1 = 32\n",
    "    kernel_1 = 12\n",
    "    strides_1 = 1\n",
    "    \n",
    "    activation_1 = trial.suggest_categorical(\"activation_1\", \\\n",
    "                            [\"relu\", \"tanh\", \"selu\", \"elu\"])\n",
    "    \n",
    "    padding_1 = 'same'\n",
    "    input_shape = (img_rows, img_cols, 1)\n",
    "    pool_size_1 = trial.suggest_int(\"pool_size_1\",low=2,high=4,step=1)\n",
    "    \n",
    "    filters_2 = 62\n",
    "    kernel_2 = 10\n",
    "    strides_2 = 1\n",
    "    padding_2 = 'same'\n",
    "    activation_2 = trial.suggest_categorical(\"activation_2\", \\\n",
    "                        [\"relu\", \"tanh\", \"selu\", \"elu\"])\n",
    "    pool_size_2 = trial.suggest_int(\"pool_size_2\",low=2,high=4,step=1)\n",
    "    \n",
    "    dropout_rate = trial.suggest_float(\"dropout_rate\", 0.1, 0.9)\n",
    "    \n",
    "    lin_1_n = 102\n",
    "    \n",
    "    batch_size = 128\n",
    "    \n",
    "    model = Sequential()\n",
    "    model.add(Conv2D(filters=filters_1,\n",
    "                     kernel_size=kernel_1,\n",
    "                     strides=strides_1,\n",
    "                     padding=padding_1,\n",
    "                     activation=activation_1,\n",
    "                     input_shape=input_shape))\n",
    "    model.add(MaxPooling2D(pool_size=pool_size_1, strides=None))\n",
    "    model.add(Conv2D(filters=filters_2,\n",
    "                     kernel_size=kernel_2,\n",
    "                     strides=strides_2,\n",
    "                     padding=padding_2,\n",
    "                     activation=activation_2))\n",
    "    model.add(MaxPooling2D(pool_size=pool_size_2, strides=None))\n",
    "    model.add(Dropout(rate=dropout_rate))\n",
    "    model.add(Flatten())\n",
    "    model.add(Dense(units=lin_1_n, activation='relu'))\n",
    "    model.add(Dense(units=num_classes, activation='softmax'))\n",
    "    \n",
    "    model.compile(loss=categorical_crossentropy,\n",
    "              optimizer=optimiser,\n",
    "              metrics=['categorical_accuracy'])\n",
    "    \n",
    "    monitor = \"val_categorical_accuracy\"\n",
    "    \n",
    "    callbacks = [\n",
    "        tf.keras.callbacks.EarlyStopping(patience=5)]\n",
    "        #TFKerasPruningCallback(trial, monitor)]\n",
    "    \n",
    "    fitted = model.fit(X_train, y_train,\n",
    "                       batch_size=batch_size,\n",
    "                       epochs=n_epochs,\n",
    "                       verbose=1,\n",
    "                       validation_data=(X_test, y_test),\n",
    "                       callbacks=callbacks)\n",
    "    \n",
    "    score = fitted.history[monitor][-1]\n",
    "    \n",
    "    return score\n",
    "# changed trials to 50 from 10\n",
    "# removed pruning but not callbacks"
   ]
  },
  {
   "cell_type": "code",
   "execution_count": 105,
   "id": "abd03c72",
   "metadata": {},
   "outputs": [
    {
     "name": "stdout",
     "output_type": "stream",
     "text": [
      "OK\n"
     ]
    }
   ],
   "source": [
    "train_images, val_images, train_labels, val_labels = train_test_split(mels, y, test_size=0.2, random_state=42)\n",
    "X_train, X_test, y_train, y_test, img_rows, img_cols = format_for_CNN(train_images, val_images, train_labels, val_labels)\n",
    "check_class_complete_gen(train_labels, val_labels,y)"
   ]
  },
  {
   "cell_type": "code",
   "execution_count": 106,
   "id": "ab8aa2b5",
   "metadata": {},
   "outputs": [
    {
     "name": "stderr",
     "output_type": "stream",
     "text": [
      "\u001b[32m[I 2022-06-13 12:42:11,357]\u001b[0m A new study created in memory with name: no-name-14ede495-3002-4c3d-a0b8-c65fcd1e62f2\u001b[0m\n"
     ]
    },
    {
     "name": "stdout",
     "output_type": "stream",
     "text": [
      "Train on 1139 samples, validate on 285 samples\n",
      "Epoch 1/35\n",
      " 256/1139 [=====>........................] - ETA: 39s - loss: 1.5133 - categorical_accuracy: 0.2266"
     ]
    },
    {
     "ename": "KeyboardInterrupt",
     "evalue": "",
     "output_type": "error",
     "traceback": [
      "\u001b[0;31m---------------------------------------------------------------------------\u001b[0m",
      "\u001b[0;31mKeyboardInterrupt\u001b[0m                         Traceback (most recent call last)",
      "\u001b[0;32m/var/folders/40/05hxxdx10_36bq8x_g4gj4jm0000gp/T/ipykernel_31865/3168852254.py\u001b[0m in \u001b[0;36m<module>\u001b[0;34m\u001b[0m\n\u001b[1;32m      1\u001b[0m \u001b[0mstudy\u001b[0m \u001b[0;34m=\u001b[0m \u001b[0moptuna\u001b[0m\u001b[0;34m.\u001b[0m\u001b[0mcreate_study\u001b[0m\u001b[0;34m(\u001b[0m\u001b[0mdirection\u001b[0m\u001b[0;34m=\u001b[0m\u001b[0;34m'maximize'\u001b[0m\u001b[0;34m)\u001b[0m\u001b[0;34m\u001b[0m\u001b[0;34m\u001b[0m\u001b[0m\n\u001b[0;32m----> 2\u001b[0;31m \u001b[0mstudy\u001b[0m\u001b[0;34m.\u001b[0m\u001b[0moptimize\u001b[0m\u001b[0;34m(\u001b[0m\u001b[0mobjective\u001b[0m\u001b[0;34m,\u001b[0m \u001b[0mn_trials\u001b[0m\u001b[0;34m=\u001b[0m\u001b[0;36m50\u001b[0m\u001b[0;34m)\u001b[0m\u001b[0;34m\u001b[0m\u001b[0;34m\u001b[0m\u001b[0m\n\u001b[0m",
      "\u001b[0;32m~/opt/anaconda3/envs/TF/lib/python3.7/site-packages/optuna/study/study.py\u001b[0m in \u001b[0;36moptimize\u001b[0;34m(self, func, n_trials, timeout, n_jobs, catch, callbacks, gc_after_trial, show_progress_bar)\u001b[0m\n\u001b[1;32m    407\u001b[0m             \u001b[0mcallbacks\u001b[0m\u001b[0;34m=\u001b[0m\u001b[0mcallbacks\u001b[0m\u001b[0;34m,\u001b[0m\u001b[0;34m\u001b[0m\u001b[0;34m\u001b[0m\u001b[0m\n\u001b[1;32m    408\u001b[0m             \u001b[0mgc_after_trial\u001b[0m\u001b[0;34m=\u001b[0m\u001b[0mgc_after_trial\u001b[0m\u001b[0;34m,\u001b[0m\u001b[0;34m\u001b[0m\u001b[0;34m\u001b[0m\u001b[0m\n\u001b[0;32m--> 409\u001b[0;31m             \u001b[0mshow_progress_bar\u001b[0m\u001b[0;34m=\u001b[0m\u001b[0mshow_progress_bar\u001b[0m\u001b[0;34m,\u001b[0m\u001b[0;34m\u001b[0m\u001b[0;34m\u001b[0m\u001b[0m\n\u001b[0m\u001b[1;32m    410\u001b[0m         )\n\u001b[1;32m    411\u001b[0m \u001b[0;34m\u001b[0m\u001b[0m\n",
      "\u001b[0;32m~/opt/anaconda3/envs/TF/lib/python3.7/site-packages/optuna/study/_optimize.py\u001b[0m in \u001b[0;36m_optimize\u001b[0;34m(study, func, n_trials, timeout, n_jobs, catch, callbacks, gc_after_trial, show_progress_bar)\u001b[0m\n\u001b[1;32m     74\u001b[0m                 \u001b[0mreseed_sampler_rng\u001b[0m\u001b[0;34m=\u001b[0m\u001b[0;32mFalse\u001b[0m\u001b[0;34m,\u001b[0m\u001b[0;34m\u001b[0m\u001b[0;34m\u001b[0m\u001b[0m\n\u001b[1;32m     75\u001b[0m                 \u001b[0mtime_start\u001b[0m\u001b[0;34m=\u001b[0m\u001b[0;32mNone\u001b[0m\u001b[0;34m,\u001b[0m\u001b[0;34m\u001b[0m\u001b[0;34m\u001b[0m\u001b[0m\n\u001b[0;32m---> 76\u001b[0;31m                 \u001b[0mprogress_bar\u001b[0m\u001b[0;34m=\u001b[0m\u001b[0mprogress_bar\u001b[0m\u001b[0;34m,\u001b[0m\u001b[0;34m\u001b[0m\u001b[0;34m\u001b[0m\u001b[0m\n\u001b[0m\u001b[1;32m     77\u001b[0m             )\n\u001b[1;32m     78\u001b[0m         \u001b[0;32melse\u001b[0m\u001b[0;34m:\u001b[0m\u001b[0;34m\u001b[0m\u001b[0;34m\u001b[0m\u001b[0m\n",
      "\u001b[0;32m~/opt/anaconda3/envs/TF/lib/python3.7/site-packages/optuna/study/_optimize.py\u001b[0m in \u001b[0;36m_optimize_sequential\u001b[0;34m(study, func, n_trials, timeout, catch, callbacks, gc_after_trial, reseed_sampler_rng, time_start, progress_bar)\u001b[0m\n\u001b[1;32m    161\u001b[0m \u001b[0;34m\u001b[0m\u001b[0m\n\u001b[1;32m    162\u001b[0m         \u001b[0;32mtry\u001b[0m\u001b[0;34m:\u001b[0m\u001b[0;34m\u001b[0m\u001b[0;34m\u001b[0m\u001b[0m\n\u001b[0;32m--> 163\u001b[0;31m             \u001b[0mtrial\u001b[0m \u001b[0;34m=\u001b[0m \u001b[0m_run_trial\u001b[0m\u001b[0;34m(\u001b[0m\u001b[0mstudy\u001b[0m\u001b[0;34m,\u001b[0m \u001b[0mfunc\u001b[0m\u001b[0;34m,\u001b[0m \u001b[0mcatch\u001b[0m\u001b[0;34m)\u001b[0m\u001b[0;34m\u001b[0m\u001b[0;34m\u001b[0m\u001b[0m\n\u001b[0m\u001b[1;32m    164\u001b[0m         \u001b[0;32mexcept\u001b[0m \u001b[0mException\u001b[0m\u001b[0;34m:\u001b[0m\u001b[0;34m\u001b[0m\u001b[0;34m\u001b[0m\u001b[0m\n\u001b[1;32m    165\u001b[0m             \u001b[0;32mraise\u001b[0m\u001b[0;34m\u001b[0m\u001b[0;34m\u001b[0m\u001b[0m\n",
      "\u001b[0;32m~/opt/anaconda3/envs/TF/lib/python3.7/site-packages/optuna/study/_optimize.py\u001b[0m in \u001b[0;36m_run_trial\u001b[0;34m(study, func, catch)\u001b[0m\n\u001b[1;32m    211\u001b[0m \u001b[0;34m\u001b[0m\u001b[0m\n\u001b[1;32m    212\u001b[0m     \u001b[0;32mtry\u001b[0m\u001b[0;34m:\u001b[0m\u001b[0;34m\u001b[0m\u001b[0;34m\u001b[0m\u001b[0m\n\u001b[0;32m--> 213\u001b[0;31m         \u001b[0mvalue_or_values\u001b[0m \u001b[0;34m=\u001b[0m \u001b[0mfunc\u001b[0m\u001b[0;34m(\u001b[0m\u001b[0mtrial\u001b[0m\u001b[0;34m)\u001b[0m\u001b[0;34m\u001b[0m\u001b[0;34m\u001b[0m\u001b[0m\n\u001b[0m\u001b[1;32m    214\u001b[0m     \u001b[0;32mexcept\u001b[0m \u001b[0mexceptions\u001b[0m\u001b[0;34m.\u001b[0m\u001b[0mTrialPruned\u001b[0m \u001b[0;32mas\u001b[0m \u001b[0me\u001b[0m\u001b[0;34m:\u001b[0m\u001b[0;34m\u001b[0m\u001b[0;34m\u001b[0m\u001b[0m\n\u001b[1;32m    215\u001b[0m         \u001b[0;31m# TODO(mamu): Handle multi-objective cases.\u001b[0m\u001b[0;34m\u001b[0m\u001b[0;34m\u001b[0m\u001b[0;34m\u001b[0m\u001b[0m\n",
      "\u001b[0;32m/var/folders/40/05hxxdx10_36bq8x_g4gj4jm0000gp/T/ipykernel_31865/2958196346.py\u001b[0m in \u001b[0;36mobjective\u001b[0;34m(trial)\u001b[0m\n\u001b[1;32m     64\u001b[0m                        \u001b[0mverbose\u001b[0m\u001b[0;34m=\u001b[0m\u001b[0;36m1\u001b[0m\u001b[0;34m,\u001b[0m\u001b[0;34m\u001b[0m\u001b[0;34m\u001b[0m\u001b[0m\n\u001b[1;32m     65\u001b[0m                        \u001b[0mvalidation_data\u001b[0m\u001b[0;34m=\u001b[0m\u001b[0;34m(\u001b[0m\u001b[0mX_test\u001b[0m\u001b[0;34m,\u001b[0m \u001b[0my_test\u001b[0m\u001b[0;34m)\u001b[0m\u001b[0;34m,\u001b[0m\u001b[0;34m\u001b[0m\u001b[0;34m\u001b[0m\u001b[0m\n\u001b[0;32m---> 66\u001b[0;31m                        callbacks=callbacks)\n\u001b[0m\u001b[1;32m     67\u001b[0m \u001b[0;34m\u001b[0m\u001b[0m\n\u001b[1;32m     68\u001b[0m     \u001b[0mscore\u001b[0m \u001b[0;34m=\u001b[0m \u001b[0mfitted\u001b[0m\u001b[0;34m.\u001b[0m\u001b[0mhistory\u001b[0m\u001b[0;34m[\u001b[0m\u001b[0mmonitor\u001b[0m\u001b[0;34m]\u001b[0m\u001b[0;34m[\u001b[0m\u001b[0;34m-\u001b[0m\u001b[0;36m1\u001b[0m\u001b[0;34m]\u001b[0m\u001b[0;34m\u001b[0m\u001b[0;34m\u001b[0m\u001b[0m\n",
      "\u001b[0;32m~/opt/anaconda3/envs/TF/lib/python3.7/site-packages/tensorflow_core/python/keras/engine/training.py\u001b[0m in \u001b[0;36mfit\u001b[0;34m(self, x, y, batch_size, epochs, verbose, callbacks, validation_split, validation_data, shuffle, class_weight, sample_weight, initial_epoch, steps_per_epoch, validation_steps, validation_freq, max_queue_size, workers, use_multiprocessing, **kwargs)\u001b[0m\n\u001b[1;32m    726\u001b[0m         \u001b[0mmax_queue_size\u001b[0m\u001b[0;34m=\u001b[0m\u001b[0mmax_queue_size\u001b[0m\u001b[0;34m,\u001b[0m\u001b[0;34m\u001b[0m\u001b[0;34m\u001b[0m\u001b[0m\n\u001b[1;32m    727\u001b[0m         \u001b[0mworkers\u001b[0m\u001b[0;34m=\u001b[0m\u001b[0mworkers\u001b[0m\u001b[0;34m,\u001b[0m\u001b[0;34m\u001b[0m\u001b[0;34m\u001b[0m\u001b[0m\n\u001b[0;32m--> 728\u001b[0;31m         use_multiprocessing=use_multiprocessing)\n\u001b[0m\u001b[1;32m    729\u001b[0m \u001b[0;34m\u001b[0m\u001b[0m\n\u001b[1;32m    730\u001b[0m   def evaluate(self,\n",
      "\u001b[0;32m~/opt/anaconda3/envs/TF/lib/python3.7/site-packages/tensorflow_core/python/keras/engine/training_v2.py\u001b[0m in \u001b[0;36mfit\u001b[0;34m(self, model, x, y, batch_size, epochs, verbose, callbacks, validation_split, validation_data, shuffle, class_weight, sample_weight, initial_epoch, steps_per_epoch, validation_steps, validation_freq, **kwargs)\u001b[0m\n\u001b[1;32m    322\u001b[0m                 \u001b[0mmode\u001b[0m\u001b[0;34m=\u001b[0m\u001b[0mModeKeys\u001b[0m\u001b[0;34m.\u001b[0m\u001b[0mTRAIN\u001b[0m\u001b[0;34m,\u001b[0m\u001b[0;34m\u001b[0m\u001b[0;34m\u001b[0m\u001b[0m\n\u001b[1;32m    323\u001b[0m                 \u001b[0mtraining_context\u001b[0m\u001b[0;34m=\u001b[0m\u001b[0mtraining_context\u001b[0m\u001b[0;34m,\u001b[0m\u001b[0;34m\u001b[0m\u001b[0;34m\u001b[0m\u001b[0m\n\u001b[0;32m--> 324\u001b[0;31m                 total_epochs=epochs)\n\u001b[0m\u001b[1;32m    325\u001b[0m             \u001b[0mcbks\u001b[0m\u001b[0;34m.\u001b[0m\u001b[0mmake_logs\u001b[0m\u001b[0;34m(\u001b[0m\u001b[0mmodel\u001b[0m\u001b[0;34m,\u001b[0m \u001b[0mepoch_logs\u001b[0m\u001b[0;34m,\u001b[0m \u001b[0mtraining_result\u001b[0m\u001b[0;34m,\u001b[0m \u001b[0mModeKeys\u001b[0m\u001b[0;34m.\u001b[0m\u001b[0mTRAIN\u001b[0m\u001b[0;34m)\u001b[0m\u001b[0;34m\u001b[0m\u001b[0;34m\u001b[0m\u001b[0m\n\u001b[1;32m    326\u001b[0m \u001b[0;34m\u001b[0m\u001b[0m\n",
      "\u001b[0;32m~/opt/anaconda3/envs/TF/lib/python3.7/site-packages/tensorflow_core/python/keras/engine/training_v2.py\u001b[0m in \u001b[0;36mrun_one_epoch\u001b[0;34m(model, iterator, execution_function, dataset_size, batch_size, strategy, steps_per_epoch, num_samples, mode, training_context, total_epochs)\u001b[0m\n\u001b[1;32m    121\u001b[0m         step=step, mode=mode, size=current_batch_size) as batch_logs:\n\u001b[1;32m    122\u001b[0m       \u001b[0;32mtry\u001b[0m\u001b[0;34m:\u001b[0m\u001b[0;34m\u001b[0m\u001b[0;34m\u001b[0m\u001b[0m\n\u001b[0;32m--> 123\u001b[0;31m         \u001b[0mbatch_outs\u001b[0m \u001b[0;34m=\u001b[0m \u001b[0mexecution_function\u001b[0m\u001b[0;34m(\u001b[0m\u001b[0miterator\u001b[0m\u001b[0;34m)\u001b[0m\u001b[0;34m\u001b[0m\u001b[0;34m\u001b[0m\u001b[0m\n\u001b[0m\u001b[1;32m    124\u001b[0m       \u001b[0;32mexcept\u001b[0m \u001b[0;34m(\u001b[0m\u001b[0mStopIteration\u001b[0m\u001b[0;34m,\u001b[0m \u001b[0merrors\u001b[0m\u001b[0;34m.\u001b[0m\u001b[0mOutOfRangeError\u001b[0m\u001b[0;34m)\u001b[0m\u001b[0;34m:\u001b[0m\u001b[0;34m\u001b[0m\u001b[0;34m\u001b[0m\u001b[0m\n\u001b[1;32m    125\u001b[0m         \u001b[0;31m# TODO(kaftan): File bug about tf function and errors.OutOfRangeError?\u001b[0m\u001b[0;34m\u001b[0m\u001b[0;34m\u001b[0m\u001b[0;34m\u001b[0m\u001b[0m\n",
      "\u001b[0;32m~/opt/anaconda3/envs/TF/lib/python3.7/site-packages/tensorflow_core/python/keras/engine/training_v2_utils.py\u001b[0m in \u001b[0;36mexecution_function\u001b[0;34m(input_fn)\u001b[0m\n\u001b[1;32m     84\u001b[0m     \u001b[0;31m# `numpy` translates Tensors to values in Eager mode.\u001b[0m\u001b[0;34m\u001b[0m\u001b[0;34m\u001b[0m\u001b[0;34m\u001b[0m\u001b[0m\n\u001b[1;32m     85\u001b[0m     return nest.map_structure(_non_none_constant_value,\n\u001b[0;32m---> 86\u001b[0;31m                               distributed_function(input_fn))\n\u001b[0m\u001b[1;32m     87\u001b[0m \u001b[0;34m\u001b[0m\u001b[0m\n\u001b[1;32m     88\u001b[0m   \u001b[0;32mreturn\u001b[0m \u001b[0mexecution_function\u001b[0m\u001b[0;34m\u001b[0m\u001b[0;34m\u001b[0m\u001b[0m\n",
      "\u001b[0;32m~/opt/anaconda3/envs/TF/lib/python3.7/site-packages/tensorflow_core/python/eager/def_function.py\u001b[0m in \u001b[0;36m__call__\u001b[0;34m(self, *args, **kwds)\u001b[0m\n\u001b[1;32m    455\u001b[0m \u001b[0;34m\u001b[0m\u001b[0m\n\u001b[1;32m    456\u001b[0m     \u001b[0mtracing_count\u001b[0m \u001b[0;34m=\u001b[0m \u001b[0mself\u001b[0m\u001b[0;34m.\u001b[0m\u001b[0m_get_tracing_count\u001b[0m\u001b[0;34m(\u001b[0m\u001b[0;34m)\u001b[0m\u001b[0;34m\u001b[0m\u001b[0;34m\u001b[0m\u001b[0m\n\u001b[0;32m--> 457\u001b[0;31m     \u001b[0mresult\u001b[0m \u001b[0;34m=\u001b[0m \u001b[0mself\u001b[0m\u001b[0;34m.\u001b[0m\u001b[0m_call\u001b[0m\u001b[0;34m(\u001b[0m\u001b[0;34m*\u001b[0m\u001b[0margs\u001b[0m\u001b[0;34m,\u001b[0m \u001b[0;34m**\u001b[0m\u001b[0mkwds\u001b[0m\u001b[0;34m)\u001b[0m\u001b[0;34m\u001b[0m\u001b[0;34m\u001b[0m\u001b[0m\n\u001b[0m\u001b[1;32m    458\u001b[0m     \u001b[0;32mif\u001b[0m \u001b[0mtracing_count\u001b[0m \u001b[0;34m==\u001b[0m \u001b[0mself\u001b[0m\u001b[0;34m.\u001b[0m\u001b[0m_get_tracing_count\u001b[0m\u001b[0;34m(\u001b[0m\u001b[0;34m)\u001b[0m\u001b[0;34m:\u001b[0m\u001b[0;34m\u001b[0m\u001b[0;34m\u001b[0m\u001b[0m\n\u001b[1;32m    459\u001b[0m       \u001b[0mself\u001b[0m\u001b[0;34m.\u001b[0m\u001b[0m_call_counter\u001b[0m\u001b[0;34m.\u001b[0m\u001b[0mcalled_without_tracing\u001b[0m\u001b[0;34m(\u001b[0m\u001b[0;34m)\u001b[0m\u001b[0;34m\u001b[0m\u001b[0;34m\u001b[0m\u001b[0m\n",
      "\u001b[0;32m~/opt/anaconda3/envs/TF/lib/python3.7/site-packages/tensorflow_core/python/eager/def_function.py\u001b[0m in \u001b[0;36m_call\u001b[0;34m(self, *args, **kwds)\u001b[0m\n\u001b[1;32m    485\u001b[0m       \u001b[0;31m# In this case we have created variables on the first call, so we run the\u001b[0m\u001b[0;34m\u001b[0m\u001b[0;34m\u001b[0m\u001b[0;34m\u001b[0m\u001b[0m\n\u001b[1;32m    486\u001b[0m       \u001b[0;31m# defunned version which is guaranteed to never create variables.\u001b[0m\u001b[0;34m\u001b[0m\u001b[0;34m\u001b[0m\u001b[0;34m\u001b[0m\u001b[0m\n\u001b[0;32m--> 487\u001b[0;31m       \u001b[0;32mreturn\u001b[0m \u001b[0mself\u001b[0m\u001b[0;34m.\u001b[0m\u001b[0m_stateless_fn\u001b[0m\u001b[0;34m(\u001b[0m\u001b[0;34m*\u001b[0m\u001b[0margs\u001b[0m\u001b[0;34m,\u001b[0m \u001b[0;34m**\u001b[0m\u001b[0mkwds\u001b[0m\u001b[0;34m)\u001b[0m  \u001b[0;31m# pylint: disable=not-callable\u001b[0m\u001b[0;34m\u001b[0m\u001b[0;34m\u001b[0m\u001b[0m\n\u001b[0m\u001b[1;32m    488\u001b[0m     \u001b[0;32melif\u001b[0m \u001b[0mself\u001b[0m\u001b[0;34m.\u001b[0m\u001b[0m_stateful_fn\u001b[0m \u001b[0;32mis\u001b[0m \u001b[0;32mnot\u001b[0m \u001b[0;32mNone\u001b[0m\u001b[0;34m:\u001b[0m\u001b[0;34m\u001b[0m\u001b[0;34m\u001b[0m\u001b[0m\n\u001b[1;32m    489\u001b[0m       \u001b[0;31m# Release the lock early so that multiple threads can perform the call\u001b[0m\u001b[0;34m\u001b[0m\u001b[0;34m\u001b[0m\u001b[0;34m\u001b[0m\u001b[0m\n",
      "\u001b[0;32m~/opt/anaconda3/envs/TF/lib/python3.7/site-packages/tensorflow_core/python/eager/function.py\u001b[0m in \u001b[0;36m__call__\u001b[0;34m(self, *args, **kwargs)\u001b[0m\n\u001b[1;32m   1821\u001b[0m     \u001b[0;34m\"\"\"Calls a graph function specialized to the inputs.\"\"\"\u001b[0m\u001b[0;34m\u001b[0m\u001b[0;34m\u001b[0m\u001b[0m\n\u001b[1;32m   1822\u001b[0m     \u001b[0mgraph_function\u001b[0m\u001b[0;34m,\u001b[0m \u001b[0margs\u001b[0m\u001b[0;34m,\u001b[0m \u001b[0mkwargs\u001b[0m \u001b[0;34m=\u001b[0m \u001b[0mself\u001b[0m\u001b[0;34m.\u001b[0m\u001b[0m_maybe_define_function\u001b[0m\u001b[0;34m(\u001b[0m\u001b[0margs\u001b[0m\u001b[0;34m,\u001b[0m \u001b[0mkwargs\u001b[0m\u001b[0;34m)\u001b[0m\u001b[0;34m\u001b[0m\u001b[0;34m\u001b[0m\u001b[0m\n\u001b[0;32m-> 1823\u001b[0;31m     \u001b[0;32mreturn\u001b[0m \u001b[0mgraph_function\u001b[0m\u001b[0;34m.\u001b[0m\u001b[0m_filtered_call\u001b[0m\u001b[0;34m(\u001b[0m\u001b[0margs\u001b[0m\u001b[0;34m,\u001b[0m \u001b[0mkwargs\u001b[0m\u001b[0;34m)\u001b[0m  \u001b[0;31m# pylint: disable=protected-access\u001b[0m\u001b[0;34m\u001b[0m\u001b[0;34m\u001b[0m\u001b[0m\n\u001b[0m\u001b[1;32m   1824\u001b[0m \u001b[0;34m\u001b[0m\u001b[0m\n\u001b[1;32m   1825\u001b[0m   \u001b[0;34m@\u001b[0m\u001b[0mproperty\u001b[0m\u001b[0;34m\u001b[0m\u001b[0;34m\u001b[0m\u001b[0m\n",
      "\u001b[0;32m~/opt/anaconda3/envs/TF/lib/python3.7/site-packages/tensorflow_core/python/eager/function.py\u001b[0m in \u001b[0;36m_filtered_call\u001b[0;34m(self, args, kwargs)\u001b[0m\n\u001b[1;32m   1139\u001b[0m          if isinstance(t, (ops.Tensor,\n\u001b[1;32m   1140\u001b[0m                            resource_variable_ops.BaseResourceVariable))),\n\u001b[0;32m-> 1141\u001b[0;31m         self.captured_inputs)\n\u001b[0m\u001b[1;32m   1142\u001b[0m \u001b[0;34m\u001b[0m\u001b[0m\n\u001b[1;32m   1143\u001b[0m   \u001b[0;32mdef\u001b[0m \u001b[0m_call_flat\u001b[0m\u001b[0;34m(\u001b[0m\u001b[0mself\u001b[0m\u001b[0;34m,\u001b[0m \u001b[0margs\u001b[0m\u001b[0;34m,\u001b[0m \u001b[0mcaptured_inputs\u001b[0m\u001b[0;34m,\u001b[0m \u001b[0mcancellation_manager\u001b[0m\u001b[0;34m=\u001b[0m\u001b[0;32mNone\u001b[0m\u001b[0;34m)\u001b[0m\u001b[0;34m:\u001b[0m\u001b[0;34m\u001b[0m\u001b[0;34m\u001b[0m\u001b[0m\n",
      "\u001b[0;32m~/opt/anaconda3/envs/TF/lib/python3.7/site-packages/tensorflow_core/python/eager/function.py\u001b[0m in \u001b[0;36m_call_flat\u001b[0;34m(self, args, captured_inputs, cancellation_manager)\u001b[0m\n\u001b[1;32m   1222\u001b[0m     \u001b[0;32mif\u001b[0m \u001b[0mexecuting_eagerly\u001b[0m\u001b[0;34m:\u001b[0m\u001b[0;34m\u001b[0m\u001b[0;34m\u001b[0m\u001b[0m\n\u001b[1;32m   1223\u001b[0m       flat_outputs = forward_function.call(\n\u001b[0;32m-> 1224\u001b[0;31m           ctx, args, cancellation_manager=cancellation_manager)\n\u001b[0m\u001b[1;32m   1225\u001b[0m     \u001b[0;32melse\u001b[0m\u001b[0;34m:\u001b[0m\u001b[0;34m\u001b[0m\u001b[0;34m\u001b[0m\u001b[0m\n\u001b[1;32m   1226\u001b[0m       \u001b[0mgradient_name\u001b[0m \u001b[0;34m=\u001b[0m \u001b[0mself\u001b[0m\u001b[0;34m.\u001b[0m\u001b[0m_delayed_rewrite_functions\u001b[0m\u001b[0;34m.\u001b[0m\u001b[0mregister\u001b[0m\u001b[0;34m(\u001b[0m\u001b[0;34m)\u001b[0m\u001b[0;34m\u001b[0m\u001b[0;34m\u001b[0m\u001b[0m\n",
      "\u001b[0;32m~/opt/anaconda3/envs/TF/lib/python3.7/site-packages/tensorflow_core/python/eager/function.py\u001b[0m in \u001b[0;36mcall\u001b[0;34m(self, ctx, args, cancellation_manager)\u001b[0m\n\u001b[1;32m    509\u001b[0m               \u001b[0minputs\u001b[0m\u001b[0;34m=\u001b[0m\u001b[0margs\u001b[0m\u001b[0;34m,\u001b[0m\u001b[0;34m\u001b[0m\u001b[0;34m\u001b[0m\u001b[0m\n\u001b[1;32m    510\u001b[0m               \u001b[0mattrs\u001b[0m\u001b[0;34m=\u001b[0m\u001b[0;34m(\u001b[0m\u001b[0;34m\"executor_type\"\u001b[0m\u001b[0;34m,\u001b[0m \u001b[0mexecutor_type\u001b[0m\u001b[0;34m,\u001b[0m \u001b[0;34m\"config_proto\"\u001b[0m\u001b[0;34m,\u001b[0m \u001b[0mconfig\u001b[0m\u001b[0;34m)\u001b[0m\u001b[0;34m,\u001b[0m\u001b[0;34m\u001b[0m\u001b[0;34m\u001b[0m\u001b[0m\n\u001b[0;32m--> 511\u001b[0;31m               ctx=ctx)\n\u001b[0m\u001b[1;32m    512\u001b[0m         \u001b[0;32melse\u001b[0m\u001b[0;34m:\u001b[0m\u001b[0;34m\u001b[0m\u001b[0;34m\u001b[0m\u001b[0m\n\u001b[1;32m    513\u001b[0m           outputs = execute.execute_with_cancellation(\n",
      "\u001b[0;32m~/opt/anaconda3/envs/TF/lib/python3.7/site-packages/tensorflow_core/python/eager/execute.py\u001b[0m in \u001b[0;36mquick_execute\u001b[0;34m(op_name, num_outputs, inputs, attrs, ctx, name)\u001b[0m\n\u001b[1;32m     59\u001b[0m     tensors = pywrap_tensorflow.TFE_Py_Execute(ctx._handle, device_name,\n\u001b[1;32m     60\u001b[0m                                                \u001b[0mop_name\u001b[0m\u001b[0;34m,\u001b[0m \u001b[0minputs\u001b[0m\u001b[0;34m,\u001b[0m \u001b[0mattrs\u001b[0m\u001b[0;34m,\u001b[0m\u001b[0;34m\u001b[0m\u001b[0;34m\u001b[0m\u001b[0m\n\u001b[0;32m---> 61\u001b[0;31m                                                num_outputs)\n\u001b[0m\u001b[1;32m     62\u001b[0m   \u001b[0;32mexcept\u001b[0m \u001b[0mcore\u001b[0m\u001b[0;34m.\u001b[0m\u001b[0m_NotOkStatusException\u001b[0m \u001b[0;32mas\u001b[0m \u001b[0me\u001b[0m\u001b[0;34m:\u001b[0m\u001b[0;34m\u001b[0m\u001b[0;34m\u001b[0m\u001b[0m\n\u001b[1;32m     63\u001b[0m     \u001b[0;32mif\u001b[0m \u001b[0mname\u001b[0m \u001b[0;32mis\u001b[0m \u001b[0;32mnot\u001b[0m \u001b[0;32mNone\u001b[0m\u001b[0;34m:\u001b[0m\u001b[0;34m\u001b[0m\u001b[0;34m\u001b[0m\u001b[0m\n",
      "\u001b[0;31mKeyboardInterrupt\u001b[0m: "
     ]
    }
   ],
   "source": [
    "study = optuna.create_study(direction='maximize')\n",
    "study.optimize(objective, n_trials=50)"
   ]
  },
  {
   "cell_type": "code",
   "execution_count": 22,
   "id": "95d11d74",
   "metadata": {},
   "outputs": [
    {
     "name": "stdout",
     "output_type": "stream",
     "text": [
      "{'activation_1': 'tanh', 'pool_size_1': 2, 'activation_2': 'tanh', 'pool_size_2': 3, 'dropout_rate': 0.34395485379984586}\n"
     ]
    }
   ],
   "source": [
    "optimised_params = study.best_params\n",
    "print(optimised_params)"
   ]
  },
  {
   "cell_type": "code",
   "execution_count": 28,
   "id": "b554503c-e32e-407e-a780-99cac6dfd711",
   "metadata": {},
   "outputs": [],
   "source": [
    "np.save('optimised_params_Aleks',optimised_params)\n",
    "'n_epochs': 35, 'learning_rate': 0.0006920615808798661, 'filters_1': 20, 'kernel_size_1': 8, 'filters_2': 48, 'kernel_size_2': 6, 'lin_1_n': 79"
   ]
  },
  {
   "cell_type": "code",
   "execution_count": 107,
   "id": "31deac79",
   "metadata": {},
   "outputs": [],
   "source": [
    "def opt_model(optimised_params):\n",
    "    n_epochs = 35\n",
    "    learning_rate = 0.0007\n",
    "    optimiser = Adam(learning_rate=learning_rate)\n",
    "    # Conv 1\n",
    "    filters_1 = 20\n",
    "    kernel_size_1 = 8\n",
    "    strides_1 = 1\n",
    "    padding_1 = 'same'\n",
    "    activation_1 = 'tanh'\n",
    "    input_shape = (img_rows, img_cols, 1)\n",
    "    # Pool 1\n",
    "    pool_size_1 = 2\n",
    "    # Conv 2\n",
    "    filters_2 = 48\n",
    "    kernel_size_2 = 6\n",
    "    strides_2 = 1\n",
    "    padding_2 = 'same'\n",
    "    activation_2 = 'tanh'\n",
    "    # Pool 2\n",
    "    pool_size_2 = 3\n",
    "    # Droput\n",
    "    dropout_rate = 0.344\n",
    "    # Lin 1\n",
    "    lin_1_n = 79\n",
    "    \n",
    "    model = Sequential()\n",
    "    model.add(Conv2D(filters=filters_1,\n",
    "                     kernel_size=kernel_size_1,\n",
    "                     strides=strides_1,\n",
    "                     padding=padding_1,\n",
    "                     activation=activation_1,\n",
    "                     input_shape=input_shape))\n",
    "    model.add(MaxPooling2D(pool_size=pool_size_1, strides=None))\n",
    "    model.add(Conv2D(filters=filters_2,\n",
    "                     kernel_size=kernel_size_2,\n",
    "                     strides=strides_2,\n",
    "                     padding=padding_2,\n",
    "                     activation=activation_2))\n",
    "    model.add(MaxPooling2D(pool_size=pool_size_2, strides=None))\n",
    "    model.add(Dropout(rate=dropout_rate))\n",
    "    model.add(Flatten())\n",
    "    model.add(Dense(units=lin_1_n, activation='relu'))\n",
    "    model.add(Dense(units=num_classes, activation='softmax'))\n",
    "    \n",
    "    model.compile(loss=categorical_crossentropy,\n",
    "              optimizer=optimiser,\n",
    "              metrics=['categorical_accuracy'])\n",
    "    \n",
    "    return model"
   ]
  },
  {
   "cell_type": "markdown",
   "id": "b477028b",
   "metadata": {},
   "source": [
    "# Folding"
   ]
  },
  {
   "cell_type": "code",
   "execution_count": 108,
   "id": "85f8e6fe",
   "metadata": {},
   "outputs": [
    {
     "name": "stdout",
     "output_type": "stream",
     "text": [
      "ALL CLASSES PRESENT\n",
      "{'activation_1': 'tanh', 'pool_size_1': 2, 'activation_2': 'tanh', 'pool_size_2': 3, 'dropout_rate': 0.34395485379984586}\n"
     ]
    }
   ],
   "source": [
    "n_folds = 5\n",
    "kfold = KFold(n_splits=n_folds, shuffle=True)\n",
    "X = mels\n",
    "y = y \n",
    "# Human Optimisation...\n",
    "check_class_complete(kfold,X,y)\n",
    "#optimised_params['learning_rate'] = 0.0014280245429123698/2\n",
    "#optimised_params['n_epochs'] = 30\n",
    "n_epochs = 35\n",
    "fold_loss = np.zeros((n_folds,n_epochs))\n",
    "np.save('optimised_params',optimised_params)\n",
    "print(optimised_params)"
   ]
  },
  {
   "cell_type": "code",
   "execution_count": 109,
   "id": "c3c5e468-a020-4d34-a121-682bd0605741",
   "metadata": {},
   "outputs": [
    {
     "name": "stdout",
     "output_type": "stream",
     "text": [
      "-----------------------------------\n",
      "FOLD 1\n",
      "-----------------------------------\n",
      "Train on 1139 samples, validate on 285 samples\n",
      "Epoch 1/35\n",
      "1139/1139 [==============================] - 18s 16ms/sample - loss: 1.0918 - categorical_accuracy: 0.4899 - val_loss: 0.8613 - val_categorical_accuracy: 0.6140\n",
      "Epoch 2/35\n",
      "1139/1139 [==============================] - 18s 16ms/sample - loss: 0.7574 - categorical_accuracy: 0.6725 - val_loss: 0.7563 - val_categorical_accuracy: 0.6456\n",
      "Epoch 3/35\n",
      "1139/1139 [==============================] - 19s 16ms/sample - loss: 0.6416 - categorical_accuracy: 0.7357 - val_loss: 0.6219 - val_categorical_accuracy: 0.7053\n",
      "Epoch 4/35\n",
      "1139/1139 [==============================] - 19s 16ms/sample - loss: 0.5398 - categorical_accuracy: 0.7814 - val_loss: 0.6044 - val_categorical_accuracy: 0.7088\n",
      "Epoch 5/35\n",
      "1139/1139 [==============================] - 19s 16ms/sample - loss: 0.4964 - categorical_accuracy: 0.7849 - val_loss: 0.4700 - val_categorical_accuracy: 0.7965\n",
      "Epoch 6/35\n",
      "1139/1139 [==============================] - 19s 16ms/sample - loss: 0.4145 - categorical_accuracy: 0.8349 - val_loss: 0.4130 - val_categorical_accuracy: 0.8456\n",
      "Epoch 7/35\n",
      "1139/1139 [==============================] - 19s 17ms/sample - loss: 0.3697 - categorical_accuracy: 0.8569 - val_loss: 0.3730 - val_categorical_accuracy: 0.8561\n",
      "Epoch 8/35\n",
      "1139/1139 [==============================] - 19s 17ms/sample - loss: 0.3218 - categorical_accuracy: 0.8692 - val_loss: 0.3359 - val_categorical_accuracy: 0.8702\n",
      "Epoch 9/35\n",
      "1139/1139 [==============================] - 19s 16ms/sample - loss: 0.2923 - categorical_accuracy: 0.8920 - val_loss: 0.2884 - val_categorical_accuracy: 0.8702\n",
      "Epoch 10/35\n",
      "1139/1139 [==============================] - 19s 16ms/sample - loss: 0.2545 - categorical_accuracy: 0.9113 - val_loss: 0.2486 - val_categorical_accuracy: 0.9158\n",
      "Epoch 11/35\n",
      "1139/1139 [==============================] - 19s 16ms/sample - loss: 0.2372 - categorical_accuracy: 0.9148 - val_loss: 0.2787 - val_categorical_accuracy: 0.8702\n",
      "Epoch 12/35\n",
      "1139/1139 [==============================] - 19s 16ms/sample - loss: 0.2052 - categorical_accuracy: 0.9298 - val_loss: 0.1985 - val_categorical_accuracy: 0.9193\n",
      "Epoch 13/35\n",
      "1139/1139 [==============================] - 19s 17ms/sample - loss: 0.1683 - categorical_accuracy: 0.9473 - val_loss: 0.1798 - val_categorical_accuracy: 0.9404\n",
      "Epoch 14/35\n",
      "1139/1139 [==============================] - 19s 16ms/sample - loss: 0.1523 - categorical_accuracy: 0.9570 - val_loss: 0.1738 - val_categorical_accuracy: 0.9368\n",
      "Epoch 15/35\n",
      "1139/1139 [==============================] - 19s 16ms/sample - loss: 0.1246 - categorical_accuracy: 0.9666 - val_loss: 0.1501 - val_categorical_accuracy: 0.9368\n",
      "Epoch 16/35\n",
      "1139/1139 [==============================] - 19s 16ms/sample - loss: 0.1072 - categorical_accuracy: 0.9772 - val_loss: 0.1523 - val_categorical_accuracy: 0.9333\n",
      "Epoch 17/35\n",
      "1139/1139 [==============================] - 19s 17ms/sample - loss: 0.0994 - categorical_accuracy: 0.9728 - val_loss: 0.1328 - val_categorical_accuracy: 0.9509\n",
      "Epoch 18/35\n",
      "1139/1139 [==============================] - 19s 16ms/sample - loss: 0.0839 - categorical_accuracy: 0.9833 - val_loss: 0.1418 - val_categorical_accuracy: 0.9439\n",
      "Epoch 19/35\n",
      "1139/1139 [==============================] - 19s 16ms/sample - loss: 0.0849 - categorical_accuracy: 0.9754 - val_loss: 0.1042 - val_categorical_accuracy: 0.9684\n",
      "Epoch 20/35\n",
      "1139/1139 [==============================] - 19s 16ms/sample - loss: 0.0825 - categorical_accuracy: 0.9781 - val_loss: 0.0989 - val_categorical_accuracy: 0.9684\n",
      "Epoch 21/35\n",
      "1139/1139 [==============================] - 19s 17ms/sample - loss: 0.0688 - categorical_accuracy: 0.9851 - val_loss: 0.0991 - val_categorical_accuracy: 0.9649\n",
      "Epoch 22/35\n",
      "1139/1139 [==============================] - 19s 17ms/sample - loss: 0.0569 - categorical_accuracy: 0.9903 - val_loss: 0.0928 - val_categorical_accuracy: 0.9614\n",
      "Epoch 23/35\n",
      "1139/1139 [==============================] - 19s 16ms/sample - loss: 0.0515 - categorical_accuracy: 0.9895 - val_loss: 0.0868 - val_categorical_accuracy: 0.9684\n",
      "Epoch 24/35\n",
      "1139/1139 [==============================] - 19s 17ms/sample - loss: 0.0452 - categorical_accuracy: 0.9886 - val_loss: 0.0990 - val_categorical_accuracy: 0.9614\n",
      "Epoch 25/35\n",
      "1139/1139 [==============================] - 19s 16ms/sample - loss: 0.0425 - categorical_accuracy: 0.9939 - val_loss: 0.0732 - val_categorical_accuracy: 0.9754\n",
      "Epoch 26/35\n",
      "1139/1139 [==============================] - 19s 17ms/sample - loss: 0.0421 - categorical_accuracy: 0.9895 - val_loss: 0.0653 - val_categorical_accuracy: 0.9789\n",
      "Epoch 27/35\n",
      "1139/1139 [==============================] - 19s 17ms/sample - loss: 0.0327 - categorical_accuracy: 0.9947 - val_loss: 0.0705 - val_categorical_accuracy: 0.9754\n",
      "Epoch 28/35\n",
      "1139/1139 [==============================] - 19s 16ms/sample - loss: 0.0300 - categorical_accuracy: 0.9974 - val_loss: 0.0646 - val_categorical_accuracy: 0.9825\n",
      "Epoch 29/35\n",
      "1139/1139 [==============================] - 19s 16ms/sample - loss: 0.0304 - categorical_accuracy: 0.9974 - val_loss: 0.0536 - val_categorical_accuracy: 0.9825\n",
      "Epoch 30/35\n",
      "1139/1139 [==============================] - 19s 17ms/sample - loss: 0.0226 - categorical_accuracy: 0.9991 - val_loss: 0.0792 - val_categorical_accuracy: 0.9719\n",
      "Epoch 31/35\n",
      "1139/1139 [==============================] - 19s 17ms/sample - loss: 0.0270 - categorical_accuracy: 0.9974 - val_loss: 0.0803 - val_categorical_accuracy: 0.9684\n",
      "Epoch 32/35\n",
      "1139/1139 [==============================] - 19s 17ms/sample - loss: 0.0283 - categorical_accuracy: 0.9947 - val_loss: 0.0735 - val_categorical_accuracy: 0.9754\n",
      "Epoch 33/35\n",
      "1139/1139 [==============================] - 19s 17ms/sample - loss: 0.0253 - categorical_accuracy: 0.9974 - val_loss: 0.0524 - val_categorical_accuracy: 0.9754\n",
      "Epoch 34/35\n",
      "1139/1139 [==============================] - 19s 17ms/sample - loss: 0.0215 - categorical_accuracy: 0.9982 - val_loss: 0.0737 - val_categorical_accuracy: 0.9614\n",
      "Epoch 35/35\n",
      "1139/1139 [==============================] - 19s 17ms/sample - loss: 0.0203 - categorical_accuracy: 0.9982 - val_loss: 0.0671 - val_categorical_accuracy: 0.9754\n",
      "-----------------------------------\n",
      "FOLD 2\n",
      "-----------------------------------\n",
      "Train on 1139 samples, validate on 285 samples\n",
      "Epoch 1/35\n",
      "1139/1139 [==============================] - 19s 17ms/sample - loss: 1.3597 - categorical_accuracy: 0.4241 - val_loss: 0.8772 - val_categorical_accuracy: 0.6105\n",
      "Epoch 2/35\n",
      "1139/1139 [==============================] - 19s 16ms/sample - loss: 0.8589 - categorical_accuracy: 0.6128 - val_loss: 0.7513 - val_categorical_accuracy: 0.7088\n",
      "Epoch 3/35\n",
      "1139/1139 [==============================] - 19s 17ms/sample - loss: 0.7570 - categorical_accuracy: 0.6681 - val_loss: 0.6113 - val_categorical_accuracy: 0.7684\n",
      "Epoch 4/35\n",
      "1139/1139 [==============================] - 19s 17ms/sample - loss: 0.6397 - categorical_accuracy: 0.7498 - val_loss: 0.5481 - val_categorical_accuracy: 0.7895\n",
      "Epoch 5/35\n",
      "1139/1139 [==============================] - 19s 17ms/sample - loss: 0.5547 - categorical_accuracy: 0.7840 - val_loss: 0.5065 - val_categorical_accuracy: 0.7895\n",
      "Epoch 6/35\n",
      "1139/1139 [==============================] - 20s 17ms/sample - loss: 0.5105 - categorical_accuracy: 0.7823 - val_loss: 0.4490 - val_categorical_accuracy: 0.8281\n",
      "Epoch 7/35\n",
      "1139/1139 [==============================] - 19s 17ms/sample - loss: 0.4544 - categorical_accuracy: 0.8025 - val_loss: 0.4052 - val_categorical_accuracy: 0.8351\n",
      "Epoch 8/35\n",
      "1139/1139 [==============================] - 19s 17ms/sample - loss: 0.4195 - categorical_accuracy: 0.8358 - val_loss: 0.3696 - val_categorical_accuracy: 0.8667\n",
      "Epoch 9/35\n",
      "1139/1139 [==============================] - 19s 17ms/sample - loss: 0.3866 - categorical_accuracy: 0.8341 - val_loss: 0.3525 - val_categorical_accuracy: 0.8491\n",
      "Epoch 10/35\n",
      "1139/1139 [==============================] - 19s 17ms/sample - loss: 0.3541 - categorical_accuracy: 0.8586 - val_loss: 0.3439 - val_categorical_accuracy: 0.8772\n",
      "Epoch 11/35\n",
      "1139/1139 [==============================] - 19s 17ms/sample - loss: 0.3405 - categorical_accuracy: 0.8578 - val_loss: 0.3260 - val_categorical_accuracy: 0.8632\n",
      "Epoch 12/35\n",
      "1139/1139 [==============================] - 19s 17ms/sample - loss: 0.2987 - categorical_accuracy: 0.8938 - val_loss: 0.2790 - val_categorical_accuracy: 0.9053\n",
      "Epoch 13/35\n",
      "1139/1139 [==============================] - 20s 18ms/sample - loss: 0.2559 - categorical_accuracy: 0.9131 - val_loss: 0.2533 - val_categorical_accuracy: 0.8947\n",
      "Epoch 14/35\n",
      "1139/1139 [==============================] - 21s 19ms/sample - loss: 0.2315 - categorical_accuracy: 0.9201 - val_loss: 0.2331 - val_categorical_accuracy: 0.9158\n",
      "Epoch 15/35\n",
      "1139/1139 [==============================] - 21s 19ms/sample - loss: 0.2125 - categorical_accuracy: 0.9245 - val_loss: 0.2163 - val_categorical_accuracy: 0.9228\n",
      "Epoch 16/35\n",
      "1139/1139 [==============================] - 21s 18ms/sample - loss: 0.2125 - categorical_accuracy: 0.9236 - val_loss: 0.2056 - val_categorical_accuracy: 0.9263\n",
      "Epoch 17/35\n",
      "1139/1139 [==============================] - 21s 18ms/sample - loss: 0.1869 - categorical_accuracy: 0.9333 - val_loss: 0.2002 - val_categorical_accuracy: 0.9228\n",
      "Epoch 18/35\n",
      "1139/1139 [==============================] - 19s 16ms/sample - loss: 0.1572 - categorical_accuracy: 0.9596 - val_loss: 0.1917 - val_categorical_accuracy: 0.9298\n",
      "Epoch 19/35\n",
      "1139/1139 [==============================] - 19s 16ms/sample - loss: 0.1423 - categorical_accuracy: 0.9666 - val_loss: 0.1659 - val_categorical_accuracy: 0.9439\n",
      "Epoch 20/35\n",
      "1139/1139 [==============================] - 20s 18ms/sample - loss: 0.1310 - categorical_accuracy: 0.9622 - val_loss: 0.1579 - val_categorical_accuracy: 0.9404\n",
      "Epoch 21/35\n",
      "1139/1139 [==============================] - 19s 17ms/sample - loss: 0.1151 - categorical_accuracy: 0.9728 - val_loss: 0.1602 - val_categorical_accuracy: 0.9474\n",
      "Epoch 22/35\n",
      "1139/1139 [==============================] - 19s 17ms/sample - loss: 0.1252 - categorical_accuracy: 0.9640 - val_loss: 0.1806 - val_categorical_accuracy: 0.9368\n",
      "Epoch 23/35\n",
      "1139/1139 [==============================] - 19s 16ms/sample - loss: 0.1187 - categorical_accuracy: 0.9631 - val_loss: 0.1713 - val_categorical_accuracy: 0.9368\n",
      "Epoch 24/35\n",
      "1139/1139 [==============================] - 19s 16ms/sample - loss: 0.1091 - categorical_accuracy: 0.9649 - val_loss: 0.1298 - val_categorical_accuracy: 0.9579\n",
      "Epoch 25/35\n",
      "1139/1139 [==============================] - 19s 17ms/sample - loss: 0.1041 - categorical_accuracy: 0.9737 - val_loss: 0.1254 - val_categorical_accuracy: 0.9544\n",
      "Epoch 26/35\n",
      "1139/1139 [==============================] - 19s 17ms/sample - loss: 0.0767 - categorical_accuracy: 0.9772 - val_loss: 0.1116 - val_categorical_accuracy: 0.9544\n",
      "Epoch 27/35\n",
      "1139/1139 [==============================] - 19s 17ms/sample - loss: 0.0695 - categorical_accuracy: 0.9860 - val_loss: 0.1197 - val_categorical_accuracy: 0.9544\n",
      "Epoch 28/35\n",
      "1139/1139 [==============================] - 19s 16ms/sample - loss: 0.0676 - categorical_accuracy: 0.9877 - val_loss: 0.1046 - val_categorical_accuracy: 0.9614\n",
      "Epoch 29/35\n",
      "1139/1139 [==============================] - 19s 17ms/sample - loss: 0.0601 - categorical_accuracy: 0.9877 - val_loss: 0.0940 - val_categorical_accuracy: 0.9614\n",
      "Epoch 30/35\n",
      "1139/1139 [==============================] - 19s 16ms/sample - loss: 0.0451 - categorical_accuracy: 0.9921 - val_loss: 0.1035 - val_categorical_accuracy: 0.9544\n",
      "Epoch 31/35\n",
      "1139/1139 [==============================] - 19s 16ms/sample - loss: 0.0461 - categorical_accuracy: 0.9912 - val_loss: 0.0906 - val_categorical_accuracy: 0.9649\n",
      "Epoch 32/35\n",
      "1139/1139 [==============================] - 19s 16ms/sample - loss: 0.0435 - categorical_accuracy: 0.9903 - val_loss: 0.0864 - val_categorical_accuracy: 0.9614\n",
      "Epoch 33/35\n",
      "1139/1139 [==============================] - 19s 16ms/sample - loss: 0.0464 - categorical_accuracy: 0.9921 - val_loss: 0.0888 - val_categorical_accuracy: 0.9684\n",
      "Epoch 34/35\n",
      "1139/1139 [==============================] - 19s 16ms/sample - loss: 0.0362 - categorical_accuracy: 0.9947 - val_loss: 0.0879 - val_categorical_accuracy: 0.9649\n",
      "Epoch 35/35\n",
      "1139/1139 [==============================] - 19s 16ms/sample - loss: 0.0358 - categorical_accuracy: 0.9930 - val_loss: 0.0791 - val_categorical_accuracy: 0.9719\n",
      "-----------------------------------\n",
      "FOLD 3\n",
      "-----------------------------------\n",
      "Train on 1139 samples, validate on 285 samples\n",
      "Epoch 1/35\n",
      "1139/1139 [==============================] - 19s 17ms/sample - loss: 1.0621 - categorical_accuracy: 0.5154 - val_loss: 0.7827 - val_categorical_accuracy: 0.6456\n",
      "Epoch 2/35\n",
      "1139/1139 [==============================] - 19s 17ms/sample - loss: 0.7304 - categorical_accuracy: 0.6831 - val_loss: 0.6259 - val_categorical_accuracy: 0.7474\n",
      "Epoch 3/35\n",
      "1139/1139 [==============================] - 19s 16ms/sample - loss: 0.6329 - categorical_accuracy: 0.7252 - val_loss: 0.5412 - val_categorical_accuracy: 0.7719\n",
      "Epoch 4/35\n",
      "1139/1139 [==============================] - 19s 16ms/sample - loss: 0.5329 - categorical_accuracy: 0.7726 - val_loss: 0.4945 - val_categorical_accuracy: 0.7825\n",
      "Epoch 5/35\n",
      "1139/1139 [==============================] - 19s 16ms/sample - loss: 0.4624 - categorical_accuracy: 0.8191 - val_loss: 0.4297 - val_categorical_accuracy: 0.8246\n",
      "Epoch 6/35\n",
      "1139/1139 [==============================] - 19s 16ms/sample - loss: 0.3857 - categorical_accuracy: 0.8411 - val_loss: 0.3777 - val_categorical_accuracy: 0.8281\n",
      "Epoch 7/35\n",
      "1139/1139 [==============================] - 19s 17ms/sample - loss: 0.3431 - categorical_accuracy: 0.8595 - val_loss: 0.3448 - val_categorical_accuracy: 0.8526\n",
      "Epoch 8/35\n",
      "1139/1139 [==============================] - 19s 17ms/sample - loss: 0.2859 - categorical_accuracy: 0.8911 - val_loss: 0.3023 - val_categorical_accuracy: 0.8807\n",
      "Epoch 9/35\n",
      "1139/1139 [==============================] - 19s 17ms/sample - loss: 0.2617 - categorical_accuracy: 0.8990 - val_loss: 0.2887 - val_categorical_accuracy: 0.8702\n",
      "Epoch 10/35\n",
      "1139/1139 [==============================] - 19s 16ms/sample - loss: 0.2501 - categorical_accuracy: 0.8990 - val_loss: 0.2705 - val_categorical_accuracy: 0.9053\n",
      "Epoch 11/35\n",
      "1139/1139 [==============================] - 19s 16ms/sample - loss: 0.2059 - categorical_accuracy: 0.9254 - val_loss: 0.2379 - val_categorical_accuracy: 0.9439\n",
      "Epoch 12/35\n",
      "1139/1139 [==============================] - 19s 16ms/sample - loss: 0.1787 - categorical_accuracy: 0.9447 - val_loss: 0.2447 - val_categorical_accuracy: 0.9228\n",
      "Epoch 13/35\n",
      "1139/1139 [==============================] - 19s 17ms/sample - loss: 0.1701 - categorical_accuracy: 0.9447 - val_loss: 0.2143 - val_categorical_accuracy: 0.9263\n",
      "Epoch 14/35\n",
      "1139/1139 [==============================] - 19s 16ms/sample - loss: 0.1393 - categorical_accuracy: 0.9543 - val_loss: 0.1792 - val_categorical_accuracy: 0.9509\n",
      "Epoch 15/35\n",
      "1139/1139 [==============================] - 19s 17ms/sample - loss: 0.1248 - categorical_accuracy: 0.9640 - val_loss: 0.1622 - val_categorical_accuracy: 0.9509\n",
      "Epoch 16/35\n",
      "1139/1139 [==============================] - 19s 16ms/sample - loss: 0.0988 - categorical_accuracy: 0.9772 - val_loss: 0.1661 - val_categorical_accuracy: 0.9509\n",
      "Epoch 17/35\n",
      "1139/1139 [==============================] - 19s 16ms/sample - loss: 0.1012 - categorical_accuracy: 0.9719 - val_loss: 0.1630 - val_categorical_accuracy: 0.9474\n",
      "Epoch 18/35\n",
      "1139/1139 [==============================] - 19s 17ms/sample - loss: 0.0863 - categorical_accuracy: 0.9781 - val_loss: 0.1479 - val_categorical_accuracy: 0.9544\n",
      "Epoch 19/35\n",
      "1139/1139 [==============================] - 19s 16ms/sample - loss: 0.0731 - categorical_accuracy: 0.9816 - val_loss: 0.1774 - val_categorical_accuracy: 0.9439\n",
      "Epoch 20/35\n",
      "1139/1139 [==============================] - 19s 16ms/sample - loss: 0.0682 - categorical_accuracy: 0.9868 - val_loss: 0.1768 - val_categorical_accuracy: 0.9298\n",
      "Epoch 21/35\n",
      "1139/1139 [==============================] - 19s 16ms/sample - loss: 0.0743 - categorical_accuracy: 0.9781 - val_loss: 0.1347 - val_categorical_accuracy: 0.9544\n",
      "Epoch 22/35\n",
      "1139/1139 [==============================] - 19s 16ms/sample - loss: 0.0714 - categorical_accuracy: 0.9754 - val_loss: 0.1590 - val_categorical_accuracy: 0.9439\n",
      "Epoch 23/35\n",
      "1139/1139 [==============================] - 19s 16ms/sample - loss: 0.0659 - categorical_accuracy: 0.9851 - val_loss: 0.1597 - val_categorical_accuracy: 0.9439\n",
      "Epoch 24/35\n",
      "1139/1139 [==============================] - 19s 16ms/sample - loss: 0.0538 - categorical_accuracy: 0.9886 - val_loss: 0.1889 - val_categorical_accuracy: 0.9333\n",
      "Epoch 25/35\n",
      "1139/1139 [==============================] - 19s 17ms/sample - loss: 0.0509 - categorical_accuracy: 0.9886 - val_loss: 0.1132 - val_categorical_accuracy: 0.9649\n",
      "Epoch 26/35\n",
      "1139/1139 [==============================] - 19s 17ms/sample - loss: 0.0376 - categorical_accuracy: 0.9930 - val_loss: 0.1334 - val_categorical_accuracy: 0.9649\n",
      "Epoch 27/35\n",
      "1139/1139 [==============================] - 19s 17ms/sample - loss: 0.0340 - categorical_accuracy: 0.9947 - val_loss: 0.1172 - val_categorical_accuracy: 0.9649\n",
      "Epoch 28/35\n",
      "1139/1139 [==============================] - 19s 17ms/sample - loss: 0.0314 - categorical_accuracy: 0.9956 - val_loss: 0.1464 - val_categorical_accuracy: 0.9509\n",
      "Epoch 29/35\n",
      "1139/1139 [==============================] - 19s 17ms/sample - loss: 0.0303 - categorical_accuracy: 0.9956 - val_loss: 0.1482 - val_categorical_accuracy: 0.9509\n",
      "Epoch 30/35\n",
      "1139/1139 [==============================] - 19s 17ms/sample - loss: 0.0263 - categorical_accuracy: 0.9974 - val_loss: 0.1085 - val_categorical_accuracy: 0.9649\n",
      "Epoch 31/35\n",
      "1139/1139 [==============================] - 20s 17ms/sample - loss: 0.0244 - categorical_accuracy: 0.9991 - val_loss: 0.1175 - val_categorical_accuracy: 0.9614\n",
      "Epoch 32/35\n",
      "1139/1139 [==============================] - 19s 17ms/sample - loss: 0.0219 - categorical_accuracy: 0.9982 - val_loss: 0.1221 - val_categorical_accuracy: 0.9579\n",
      "Epoch 33/35\n",
      "1139/1139 [==============================] - 19s 17ms/sample - loss: 0.0204 - categorical_accuracy: 0.9982 - val_loss: 0.1291 - val_categorical_accuracy: 0.9544\n",
      "Epoch 34/35\n",
      "1139/1139 [==============================] - 19s 17ms/sample - loss: 0.0181 - categorical_accuracy: 0.9991 - val_loss: 0.1199 - val_categorical_accuracy: 0.9649\n",
      "Epoch 35/35\n",
      "1139/1139 [==============================] - 20s 18ms/sample - loss: 0.0166 - categorical_accuracy: 0.9982 - val_loss: 0.1122 - val_categorical_accuracy: 0.9614\n",
      "-----------------------------------\n",
      "FOLD 4\n",
      "-----------------------------------\n",
      "Train on 1139 samples, validate on 285 samples\n",
      "Epoch 1/35\n",
      "1139/1139 [==============================] - 19s 17ms/sample - loss: 1.0573 - categorical_accuracy: 0.5022 - val_loss: 0.8981 - val_categorical_accuracy: 0.5860\n",
      "Epoch 2/35\n",
      "1139/1139 [==============================] - 19s 16ms/sample - loss: 0.7933 - categorical_accuracy: 0.6435 - val_loss: 0.8003 - val_categorical_accuracy: 0.6667\n",
      "Epoch 3/35\n",
      "1139/1139 [==============================] - 19s 17ms/sample - loss: 0.6801 - categorical_accuracy: 0.7006 - val_loss: 0.6436 - val_categorical_accuracy: 0.7649\n",
      "Epoch 4/35\n",
      "1139/1139 [==============================] - 19s 17ms/sample - loss: 0.5774 - categorical_accuracy: 0.7682 - val_loss: 0.5515 - val_categorical_accuracy: 0.8035\n",
      "Epoch 5/35\n",
      "1139/1139 [==============================] - 19s 17ms/sample - loss: 0.4861 - categorical_accuracy: 0.7849 - val_loss: 0.4768 - val_categorical_accuracy: 0.8070\n",
      "Epoch 6/35\n",
      "1139/1139 [==============================] - 19s 16ms/sample - loss: 0.4392 - categorical_accuracy: 0.8112 - val_loss: 0.4322 - val_categorical_accuracy: 0.8351\n",
      "Epoch 7/35\n",
      "1139/1139 [==============================] - 19s 17ms/sample - loss: 0.4126 - categorical_accuracy: 0.8358 - val_loss: 0.3851 - val_categorical_accuracy: 0.8491\n",
      "Epoch 8/35\n",
      "1139/1139 [==============================] - 19s 16ms/sample - loss: 0.3167 - categorical_accuracy: 0.8745 - val_loss: 0.3300 - val_categorical_accuracy: 0.8632\n",
      "Epoch 9/35\n",
      "1139/1139 [==============================] - 19s 17ms/sample - loss: 0.2831 - categorical_accuracy: 0.8841 - val_loss: 0.3442 - val_categorical_accuracy: 0.8456\n",
      "Epoch 10/35\n",
      "1139/1139 [==============================] - 19s 16ms/sample - loss: 0.2569 - categorical_accuracy: 0.9025 - val_loss: 0.2508 - val_categorical_accuracy: 0.9193\n",
      "Epoch 11/35\n",
      "1139/1139 [==============================] - 19s 16ms/sample - loss: 0.2162 - categorical_accuracy: 0.9271 - val_loss: 0.2158 - val_categorical_accuracy: 0.9439\n",
      "Epoch 12/35\n",
      "1139/1139 [==============================] - 18s 16ms/sample - loss: 0.1779 - categorical_accuracy: 0.9421 - val_loss: 0.1919 - val_categorical_accuracy: 0.9368\n",
      "Epoch 13/35\n",
      "1139/1139 [==============================] - 19s 16ms/sample - loss: 0.1631 - categorical_accuracy: 0.9429 - val_loss: 0.1709 - val_categorical_accuracy: 0.9474\n",
      "Epoch 14/35\n",
      "1139/1139 [==============================] - 19s 16ms/sample - loss: 0.1384 - categorical_accuracy: 0.9614 - val_loss: 0.1528 - val_categorical_accuracy: 0.9509\n",
      "Epoch 15/35\n",
      "1139/1139 [==============================] - 19s 16ms/sample - loss: 0.1169 - categorical_accuracy: 0.9622 - val_loss: 0.1507 - val_categorical_accuracy: 0.9509\n",
      "Epoch 16/35\n",
      "1139/1139 [==============================] - 19s 16ms/sample - loss: 0.1045 - categorical_accuracy: 0.9737 - val_loss: 0.1344 - val_categorical_accuracy: 0.9544\n",
      "Epoch 17/35\n",
      "1139/1139 [==============================] - 19s 16ms/sample - loss: 0.0989 - categorical_accuracy: 0.9737 - val_loss: 0.1259 - val_categorical_accuracy: 0.9544\n",
      "Epoch 18/35\n",
      "1139/1139 [==============================] - 19s 16ms/sample - loss: 0.0874 - categorical_accuracy: 0.9728 - val_loss: 0.1083 - val_categorical_accuracy: 0.9544\n",
      "Epoch 19/35\n",
      "1139/1139 [==============================] - 19s 16ms/sample - loss: 0.0753 - categorical_accuracy: 0.9798 - val_loss: 0.0999 - val_categorical_accuracy: 0.9684\n",
      "Epoch 20/35\n",
      "1139/1139 [==============================] - 19s 16ms/sample - loss: 0.0650 - categorical_accuracy: 0.9860 - val_loss: 0.0943 - val_categorical_accuracy: 0.9649\n",
      "Epoch 21/35\n",
      "1139/1139 [==============================] - 19s 16ms/sample - loss: 0.0599 - categorical_accuracy: 0.9868 - val_loss: 0.1085 - val_categorical_accuracy: 0.9509\n",
      "Epoch 22/35\n",
      "1139/1139 [==============================] - 18s 16ms/sample - loss: 0.0623 - categorical_accuracy: 0.9860 - val_loss: 0.0822 - val_categorical_accuracy: 0.9684\n",
      "Epoch 23/35\n",
      "1139/1139 [==============================] - 19s 17ms/sample - loss: 0.0581 - categorical_accuracy: 0.9807 - val_loss: 0.0831 - val_categorical_accuracy: 0.9754\n",
      "Epoch 24/35\n",
      "1139/1139 [==============================] - 19s 16ms/sample - loss: 0.0600 - categorical_accuracy: 0.9842 - val_loss: 0.0818 - val_categorical_accuracy: 0.9684\n",
      "Epoch 25/35\n",
      "1139/1139 [==============================] - 19s 16ms/sample - loss: 0.0498 - categorical_accuracy: 0.9833 - val_loss: 0.0846 - val_categorical_accuracy: 0.9614\n",
      "Epoch 26/35\n",
      "1139/1139 [==============================] - 18s 16ms/sample - loss: 0.0445 - categorical_accuracy: 0.9886 - val_loss: 0.0856 - val_categorical_accuracy: 0.9649\n",
      "Epoch 27/35\n",
      "1139/1139 [==============================] - 19s 16ms/sample - loss: 0.0423 - categorical_accuracy: 0.9930 - val_loss: 0.0726 - val_categorical_accuracy: 0.9649\n",
      "Epoch 28/35\n",
      "1139/1139 [==============================] - 19s 16ms/sample - loss: 0.0283 - categorical_accuracy: 0.9965 - val_loss: 0.0766 - val_categorical_accuracy: 0.9719\n",
      "Epoch 29/35\n",
      "1139/1139 [==============================] - 19s 16ms/sample - loss: 0.0237 - categorical_accuracy: 0.9982 - val_loss: 0.0642 - val_categorical_accuracy: 0.9719\n",
      "Epoch 30/35\n",
      "1139/1139 [==============================] - 19s 16ms/sample - loss: 0.0203 - categorical_accuracy: 0.9982 - val_loss: 0.0606 - val_categorical_accuracy: 0.9719\n",
      "Epoch 31/35\n",
      "1139/1139 [==============================] - 19s 16ms/sample - loss: 0.0310 - categorical_accuracy: 0.9947 - val_loss: 0.0655 - val_categorical_accuracy: 0.9754\n",
      "Epoch 32/35\n",
      "1139/1139 [==============================] - 19s 16ms/sample - loss: 0.0232 - categorical_accuracy: 0.9947 - val_loss: 0.0638 - val_categorical_accuracy: 0.9754\n",
      "Epoch 33/35\n",
      "1139/1139 [==============================] - 18s 16ms/sample - loss: 0.0192 - categorical_accuracy: 0.9974 - val_loss: 0.0603 - val_categorical_accuracy: 0.9754\n",
      "Epoch 34/35\n",
      "1139/1139 [==============================] - 19s 16ms/sample - loss: 0.0149 - categorical_accuracy: 1.0000 - val_loss: 0.0575 - val_categorical_accuracy: 0.9789\n",
      "Epoch 35/35\n",
      "1139/1139 [==============================] - 19s 17ms/sample - loss: 0.0122 - categorical_accuracy: 0.9991 - val_loss: 0.0666 - val_categorical_accuracy: 0.9754\n",
      "-----------------------------------\n",
      "FOLD 5\n",
      "-----------------------------------\n",
      "Train on 1140 samples, validate on 284 samples\n",
      "Epoch 1/35\n",
      "1140/1140 [==============================] - 20s 17ms/sample - loss: 1.1367 - categorical_accuracy: 0.4596 - val_loss: 0.8132 - val_categorical_accuracy: 0.6408\n",
      "Epoch 2/35\n",
      "1140/1140 [==============================] - 19s 16ms/sample - loss: 0.7812 - categorical_accuracy: 0.6640 - val_loss: 0.7093 - val_categorical_accuracy: 0.7148\n",
      "Epoch 3/35\n",
      "1140/1140 [==============================] - 19s 16ms/sample - loss: 0.6523 - categorical_accuracy: 0.7228 - val_loss: 0.6622 - val_categorical_accuracy: 0.7324\n",
      "Epoch 4/35\n",
      "1140/1140 [==============================] - 19s 16ms/sample - loss: 0.5835 - categorical_accuracy: 0.7570 - val_loss: 0.6175 - val_categorical_accuracy: 0.7394\n",
      "Epoch 5/35\n",
      "1140/1140 [==============================] - 19s 16ms/sample - loss: 0.5216 - categorical_accuracy: 0.7816 - val_loss: 0.5339 - val_categorical_accuracy: 0.7676\n",
      "Epoch 6/35\n",
      "1140/1140 [==============================] - 19s 17ms/sample - loss: 0.4414 - categorical_accuracy: 0.8105 - val_loss: 0.4588 - val_categorical_accuracy: 0.7887\n",
      "Epoch 7/35\n",
      "1140/1140 [==============================] - 19s 17ms/sample - loss: 0.4047 - categorical_accuracy: 0.8316 - val_loss: 0.4302 - val_categorical_accuracy: 0.8169\n",
      "Epoch 8/35\n",
      "1140/1140 [==============================] - 19s 16ms/sample - loss: 0.3567 - categorical_accuracy: 0.8544 - val_loss: 0.3587 - val_categorical_accuracy: 0.8415\n",
      "Epoch 9/35\n",
      "1140/1140 [==============================] - 19s 17ms/sample - loss: 0.3001 - categorical_accuracy: 0.8895 - val_loss: 0.3304 - val_categorical_accuracy: 0.8521\n",
      "Epoch 10/35\n",
      "1140/1140 [==============================] - 19s 17ms/sample - loss: 0.2545 - categorical_accuracy: 0.9079 - val_loss: 0.3278 - val_categorical_accuracy: 0.8732\n",
      "Epoch 11/35\n",
      "1140/1140 [==============================] - 21s 18ms/sample - loss: 0.2444 - categorical_accuracy: 0.9114 - val_loss: 0.2567 - val_categorical_accuracy: 0.8944\n",
      "Epoch 12/35\n",
      "1140/1140 [==============================] - 20s 17ms/sample - loss: 0.2116 - categorical_accuracy: 0.9386 - val_loss: 0.2428 - val_categorical_accuracy: 0.9014\n",
      "Epoch 13/35\n",
      "1140/1140 [==============================] - 19s 17ms/sample - loss: 0.1764 - categorical_accuracy: 0.9430 - val_loss: 0.2318 - val_categorical_accuracy: 0.9120\n",
      "Epoch 14/35\n",
      "1140/1140 [==============================] - 19s 17ms/sample - loss: 0.1567 - categorical_accuracy: 0.9500 - val_loss: 0.1958 - val_categorical_accuracy: 0.9261\n",
      "Epoch 15/35\n",
      "1140/1140 [==============================] - 19s 16ms/sample - loss: 0.1377 - categorical_accuracy: 0.9640 - val_loss: 0.2038 - val_categorical_accuracy: 0.9225\n",
      "Epoch 16/35\n",
      "1140/1140 [==============================] - 19s 16ms/sample - loss: 0.1342 - categorical_accuracy: 0.9588 - val_loss: 0.1974 - val_categorical_accuracy: 0.9261\n",
      "Epoch 17/35\n",
      "1140/1140 [==============================] - 19s 16ms/sample - loss: 0.1408 - categorical_accuracy: 0.9596 - val_loss: 0.2200 - val_categorical_accuracy: 0.9155\n",
      "Epoch 18/35\n",
      "1140/1140 [==============================] - 19s 16ms/sample - loss: 0.1439 - categorical_accuracy: 0.9456 - val_loss: 0.2059 - val_categorical_accuracy: 0.9190\n",
      "Epoch 19/35\n",
      "1140/1140 [==============================] - 19s 17ms/sample - loss: 0.1311 - categorical_accuracy: 0.9588 - val_loss: 0.1616 - val_categorical_accuracy: 0.9366\n",
      "Epoch 20/35\n",
      "1140/1140 [==============================] - 19s 16ms/sample - loss: 0.1052 - categorical_accuracy: 0.9711 - val_loss: 0.1368 - val_categorical_accuracy: 0.9613\n",
      "Epoch 21/35\n",
      "1140/1140 [==============================] - 19s 16ms/sample - loss: 0.0850 - categorical_accuracy: 0.9833 - val_loss: 0.1163 - val_categorical_accuracy: 0.9683\n",
      "Epoch 22/35\n",
      "1140/1140 [==============================] - 19s 16ms/sample - loss: 0.0737 - categorical_accuracy: 0.9833 - val_loss: 0.1243 - val_categorical_accuracy: 0.9542\n",
      "Epoch 23/35\n",
      "1140/1140 [==============================] - 19s 16ms/sample - loss: 0.0596 - categorical_accuracy: 0.9842 - val_loss: 0.1149 - val_categorical_accuracy: 0.9577\n",
      "Epoch 24/35\n",
      "1140/1140 [==============================] - 19s 16ms/sample - loss: 0.0615 - categorical_accuracy: 0.9868 - val_loss: 0.1094 - val_categorical_accuracy: 0.9648\n",
      "Epoch 25/35\n",
      "1140/1140 [==============================] - 19s 16ms/sample - loss: 0.0535 - categorical_accuracy: 0.9886 - val_loss: 0.1078 - val_categorical_accuracy: 0.9613\n",
      "Epoch 26/35\n",
      "1140/1140 [==============================] - 19s 16ms/sample - loss: 0.0433 - categorical_accuracy: 0.9930 - val_loss: 0.1053 - val_categorical_accuracy: 0.9648\n",
      "Epoch 27/35\n",
      "1140/1140 [==============================] - 20s 17ms/sample - loss: 0.0480 - categorical_accuracy: 0.9886 - val_loss: 0.0939 - val_categorical_accuracy: 0.9683\n",
      "Epoch 28/35\n",
      "1140/1140 [==============================] - 20s 18ms/sample - loss: 0.0510 - categorical_accuracy: 0.9886 - val_loss: 0.1020 - val_categorical_accuracy: 0.9718\n",
      "Epoch 29/35\n",
      "1140/1140 [==============================] - 19s 17ms/sample - loss: 0.0406 - categorical_accuracy: 0.9939 - val_loss: 0.1258 - val_categorical_accuracy: 0.9577\n",
      "Epoch 30/35\n",
      "1140/1140 [==============================] - 19s 17ms/sample - loss: 0.0426 - categorical_accuracy: 0.9912 - val_loss: 0.0859 - val_categorical_accuracy: 0.9718\n",
      "Epoch 31/35\n",
      "1140/1140 [==============================] - 19s 16ms/sample - loss: 0.0355 - categorical_accuracy: 0.9921 - val_loss: 0.0879 - val_categorical_accuracy: 0.9648\n",
      "Epoch 32/35\n",
      "1140/1140 [==============================] - 19s 16ms/sample - loss: 0.0322 - categorical_accuracy: 0.9956 - val_loss: 0.1041 - val_categorical_accuracy: 0.9577\n",
      "Epoch 33/35\n",
      "1140/1140 [==============================] - 19s 17ms/sample - loss: 0.0311 - categorical_accuracy: 0.9939 - val_loss: 0.0711 - val_categorical_accuracy: 0.9718\n",
      "Epoch 34/35\n",
      "1140/1140 [==============================] - 19s 17ms/sample - loss: 0.0239 - categorical_accuracy: 0.9974 - val_loss: 0.0751 - val_categorical_accuracy: 0.9718\n",
      "Epoch 35/35\n",
      "1140/1140 [==============================] - 20s 17ms/sample - loss: 0.0199 - categorical_accuracy: 0.9982 - val_loss: 0.0818 - val_categorical_accuracy: 0.9683\n"
     ]
    }
   ],
   "source": [
    "fold_no = 1\n",
    "for train_index, test_index in kfold.split(X, y):\n",
    "    \n",
    "    print(\"-----------------------------------\")\n",
    "    print(\"FOLD \"+str(fold_no))\n",
    "    print(\"-----------------------------------\")\n",
    "    \n",
    "    X_train, X_test = X[train_index], X[test_index]\n",
    "    y_train, y_test = y[train_index], y[test_index]\n",
    "    X_train,X_test,y_train,y_test, img_rows, img_cols = format_for_CNN(X_train,X_test,y_train,y_test)\n",
    "    \n",
    "    model = opt_model(optimised_params)\n",
    "\n",
    "    history = model.fit(X_train, y_train,\n",
    "                        batch_size=128,\n",
    "                        epochs=n_epochs,\n",
    "                        verbose=1,\n",
    "                        validation_data=(X_test, y_test))\n",
    "    \n",
    "    fold_loss[fold_no-1] = history.history['val_categorical_accuracy']\n",
    "    fold_no += 1"
   ]
  },
  {
   "cell_type": "code",
   "execution_count": 110,
   "id": "8029354f",
   "metadata": {},
   "outputs": [
    {
     "data": {
      "image/png": "[encoded data removed]",
      "text/plain": [
       "<Figure size 432x288 with 1 Axes>"
      ]
     },
     "metadata": {
      "needs_background": "light"
     },
     "output_type": "display_data"
    },
    {
     "name": "stdout",
     "output_type": "stream",
     "text": [
      "Mean val_categorical_accuracy:  0.9705\n"
     ]
    }
   ],
   "source": [
    "for i in range(n_folds):\n",
    "    plt.plot(fold_loss[i], label='Fold: '+str(i))\n",
    "plt.xlabel('Epoch')\n",
    "plt.ylabel('val_categorical_accuracy')\n",
    "plt.legend()\n",
    "plt.show()\n",
    "mean_acc = np.mean(fold_loss[:,-1])\n",
    "print('Mean val_categorical_accuracy: ',np.around(mean_acc,5))"
   ]
  },
  {
   "cell_type": "code",
   "execution_count": 59,
   "id": "b8a740d4-cd04-4440-94ed-d936f9f32c13",
   "metadata": {},
   "outputs": [
    {
     "name": "stdout",
     "output_type": "stream",
     "text": [
      "1st convolution layer:\n"
     ]
    },
    {
     "data": {
      "image/png": "[encoded data removed]",
      "text/plain": [
       "<Figure size 720x432 with 32 Axes>"
      ]
     },
     "metadata": {},
     "output_type": "display_data"
    },
    {
     "name": "stdout",
     "output_type": "stream",
     "text": [
      "2nd convolution layer:\n"
     ]
    },
    {
     "data": {
      "image/png": "[encoded data removed]",
      "text/plain": [
       "<Figure size 720x432 with 62 Axes>"
      ]
     },
     "metadata": {},
     "output_type": "display_data"
    }
   ],
   "source": [
    "# model.layers will print a list of layer parameters/values\n",
    "filters1, biases1 = model.layers[0].get_weights()\n",
    "filters2, biases2 = model.layers[2].get_weights()\n",
    "\n",
    "# normalize filter values to range 0-1 for better colormapping during plotting\n",
    "def norm_filter(kernel):\n",
    "    return (kernel - np.min(kernel)) / (np.max(kernel) - np.min(kernel))\n",
    "\n",
    "n_1 = 32\n",
    "print('1st convolution layer:')\n",
    "fig, axs = plt.subplots(1,n_1, figsize=(10, 6))\n",
    "axs = axs.ravel()\n",
    "for i in range(n_1):\n",
    "    axs[i].imshow(norm_filter(filters1[:,:,0,i]), cmap=plt.cm.binary)\n",
    "    axs[i].set_xticks([]); axs[i].set_yticks([]); axs[i].grid(False)\n",
    "plt.show()\n",
    "\n",
    "n_2 = 62\n",
    "print('2nd convolution layer:')\n",
    "fig, axs = plt.subplots(1,n_2, figsize=(10, 6))\n",
    "axs = axs.ravel()\n",
    "for i in range(n_2):\n",
    "    axs[i].imshow(norm_filter(filters2[:,:,0,i]), cmap=plt.cm.binary)\n",
    "    axs[i].set_xticks([]); axs[i].set_yticks([]); axs[i].grid(False)"
   ]
  },
  {
   "cell_type": "markdown",
   "id": "c33e41aa-e13c-4f0e-aa1d-2c23a6450b37",
   "metadata": {},
   "source": [
    "### Evaluation"
   ]
  },
  {
   "cell_type": "code",
   "execution_count": 73,
   "id": "303421af-713e-4548-9916-14f8ce68855a",
   "metadata": {},
   "outputs": [],
   "source": [
    "def format_for_CNN_TEST_INAUG(X_test,y_test):\n",
    "\n",
    "    # Standardize pixel distribution to have zero mean and unit variance\n",
    "    test_images = standardizeimg(img=X_test, mu=np.mean(X_test), sigma=np.std(X_test))\n",
    "\n",
    "    # adapt to format required by tensorflow; Using channels_last --> (n_samples, img_rows, img_cols, n_channels)\n",
    "    img_rows, img_cols = X_test.shape[1], X_test.shape[2] # input image dimensions\n",
    "    X_test = X_test.reshape(X_test.shape[0], img_rows, img_cols, 1)\n",
    "\n",
    "    # convert class vectors to binary class matrices - one hot encoding\n",
    "    onehot_v = pd.get_dummies(y_test)\n",
    "    y_test = onehot_v.to_numpy()\n",
    "    \n",
    "    return X_test,y_test,img_rows,img_cols"
   ]
  },
  {
   "cell_type": "code",
   "execution_count": 74,
   "id": "53aab014-49a6-4bbd-aba3-ec5c96bb3bfc",
   "metadata": {},
   "outputs": [
    {
     "name": "stdout",
     "output_type": "stream",
     "text": [
      "(100, 128, 51)\n",
      "(100,)\n",
      "(100, 128, 51, 1)\n",
      "(100, 4)\n"
     ]
    }
   ],
   "source": [
    "TEST = np.load('test-inaug.npz')['data']\n",
    "TEST_y = np.load('test-inaug_labels.npz',allow_pickle=True)['data']\n",
    "print(TEST.shape)\n",
    "print(TEST_y.shape)\n",
    "TEST_CNN,TEST_CNN_y, _, _ = format_for_CNN_TEST_INAUG(TEST, TEST_y)\n",
    "print(TEST_CNN.shape)\n",
    "print(TEST_CNN_y.shape)"
   ]
  },
  {
   "cell_type": "code",
   "execution_count": 98,
   "id": "4df78284-fb4a-41e0-9261-3bd8b75afd39",
   "metadata": {},
   "outputs": [],
   "source": [
    "predicted_prob = model.predict(TEST_CNN)\n",
    "predictions = np.argmax(predicted_prob, axis=1)"
   ]
  },
  {
   "cell_type": "code",
   "execution_count": 76,
   "id": "45c33277",
   "metadata": {},
   "outputs": [
    {
     "name": "stdout",
     "output_type": "stream",
     "text": [
      "(100,)\n",
      "(100, 4)\n"
     ]
    }
   ],
   "source": [
    "print(predictions.shape)\n",
    "print(TEST_CNN_y.shape)"
   ]
  },
  {
   "cell_type": "code",
   "execution_count": 95,
   "id": "42aeb468-d638-40d8-951e-f30f9351dfed",
   "metadata": {},
   "outputs": [],
   "source": [
    "import itertools\n",
    "from barney_functionsCNNonlyCopy1 import *"
   ]
  },
  {
   "cell_type": "code",
   "execution_count": 111,
   "id": "5a94e5a0",
   "metadata": {},
   "outputs": [
    {
     "data": {
      "image/png": "[encoded data removed]",
      "text/plain": [
       "<Figure size 432x432 with 2 Axes>"
      ]
     },
     "metadata": {
      "needs_background": "light"
     },
     "output_type": "display_data"
    }
   ],
   "source": [
    "labels_list = np.unique(TEST_y)\n",
    "onehot_y = TEST_CNN_y\n",
    "truths = np.argmax(onehot_y, axis=1)\n",
    "cm = confusion_matrix(truths, predictions, labels=range(num_classes))\n",
    "plot_confusion_matrix(cm,labels_list,normalize=False,savefig = 'CM_CNN_OPT_INAUG_TEST')"
   ]
  },
  {
   "cell_type": "code",
   "execution_count": null,
   "id": "61bac3b0",
   "metadata": {},
   "outputs": [],
   "source": []
  }
 ],
 "metadata": {
  "kernelspec": {
   "display_name": "TF_Optuna",
   "language": "python",
   "name": "tf_optuna"
  },
  "language_info": {
   "codemirror_mode": {
    "name": "ipython",
    "version": 3
   },
   "file_extension": ".py",
   "mimetype": "text/x-python",
   "name": "python",
   "nbconvert_exporter": "python",
   "pygments_lexer": "ipython3",
   "version": "3.7.13"
  },
  "toc-autonumbering": false
 },
 "nbformat": 4,
 "nbformat_minor": 5
}
