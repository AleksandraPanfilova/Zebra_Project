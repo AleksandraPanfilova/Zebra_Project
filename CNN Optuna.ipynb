{
 "cells": [
  {
   "cell_type": "markdown",
   "id": "31b96237-3f28-4806-8b82-84d8470e2a06",
   "metadata": {},
   "source": [
    "### Audio Load by Barney"
   ]
  },
  {
   "cell_type": "code",
   "execution_count": 1,
   "id": "49122b1e",
   "metadata": {},
   "outputs": [],
   "source": [
    "from barney_functions import *\n",
    "import librosa\n",
    "import numpy as np\n",
    "import pandas as pd\n",
    "from matplotlib import pyplot as plt\n",
    "import random\n",
    "import re\n",
    "import soundfile as sf\n",
    "import itertools\n",
    "from sklearn.metrics import confusion_matrix"
   ]
  },
  {
   "cell_type": "markdown",
   "id": "deb55182",
   "metadata": {},
   "source": [
    "# Load Zebra Audio"
   ]
  },
  {
   "cell_type": "code",
   "execution_count": 2,
   "id": "af8ec1a4",
   "metadata": {
    "scrolled": true
   },
   "outputs": [
    {
     "name": "stdout",
     "output_type": "stream",
     "text": [
      "Finding longest file (Better Labels)\n"
     ]
    },
    {
     "name": "stderr",
     "output_type": "stream",
     "text": [
      "100%|█████████████████████████████████████████| 413/413 [00:08<00:00, 47.13it/s]\n"
     ]
    },
    {
     "name": "stdout",
     "output_type": "stream",
     "text": [
      "Loading files\n"
     ]
    },
    {
     "name": "stderr",
     "output_type": "stream",
     "text": [
      "100%|█████████████████████████████████████████| 413/413 [00:07<00:00, 58.46it/s]\n"
     ]
    }
   ],
   "source": [
    "audio_path = 'zebra audio sample_Bing_413/all/'\n",
    "audio_path_long = 'Audio Files All/'\n",
    "spreadsheet_path = 'Zebras.Assumption.data_Bing_413 .xlsx'\n",
    "df = add_labels_to_excel(spreadsheet_path)\n",
    "audio_files, audio_size, index_longest = gen_audio_array(audio_path,df)\n",
    "y = df['label']"
   ]
  },
  {
   "cell_type": "code",
   "execution_count": 3,
   "id": "be30d1a8",
   "metadata": {},
   "outputs": [],
   "source": [
    "y = df['label']"
   ]
  },
  {
   "cell_type": "markdown",
   "id": "f1bf4c13",
   "metadata": {},
   "source": [
    "# Load Non Zebra Audio"
   ]
  },
  {
   "cell_type": "code",
   "execution_count": 4,
   "id": "65988e57",
   "metadata": {},
   "outputs": [
    {
     "name": "stdout",
     "output_type": "stream",
     "text": [
      "Padding\n"
     ]
    },
    {
     "name": "stderr",
     "output_type": "stream",
     "text": [
      "100%|█████████████████████████████████████| 1177/1177 [00:00<00:00, 5212.60it/s]\n"
     ]
    }
   ],
   "source": [
    "nzebra_path = 'big bounce small.wav'\n",
    "nzebra_audio, labels_nzebra = gen_nzebra(nzebra_path,audio_size)"
   ]
  },
  {
   "cell_type": "code",
   "execution_count": 5,
   "id": "410f37d6",
   "metadata": {},
   "outputs": [],
   "source": [
    "# Combine zebra and non zebra\n",
    "all_audio, y_all = add_nzebra(audio_files,y,nzebra_audio,labels_nzebra)"
   ]
  },
  {
   "cell_type": "code",
   "execution_count": 6,
   "id": "41d0d765",
   "metadata": {},
   "outputs": [
    {
     "name": "stdout",
     "output_type": "stream",
     "text": [
      "(1590, 39923)\n",
      "Unaugmented dataset size:  0.50782056 GB\n"
     ]
    }
   ],
   "source": [
    "print(all_audio.shape)\n",
    "print(\"Unaugmented dataset size: \",all_audio.nbytes/(1e9), 'GB')"
   ]
  },
  {
   "cell_type": "code",
   "execution_count": 7,
   "id": "253f20ad",
   "metadata": {},
   "outputs": [],
   "source": [
    "num_classes_all = len(np.unique(y_all))\n",
    "num_classes = len(np.unique(y))"
   ]
  },
  {
   "cell_type": "markdown",
   "id": "a80d084a",
   "metadata": {},
   "source": [
    "# Augment Data"
   ]
  },
  {
   "cell_type": "code",
   "execution_count": 8,
   "id": "98fa32ae",
   "metadata": {
    "scrolled": true
   },
   "outputs": [
    {
     "name": "stdout",
     "output_type": "stream",
     "text": [
      "Augmenting 413 samples\n"
     ]
    },
    {
     "name": "stderr",
     "output_type": "stream",
     "text": [
      "100%|████████████████████████████████████████| 413/413 [00:01<00:00, 392.33it/s]\n"
     ]
    }
   ],
   "source": [
    "augmented_audio = augment_audio_faster_smaller(audio_files)"
   ]
  },
  {
   "cell_type": "code",
   "execution_count": 9,
   "id": "950d6519",
   "metadata": {},
   "outputs": [
    {
     "data": {
      "image/png": "[encoded data removed]",
      "text/plain": [
       "<Figure size 432x288 with 1 Axes>"
      ]
     },
     "metadata": {
      "needs_background": "light"
     },
     "output_type": "display_data"
    }
   ],
   "source": [
    "plot_sample(augmented_audio,100)"
   ]
  },
  {
   "cell_type": "code",
   "execution_count": 10,
   "id": "c74111a6",
   "metadata": {},
   "outputs": [
    {
     "name": "stdout",
     "output_type": "stream",
     "text": [
      "Augmentation  1\n"
     ]
    },
    {
     "name": "stderr",
     "output_type": "stream",
     "text": [
      "100%|████████████████████████████████████████| 413/413 [00:02<00:00, 148.97it/s]\n"
     ]
    },
    {
     "name": "stdout",
     "output_type": "stream",
     "text": [
      "Augmentation  2\n"
     ]
    },
    {
     "name": "stderr",
     "output_type": "stream",
     "text": [
      "100%|████████████████████████████████████████| 413/413 [00:02<00:00, 148.98it/s]\n"
     ]
    },
    {
     "name": "stdout",
     "output_type": "stream",
     "text": [
      "Augmentation  3\n"
     ]
    },
    {
     "name": "stderr",
     "output_type": "stream",
     "text": [
      "100%|████████████████████████████████████████| 413/413 [00:02<00:00, 158.95it/s]\n"
     ]
    },
    {
     "name": "stdout",
     "output_type": "stream",
     "text": [
      "Augmentation  4\n"
     ]
    },
    {
     "name": "stderr",
     "output_type": "stream",
     "text": [
      "100%|████████████████████████████████████████| 413/413 [00:02<00:00, 146.45it/s]\n"
     ]
    }
   ],
   "source": [
    "stfts = calc_stft(augmented_audio)"
   ]
  },
  {
   "cell_type": "code",
   "execution_count": 11,
   "id": "018be6f0",
   "metadata": {},
   "outputs": [
    {
     "name": "stderr",
     "output_type": "stream",
     "text": [
      "100%|█████████████████████████████████████████████| 3/3 [00:07<00:00,  2.48s/it]"
     ]
    },
    {
     "name": "stdout",
     "output_type": "stream",
     "text": [
      "Augmented dataset size:  3.3866 GB\n"
     ]
    },
    {
     "name": "stderr",
     "output_type": "stream",
     "text": [
      "\n"
     ]
    }
   ],
   "source": [
    "stfts_1D = np.zeros(stfts[0].shape)\n",
    "stfts_1D = stfts[0]\n",
    "for i in tqdm(range(1,stfts.shape[0])):\n",
    "    stfts_1D = np.concatenate((stfts_1D,stfts[i]), axis = 0)\n",
    "print(\"Augmented dataset size: \",stfts_1D.nbytes/(1e9), 'GB')"
   ]
  },
  {
   "cell_type": "code",
   "execution_count": 12,
   "id": "6bd0f019",
   "metadata": {},
   "outputs": [
    {
     "data": {
      "image/png": "[encoded data removed]",
      "text/plain": [
       "<Figure size 432x288 with 1 Axes>"
      ]
     },
     "metadata": {
      "needs_background": "light"
     },
     "output_type": "display_data"
    }
   ],
   "source": [
    "spec_plot(stfts_1D[100,:,:])"
   ]
  },
  {
   "cell_type": "markdown",
   "id": "84d428ee-3e68-44f3-a905-4efd194d55fe",
   "metadata": {},
   "source": [
    "# CNN"
   ]
  },
  {
   "cell_type": "code",
   "execution_count": 13,
   "id": "e808c88f-20c8-4117-aa14-cb7eec2acf63",
   "metadata": {},
   "outputs": [],
   "source": [
    "import keras\n",
    "import tensorflow as tf\n",
    "from tensorflow.keras.models import Sequential\n",
    "from tensorflow.keras.layers import Conv2D, MaxPooling2D, Flatten, Dense, Dropout\n",
    "from tensorflow.keras.losses import categorical_crossentropy\n",
    "from tensorflow.keras.optimizers import Adadelta\n",
    "from sklearn.model_selection import train_test_split\n",
    "tf.compat.v1.logging.set_verbosity(tf.compat.v1.logging.ERROR)"
   ]
  },
  {
   "cell_type": "code",
   "execution_count": 14,
   "id": "cf80e544",
   "metadata": {},
   "outputs": [],
   "source": [
    "from sklearn.model_selection import KFold"
   ]
  },
  {
   "cell_type": "code",
   "execution_count": 15,
   "id": "0f435856",
   "metadata": {},
   "outputs": [],
   "source": [
    "def create_model(num_classes):\n",
    "    \n",
    "    model = Sequential()\n",
    "    model.add(Conv2D(filters=32,\n",
    "                     kernel_size=3,\n",
    "                     strides=1,\n",
    "                     padding='same',\n",
    "                     activation='relu',\n",
    "                     input_shape=(img_rows, img_cols, 1)))\n",
    "    model.add(MaxPooling2D(pool_size=2, strides=None))\n",
    "    model.add(Conv2D(filters=64,\n",
    "                     kernel_size=3,\n",
    "                     strides=1,\n",
    "                     padding='same',\n",
    "                     activation='relu'))\n",
    "    model.add(MaxPooling2D(pool_size=2, strides=None))\n",
    "    model.add(Dropout(rate=0.40))\n",
    "    model.add(Flatten())\n",
    "    model.add(Dense(units=128, activation='relu'))\n",
    "    model.add(Dense(units=num_classes, activation='softmax'))\n",
    "    \n",
    "    model.compile(loss=categorical_crossentropy,\n",
    "              optimizer=Adadelta(),\n",
    "              metrics=['categorical_accuracy'])\n",
    "        \n",
    "    return model"
   ]
  },
  {
   "cell_type": "markdown",
   "id": "d037fe21",
   "metadata": {},
   "source": [
    "# Optimising"
   ]
  },
  {
   "cell_type": "code",
   "execution_count": 16,
   "id": "64b2e74e",
   "metadata": {},
   "outputs": [
    {
     "name": "stderr",
     "output_type": "stream",
     "text": [
      "/Users/barnabyemmens/opt/anaconda3/envs/appml/lib/python3.8/site-packages/tqdm/auto.py:22: TqdmWarning: IProgress not found. Please update jupyter and ipywidgets. See https://ipywidgets.readthedocs.io/en/stable/user_install.html\n",
      "  from .autonotebook import tqdm as notebook_tqdm\n"
     ]
    }
   ],
   "source": [
    "import optuna"
   ]
  },
  {
   "cell_type": "code",
   "execution_count": 17,
   "id": "ec39cc72",
   "metadata": {},
   "outputs": [],
   "source": [
    "def objective(trial):\n",
    "    n_epochs = 5\n",
    "    \n",
    "    filters_1 = 32\n",
    "    strides_1 = 1\n",
    "    padding_1 = 'same'\n",
    "    activation_1 = 'relu'\n",
    "    input_shape = (img_rows, img_cols, 1)\n",
    "    pool_size_1 = 2\n",
    "    \n",
    "    filters_2 = 64\n",
    "    strides_2 = 1\n",
    "    padding_2 = 'same'\n",
    "    activation_2 = 'relu'\n",
    "    pool_size_2 = 2\n",
    "    \n",
    "    dropout_rate = 0.4\n",
    "    \n",
    "    lin_1_n = trial.suggest_int(\"lin_1_n\",low=4,high=128,step=1)\n",
    "    \n",
    "    batch_size = 128\n",
    "    \n",
    "    model = Sequential()\n",
    "    model.add(Conv2D(filters=filters_1,\n",
    "                     kernel_size=trial.suggest_int(\"kernel_size_1\",low=8,high=16,step=4),\n",
    "                     strides=strides_1,\n",
    "                     padding=padding_1,\n",
    "                     activation=activation_1,\n",
    "                     input_shape=input_shape))\n",
    "    model.add(MaxPooling2D(pool_size=pool_size_1, strides=None))\n",
    "    model.add(Conv2D(filters=filters_2,\n",
    "                     kernel_size=trial.suggest_int(\"kernel_size_2\",low=6,high=12,step=3),\n",
    "                     strides=strides_2,\n",
    "                     padding=padding_2,\n",
    "                     activation=activation_2))\n",
    "    model.add(MaxPooling2D(pool_size=pool_size_2, strides=None))\n",
    "    model.add(Dropout(rate=dropout_rate))\n",
    "    model.add(Flatten())\n",
    "    model.add(Dense(units=lin_1_n, activation='relu'))\n",
    "    model.add(Dense(units=num_classes, activation='softmax'))\n",
    "    \n",
    "    model.compile(loss=categorical_crossentropy,\n",
    "              optimizer=Adadelta(),\n",
    "              metrics=['categorical_accuracy'])\n",
    "    \n",
    "    fitted = model.fit(X_train, y_train,\n",
    "                batch_size=batch_size,\n",
    "                epochs=n_epochs,\n",
    "                verbose=1,\n",
    "                validation_data=(X_test, y_test))\n",
    "    \n",
    "    score = fitted.history['val_categorical_accuracy'][-1]\n",
    "    \n",
    "    return score"
   ]
  },
  {
   "cell_type": "code",
   "execution_count": 18,
   "id": "abd03c72",
   "metadata": {},
   "outputs": [],
   "source": [
    "train_images, val_images, train_labels, val_labels = train_test_split(stfts[0], y, test_size=0.3, random_state=42)\n",
    "X_train, X_test, y_train, y_test, img_rows, img_cols = format_for_CNN(train_images, val_images, train_labels, val_labels)\n",
    "#check_class_complete_gen(y_train, y_test,y)"
   ]
  },
  {
   "cell_type": "code",
   "execution_count": 19,
   "id": "ab8aa2b5",
   "metadata": {},
   "outputs": [
    {
     "name": "stderr",
     "output_type": "stream",
     "text": [
      "\u001b[32m[I 2022-06-02 14:50:38,914]\u001b[0m A new study created in memory with name: no-name-0684b5f7-a2dc-40ba-a753-a7237d70ae36\u001b[0m\n",
      "2022-06-02 14:50:38.921600: I tensorflow/core/platform/cpu_feature_guard.cc:151] This TensorFlow binary is optimized with oneAPI Deep Neural Network Library (oneDNN) to use the following CPU instructions in performance-critical operations:  SSE4.1 SSE4.2 AVX AVX2 FMA\n",
      "To enable them in other operations, rebuild TensorFlow with the appropriate compiler flags.\n"
     ]
    },
    {
     "name": "stdout",
     "output_type": "stream",
     "text": [
      "Epoch 1/5\n",
      "3/3 [==============================] - 116s 32s/step - loss: 1.2929 - categorical_accuracy: 0.4325 - val_loss: 1.1564 - val_categorical_accuracy: 0.5565\n",
      "Epoch 2/5\n",
      "3/3 [==============================] - 116s 33s/step - loss: 1.1734 - categorical_accuracy: 0.5260 - val_loss: 1.0193 - val_categorical_accuracy: 0.7339\n",
      "Epoch 3/5\n",
      "3/3 [==============================] - 116s 32s/step - loss: 1.0677 - categorical_accuracy: 0.6332 - val_loss: 0.9078 - val_categorical_accuracy: 0.8226\n",
      "Epoch 4/5\n",
      "3/3 [==============================] - 108s 31s/step - loss: 0.9607 - categorical_accuracy: 0.7163 - val_loss: 0.8140 - val_categorical_accuracy: 0.8468\n",
      "Epoch 5/5\n",
      "3/3 [==============================] - 110s 31s/step - loss: 0.8480 - categorical_accuracy: 0.8062 - val_loss: 0.7387 - val_categorical_accuracy: 0.8548\n"
     ]
    },
    {
     "name": "stderr",
     "output_type": "stream",
     "text": [
      "\u001b[32m[I 2022-06-02 15:00:06,324]\u001b[0m Trial 0 finished with value: 0.8548387289047241 and parameters: {'lin_1_n': 40, 'kernel_size_1': 12, 'kernel_size_2': 2}. Best is trial 0 with value: 0.8548387289047241.\u001b[0m\n"
     ]
    },
    {
     "name": "stdout",
     "output_type": "stream",
     "text": [
      "Epoch 1/5\n",
      "3/3 [==============================] - 158s 46s/step - loss: 1.2633 - categorical_accuracy: 0.2768 - val_loss: 1.1552 - val_categorical_accuracy: 0.3952\n",
      "Epoch 2/5\n",
      "3/3 [==============================] - 158s 46s/step - loss: 1.0614 - categorical_accuracy: 0.5433 - val_loss: 0.9841 - val_categorical_accuracy: 0.6855\n",
      "Epoch 3/5\n",
      "3/3 [==============================] - 160s 46s/step - loss: 0.9142 - categorical_accuracy: 0.6817 - val_loss: 0.8625 - val_categorical_accuracy: 0.7823\n",
      "Epoch 4/5\n",
      "3/3 [==============================] - 158s 45s/step - loss: 0.8137 - categorical_accuracy: 0.7820 - val_loss: 0.7727 - val_categorical_accuracy: 0.8065\n",
      "Epoch 5/5\n",
      "3/3 [==============================] - 177s 50s/step - loss: 0.7419 - categorical_accuracy: 0.8235 - val_loss: 0.7033 - val_categorical_accuracy: 0.8145\n"
     ]
    },
    {
     "name": "stderr",
     "output_type": "stream",
     "text": [
      "\u001b[32m[I 2022-06-02 15:13:40,056]\u001b[0m Trial 1 finished with value: 0.8145161271095276 and parameters: {'lin_1_n': 115, 'kernel_size_1': 14, 'kernel_size_2': 4}. Best is trial 0 with value: 0.8548387289047241.\u001b[0m\n"
     ]
    }
   ],
   "source": [
    "study = optuna.create_study(direction='maximize')\n",
    "study.optimize(objective, n_trials=5)"
   ]
  },
  {
   "cell_type": "code",
   "execution_count": 27,
   "id": "95d11d74",
   "metadata": {},
   "outputs": [
    {
     "name": "stdout",
     "output_type": "stream",
     "text": [
      "{'lin_1_n': 40, 'kernel_size_1': 12, 'kernel_size_2': 2}\n"
     ]
    }
   ],
   "source": [
    "optimised_params = study.best_params\n",
    "print(optimised_params)"
   ]
  },
  {
   "cell_type": "code",
   "execution_count": 31,
   "id": "31deac79",
   "metadata": {},
   "outputs": [],
   "source": [
    "def opt_model(optimised_params):\n",
    "    n_epochs = 5\n",
    "    # Conv 1\n",
    "    filters_1 = 32\n",
    "    kernel_size_1 = optimised_params['kernel_size_1']\n",
    "    strides_1 = 1\n",
    "    padding_1 = 'same'\n",
    "    activation_1 = 'relu'\n",
    "    input_shape = (img_rows, img_cols, 1)\n",
    "    # Pool 1\n",
    "    pool_size_1 = 2\n",
    "    # Conv 2\n",
    "    filters_2 = 64\n",
    "    kernel_size_2 = optimised_params['kernel_size_2']\n",
    "    strides_2 = 1\n",
    "    padding_2 = 'same'\n",
    "    activation_2 = 'relu'\n",
    "    # Pool 2\n",
    "    pool_size_2 = 2\n",
    "    # Droput\n",
    "    dropout_rate = 0.4\n",
    "    # Lin 1\n",
    "    lin_1_n = optimised_params['lin_1_n']\n",
    "    \n",
    "    model = Sequential()\n",
    "    model.add(Conv2D(filters=filters_1,\n",
    "                     kernel_size=kernel_size_1,\n",
    "                     strides=strides_1,\n",
    "                     padding=padding_1,\n",
    "                     activation=activation_1,\n",
    "                     input_shape=input_shape))\n",
    "    model.add(MaxPooling2D(pool_size=pool_size_1, strides=None))\n",
    "    model.add(Conv2D(filters=filters_2,\n",
    "                     kernel_size=kernel_size_2,\n",
    "                     strides=strides_2,\n",
    "                     padding=padding_2,\n",
    "                     activation=activation_2))\n",
    "    model.add(MaxPooling2D(pool_size=pool_size_2, strides=None))\n",
    "    model.add(Dropout(rate=dropout_rate))\n",
    "    model.add(Flatten())\n",
    "    model.add(Dense(units=lin_1_n, activation='relu'))\n",
    "    model.add(Dense(units=num_classes, activation='softmax'))\n",
    "    \n",
    "    model.compile(loss=categorical_crossentropy,\n",
    "              optimizer=Adadelta(),\n",
    "              metrics=['categorical_accuracy'])\n",
    "    \n",
    "    return model"
   ]
  },
  {
   "cell_type": "markdown",
   "id": "b477028b",
   "metadata": {},
   "source": [
    "# Folding"
   ]
  },
  {
   "cell_type": "code",
   "execution_count": 32,
   "id": "85f8e6fe",
   "metadata": {},
   "outputs": [
    {
     "name": "stdout",
     "output_type": "stream",
     "text": [
      "OK\n"
     ]
    }
   ],
   "source": [
    "n_folds = 3\n",
    "n_epochs = 5\n",
    "kfold = KFold(n_splits=n_folds, shuffle=True)\n",
    "fold_loss = np.zeros((n_folds,n_epochs))\n",
    "X = stfts[0]\n",
    "y = y \n",
    "check_class_complete(kfold,X,y)"
   ]
  },
  {
   "cell_type": "code",
   "execution_count": 34,
   "id": "c3c5e468-a020-4d34-a121-682bd0605741",
   "metadata": {},
   "outputs": [
    {
     "name": "stdout",
     "output_type": "stream",
     "text": [
      "-----------------------------------\n",
      "FOLD 1\n",
      "-----------------------------------\n",
      "Epoch 1/5\n",
      "3/3 [==============================] - 109s 30s/step - loss: 2.1733 - categorical_accuracy: 0.0836 - val_loss: 1.8909 - val_categorical_accuracy: 0.0507\n",
      "Epoch 2/5\n",
      "3/3 [==============================] - 110s 30s/step - loss: 1.9770 - categorical_accuracy: 0.0873 - val_loss: 1.6824 - val_categorical_accuracy: 0.1014\n",
      "Epoch 3/5\n",
      "3/3 [==============================] - 110s 31s/step - loss: 1.7651 - categorical_accuracy: 0.1491 - val_loss: 1.5211 - val_categorical_accuracy: 0.1812\n",
      "Epoch 4/5\n",
      "3/3 [==============================] - 117s 32s/step - loss: 1.5997 - categorical_accuracy: 0.2109 - val_loss: 1.3799 - val_categorical_accuracy: 0.2681\n",
      "Epoch 5/5\n",
      "3/3 [==============================] - 118s 33s/step - loss: 1.4686 - categorical_accuracy: 0.2582 - val_loss: 1.2590 - val_categorical_accuracy: 0.3043\n",
      "-----------------------------------\n",
      "FOLD 2\n",
      "-----------------------------------\n",
      "Epoch 1/5\n",
      "3/3 [==============================] - 116s 32s/step - loss: 1.4849 - categorical_accuracy: 0.1345 - val_loss: 1.3668 - val_categorical_accuracy: 0.0725\n",
      "Epoch 2/5\n",
      "3/3 [==============================] - 114s 31s/step - loss: 1.3477 - categorical_accuracy: 0.2473 - val_loss: 1.2493 - val_categorical_accuracy: 0.2754\n",
      "Epoch 3/5\n",
      "3/3 [==============================] - 114s 31s/step - loss: 1.2544 - categorical_accuracy: 0.3636 - val_loss: 1.1410 - val_categorical_accuracy: 0.5580\n",
      "Epoch 4/5\n",
      "3/3 [==============================] - 113s 31s/step - loss: 1.1423 - categorical_accuracy: 0.5382 - val_loss: 1.0466 - val_categorical_accuracy: 0.7536\n",
      "Epoch 5/5\n",
      "3/3 [==============================] - 118s 33s/step - loss: 1.0621 - categorical_accuracy: 0.6509 - val_loss: 0.9703 - val_categorical_accuracy: 0.8333\n",
      "-----------------------------------\n",
      "FOLD 3\n",
      "-----------------------------------\n",
      "Epoch 1/5\n",
      "3/3 [==============================] - 116s 32s/step - loss: 1.3431 - categorical_accuracy: 0.3551 - val_loss: 1.2305 - val_categorical_accuracy: 0.5036\n",
      "Epoch 2/5\n",
      "3/3 [==============================] - 116s 32s/step - loss: 1.2564 - categorical_accuracy: 0.4783 - val_loss: 1.1139 - val_categorical_accuracy: 0.7518\n",
      "Epoch 3/5\n",
      "3/3 [==============================] - 110s 30s/step - loss: 1.1334 - categorical_accuracy: 0.6449 - val_loss: 1.0111 - val_categorical_accuracy: 0.8613\n",
      "Epoch 4/5\n",
      "3/3 [==============================] - 107s 29s/step - loss: 1.0228 - categorical_accuracy: 0.6993 - val_loss: 0.9263 - val_categorical_accuracy: 0.8686\n",
      "Epoch 5/5\n",
      "3/3 [==============================] - 110s 31s/step - loss: 0.9461 - categorical_accuracy: 0.7826 - val_loss: 0.8488 - val_categorical_accuracy: 0.8686\n"
     ]
    }
   ],
   "source": [
    "fold_no = 1\n",
    "for train_index, test_index in kfold.split(X, y):\n",
    "    \n",
    "    print(\"-----------------------------------\")\n",
    "    print(\"FOLD \"+str(fold_no))\n",
    "    print(\"-----------------------------------\")\n",
    "    \n",
    "    X_train, X_test = X[train_index], X[test_index]\n",
    "    y_train, y_test = y[train_index], y[test_index]\n",
    "    X_train,X_test,y_train,y_test, img_rows, img_cols = format_for_CNN(X_train,X_test,y_train,y_test)\n",
    "    \n",
    "    model = opt_model(optimised_params)\n",
    "\n",
    "    history = model.fit(X_train, y_train,\n",
    "                        batch_size=128,\n",
    "                        epochs=n_epochs,\n",
    "                        verbose=1,\n",
    "                        validation_data=(X_test, y_test))\n",
    "    \n",
    "    fold_loss[fold_no-1] = history.history['val_categorical_accuracy']\n",
    "    fold_no += 1"
   ]
  },
  {
   "cell_type": "code",
   "execution_count": 35,
   "id": "b8a740d4-cd04-4440-94ed-d936f9f32c13",
   "metadata": {},
   "outputs": [
    {
     "name": "stdout",
     "output_type": "stream",
     "text": [
      "1st convolution layer:\n"
     ]
    },
    {
     "data": {
      "image/png": "[encoded data removed]",
      "text/plain": [
       "<Figure size 720x432 with 10 Axes>"
      ]
     },
     "metadata": {},
     "output_type": "display_data"
    },
    {
     "name": "stdout",
     "output_type": "stream",
     "text": [
      "2nd convolution layer:\n"
     ]
    },
    {
     "data": {
      "image/png": "[encoded data removed]",
      "text/plain": [
       "<Figure size 720x432 with 10 Axes>"
      ]
     },
     "metadata": {},
     "output_type": "display_data"
    }
   ],
   "source": [
    "# model.layers will print a list of layer parameters/values\n",
    "filters1, biases1 = model.layers[0].get_weights()\n",
    "filters2, biases2 = model.layers[2].get_weights()\n",
    "\n",
    "# normalize filter values to range 0-1 for better colormapping during plotting\n",
    "def norm_filter(kernel):\n",
    "    return (kernel - np.min(kernel)) / (np.max(kernel) - np.min(kernel))\n",
    "\n",
    "print('1st convolution layer:')\n",
    "fig, axs = plt.subplots(2,5, figsize=(10, 6))\n",
    "axs = axs.ravel()\n",
    "for i in range(10):\n",
    "    axs[i].imshow(norm_filter(filters1[:,:,0,i]), cmap=plt.cm.binary)\n",
    "    axs[i].set_xticks([]); axs[i].set_yticks([]); axs[i].grid(False)\n",
    "plt.show()\n",
    "\n",
    "print('2nd convolution layer:')\n",
    "fig, axs = plt.subplots(2,5, figsize=(10, 6))\n",
    "axs = axs.ravel()\n",
    "for i in range(10):\n",
    "    axs[i].imshow(norm_filter(filters2[:,:,0,i]), cmap=plt.cm.binary)\n",
    "    axs[i].set_xticks([]); axs[i].set_yticks([]); axs[i].grid(False)"
   ]
  },
  {
   "cell_type": "markdown",
   "id": "c33e41aa-e13c-4f0e-aa1d-2c23a6450b37",
   "metadata": {},
   "source": [
    "### Evaluation"
   ]
  },
  {
   "cell_type": "code",
   "execution_count": 36,
   "id": "88b33b4e-b1a1-4155-8ccc-3347548f4673",
   "metadata": {},
   "outputs": [
    {
     "name": "stdout",
     "output_type": "stream",
     "text": [
      "5/5 - 4s - loss: 0.8488 - categorical_accuracy: 0.8686 - 4s/epoch - 891ms/step\n"
     ]
    },
    {
     "data": {
      "image/png": "[encoded data removed]",
      "text/plain": [
       "<Figure size 864x864 with 2 Axes>"
      ]
     },
     "metadata": {
      "needs_background": "light"
     },
     "output_type": "display_data"
    }
   ],
   "source": [
    "# evaluating model using all data (not in batches)\n",
    "val_loss, val_acc = model.evaluate(X_test, y_test, verbose=2)\n",
    "\n",
    "fig,ax = plt.subplots(nrows=2,ncols=1,figsize=(12,12))\n",
    "fs_L, fs_M, fs_S = 18, 16, 14\n",
    "ax[0].plot(history.history['categorical_accuracy'], label='train')\n",
    "ax[0].plot(history.history['val_categorical_accuracy'], label='validation')\n",
    "ax[0].set_xlabel('Epoch', fontsize=fs_M)\n",
    "ax[0].set_ylabel('Accuracy', fontsize=fs_M)\n",
    "ax[0].tick_params(axis='both', which='major', labelsize=fs_S)\n",
    "ax[0].set_title('Final mean validation accuracy: {}'.format(val_acc), fontsize=fs_M)\n",
    "ax[0].set_xticks(range(0,5))\n",
    "ax[0].legend(loc='lower right', fontsize=fs_M)\n",
    "\n",
    "ax[1].plot(history.history['loss'], label='train')\n",
    "ax[1].plot(history.history['val_loss'], label='validation')\n",
    "ax[1].set_xlabel('Epoch', fontsize=fs_M)\n",
    "ax[1].set_ylabel('Loss', fontsize=fs_M)\n",
    "ax[1].tick_params(axis='both', which='major', labelsize=fs_S)\n",
    "ax[1].set_xticks(range(0,5))\n",
    "ax[1].legend(loc='upper right', fontsize=fs_M)\n",
    "\n",
    "plt.show()"
   ]
  },
  {
   "cell_type": "markdown",
   "id": "2353ba6e-0b41-476c-a207-880f4d84e196",
   "metadata": {},
   "source": [
    "### Inference"
   ]
  },
  {
   "cell_type": "code",
   "execution_count": 76,
   "id": "4df78284-fb4a-41e0-9261-3bd8b75afd39",
   "metadata": {},
   "outputs": [],
   "source": [
    "# using until now unseen data\n",
    "predicted_prob = model.predict(X)\n",
    "predictions = np.argmax(predicted_prob, axis=1)"
   ]
  },
  {
   "cell_type": "code",
   "execution_count": 79,
   "id": "45c33277",
   "metadata": {},
   "outputs": [
    {
     "name": "stdout",
     "output_type": "stream",
     "text": [
      "(413,)\n",
      "(413,)\n"
     ]
    }
   ],
   "source": [
    "print(predictions.shape)\n",
    "print(y.shape)"
   ]
  },
  {
   "cell_type": "code",
   "execution_count": 78,
   "id": "5a94e5a0",
   "metadata": {},
   "outputs": [
    {
     "name": "stdout",
     "output_type": "stream",
     "text": [
      "[[236   0   0   1]\n",
      " [ 14   0   0   0]\n",
      " [ 36   0   0   2]\n",
      " [  0   0   0 124]]\n"
     ]
    },
    {
     "data": {
      "image/png": "[encoded data removed]",
      "text/plain": [
       "<Figure size 432x432 with 2 Axes>"
      ]
     },
     "metadata": {
      "needs_background": "light"
     },
     "output_type": "display_data"
    }
   ],
   "source": [
    "labels_list = np.unique(y)\n",
    "onehot_v = pd.get_dummies(y)\n",
    "onehot_y = onehot_v.to_numpy()\n",
    "truths = np.argmax(onehot_y, axis=1)\n",
    "cm = confusion_matrix(truths, predictions, labels=range(num_classes))\n",
    "print(cm)\n",
    "plot_confusion_matrix(cm,labels_list)"
   ]
  },
  {
   "cell_type": "code",
   "execution_count": null,
   "id": "61bac3b0",
   "metadata": {},
   "outputs": [],
   "source": []
  }
 ],
 "metadata": {
  "kernelspec": {
   "display_name": "Python 3 (ipykernel)",
   "language": "python",
   "name": "python3"
  },
  "language_info": {
   "codemirror_mode": {
    "name": "ipython",
    "version": 3
   },
   "file_extension": ".py",
   "mimetype": "text/x-python",
   "name": "python",
   "nbconvert_exporter": "python",
   "pygments_lexer": "ipython3",
   "version": "3.8.12"
  },
  "toc-autonumbering": false
 },
 "nbformat": 4,
 "nbformat_minor": 5
}
