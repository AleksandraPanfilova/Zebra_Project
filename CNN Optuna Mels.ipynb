{
 "cells": [
  {
   "cell_type": "markdown",
   "id": "31b96237-3f28-4806-8b82-84d8470e2a06",
   "metadata": {},
   "source": [
    "### Audio Load by Barney"
   ]
  },
  {
   "cell_type": "code",
   "execution_count": 1,
   "id": "49122b1e",
   "metadata": {},
   "outputs": [],
   "source": [
    "from barney_functions import *\n",
    "import librosa\n",
    "import numpy as np\n",
    "import pandas as pd\n",
    "from matplotlib import pyplot as plt\n",
    "import random\n",
    "import re\n",
    "import soundfile as sf\n",
    "import itertools\n",
    "from sklearn.metrics import confusion_matrix"
   ]
  },
  {
   "cell_type": "code",
   "execution_count": 22,
   "id": "f6945731",
   "metadata": {},
   "outputs": [],
   "source": [
    "mels = np.load('mels.npz')['data']\n",
    "labels = np.load('mels_lables.npz',allow_pickle=True)['data']"
   ]
  },
  {
   "cell_type": "code",
   "execution_count": 24,
   "id": "f3128705",
   "metadata": {},
   "outputs": [
    {
     "name": "stdout",
     "output_type": "stream",
     "text": [
      "(2256, 128, 51)\n",
      "(2256,)\n"
     ]
    }
   ],
   "source": [
    "print(mels.shape)\n",
    "print(labels.shape)"
   ]
  },
  {
   "cell_type": "markdown",
   "id": "84d428ee-3e68-44f3-a905-4efd194d55fe",
   "metadata": {},
   "source": [
    "# CNN"
   ]
  },
  {
   "cell_type": "code",
   "execution_count": 26,
   "id": "e808c88f-20c8-4117-aa14-cb7eec2acf63",
   "metadata": {},
   "outputs": [],
   "source": [
    "import keras\n",
    "import tensorflow as tf\n",
    "from tensorflow.keras.models import Sequential\n",
    "from tensorflow.keras.layers import Conv2D, MaxPooling2D, Flatten, Dense, Dropout\n",
    "from tensorflow.keras.losses import categorical_crossentropy\n",
    "from tensorflow.keras.optimizers import Adadelta, Adam\n",
    "from sklearn.model_selection import train_test_split\n",
    "from optuna.integration import TFKerasPruningCallback\n",
    "tf.compat.v1.logging.set_verbosity(tf.compat.v1.logging.ERROR)"
   ]
  },
  {
   "cell_type": "code",
   "execution_count": 27,
   "id": "cf80e544",
   "metadata": {},
   "outputs": [],
   "source": [
    "from sklearn.model_selection import KFold"
   ]
  },
  {
   "cell_type": "markdown",
   "id": "d037fe21",
   "metadata": {},
   "source": [
    "# Optimising"
   ]
  },
  {
   "cell_type": "code",
   "execution_count": 29,
   "id": "64b2e74e",
   "metadata": {},
   "outputs": [],
   "source": [
    "import optuna"
   ]
  },
  {
   "cell_type": "code",
   "execution_count": 35,
   "id": "ec39cc72",
   "metadata": {},
   "outputs": [],
   "source": [
    "def objective(trial):\n",
    "    n_epochs = 2\n",
    "    learning_rate = trial.suggest_float(\"learning_rate\", 1e-4, 1e-1, log=True)\n",
    "    optimiser = Adam(learning_rate=learning_rate)\n",
    "    \n",
    "    filters_1 = trial.suggest_int(\"filters_1\",low=2,high=32,step=8)\n",
    "    kernel_1 = trial.suggest_int(\"kernel_size_1\",low=8,high=16,step=4)\n",
    "    strides_1 = 1\n",
    "    padding_1 = 'same'\n",
    "    activation_1 = 'relu'\n",
    "    input_shape = (img_rows, img_cols, 1)\n",
    "    pool_size_1 = 2\n",
    "    \n",
    "    filters_2 = trial.suggest_int(\"filters_2\",low=2,high=64,step=8)\n",
    "    kernel_2 = trial.suggest_int(\"kernel_size_2\",low=6,high=12,step=3)\n",
    "    strides_2 = 1\n",
    "    padding_2 = 'same'\n",
    "    activation_2 = 'relu'\n",
    "    pool_size_2 = 2\n",
    "    \n",
    "    dropout_rate = 0.4\n",
    "    \n",
    "    lin_1_n = trial.suggest_int(\"lin_1_n\",low=4,high=128,step=1)\n",
    "    \n",
    "    batch_size = 128\n",
    "    \n",
    "    model = Sequential()\n",
    "    model.add(Conv2D(filters=filters_1,\n",
    "                     kernel_size=kernel_1,\n",
    "                     strides=strides_1,\n",
    "                     padding=padding_1,\n",
    "                     activation=activation_1,\n",
    "                     input_shape=input_shape))\n",
    "    model.add(MaxPooling2D(pool_size=pool_size_1, strides=None))\n",
    "    model.add(Conv2D(filters=filters_2,\n",
    "                     kernel_size=kernel_2,\n",
    "                     strides=strides_2,\n",
    "                     padding=padding_2,\n",
    "                     activation=activation_2))\n",
    "    model.add(MaxPooling2D(pool_size=pool_size_2, strides=None))\n",
    "    model.add(Dropout(rate=dropout_rate))\n",
    "    model.add(Flatten())\n",
    "    model.add(Dense(units=lin_1_n, activation='relu'))\n",
    "    model.add(Dense(units=num_classes, activation='softmax'))\n",
    "    \n",
    "    model.compile(loss=categorical_crossentropy,\n",
    "              optimizer=Adadelta(),\n",
    "              metrics=['categorical_accuracy'])\n",
    "    \n",
    "    monitor = \"val_categorical_accuracy\"\n",
    "    \n",
    "    callbacks = [\n",
    "        tf.keras.callbacks.EarlyStopping(patience=3),\n",
    "        TFKerasPruningCallback(trial, monitor)]\n",
    "    \n",
    "    fitted = model.fit(X_train, y_train,\n",
    "                       batch_size=batch_size,\n",
    "                       epochs=n_epochs,\n",
    "                       verbose=1,\n",
    "                       validation_data=(X_test, y_test),\n",
    "                       callbacks=callbacks)\n",
    "    \n",
    "    score = fitted.history[monitor][-1]\n",
    "    \n",
    "    return score"
   ]
  },
  {
   "cell_type": "code",
   "execution_count": 36,
   "id": "abd03c72",
   "metadata": {},
   "outputs": [
    {
     "name": "stdout",
     "output_type": "stream",
     "text": [
      "OK\n"
     ]
    }
   ],
   "source": [
    "train_images, val_images, train_labels, val_labels = train_test_split(mels, labels, test_size=0.2, random_state=42)\n",
    "X_train, X_test, y_train, y_test, img_rows, img_cols = format_for_CNN(train_images, val_images, train_labels, val_labels)\n",
    "check_class_complete_gen(train_labels, val_labels,y)"
   ]
  },
  {
   "cell_type": "code",
   "execution_count": 37,
   "id": "ab8aa2b5",
   "metadata": {},
   "outputs": [
    {
     "name": "stderr",
     "output_type": "stream",
     "text": [
      "\u001b[32m[I 2022-06-06 13:56:46,247]\u001b[0m A new study created in memory with name: no-name-8b22e05a-7f5f-447b-9219-51edcf7e5d62\u001b[0m\n",
      "/Users/barnabyemmens/opt/anaconda3/envs/appml/lib/python3.8/site-packages/optuna/distributions.py:560: UserWarning: The distribution is specified by [2, 64] and step=6, but the range is not divisible by `step`. It will be replaced by [2, 62].\n",
      "  warnings.warn(\n",
      "/Users/barnabyemmens/opt/anaconda3/envs/appml/lib/python3.8/site-packages/optuna/trial/_trial.py:772: RuntimeWarning: Inconsistent parameter values for distribution with name \"filters_1\"! This might be a configuration mistake. Optuna allows to call the same distribution with the same name more then once in a trial. When the parameter values are inconsistent optuna only uses the values of the first call and ignores all following. Using these values: {'low': 2, 'high': 32, 'step': 6}\n",
      "  warnings.warn(\n"
     ]
    },
    {
     "name": "stdout",
     "output_type": "stream",
     "text": [
      "Epoch 1/2\n",
      "4/4 [==============================] - 124s 31s/step - loss: 1.7566 - categorical_accuracy: 0.1928 - val_loss: 1.6552 - val_categorical_accuracy: 0.1508\n",
      "Epoch 2/2\n",
      "4/4 [==============================] - 124s 31s/step - loss: 1.6259 - categorical_accuracy: 0.2306 - val_loss: 1.5608 - val_categorical_accuracy: 0.1825\n"
     ]
    },
    {
     "name": "stderr",
     "output_type": "stream",
     "text": [
      "\u001b[32m[I 2022-06-06 14:00:54,499]\u001b[0m Trial 0 finished with value: 0.1825396865606308 and parameters: {'learning_rate': 0.0018689612982885062, 'filters_1': 14, 'kernel_size_1': 8, 'kernel_size_2': 9, 'lin_1_n': 88}. Best is trial 0 with value: 0.1825396865606308.\u001b[0m\n",
      "/Users/barnabyemmens/opt/anaconda3/envs/appml/lib/python3.8/site-packages/optuna/distributions.py:560: UserWarning: The distribution is specified by [2, 64] and step=6, but the range is not divisible by `step`. It will be replaced by [2, 62].\n",
      "  warnings.warn(\n",
      "/Users/barnabyemmens/opt/anaconda3/envs/appml/lib/python3.8/site-packages/optuna/trial/_trial.py:772: RuntimeWarning: Inconsistent parameter values for distribution with name \"filters_1\"! This might be a configuration mistake. Optuna allows to call the same distribution with the same name more then once in a trial. When the parameter values are inconsistent optuna only uses the values of the first call and ignores all following. Using these values: {'low': 2, 'high': 32, 'step': 6}\n",
      "  warnings.warn(\n"
     ]
    },
    {
     "name": "stdout",
     "output_type": "stream",
     "text": [
      "Epoch 1/2\n",
      "4/4 [==============================] - 84s 21s/step - loss: 1.5066 - categorical_accuracy: 0.3439 - val_loss: 1.2908 - val_categorical_accuracy: 0.4127\n",
      "Epoch 2/2\n",
      "4/4 [==============================] - 81s 20s/step - loss: 1.5202 - categorical_accuracy: 0.3519 - val_loss: 1.2789 - val_categorical_accuracy: 0.4365\n"
     ]
    },
    {
     "name": "stderr",
     "output_type": "stream",
     "text": [
      "\u001b[32m[I 2022-06-06 14:03:39,570]\u001b[0m Trial 1 finished with value: 0.4365079402923584 and parameters: {'learning_rate': 0.0001192088098394699, 'filters_1': 2, 'kernel_size_1': 8, 'kernel_size_2': 12, 'lin_1_n': 97}. Best is trial 1 with value: 0.4365079402923584.\u001b[0m\n",
      "/Users/barnabyemmens/opt/anaconda3/envs/appml/lib/python3.8/site-packages/optuna/distributions.py:560: UserWarning: The distribution is specified by [2, 64] and step=6, but the range is not divisible by `step`. It will be replaced by [2, 62].\n",
      "  warnings.warn(\n",
      "/Users/barnabyemmens/opt/anaconda3/envs/appml/lib/python3.8/site-packages/optuna/trial/_trial.py:772: RuntimeWarning: Inconsistent parameter values for distribution with name \"filters_1\"! This might be a configuration mistake. Optuna allows to call the same distribution with the same name more then once in a trial. When the parameter values are inconsistent optuna only uses the values of the first call and ignores all following. Using these values: {'low': 2, 'high': 32, 'step': 6}\n",
      "  warnings.warn(\n"
     ]
    },
    {
     "name": "stdout",
     "output_type": "stream",
     "text": [
      "Epoch 1/2\n",
      "4/4 [==============================] - 324s 80s/step - loss: 1.4920 - categorical_accuracy: 0.2744 - val_loss: 1.4928 - val_categorical_accuracy: 0.1746\n",
      "Epoch 2/2\n",
      "4/4 [==============================] - 12317s 88s/step - loss: 1.4607 - categorical_accuracy: 0.2704 - val_loss: 1.4585 - val_categorical_accuracy: 0.1905\n"
     ]
    },
    {
     "name": "stderr",
     "output_type": "stream",
     "text": [
      "\u001b[32m[I 2022-06-06 17:34:21,101]\u001b[0m Trial 2 finished with value: 0.190476194024086 and parameters: {'learning_rate': 0.0758958557767391, 'filters_1': 20, 'kernel_size_1': 16, 'kernel_size_2': 9, 'lin_1_n': 9}. Best is trial 1 with value: 0.4365079402923584.\u001b[0m\n",
      "/Users/barnabyemmens/opt/anaconda3/envs/appml/lib/python3.8/site-packages/optuna/distributions.py:560: UserWarning: The distribution is specified by [2, 64] and step=6, but the range is not divisible by `step`. It will be replaced by [2, 62].\n",
      "  warnings.warn(\n",
      "/Users/barnabyemmens/opt/anaconda3/envs/appml/lib/python3.8/site-packages/optuna/trial/_trial.py:772: RuntimeWarning: Inconsistent parameter values for distribution with name \"filters_1\"! This might be a configuration mistake. Optuna allows to call the same distribution with the same name more then once in a trial. When the parameter values are inconsistent optuna only uses the values of the first call and ignores all following. Using these values: {'low': 2, 'high': 32, 'step': 6}\n",
      "  warnings.warn(\n"
     ]
    },
    {
     "name": "stdout",
     "output_type": "stream",
     "text": [
      "Epoch 1/2\n",
      "4/4 [==============================] - 285s 70s/step - loss: 3.2719 - categorical_accuracy: 0.1670 - val_loss: 2.6881 - val_categorical_accuracy: 0.1825\n",
      "Epoch 2/2\n",
      "4/4 [==============================] - 276s 69s/step - loss: 2.8546 - categorical_accuracy: 0.1809 - val_loss: 2.4826 - val_categorical_accuracy: 0.1825\n"
     ]
    },
    {
     "name": "stderr",
     "output_type": "stream",
     "text": [
      "\u001b[32m[I 2022-06-06 17:43:43,492]\u001b[0m Trial 3 finished with value: 0.1825396865606308 and parameters: {'learning_rate': 1.2321679589117222e-05, 'filters_1': 8, 'kernel_size_1': 16, 'kernel_size_2': 9, 'lin_1_n': 75}. Best is trial 1 with value: 0.4365079402923584.\u001b[0m\n",
      "/Users/barnabyemmens/opt/anaconda3/envs/appml/lib/python3.8/site-packages/optuna/distributions.py:560: UserWarning: The distribution is specified by [2, 64] and step=6, but the range is not divisible by `step`. It will be replaced by [2, 62].\n",
      "  warnings.warn(\n",
      "/Users/barnabyemmens/opt/anaconda3/envs/appml/lib/python3.8/site-packages/optuna/trial/_trial.py:772: RuntimeWarning: Inconsistent parameter values for distribution with name \"filters_1\"! This might be a configuration mistake. Optuna allows to call the same distribution with the same name more then once in a trial. When the parameter values are inconsistent optuna only uses the values of the first call and ignores all following. Using these values: {'low': 2, 'high': 32, 'step': 6}\n",
      "  warnings.warn(\n"
     ]
    },
    {
     "name": "stdout",
     "output_type": "stream",
     "text": [
      "Epoch 1/2\n",
      "4/4 [==============================] - 137s 33s/step - loss: 1.4376 - categorical_accuracy: 0.3161 - val_loss: 1.2635 - val_categorical_accuracy: 0.4841\n",
      "Epoch 2/2\n",
      "4/4 [==============================] - 129s 32s/step - loss: 1.3712 - categorical_accuracy: 0.3479 - val_loss: 1.2003 - val_categorical_accuracy: 0.5317\n"
     ]
    },
    {
     "name": "stderr",
     "output_type": "stream",
     "text": [
      "\u001b[32m[I 2022-06-06 17:48:10,157]\u001b[0m Trial 4 finished with value: 0.5317460298538208 and parameters: {'learning_rate': 6.924802160752238e-05, 'filters_1': 26, 'kernel_size_1': 8, 'kernel_size_2': 6, 'lin_1_n': 71}. Best is trial 4 with value: 0.5317460298538208.\u001b[0m\n"
     ]
    }
   ],
   "source": [
    "study = optuna.create_study(direction='maximize')\n",
    "study.optimize(objective, n_trials=5)"
   ]
  },
  {
   "cell_type": "code",
   "execution_count": 1,
   "id": "95d11d74",
   "metadata": {},
   "outputs": [
    {
     "ename": "NameError",
     "evalue": "name 'study' is not defined",
     "output_type": "error",
     "traceback": [
      "\u001b[0;31m---------------------------------------------------------------------------\u001b[0m",
      "\u001b[0;31mNameError\u001b[0m                                 Traceback (most recent call last)",
      "Input \u001b[0;32mIn [1]\u001b[0m, in \u001b[0;36m<cell line: 1>\u001b[0;34m()\u001b[0m\n\u001b[0;32m----> 1\u001b[0m optimised_params \u001b[38;5;241m=\u001b[39m \u001b[43mstudy\u001b[49m\u001b[38;5;241m.\u001b[39mbest_params\n\u001b[1;32m      2\u001b[0m \u001b[38;5;28mprint\u001b[39m(optimised_params)\n",
      "\u001b[0;31mNameError\u001b[0m: name 'study' is not defined"
     ]
    }
   ],
   "source": [
    "optimised_params = study.best_params\n",
    "print(optimised_params)"
   ]
  },
  {
   "cell_type": "code",
   "execution_count": null,
   "id": "31deac79",
   "metadata": {},
   "outputs": [],
   "source": [
    "def opt_model(optimised_params):\n",
    "    n_epochs = 2\n",
    "    # Conv 1\n",
    "    filters_1 = 32\n",
    "    kernel_size_1 = optimised_params['kernel_size_1']\n",
    "    strides_1 = 1\n",
    "    padding_1 = 'same'\n",
    "    activation_1 = 'relu'\n",
    "    input_shape = (img_rows, img_cols, 1)\n",
    "    # Pool 1\n",
    "    pool_size_1 = 2\n",
    "    # Conv 2\n",
    "    filters_2 = 64\n",
    "    kernel_size_2 = optimised_params['kernel_size_2']\n",
    "    strides_2 = 1\n",
    "    padding_2 = 'same'\n",
    "    activation_2 = 'relu'\n",
    "    # Pool 2\n",
    "    pool_size_2 = 2\n",
    "    # Droput\n",
    "    dropout_rate = 0.4\n",
    "    # Lin 1\n",
    "    lin_1_n = optimised_params['lin_1_n']\n",
    "    \n",
    "    model = Sequential()\n",
    "    model.add(Conv2D(filters=filters_1,\n",
    "                     kernel_size=kernel_size_1,\n",
    "                     strides=strides_1,\n",
    "                     padding=padding_1,\n",
    "                     activation=activation_1,\n",
    "                     input_shape=input_shape))\n",
    "    model.add(MaxPooling2D(pool_size=pool_size_1, strides=None))\n",
    "    model.add(Conv2D(filters=filters_2,\n",
    "                     kernel_size=kernel_size_2,\n",
    "                     strides=strides_2,\n",
    "                     padding=padding_2,\n",
    "                     activation=activation_2))\n",
    "    model.add(MaxPooling2D(pool_size=pool_size_2, strides=None))\n",
    "    model.add(Dropout(rate=dropout_rate))\n",
    "    model.add(Flatten())\n",
    "    model.add(Dense(units=lin_1_n, activation='relu'))\n",
    "    model.add(Dense(units=num_classes, activation='softmax'))\n",
    "    \n",
    "    model.compile(loss=categorical_crossentropy,\n",
    "              optimizer=Adadelta(),\n",
    "              metrics=['categorical_accuracy'])\n",
    "    \n",
    "    return model"
   ]
  },
  {
   "cell_type": "markdown",
   "id": "b477028b",
   "metadata": {},
   "source": [
    "# Folding"
   ]
  },
  {
   "cell_type": "code",
   "execution_count": null,
   "id": "85f8e6fe",
   "metadata": {},
   "outputs": [],
   "source": [
    "n_folds = 2\n",
    "n_epochs = 2\n",
    "kfold = KFold(n_splits=n_folds, shuffle=True)\n",
    "fold_loss = np.zeros((n_folds,n_epochs))\n",
    "X = stfts[0]\n",
    "y = y \n",
    "check_class_complete(kfold,X,y)"
   ]
  },
  {
   "cell_type": "code",
   "execution_count": null,
   "id": "c3c5e468-a020-4d34-a121-682bd0605741",
   "metadata": {},
   "outputs": [],
   "source": [
    "fold_no = 1\n",
    "for train_index, test_index in kfold.split(X, y):\n",
    "    \n",
    "    print(\"-----------------------------------\")\n",
    "    print(\"FOLD \"+str(fold_no))\n",
    "    print(\"-----------------------------------\")\n",
    "    \n",
    "    X_train, X_test = X[train_index], X[test_index]\n",
    "    y_train, y_test = y[train_index], y[test_index]\n",
    "    X_train,X_test,y_train,y_test, img_rows, img_cols = format_for_CNN(X_train,X_test,y_train,y_test)\n",
    "    \n",
    "    model = opt_model(optimised_params)\n",
    "\n",
    "    history = model.fit(X_train, y_train,\n",
    "                        batch_size=128,\n",
    "                        epochs=n_epochs,\n",
    "                        verbose=1,\n",
    "                        validation_data=(X_test, y_test))\n",
    "    \n",
    "    fold_loss[fold_no-1] = history.history['val_categorical_accuracy']\n",
    "    fold_no += 1"
   ]
  },
  {
   "cell_type": "code",
   "execution_count": null,
   "id": "b8a740d4-cd04-4440-94ed-d936f9f32c13",
   "metadata": {},
   "outputs": [],
   "source": [
    "# model.layers will print a list of layer parameters/values\n",
    "filters1, biases1 = model.layers[0].get_weights()\n",
    "filters2, biases2 = model.layers[2].get_weights()\n",
    "\n",
    "# normalize filter values to range 0-1 for better colormapping during plotting\n",
    "def norm_filter(kernel):\n",
    "    return (kernel - np.min(kernel)) / (np.max(kernel) - np.min(kernel))\n",
    "\n",
    "print('1st convolution layer:')\n",
    "fig, axs = plt.subplots(2,5, figsize=(10, 6))\n",
    "axs = axs.ravel()\n",
    "for i in range(10):\n",
    "    axs[i].imshow(norm_filter(filters1[:,:,0,i]), cmap=plt.cm.binary)\n",
    "    axs[i].set_xticks([]); axs[i].set_yticks([]); axs[i].grid(False)\n",
    "plt.show()\n",
    "\n",
    "print('2nd convolution layer:')\n",
    "fig, axs = plt.subplots(2,5, figsize=(10, 6))\n",
    "axs = axs.ravel()\n",
    "for i in range(10):\n",
    "    axs[i].imshow(norm_filter(filters2[:,:,0,i]), cmap=plt.cm.binary)\n",
    "    axs[i].set_xticks([]); axs[i].set_yticks([]); axs[i].grid(False)"
   ]
  },
  {
   "cell_type": "markdown",
   "id": "c33e41aa-e13c-4f0e-aa1d-2c23a6450b37",
   "metadata": {},
   "source": [
    "### Evaluation"
   ]
  },
  {
   "cell_type": "code",
   "execution_count": null,
   "id": "88b33b4e-b1a1-4155-8ccc-3347548f4673",
   "metadata": {},
   "outputs": [],
   "source": [
    "# evaluating model using all data (not in batches)\n",
    "val_loss, val_acc = model.evaluate(X_test, y_test, verbose=2)\n",
    "\n",
    "fig,ax = plt.subplots(nrows=2,ncols=1,figsize=(12,12))\n",
    "fs_L, fs_M, fs_S = 18, 16, 14\n",
    "ax[0].plot(history.history['categorical_accuracy'], label='train')\n",
    "ax[0].plot(history.history['val_categorical_accuracy'], label='validation')\n",
    "ax[0].set_xlabel('Epoch', fontsize=fs_M)\n",
    "ax[0].set_ylabel('Accuracy', fontsize=fs_M)\n",
    "ax[0].tick_params(axis='both', which='major', labelsize=fs_S)\n",
    "ax[0].set_title('Final mean validation accuracy: {}'.format(val_acc), fontsize=fs_M)\n",
    "ax[0].set_xticks(range(0,5))\n",
    "ax[0].legend(loc='lower right', fontsize=fs_M)\n",
    "\n",
    "ax[1].plot(history.history['loss'], label='train')\n",
    "ax[1].plot(history.history['val_loss'], label='validation')\n",
    "ax[1].set_xlabel('Epoch', fontsize=fs_M)\n",
    "ax[1].set_ylabel('Loss', fontsize=fs_M)\n",
    "ax[1].tick_params(axis='both', which='major', labelsize=fs_S)\n",
    "ax[1].set_xticks(range(0,5))\n",
    "ax[1].legend(loc='upper right', fontsize=fs_M)\n",
    "\n",
    "plt.show()"
   ]
  },
  {
   "cell_type": "markdown",
   "id": "2353ba6e-0b41-476c-a207-880f4d84e196",
   "metadata": {},
   "source": [
    "### Inference"
   ]
  },
  {
   "cell_type": "code",
   "execution_count": null,
   "id": "4df78284-fb4a-41e0-9261-3bd8b75afd39",
   "metadata": {},
   "outputs": [],
   "source": [
    "predicted_prob = model.predict(X)\n",
    "predictions = np.argmax(predicted_prob, axis=1)"
   ]
  },
  {
   "cell_type": "code",
   "execution_count": null,
   "id": "45c33277",
   "metadata": {},
   "outputs": [],
   "source": [
    "print(predictions.shape)\n",
    "print(y.shape)"
   ]
  },
  {
   "cell_type": "code",
   "execution_count": null,
   "id": "5a94e5a0",
   "metadata": {},
   "outputs": [],
   "source": [
    "labels_list = np.unique(y)\n",
    "onehot_v = pd.get_dummies(y)\n",
    "onehot_y = onehot_v.to_numpy()\n",
    "truths = np.argmax(onehot_y, axis=1)\n",
    "cm = confusion_matrix(truths, predictions, labels=range(num_classes))\n",
    "print(cm)\n",
    "plot_confusion_matrix(cm,labels_list)"
   ]
  },
  {
   "cell_type": "code",
   "execution_count": null,
   "id": "61bac3b0",
   "metadata": {},
   "outputs": [],
   "source": []
  }
 ],
 "metadata": {
  "kernelspec": {
   "display_name": "Python 3 (ipykernel)",
   "language": "python",
   "name": "python3"
  },
  "language_info": {
   "codemirror_mode": {
    "name": "ipython",
    "version": 3
   },
   "file_extension": ".py",
   "mimetype": "text/x-python",
   "name": "python",
   "nbconvert_exporter": "python",
   "pygments_lexer": "ipython3",
   "version": "3.8.12"
  },
  "toc-autonumbering": false
 },
 "nbformat": 4,
 "nbformat_minor": 5
}
