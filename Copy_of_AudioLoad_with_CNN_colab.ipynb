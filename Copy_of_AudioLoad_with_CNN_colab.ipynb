{
  "cells": [
    {
      "cell_type": "markdown",
      "id": "31b96237-3f28-4806-8b82-84d8470e2a06",
      "metadata": {
        "id": "31b96237-3f28-4806-8b82-84d8470e2a06"
      },
      "source": [
        "### Audio Load by Barney"
      ]
    },
    {
      "cell_type": "code",
      "source": [
        "!pip install playsound"
      ],
      "metadata": {
        "colab": {
          "base_uri": "https://localhost:8080/"
        },
        "id": "3-KtdgWlNlEz",
        "outputId": "e55d443f-ffa4-4bab-d89e-3f33acbeceec"
      },
      "id": "3-KtdgWlNlEz",
      "execution_count": 1,
      "outputs": [
        {
          "output_type": "stream",
          "name": "stdout",
          "text": [
            "Looking in indexes: https://pypi.org/simple, https://us-python.pkg.dev/colab-wheels/public/simple/\n",
            "Requirement already satisfied: playsound in /usr/local/lib/python3.7/dist-packages (1.3.0)\n"
          ]
        }
      ]
    },
    {
      "cell_type": "code",
      "source": [
        "from google.colab import drive\n",
        "drive.mount('/content/drive')"
      ],
      "metadata": {
        "colab": {
          "base_uri": "https://localhost:8080/"
        },
        "id": "_46ykizw8_8N",
        "outputId": "4c7d84b1-19c2-413a-a2fd-168e053afbb8"
      },
      "id": "_46ykizw8_8N",
      "execution_count": 2,
      "outputs": [
        {
          "output_type": "stream",
          "name": "stdout",
          "text": [
            "Mounted at /content/drive\n"
          ]
        }
      ]
    },
    {
      "cell_type": "code",
      "source": [
        "import sys \n",
        "import os   \n",
        "path_to_module = '/content/drive/MyDrive/zebra classification /Barneys Stuff'  # Path where all the .py files are, relative to the notebook folder\n",
        "sys.path.append(path_to_module)\n",
        "os.chdir(\"/content/drive/MyDrive/zebra classification /Barneys Stuff\")\n",
        "from barney_functions import *"
      ],
      "metadata": {
        "colab": {
          "base_uri": "https://localhost:8080/"
        },
        "id": "fFuB93vW-HwQ",
        "outputId": "1fb69ab4-349f-45cd-f16f-e3e35f0dbf81"
      },
      "id": "fFuB93vW-HwQ",
      "execution_count": 2,
      "outputs": [
        {
          "output_type": "stream",
          "name": "stderr",
          "text": [
            "playsound is relying on another python subprocess. Please use `pip install pygobject` if you want playsound to run more efficiently.\n"
          ]
        }
      ]
    },
    {
      "cell_type": "code",
      "execution_count": 3,
      "id": "49122b1e",
      "metadata": {
        "id": "49122b1e"
      },
      "outputs": [],
      "source": [
        "import librosa\n",
        "import numpy as np\n",
        "import pandas as pd\n",
        "from matplotlib import pyplot as plt\n",
        "import random\n",
        "import re\n",
        "import soundfile as sf"
      ]
    },
    {
      "cell_type": "markdown",
      "id": "deb55182",
      "metadata": {
        "id": "deb55182"
      },
      "source": [
        "# Load Zebra Audio"
      ]
    },
    {
      "cell_type": "code",
      "execution_count": 4,
      "id": "af8ec1a4",
      "metadata": {
        "colab": {
          "base_uri": "https://localhost:8080/"
        },
        "id": "af8ec1a4",
        "outputId": "c408f3fe-be7d-490d-ebb4-ce3674c32892"
      },
      "outputs": [
        {
          "output_type": "stream",
          "name": "stdout",
          "text": [
            "Finding longest file (Better Labels)\n"
          ]
        },
        {
          "output_type": "stream",
          "name": "stderr",
          "text": [
            "100%|██████████| 413/413 [00:09<00:00, 41.82it/s]\n"
          ]
        },
        {
          "output_type": "stream",
          "name": "stdout",
          "text": [
            "Loading files\n"
          ]
        },
        {
          "output_type": "stream",
          "name": "stderr",
          "text": [
            "100%|██████████| 413/413 [00:09<00:00, 44.64it/s]\n"
          ]
        }
      ],
      "source": [
        "audio_path = 'zebra audio sample_Bing_413/all/'\n",
        "audio_path_long = 'Audio Files All/'\n",
        "spreadsheet_path = 'Zebras.Assumption.data_Bing_413 .xlsx'\n",
        "df = add_labels_to_excel(spreadsheet_path)\n",
        "audio_files, audio_size, index_longest = gen_audio_array(audio_path,df)\n",
        "y = df['label']"
      ]
    },
    {
      "cell_type": "markdown",
      "id": "f1bf4c13",
      "metadata": {
        "id": "f1bf4c13"
      },
      "source": [
        "# Load Non Zebra Audio"
      ]
    },
    {
      "cell_type": "code",
      "execution_count": 6,
      "id": "65988e57",
      "metadata": {
        "colab": {
          "base_uri": "https://localhost:8080/"
        },
        "id": "65988e57",
        "outputId": "9770ff01-ba26-432c-c7a3-397f39f87c0c"
      },
      "outputs": [
        {
          "output_type": "stream",
          "name": "stdout",
          "text": [
            "Padding\n"
          ]
        },
        {
          "output_type": "stream",
          "name": "stderr",
          "text": [
            "100%|██████████| 947/947 [00:00<00:00, 9243.69it/s]\n"
          ]
        }
      ],
      "source": [
        "nzebra_path = 'big bounce small.wav'\n",
        "nzebra_audio, labels_nzebra = gen_nzebra(nzebra_path,audio_size)"
      ]
    },
    {
      "cell_type": "code",
      "execution_count": 7,
      "id": "410f37d6",
      "metadata": {
        "id": "410f37d6"
      },
      "outputs": [],
      "source": [
        "# Combine zebra and non zebra\n",
        "all_audio, y = add_nzebra(audio_files,y,nzebra_audio,labels_nzebra)"
      ]
    },
    {
      "cell_type": "code",
      "execution_count": 8,
      "id": "41d0d765",
      "metadata": {
        "colab": {
          "base_uri": "https://localhost:8080/"
        },
        "id": "41d0d765",
        "outputId": "e49af178-b555-4ef9-b37f-9860fcf97cc5"
      },
      "outputs": [
        {
          "output_type": "stream",
          "name": "stdout",
          "text": [
            "(1360, 39923)\n",
            "Unaugmented dataset size:  0.43436224 GB\n"
          ]
        }
      ],
      "source": [
        "print(all_audio.shape)\n",
        "print(\"Unaugmented dataset size: \",all_audio.nbytes/(1e9), 'GB')"
      ]
    },
    {
      "cell_type": "code",
      "execution_count": 5,
      "id": "253f20ad",
      "metadata": {
        "colab": {
          "base_uri": "https://localhost:8080/"
        },
        "id": "253f20ad",
        "outputId": "1697843b-f9ba-4b45-f6cf-3b5440a114ab"
      },
      "outputs": [
        {
          "output_type": "execute_result",
          "data": {
            "text/plain": [
              "4"
            ]
          },
          "metadata": {},
          "execution_count": 5
        }
      ],
      "source": [
        "num_classes = len(np.unique(y))\n",
        "num_classes"
      ]
    },
    {
      "cell_type": "markdown",
      "id": "a80d084a",
      "metadata": {
        "id": "a80d084a"
      },
      "source": [
        "# Augment Data"
      ]
    },
    {
      "cell_type": "code",
      "execution_count": 6,
      "id": "98fa32ae",
      "metadata": {
        "colab": {
          "base_uri": "https://localhost:8080/"
        },
        "id": "98fa32ae",
        "outputId": "1d95f497-5d9c-498b-cf74-8155be952ac0"
      },
      "outputs": [
        {
          "output_type": "stream",
          "name": "stdout",
          "text": [
            "Augmenting 413 samples\n"
          ]
        },
        {
          "output_type": "stream",
          "name": "stderr",
          "text": [
            "100%|██████████| 413/413 [00:00<00:00, 474.94it/s]\n"
          ]
        }
      ],
      "source": [
        "augmented_audio = augment_audio_faster_smaller(audio_files)\n",
        "audio_files = None"
      ]
    },
    {
      "cell_type": "code",
      "execution_count": 11,
      "id": "950d6519",
      "metadata": {
        "id": "950d6519",
        "colab": {
          "base_uri": "https://localhost:8080/",
          "height": 279
        },
        "outputId": "2315b686-5752-418f-98b5-9b74c88a793a"
      },
      "outputs": [
        {
          "output_type": "display_data",
          "data": {
            "text/plain": [
              "<Figure size 432x288 with 1 Axes>"
            ],
            "image/png": "[encoded data removed]"
          },
          "metadata": {
            "needs_background": "light"
          }
        }
      ],
      "source": [
        "plot_sample(augmented_audio,100)"
      ]
    },
    {
      "cell_type": "code",
      "execution_count": 8,
      "id": "c74111a6",
      "metadata": {
        "colab": {
          "base_uri": "https://localhost:8080/"
        },
        "id": "c74111a6",
        "outputId": "5527271f-5e80-4602-df3e-9f146fd9c0e1"
      },
      "outputs": [
        {
          "output_type": "stream",
          "name": "stdout",
          "text": [
            "Augmentation  1\n"
          ]
        },
        {
          "output_type": "stream",
          "name": "stderr",
          "text": [
            "100%|██████████| 413/413 [00:03<00:00, 111.53it/s]\n"
          ]
        },
        {
          "output_type": "stream",
          "name": "stdout",
          "text": [
            "Augmentation  2\n"
          ]
        },
        {
          "output_type": "stream",
          "name": "stderr",
          "text": [
            "100%|██████████| 413/413 [00:03<00:00, 111.55it/s]\n"
          ]
        },
        {
          "output_type": "stream",
          "name": "stdout",
          "text": [
            "Augmentation  3\n"
          ]
        },
        {
          "output_type": "stream",
          "name": "stderr",
          "text": [
            "100%|██████████| 413/413 [00:04<00:00, 84.55it/s]\n"
          ]
        },
        {
          "output_type": "stream",
          "name": "stdout",
          "text": [
            "Augmentation  4\n"
          ]
        },
        {
          "output_type": "stream",
          "name": "stderr",
          "text": [
            "100%|██████████| 413/413 [00:03<00:00, 113.33it/s]\n"
          ]
        }
      ],
      "source": [
        "stfts = calc_stft(augmented_audio)"
      ]
    },
    {
      "cell_type": "code",
      "source": [
        "print(\"Augmented dataset size: \",stfts.nbytes/(1e9), 'GB')"
      ],
      "metadata": {
        "colab": {
          "base_uri": "https://localhost:8080/"
        },
        "id": "AyDmNtdEUsVz",
        "outputId": "5e0c6c9c-7deb-421a-b159-01415d6b82d7"
      },
      "id": "AyDmNtdEUsVz",
      "execution_count": 13,
      "outputs": [
        {
          "output_type": "stream",
          "name": "stdout",
          "text": [
            "Augmented dataset size:  3.3866 GB\n"
          ]
        }
      ]
    },
    {
      "cell_type": "code",
      "execution_count": null,
      "id": "018be6f0",
      "metadata": {
        "colab": {
          "base_uri": "https://localhost:8080/"
        },
        "id": "018be6f0",
        "outputId": "3e2eeaef-6717-4a2d-cdbd-6d88f7841751"
      },
      "outputs": [
        {
          "output_type": "stream",
          "name": "stderr",
          "text": [
            " 67%|██████▋   | 2/3 [00:02<00:01,  1.23s/it]"
          ]
        }
      ],
      "source": [
        "stfts_1D = np.zeros(stfts[0].shape)\n",
        "stfts_1D = stfts[0]\n",
        "for i in tqdm(range(1,stfts.shape[0])):\n",
        "    stfts_1D = np.concatenate((stfts_1D,stfts[i]), axis = 0)\n",
        "    stfts[i] = None\n",
        "print(\"Augmented dataset size: \",stfts_1D.nbytes/(1e9), 'GB')"
      ]
    },
    {
      "cell_type": "code",
      "execution_count": null,
      "id": "6bd0f019",
      "metadata": {
        "id": "6bd0f019"
      },
      "outputs": [],
      "source": [
        "spec_plot(stfts_1D[420,:,:])"
      ]
    },
    {
      "cell_type": "markdown",
      "id": "84d428ee-3e68-44f3-a905-4efd194d55fe",
      "metadata": {
        "id": "84d428ee-3e68-44f3-a905-4efd194d55fe"
      },
      "source": [
        "### Data preparation"
      ]
    },
    {
      "cell_type": "code",
      "execution_count": 9,
      "id": "e808c88f-20c8-4117-aa14-cb7eec2acf63",
      "metadata": {
        "id": "e808c88f-20c8-4117-aa14-cb7eec2acf63"
      },
      "outputs": [],
      "source": [
        "import keras\n",
        "import tensorflow as tf\n",
        "from tensorflow.keras.models import Sequential\n",
        "from tensorflow.keras.layers import Conv2D, MaxPooling2D, Flatten, Dense, Dropout\n",
        "from tensorflow.keras.losses import categorical_crossentropy\n",
        "from tensorflow.keras.optimizers import Adadelta\n",
        "from sklearn.model_selection import train_test_split\n",
        "\n",
        "\n",
        "tf.compat.v1.logging.set_verbosity(tf.compat.v1.logging.ERROR)"
      ]
    },
    {
      "cell_type": "code",
      "source": [
        "print(\"Num GPUs Available: \", len(tf.config.list_physical_devices('GPU')))"
      ],
      "metadata": {
        "colab": {
          "base_uri": "https://localhost:8080/"
        },
        "id": "R1-ka-BoaolV",
        "outputId": "ef483426-332c-470a-edd7-3cea57cf7f1a"
      },
      "id": "R1-ka-BoaolV",
      "execution_count": 10,
      "outputs": [
        {
          "output_type": "stream",
          "name": "stdout",
          "text": [
            "Num GPUs Available:  1\n"
          ]
        }
      ]
    },
    {
      "cell_type": "code",
      "execution_count": 11,
      "id": "f10ddef7-1345-4a9c-91d5-6648a5db6882",
      "metadata": {
        "id": "f10ddef7-1345-4a9c-91d5-6648a5db6882"
      },
      "outputs": [],
      "source": [
        "# Split in train and validation subsets\n",
        "train_images, val_images, train_labels, val_labels = train_test_split(stfts[0], y, test_size=0.3, random_state=13052020)\n",
        "stfts_1D = None\n",
        "\n",
        "# explicitly illustrating standardization\n",
        "def standardizeimg(img, mu, sigma):\n",
        "    return (img-mu)/(sigma).astype(np.float32)\n",
        "\n",
        "# save for scaling test data\n",
        "mu_train = np.mean(train_images)\n",
        "sigma_train = np.std(train_images)\n",
        "\n",
        "# Standardize pixel distribution to have zero mean and unit variance\n",
        "train_images = standardizeimg(img=train_images, mu=mu_train, sigma=sigma_train)\n",
        "val_images = standardizeimg(img=val_images, mu=np.mean(val_images), sigma=np.std(val_images))\n",
        "\n",
        "# adapt to format required by tensorflow; Using channels_last --> (n_samples, img_rows, img_cols, n_channels)\n",
        "img_rows, img_cols = 1025, 250 # input image dimensions\n",
        "train_images = train_images.reshape(train_images.shape[0], img_rows, img_cols, 1)\n",
        "val_images = val_images.reshape(val_images.shape[0], img_rows, img_cols, 1)\n",
        "\n",
        "# convert class vectors to binary class matrices - one hot encoding\n",
        "onehot_t = pd.get_dummies(train_labels)\n",
        "label_list = onehot_t.columns\n",
        "train_labels = onehot_t.to_numpy()\n",
        "\n",
        "onehot_v = pd.get_dummies(val_labels)\n",
        "val_labels = onehot_v.to_numpy()\n",
        "\n",
        "num_classes = len(label_list)"
      ]
    },
    {
      "cell_type": "code",
      "execution_count": null,
      "id": "4d92ad02-075a-41bc-b076-c74201885e58",
      "metadata": {
        "id": "4d92ad02-075a-41bc-b076-c74201885e58"
      },
      "outputs": [],
      "source": [
        "print(\"Training set:\")\n",
        "print(\" > images:\", train_images.shape)\n",
        "print(\" > labels:\", train_labels.shape)\n",
        "print(\"Validation set:\")\n",
        "print(\" > images:\", val_images.shape)\n",
        "print(\" > labels:\", val_labels.shape)"
      ]
    },
    {
      "cell_type": "markdown",
      "id": "d45cb7ff-8fa1-407f-9d83-6171b087b48a",
      "metadata": {
        "id": "d45cb7ff-8fa1-407f-9d83-6171b087b48a"
      },
      "source": [
        "### Create architecture"
      ]
    },
    {
      "cell_type": "code",
      "execution_count": null,
      "id": "966a2218-3143-4de1-8857-06d51d373e36",
      "metadata": {
        "id": "966a2218-3143-4de1-8857-06d51d373e36"
      },
      "outputs": [],
      "source": [
        "model = Sequential()\n",
        "\n",
        "model.add(Conv2D(filters=32,\n",
        "                 kernel_size=3,\n",
        "                 strides=1,\n",
        "                 padding='same',\n",
        "                 activation='relu',\n",
        "                 input_shape=(img_rows, img_cols, 1)))\n",
        "\n",
        "model.add(MaxPooling2D(pool_size=2, strides=None))\n",
        "\n",
        "model.add(Conv2D(filters=64,\n",
        "                 kernel_size=3,\n",
        "                 strides=1,\n",
        "                 padding='same',\n",
        "                 activation='relu'))\n",
        "\n",
        "model.add(MaxPooling2D(pool_size=2, strides=None))\n",
        "\n",
        "model.add(Dropout(rate=0.40))\n",
        "\n",
        "model.add(Flatten())\n",
        "\n",
        "model.add(Dense(units=128, activation='relu'))\n",
        "\n",
        "model.add(Dense(units=num_classes, activation='softmax'))\n",
        "\n",
        "model.summary()"
      ]
    },
    {
      "cell_type": "markdown",
      "id": "e887001e-e66b-49a4-b28f-c6d2a879738b",
      "metadata": {
        "id": "e887001e-e66b-49a4-b28f-c6d2a879738b"
      },
      "source": [
        "### Compile and train model"
      ]
    },
    {
      "cell_type": "code",
      "execution_count": null,
      "id": "c3c5e468-a020-4d34-a121-682bd0605741",
      "metadata": {
        "id": "c3c5e468-a020-4d34-a121-682bd0605741"
      },
      "outputs": [],
      "source": [
        "# specify optimization strategy and metric used for monitoring during training\n",
        "model.compile(loss=categorical_crossentropy,\n",
        "              optimizer=Adadelta(),\n",
        "              metrics=['categorical_accuracy'])\n",
        "\n",
        "# the history object will contain a record of loss and metric values during training\n",
        "history = model.fit(train_images, train_labels,\n",
        "                    batch_size=256,\n",
        "                    epochs=3,\n",
        "                    verbose=1,\n",
        "                    validation_data=(val_images, val_labels))"
      ]
    },
    {
      "cell_type": "code",
      "execution_count": null,
      "id": "b8a740d4-cd04-4440-94ed-d936f9f32c13",
      "metadata": {
        "id": "b8a740d4-cd04-4440-94ed-d936f9f32c13"
      },
      "outputs": [],
      "source": [
        "# model.layers will print a list of layer parameters/values\n",
        "filters1, biases1 = model.layers[0].get_weights()\n",
        "filters2, biases2 = model.layers[2].get_weights()\n",
        "\n",
        "# normalize filter values to range 0-1 for better colormapping during plotting\n",
        "def norm_filter(kernel):\n",
        "    return (kernel - np.min(kernel)) / (np.max(kernel) - np.min(kernel))\n",
        "\n",
        "print('1st convolution layer:')\n",
        "fig, axs = plt.subplots(2,5, figsize=(10, 6))\n",
        "axs = axs.ravel()\n",
        "for i in range(10):\n",
        "    axs[i].imshow(norm_filter(filters1[:,:,0,i]), cmap=plt.cm.binary)\n",
        "    axs[i].set_xticks([]); axs[i].set_yticks([]); axs[i].grid(False)\n",
        "plt.show()\n",
        "\n",
        "print('2nd convolution layer:')\n",
        "fig, axs = plt.subplots(2,5, figsize=(10, 6))\n",
        "axs = axs.ravel()\n",
        "for i in range(10):\n",
        "    axs[i].imshow(norm_filter(filters2[:,:,0,i]), cmap=plt.cm.binary)\n",
        "    axs[i].set_xticks([]); axs[i].set_yticks([]); axs[i].grid(False)"
      ]
    },
    {
      "cell_type": "markdown",
      "id": "c33e41aa-e13c-4f0e-aa1d-2c23a6450b37",
      "metadata": {
        "id": "c33e41aa-e13c-4f0e-aa1d-2c23a6450b37"
      },
      "source": [
        "### Evaluation"
      ]
    },
    {
      "cell_type": "code",
      "execution_count": null,
      "id": "88b33b4e-b1a1-4155-8ccc-3347548f4673",
      "metadata": {
        "id": "88b33b4e-b1a1-4155-8ccc-3347548f4673"
      },
      "outputs": [],
      "source": [
        "# evaluating model using all data (not in batches)\n",
        "val_loss, val_acc = model.evaluate(val_images, val_labels, verbose=2)\n",
        "\n",
        "fig,ax = plt.subplots(nrows=2,ncols=1,figsize=(12,12))\n",
        "fs_L, fs_M, fs_S = 18, 16, 14\n",
        "ax[0].plot(history.history['categorical_accuracy'], label='train')\n",
        "ax[0].plot(history.history['val_categorical_accuracy'], label='validation')\n",
        "ax[0].set_xlabel('Epoch', fontsize=fs_M)\n",
        "ax[0].set_ylabel('Accuracy', fontsize=fs_M)\n",
        "ax[0].tick_params(axis='both', which='major', labelsize=fs_S)\n",
        "ax[0].set_title('Final mean validation accuracy: {}'.format(val_acc), fontsize=fs_M)\n",
        "ax[0].set_xticks(range(0,5))\n",
        "ax[0].legend(loc='lower right', fontsize=fs_M)\n",
        "\n",
        "ax[1].plot(history.history['loss'], label='train')\n",
        "ax[1].plot(history.history['val_loss'], label='validation')\n",
        "ax[1].set_xlabel('Epoch', fontsize=fs_M)\n",
        "ax[1].set_ylabel('Loss', fontsize=fs_M)\n",
        "ax[1].tick_params(axis='both', which='major', labelsize=fs_S)\n",
        "ax[1].set_xticks(range(0,5))\n",
        "ax[1].legend(loc='upper right', fontsize=fs_M)\n",
        "\n",
        "plt.show()"
      ]
    },
    {
      "cell_type": "markdown",
      "id": "2353ba6e-0b41-476c-a207-880f4d84e196",
      "metadata": {
        "id": "2353ba6e-0b41-476c-a207-880f4d84e196"
      },
      "source": [
        "### Inference"
      ]
    },
    {
      "cell_type": "code",
      "execution_count": null,
      "id": "4df78284-fb4a-41e0-9261-3bd8b75afd39",
      "metadata": {
        "id": "4df78284-fb4a-41e0-9261-3bd8b75afd39"
      },
      "outputs": [],
      "source": [
        "# using until now unseen data\n",
        "predicted_prob = model.predict(val_images)\n",
        "predictions = np.argmax(predicted_prob, axis=1)"
      ]
    },
    {
      "cell_type": "code",
      "execution_count": null,
      "id": "89cfc888-18ed-4edf-8899-c9e96be95f0b",
      "metadata": {
        "id": "89cfc888-18ed-4edf-8899-c9e96be95f0b"
      },
      "outputs": [],
      "source": [
        "with tf.compat.v1.Session() as sess:\n",
        "    confusion_matrix = tf.compat.v1.confusion_matrix(np.argmax(val_labels, axis=1), predictions=predictions, num_classes=num_classes)\n",
        "    confusion_matrix_to_Print = sess.run(confusion_matrix)\n",
        "    print(confusion_matrix_to_Print)\n",
        "    \n",
        "error_rate = (np.sum(confusion_matrix_to_Print)-np.sum(np.diag(confusion_matrix_to_Print))) / np.sum(np.diag(confusion_matrix_to_Print))\n",
        "inf_acc = 1-error_rate\n",
        "print('Error rate: ', error_rate)\n",
        "print('Accuracy: ', inf_acc)"
      ]
    },
    {
      "cell_type": "code",
      "execution_count": null,
      "id": "b037d5d1",
      "metadata": {
        "id": "b037d5d1"
      },
      "outputs": [],
      "source": [
        ""
      ]
    },
    {
      "cell_type": "code",
      "execution_count": null,
      "id": "b0234da5",
      "metadata": {
        "id": "b0234da5"
      },
      "outputs": [],
      "source": [
        ""
      ]
    }
  ],
  "metadata": {
    "kernelspec": {
      "display_name": "Python 3 (ipykernel)",
      "language": "python",
      "name": "python3"
    },
    "language_info": {
      "codemirror_mode": {
        "name": "ipython",
        "version": 3
      },
      "file_extension": ".py",
      "mimetype": "text/x-python",
      "name": "python",
      "nbconvert_exporter": "python",
      "pygments_lexer": "ipython3",
      "version": "3.8.12"
    },
    "toc-autonumbering": false,
    "colab": {
      "name": "Copy of AudioLoad_with_CNN_colab.ipynb",
      "provenance": [],
      "collapsed_sections": []
    },
    "accelerator": "GPU"
  },
  "nbformat": 4,
  "nbformat_minor": 5
}