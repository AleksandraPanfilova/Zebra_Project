{
  "nbformat": 4,
  "nbformat_minor": 0,
  "metadata": {
    "colab": {
      "name": "rf_upsampling_and_shap_vals_ml_tabular_data.ipynb",
      "provenance": []
    },
    "kernelspec": {
      "name": "python3",
      "display_name": "Python 3"
    },
    "language_info": {
      "name": "python"
    }
  },
  "cells": [
    {
      "cell_type": "markdown",
      "source": [
        "-1) Importing the data"
      ],
      "metadata": {
        "id": "IWjtLhrY92mL"
      }
    },
    {
      "cell_type": "code",
      "source": [
        "#basic imports\n",
        "import pandas as pd\n",
        "import numpy as np\n",
        "from numpy import mean\n",
        "from numpy import std\n",
        "\n",
        "#sklearn imports\n",
        "from sklearn.datasets import make_classification\n",
        "from sklearn.model_selection import cross_val_score\n",
        "from sklearn.model_selection import RepeatedStratifiedKFold\n",
        "from sklearn.feature_selection import SelectFromModel\n",
        "from sklearn.ensemble import RandomForestClassifier\n",
        "from sklearn.model_selection import train_test_split\n",
        "from sklearn.pipeline import Pipeline\n",
        "from sklearn.utils import resample\n",
        "from sklearn.metrics import classification_report\n",
        "from sklearn.metrics import confusion_matrix"
      ],
      "metadata": {
        "id": "FWSVJfyg92Ts"
      },
      "execution_count": null,
      "outputs": []
    },
    {
      "cell_type": "code",
      "source": [
        "#importing the data\n",
        "data = pd.read_csv(\"/content/drive/MyDrive/clean_zebra_data.csv\")\n",
        "\n",
        "#separating labels\n",
        "X = data.drop(\"labels\", axis = 1)\n",
        "y=data['labels']"
      ],
      "metadata": {
        "id": "-Z8KTR8e-ENP"
      },
      "execution_count": null,
      "outputs": []
    },
    {
      "cell_type": "code",
      "source": [
        "#the data is quite concentrated on snorts and whinies\n",
        "datacount= data[['labels']].groupby(data['labels']).agg('count')\n",
        "datacount.plot(kind = 'bar', legend= False)"
      ],
      "metadata": {
        "colab": {
          "base_uri": "https://localhost:8080/",
          "height": 331
        },
        "id": "NN3xQkk--jsX",
        "outputId": "a19ba462-3173-4527-b576-680e074f314f"
      },
      "execution_count": null,
      "outputs": [
        {
          "output_type": "execute_result",
          "data": {
            "text/plain": [
              "<matplotlib.axes._subplots.AxesSubplot at 0x7f19ca779bd0>"
            ]
          },
          "metadata": {},
          "execution_count": 43
        },
        {
          "output_type": "display_data",
          "data": {
            "text/plain": [
              "<Figure size 432x288 with 1 Axes>"
            ],
            "image/png": "[encoded data removed]"
          },
          "metadata": {
            "needs_background": "light"
          }
        }
      ]
    },
    {
      "cell_type": "markdown",
      "source": [
        "0) First, divide into a part of the data that I will use, and a part of the data that I will not use"
      ],
      "metadata": {
        "id": "DYQzLxEv-Xgm"
      }
    },
    {
      "cell_type": "code",
      "source": [
        "df_train,df_test = train_test_split(data, test_size = 0.3,stratify = data['labels'])\n"
      ],
      "metadata": {
        "id": "foVyYNQtEtEH"
      },
      "execution_count": null,
      "outputs": []
    },
    {
      "cell_type": "markdown",
      "source": [
        "Now we will split df_train into minority classes df and majority classes df. With those two datasets, we upsample the minority dataset and merge with the original majority dataset"
      ],
      "metadata": {
        "id": "fop4WFBIFLNj"
      }
    },
    {
      "cell_type": "code",
      "source": [
        "filter_list = ['whinnie', 'snort']\n",
        "minor_filter_list = ['softsnort', 'squeal']\n",
        "df_train_major = df_train[df_train.labels.isin(filter_list)]\n",
        "df_train_minor = df_train[df_train.labels.isin(minor_filter_list)]"
      ],
      "metadata": {
        "id": "hyEJDnNLE-dk"
      },
      "execution_count": null,
      "outputs": []
    },
    {
      "cell_type": "code",
      "source": [
        "#actually doing the upscaling\n",
        "df_train_minor_upsampled = resample(df_train_minor, \n",
        "                                    replace=True,    # sample with replacement\n",
        "                                    n_samples= 252 , # to match majority class\n",
        "                                    random_state=42)\n",
        "df_train_new = df_train_minor_upsampled.append(df_train_major)"
      ],
      "metadata": {
        "id": "d9H-r6wVHZ86"
      },
      "execution_count": null,
      "outputs": []
    },
    {
      "cell_type": "code",
      "source": [
        "#splitting the df_train into train and test\n",
        "y_train = df_train_new['labels']\n",
        "X_train = df_train_new.drop(\"labels\",axis = 1)"
      ],
      "metadata": {
        "id": "Iib3qvDJIvPa"
      },
      "execution_count": null,
      "outputs": []
    },
    {
      "cell_type": "code",
      "source": [
        "#creating X train, test and y train and test\n",
        "X_test = df_test.drop('labels',axis =1)\n",
        "y_test =  df_test['labels']"
      ],
      "metadata": {
        "id": "g5qQjUhDfkgy"
      },
      "execution_count": null,
      "outputs": []
    },
    {
      "cell_type": "markdown",
      "source": [
        "# Best Random Forest model with upsampling"
      ],
      "metadata": {
        "id": "QizCVgz7MAS_"
      }
    },
    {
      "cell_type": "code",
      "source": [
        "#defining the rf model\n",
        "best_r_model = RandomForestClassifier(max_depth = 4, min_samples_split = 12, n_estimators = 461)"
      ],
      "metadata": {
        "id": "4VQoQDl5Md4v"
      },
      "execution_count": null,
      "outputs": []
    },
    {
      "cell_type": "code",
      "source": [
        "#fitting it - upsampling\n",
        "best_r_model.fit(X_train,y_train)"
      ],
      "metadata": {
        "colab": {
          "base_uri": "https://localhost:8080/"
        },
        "id": "ssMhR_8JMqr7",
        "outputId": "96e7c3a3-08e8-404b-cd1c-b80e01c52d6f"
      },
      "execution_count": null,
      "outputs": [
        {
          "output_type": "execute_result",
          "data": {
            "text/plain": [
              "RandomForestClassifier(max_depth=4, min_samples_split=12, n_estimators=461)"
            ]
          },
          "metadata": {},
          "execution_count": 73
        }
      ]
    },
    {
      "cell_type": "code",
      "source": [
        "#scores\n",
        "best_r_model.score(X_train,y_train)"
      ],
      "metadata": {
        "colab": {
          "base_uri": "https://localhost:8080/"
        },
        "id": "15KkrhLZNDP2",
        "outputId": "08644fd0-4292-4359-e6a0-90adbc7cd1db"
      },
      "execution_count": null,
      "outputs": [
        {
          "output_type": "execute_result",
          "data": {
            "text/plain": [
              "0.998015873015873"
            ]
          },
          "metadata": {},
          "execution_count": 74
        }
      ]
    },
    {
      "cell_type": "code",
      "source": [
        "best_r_model.score(X_test,y_test)"
      ],
      "metadata": {
        "colab": {
          "base_uri": "https://localhost:8080/"
        },
        "id": "mbWP_lgVNS3c",
        "outputId": "f1f4b232-7167-477a-8520-2e475f4d6b9f"
      },
      "execution_count": null,
      "outputs": [
        {
          "output_type": "execute_result",
          "data": {
            "text/plain": [
              "0.9919354838709677"
            ]
          },
          "metadata": {},
          "execution_count": 75
        }
      ]
    },
    {
      "cell_type": "code",
      "source": [
        "#creating a y pred\n",
        "y_pred = best_r_model.predict(X_test)"
      ],
      "metadata": {
        "id": "f_BLykeZdTkM"
      },
      "execution_count": null,
      "outputs": []
    },
    {
      "cell_type": "code",
      "source": [
        "classification_report(y_test,y_pred)"
      ],
      "metadata": {
        "colab": {
          "base_uri": "https://localhost:8080/",
          "height": 105
        },
        "id": "16DQTkZLctr7",
        "outputId": "9c4ad67f-683f-4af3-a9e0-4595e615949f"
      },
      "execution_count": null,
      "outputs": [
        {
          "output_type": "execute_result",
          "data": {
            "text/plain": [
              "'              precision    recall  f1-score   support\\n\\n       snort       0.99      1.00      0.99        71\\n   softsnort       1.00      0.75      0.86         4\\n      squeal       1.00      1.00      1.00        12\\n     whinnie       1.00      1.00      1.00        37\\n\\n    accuracy                           0.99       124\\n   macro avg       1.00      0.94      0.96       124\\nweighted avg       0.99      0.99      0.99       124\\n'"
            ],
            "application/vnd.google.colaboratory.intrinsic+json": {
              "type": "string"
            }
          },
          "metadata": {},
          "execution_count": 89
        }
      ]
    },
    {
      "cell_type": "code",
      "source": [
        "confusion_matrix(y_test,y_pred)"
      ],
      "metadata": {
        "colab": {
          "base_uri": "https://localhost:8080/"
        },
        "id": "LJuaq6T0dnrY",
        "outputId": "fda6c79b-e941-4b44-d35f-0f1b219a8cd8"
      },
      "execution_count": null,
      "outputs": [
        {
          "output_type": "execute_result",
          "data": {
            "text/plain": [
              "array([[71,  0,  0,  0],\n",
              "       [ 1,  3,  0,  0],\n",
              "       [ 0,  0, 12,  0],\n",
              "       [ 0,  0,  0, 37]])"
            ]
          },
          "metadata": {},
          "execution_count": 90
        }
      ]
    },
    {
      "cell_type": "markdown",
      "source": [
        "# RFE with Random Forest"
      ],
      "metadata": {
        "id": "vB-GT3CfUt1r"
      }
    },
    {
      "cell_type": "code",
      "source": [
        "# define dataset\n",
        "X = data.drop('labels',axis = 1)\n",
        "y = data['labels']"
      ],
      "metadata": {
        "id": "1ZqdJNaiVGMJ"
      },
      "execution_count": null,
      "outputs": []
    },
    {
      "cell_type": "code",
      "source": [
        "# messing up with the data to test the selector\n",
        "#import random\n",
        "#X['random'] = random.sample(range(0,10000),413)"
      ],
      "metadata": {
        "id": "-3nK7KhgZ-kM"
      },
      "execution_count": null,
      "outputs": []
    },
    {
      "cell_type": "code",
      "source": [
        "#Selecting from model\n",
        "model = RandomForestClassifier(max_depth = 5, min_samples_split = 15, n_estimators = 15)\n",
        "estimator = SelectFromModel(model)\n",
        "\n",
        "estimator.fit(X_train,y_train)\n",
        "estimator.get_support()\n"
      ],
      "metadata": {
        "colab": {
          "base_uri": "https://localhost:8080/"
        },
        "id": "GQUpzKskUx0l",
        "outputId": "3ea6857d-0f9d-48a4-f635-d1519d2a461f"
      },
      "execution_count": null,
      "outputs": [
        {
          "output_type": "execute_result",
          "data": {
            "text/plain": [
              "array([ True,  True, False,  True, False, False, False, False, False])"
            ]
          },
          "metadata": {},
          "execution_count": 75
        }
      ]
    },
    {
      "cell_type": "code",
      "source": [
        "#Now selecting the features based on this response:\n",
        "X_train.columns[estimator.get_support()]"
      ],
      "metadata": {
        "colab": {
          "base_uri": "https://localhost:8080/"
        },
        "id": "Qx7tRpPsV2JB",
        "outputId": "9805d9d9-d3a7-40d6-ff71-b09eac55f39b"
      },
      "execution_count": null,
      "outputs": [
        {
          "output_type": "execute_result",
          "data": {
            "text/plain": [
              "Index(['q25', 'q50', 'fpeak'], dtype='object')"
            ]
          },
          "metadata": {},
          "execution_count": 77
        }
      ]
    },
    {
      "cell_type": "markdown",
      "source": [
        "best hyperparams: {'max_depth': 5, 'min_samples_split': 22, 'n_estimators': 30}\n",
        "the score for training was 0.91\n",
        "the score for test was 0.92\n",
        "\n",
        "gonna run a confusion matrix now"
      ],
      "metadata": {
        "id": "HYUJ8YkHu3iH"
      }
    }
  ]
}