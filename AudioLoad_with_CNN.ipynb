{
 "cells": [
  {
   "cell_type": "markdown",
   "id": "31b96237-3f28-4806-8b82-84d8470e2a06",
   "metadata": {},
   "source": [
    "### Audio Load by Barney"
   ]
  },
  {
   "cell_type": "code",
   "execution_count": 3,
   "id": "49122b1e",
   "metadata": {},
   "outputs": [],
   "source": [
    "from barney_functions import *\n",
    "import librosa\n",
    "import numpy as np\n",
    "import pandas as pd\n",
    "from matplotlib import pyplot as plt\n",
    "import random\n",
    "import re\n",
    "import soundfile as sf"
   ]
  },
  {
   "cell_type": "markdown",
   "id": "deb55182",
   "metadata": {},
   "source": [
    "# Load Zebra Audio"
   ]
  },
  {
   "cell_type": "code",
   "execution_count": 4,
   "id": "af8ec1a4",
   "metadata": {},
   "outputs": [
    {
     "name": "stdout",
     "output_type": "stream",
     "text": [
      "Finding longest file (Better Labels)\n"
     ]
    },
    {
     "name": "stderr",
     "output_type": "stream",
     "text": [
      "100%|█████████████████████████████████████████| 413/413 [00:08<00:00, 47.41it/s]\n"
     ]
    },
    {
     "name": "stdout",
     "output_type": "stream",
     "text": [
      "Loading files\n"
     ]
    },
    {
     "name": "stderr",
     "output_type": "stream",
     "text": [
      "100%|█████████████████████████████████████████| 413/413 [00:07<00:00, 54.67it/s]\n"
     ]
    }
   ],
   "source": [
    "audio_path = 'zebra audio sample_Bing_413/all/'\n",
    "audio_path_long = 'Audio Files All/'\n",
    "spreadsheet_path = 'Zebras.Assumption.data_Bing_413 .xlsx'\n",
    "df = add_labels_to_excel(spreadsheet_path)\n",
    "audio_files, audio_size, index_longest = gen_audio_array(audio_path,df)\n",
    "y = df['label']"
   ]
  },
  {
   "cell_type": "code",
   "execution_count": 14,
   "id": "6da231aa",
   "metadata": {},
   "outputs": [
    {
     "data": {
      "text/plain": [
       "array(['squeal', 'whinnie', 'softsnort', 'snort'], dtype=object)"
      ]
     },
     "execution_count": 14,
     "metadata": {},
     "output_type": "execute_result"
    }
   ],
   "source": []
  },
  {
   "cell_type": "markdown",
   "id": "f1bf4c13",
   "metadata": {},
   "source": [
    "# Load Non Zebra Audio"
   ]
  },
  {
   "cell_type": "code",
   "execution_count": 4,
   "id": "65988e57",
   "metadata": {},
   "outputs": [
    {
     "name": "stdout",
     "output_type": "stream",
     "text": [
      "Padding\n"
     ]
    },
    {
     "name": "stderr",
     "output_type": "stream",
     "text": [
      "100%|███████████████████████████████████████| 600/600 [00:00<00:00, 3060.41it/s]\n"
     ]
    }
   ],
   "source": [
    "nzebra_path = 'big bounce small.wav'\n",
    "nzebra_audio, labels_nzebra = gen_nzebra(nzebra_path,audio_size)"
   ]
  },
  {
   "cell_type": "code",
   "execution_count": 9,
   "id": "410f37d6",
   "metadata": {},
   "outputs": [],
   "source": [
    "# Combine zebra and non zebra\n",
    "all_audio, y = add_nzebra(audio_files,y,nzebra_audio,labels_nzebra)"
   ]
  },
  {
   "cell_type": "code",
   "execution_count": 10,
   "id": "41d0d765",
   "metadata": {},
   "outputs": [
    {
     "name": "stdout",
     "output_type": "stream",
     "text": [
      "(1013, 39923)\n",
      "Unaugmented dataset size:  0.323535992 GB\n"
     ]
    }
   ],
   "source": [
    "print(all_audio.shape)\n",
    "print(\"Unaugmented dataset size: \",all_audio.nbytes/(1e9), 'GB')"
   ]
  },
  {
   "cell_type": "code",
   "execution_count": 16,
   "id": "253f20ad",
   "metadata": {},
   "outputs": [
    {
     "data": {
      "text/plain": [
       "4"
      ]
     },
     "execution_count": 16,
     "metadata": {},
     "output_type": "execute_result"
    }
   ],
   "source": [
    "num_classes = len(y.unique())\n",
    "num_classes"
   ]
  },
  {
   "cell_type": "markdown",
   "id": "a80d084a",
   "metadata": {},
   "source": [
    "# Augment Data"
   ]
  },
  {
   "cell_type": "code",
   "execution_count": 6,
   "id": "98fa32ae",
   "metadata": {},
   "outputs": [
    {
     "name": "stdout",
     "output_type": "stream",
     "text": [
      "Augmenting 413 samples\n"
     ]
    },
    {
     "name": "stderr",
     "output_type": "stream",
     "text": [
      "100%|████████████████████████████████████████| 413/413 [00:01<00:00, 368.78it/s]\n"
     ]
    }
   ],
   "source": [
    "augmented_audio = augment_audio_faster_smaller(audio_files)"
   ]
  },
  {
   "cell_type": "code",
   "execution_count": 7,
   "id": "950d6519",
   "metadata": {},
   "outputs": [
    {
     "data": {
      "image/png": "[encoded data removed]",
      "text/plain": [
       "<Figure size 432x288 with 1 Axes>"
      ]
     },
     "metadata": {
      "needs_background": "light"
     },
     "output_type": "display_data"
    }
   ],
   "source": [
    "plot_sample(augmented_audio,100)"
   ]
  },
  {
   "cell_type": "code",
   "execution_count": 8,
   "id": "c74111a6",
   "metadata": {},
   "outputs": [
    {
     "name": "stdout",
     "output_type": "stream",
     "text": [
      "Augmentation  1\n"
     ]
    },
    {
     "name": "stderr",
     "output_type": "stream",
     "text": [
      "100%|████████████████████████████████████████| 413/413 [00:02<00:00, 139.78it/s]\n"
     ]
    },
    {
     "name": "stdout",
     "output_type": "stream",
     "text": [
      "Augmentation  2\n"
     ]
    },
    {
     "name": "stderr",
     "output_type": "stream",
     "text": [
      "100%|████████████████████████████████████████| 413/413 [00:02<00:00, 138.64it/s]\n"
     ]
    },
    {
     "name": "stdout",
     "output_type": "stream",
     "text": [
      "Augmentation  3\n"
     ]
    },
    {
     "name": "stderr",
     "output_type": "stream",
     "text": [
      "100%|████████████████████████████████████████| 413/413 [00:02<00:00, 151.72it/s]\n"
     ]
    },
    {
     "name": "stdout",
     "output_type": "stream",
     "text": [
      "Augmentation  4\n"
     ]
    },
    {
     "name": "stderr",
     "output_type": "stream",
     "text": [
      "100%|████████████████████████████████████████| 413/413 [00:02<00:00, 139.61it/s]\n"
     ]
    }
   ],
   "source": [
    "stfts = calc_stft(augmented_audio)"
   ]
  },
  {
   "cell_type": "code",
   "execution_count": 9,
   "id": "018be6f0",
   "metadata": {},
   "outputs": [
    {
     "name": "stderr",
     "output_type": "stream",
     "text": [
      "100%|█████████████████████████████████████████████| 3/3 [00:05<00:00,  1.78s/it]\n"
     ]
    }
   ],
   "source": [
    "stfts_1D = np.zeros(stfts[0].shape)\n",
    "stfts_1D = stfts[0]\n",
    "for i in tqdm(range(1,stfts.shape[0])):\n",
    "    stfts_1D = np.concatenate((stfts_1D,stfts[i]), axis = 0)\n",
    "print(\"Augmented dataset size: \",stfts_1D.nbytes/(1e9), 'GB')"
   ]
  },
  {
   "cell_type": "code",
   "execution_count": 10,
   "id": "6bd0f019",
   "metadata": {},
   "outputs": [
    {
     "data": {
      "image/png": "[encoded data removed]",
      "text/plain": [
       "<Figure size 432x288 with 1 Axes>"
      ]
     },
     "metadata": {
      "needs_background": "light"
     },
     "output_type": "display_data"
    }
   ],
   "source": [
    "spec_plot(stfts_1D[420,:,:])"
   ]
  },
  {
   "cell_type": "markdown",
   "id": "84d428ee-3e68-44f3-a905-4efd194d55fe",
   "metadata": {},
   "source": [
    "### Data preparation"
   ]
  },
  {
   "cell_type": "code",
   "execution_count": 11,
   "id": "e808c88f-20c8-4117-aa14-cb7eec2acf63",
   "metadata": {},
   "outputs": [],
   "source": [
    "import keras\n",
    "import tensorflow as tf\n",
    "from tensorflow.keras.models import Sequential\n",
    "from tensorflow.keras.layers import Conv2D, MaxPooling2D, Flatten, Dense, Dropout\n",
    "from tensorflow.keras.losses import categorical_crossentropy\n",
    "from tensorflow.keras.optimizers import Adadelta\n",
    "from sklearn.model_selection import train_test_split\n",
    "\n",
    "\n",
    "tf.compat.v1.logging.set_verbosity(tf.compat.v1.logging.ERROR)"
   ]
  },
  {
   "cell_type": "code",
   "execution_count": 12,
   "id": "f10ddef7-1345-4a9c-91d5-6648a5db6882",
   "metadata": {},
   "outputs": [],
   "source": [
    "# Split in train and validation subsets\n",
    "train_images, val_images, train_labels, val_labels = train_test_split(stfts[0], y, test_size=0.3, random_state=13052020)\n",
    "\n",
    "# explicitly illustrating standardization\n",
    "def standardizeimg(img, mu, sigma):\n",
    "    return (img-mu)/(sigma).astype(np.float32)\n",
    "\n",
    "# save for scaling test data\n",
    "mu_train = np.mean(train_images)\n",
    "sigma_train = np.std(train_images)\n",
    "\n",
    "# Standardize pixel distribution to have zero mean and unit variance\n",
    "train_images = standardizeimg(img=train_images, mu=mu_train, sigma=sigma_train)\n",
    "val_images = standardizeimg(img=val_images, mu=np.mean(val_images), sigma=np.std(val_images))\n",
    "\n",
    "# adapt to format required by tensorflow; Using channels_last --> (n_samples, img_rows, img_cols, n_channels)\n",
    "img_rows, img_cols = 1025, 250 # input image dimensions\n",
    "train_images = train_images.reshape(train_images.shape[0], img_rows, img_cols, 1)\n",
    "val_images = val_images.reshape(val_images.shape[0], img_rows, img_cols, 1)\n",
    "\n",
    "# convert class vectors to binary class matrices - one hot encoding\n",
    "onehot_t = pd.get_dummies(train_labels)\n",
    "label_list = onehot_t.columns\n",
    "train_labels = onehot_t.to_numpy()\n",
    "\n",
    "onehot_v = pd.get_dummies(val_labels)\n",
    "val_labels = onehot_v.to_numpy()\n",
    "\n",
    "num_classes = len(label_list)"
   ]
  },
  {
   "cell_type": "code",
   "execution_count": 20,
   "id": "4d92ad02-075a-41bc-b076-c74201885e58",
   "metadata": {},
   "outputs": [
    {
     "name": "stdout",
     "output_type": "stream",
     "text": [
      "Training set:\n",
      " > images: (289, 1025, 250, 1)\n",
      " > labels: (289, 4)\n",
      "Validation set:\n",
      " > images: (124, 1025, 250, 1)\n",
      " > labels: (124, 4)\n"
     ]
    }
   ],
   "source": [
    "print(\"Training set:\")\n",
    "print(\" > images:\", train_images.shape)\n",
    "print(\" > labels:\", train_labels.shape)\n",
    "print(\"Validation set:\")\n",
    "print(\" > images:\", val_images.shape)\n",
    "print(\" > labels:\", val_labels.shape)"
   ]
  },
  {
   "cell_type": "markdown",
   "id": "d45cb7ff-8fa1-407f-9d83-6171b087b48a",
   "metadata": {},
   "source": [
    "### Create architecture"
   ]
  },
  {
   "cell_type": "code",
   "execution_count": 21,
   "id": "966a2218-3143-4de1-8857-06d51d373e36",
   "metadata": {},
   "outputs": [
    {
     "name": "stderr",
     "output_type": "stream",
     "text": [
      "2022-06-01 12:00:23.312407: I tensorflow/core/platform/cpu_feature_guard.cc:151] This TensorFlow binary is optimized with oneAPI Deep Neural Network Library (oneDNN) to use the following CPU instructions in performance-critical operations:  SSE4.1 SSE4.2 AVX AVX2 FMA\n",
      "To enable them in other operations, rebuild TensorFlow with the appropriate compiler flags.\n"
     ]
    },
    {
     "name": "stdout",
     "output_type": "stream",
     "text": [
      "Model: \"sequential\"\n",
      "_________________________________________________________________\n",
      " Layer (type)                Output Shape              Param #   \n",
      "=================================================================\n",
      " conv2d (Conv2D)             (None, 1025, 250, 32)     320       \n",
      "                                                                 \n",
      " max_pooling2d (MaxPooling2D  (None, 512, 125, 32)     0         \n",
      " )                                                               \n",
      "                                                                 \n",
      " conv2d_1 (Conv2D)           (None, 512, 125, 64)      18496     \n",
      "                                                                 \n",
      " max_pooling2d_1 (MaxPooling  (None, 256, 62, 64)      0         \n",
      " 2D)                                                             \n",
      "                                                                 \n",
      " dropout (Dropout)           (None, 256, 62, 64)       0         \n",
      "                                                                 \n",
      " flatten (Flatten)           (None, 1015808)           0         \n",
      "                                                                 \n",
      " dense (Dense)               (None, 128)               130023552 \n",
      "                                                                 \n",
      " dense_1 (Dense)             (None, 4)                 516       \n",
      "                                                                 \n",
      "=================================================================\n",
      "Total params: 130,042,884\n",
      "Trainable params: 130,042,884\n",
      "Non-trainable params: 0\n",
      "_________________________________________________________________\n"
     ]
    }
   ],
   "source": [
    "model = Sequential()\n",
    "\n",
    "model.add(Conv2D(filters=32,\n",
    "                 kernel_size=3,\n",
    "                 strides=1,\n",
    "                 padding='same',\n",
    "                 activation='relu',\n",
    "                 input_shape=(img_rows, img_cols, 1)))\n",
    "\n",
    "model.add(MaxPooling2D(pool_size=2, strides=None))\n",
    "\n",
    "model.add(Conv2D(filters=64,\n",
    "                 kernel_size=3,\n",
    "                 strides=1,\n",
    "                 padding='same',\n",
    "                 activation='relu'))\n",
    "\n",
    "model.add(MaxPooling2D(pool_size=2, strides=None))\n",
    "\n",
    "model.add(Dropout(rate=0.40))\n",
    "\n",
    "model.add(Flatten())\n",
    "\n",
    "model.add(Dense(units=128, activation='relu'))\n",
    "\n",
    "model.add(Dense(units=num_classes, activation='softmax'))\n",
    "\n",
    "model.summary()"
   ]
  },
  {
   "cell_type": "markdown",
   "id": "e887001e-e66b-49a4-b28f-c6d2a879738b",
   "metadata": {},
   "source": [
    "### Compile and train model"
   ]
  },
  {
   "cell_type": "code",
   "execution_count": 22,
   "id": "c3c5e468-a020-4d34-a121-682bd0605741",
   "metadata": {},
   "outputs": [
    {
     "name": "stdout",
     "output_type": "stream",
     "text": [
      "Epoch 1/3\n",
      "2/2 [==============================] - 93s 9s/step - loss: 1.3994 - categorical_accuracy: 0.3080 - val_loss: 1.3375 - val_categorical_accuracy: 0.2903\n",
      "Epoch 2/3\n",
      "2/2 [==============================] - 95s 8s/step - loss: 1.3387 - categorical_accuracy: 0.3183 - val_loss: 1.2660 - val_categorical_accuracy: 0.2984\n",
      "Epoch 3/3\n",
      "2/2 [==============================] - 99s 9s/step - loss: 1.2726 - categorical_accuracy: 0.3426 - val_loss: 1.2074 - val_categorical_accuracy: 0.3387\n"
     ]
    }
   ],
   "source": [
    "# specify optimization strategy and metric used for monitoring during training\n",
    "model.compile(loss=categorical_crossentropy,\n",
    "              optimizer=Adadelta(),\n",
    "              metrics=['categorical_accuracy'])\n",
    "\n",
    "# the history object will contain a record of loss and metric values during training\n",
    "history = model.fit(train_images, train_labels,\n",
    "                    batch_size=256,\n",
    "                    epochs=3,\n",
    "                    verbose=1,\n",
    "                    validation_data=(val_images, val_labels))"
   ]
  },
  {
   "cell_type": "code",
   "execution_count": 23,
   "id": "b8a740d4-cd04-4440-94ed-d936f9f32c13",
   "metadata": {},
   "outputs": [
    {
     "name": "stdout",
     "output_type": "stream",
     "text": [
      "1st convolution layer:\n"
     ]
    },
    {
     "data": {
      "image/png": "[encoded data removed]",
      "text/plain": [
       "<Figure size 720x432 with 10 Axes>"
      ]
     },
     "metadata": {},
     "output_type": "display_data"
    },
    {
     "name": "stdout",
     "output_type": "stream",
     "text": [
      "2nd convolution layer:\n"
     ]
    },
    {
     "data": {
      "image/png": "[encoded data removed]",
      "text/plain": [
       "<Figure size 720x432 with 10 Axes>"
      ]
     },
     "metadata": {},
     "output_type": "display_data"
    }
   ],
   "source": [
    "# model.layers will print a list of layer parameters/values\n",
    "filters1, biases1 = model.layers[0].get_weights()\n",
    "filters2, biases2 = model.layers[2].get_weights()\n",
    "\n",
    "# normalize filter values to range 0-1 for better colormapping during plotting\n",
    "def norm_filter(kernel):\n",
    "    return (kernel - np.min(kernel)) / (np.max(kernel) - np.min(kernel))\n",
    "\n",
    "print('1st convolution layer:')\n",
    "fig, axs = plt.subplots(2,5, figsize=(10, 6))\n",
    "axs = axs.ravel()\n",
    "for i in range(10):\n",
    "    axs[i].imshow(norm_filter(filters1[:,:,0,i]), cmap=plt.cm.binary)\n",
    "    axs[i].set_xticks([]); axs[i].set_yticks([]); axs[i].grid(False)\n",
    "plt.show()\n",
    "\n",
    "print('2nd convolution layer:')\n",
    "fig, axs = plt.subplots(2,5, figsize=(10, 6))\n",
    "axs = axs.ravel()\n",
    "for i in range(10):\n",
    "    axs[i].imshow(norm_filter(filters2[:,:,0,i]), cmap=plt.cm.binary)\n",
    "    axs[i].set_xticks([]); axs[i].set_yticks([]); axs[i].grid(False)"
   ]
  },
  {
   "cell_type": "markdown",
   "id": "c33e41aa-e13c-4f0e-aa1d-2c23a6450b37",
   "metadata": {},
   "source": [
    "### Evaluation"
   ]
  },
  {
   "cell_type": "code",
   "execution_count": 24,
   "id": "88b33b4e-b1a1-4155-8ccc-3347548f4673",
   "metadata": {},
   "outputs": [
    {
     "name": "stdout",
     "output_type": "stream",
     "text": [
      "4/4 - 3s - loss: 1.2074 - categorical_accuracy: 0.3387 - 3s/epoch - 846ms/step\n"
     ]
    },
    {
     "data": {
      "image/png": "[encoded data removed]",
      "text/plain": [
       "<Figure size 864x864 with 2 Axes>"
      ]
     },
     "metadata": {
      "needs_background": "light"
     },
     "output_type": "display_data"
    }
   ],
   "source": [
    "# evaluating model using all data (not in batches)\n",
    "val_loss, val_acc = model.evaluate(val_images, val_labels, verbose=2)\n",
    "\n",
    "fig,ax = plt.subplots(nrows=2,ncols=1,figsize=(12,12))\n",
    "fs_L, fs_M, fs_S = 18, 16, 14\n",
    "ax[0].plot(history.history['categorical_accuracy'], label='train')\n",
    "ax[0].plot(history.history['val_categorical_accuracy'], label='validation')\n",
    "ax[0].set_xlabel('Epoch', fontsize=fs_M)\n",
    "ax[0].set_ylabel('Accuracy', fontsize=fs_M)\n",
    "ax[0].tick_params(axis='both', which='major', labelsize=fs_S)\n",
    "ax[0].set_title('Final mean validation accuracy: {}'.format(val_acc), fontsize=fs_M)\n",
    "ax[0].set_xticks(range(0,5))\n",
    "ax[0].legend(loc='lower right', fontsize=fs_M)\n",
    "\n",
    "ax[1].plot(history.history['loss'], label='train')\n",
    "ax[1].plot(history.history['val_loss'], label='validation')\n",
    "ax[1].set_xlabel('Epoch', fontsize=fs_M)\n",
    "ax[1].set_ylabel('Loss', fontsize=fs_M)\n",
    "ax[1].tick_params(axis='both', which='major', labelsize=fs_S)\n",
    "ax[1].set_xticks(range(0,5))\n",
    "ax[1].legend(loc='upper right', fontsize=fs_M)\n",
    "\n",
    "plt.show()"
   ]
  },
  {
   "cell_type": "markdown",
   "id": "2353ba6e-0b41-476c-a207-880f4d84e196",
   "metadata": {},
   "source": [
    "### Inference"
   ]
  },
  {
   "cell_type": "code",
   "execution_count": 25,
   "id": "4df78284-fb4a-41e0-9261-3bd8b75afd39",
   "metadata": {},
   "outputs": [],
   "source": [
    "# using until now unseen data\n",
    "predicted_prob = model.predict(val_images)\n",
    "predictions = np.argmax(predicted_prob, axis=1)"
   ]
  },
  {
   "cell_type": "code",
   "execution_count": 26,
   "id": "89cfc888-18ed-4edf-8899-c9e96be95f0b",
   "metadata": {},
   "outputs": [
    {
     "name": "stdout",
     "output_type": "stream",
     "text": [
      "[[ 6  0  0 74]\n",
      " [ 0  0  0  1]\n",
      " [ 0  2  0  5]\n",
      " [ 0  0  0 36]]\n",
      "Error rate:  1.9523809523809523\n",
      "Accuracy:  -0.9523809523809523\n"
     ]
    }
   ],
   "source": [
    "with tf.compat.v1.Session() as sess:\n",
    "    confusion_matrix = tf.compat.v1.confusion_matrix(np.argmax(val_labels, axis=1), predictions=predictions, num_classes=num_classes)\n",
    "    confusion_matrix_to_Print = sess.run(confusion_matrix)\n",
    "    print(confusion_matrix_to_Print)\n",
    "    \n",
    "error_rate = (np.sum(confusion_matrix_to_Print)-np.sum(np.diag(confusion_matrix_to_Print))) / np.sum(np.diag(confusion_matrix_to_Print))\n",
    "inf_acc = 1-error_rate\n",
    "print('Error rate: ', error_rate)\n",
    "print('Accuracy: ', inf_acc)"
   ]
  },
  {
   "cell_type": "code",
   "execution_count": null,
   "id": "b037d5d1",
   "metadata": {},
   "outputs": [],
   "source": []
  },
  {
   "cell_type": "code",
   "execution_count": null,
   "id": "b0234da5",
   "metadata": {},
   "outputs": [],
   "source": []
  }
 ],
 "metadata": {
  "kernelspec": {
   "display_name": "Python 3 (ipykernel)",
   "language": "python",
   "name": "python3"
  },
  "language_info": {
   "codemirror_mode": {
    "name": "ipython",
    "version": 3
   },
   "file_extension": ".py",
   "mimetype": "text/x-python",
   "name": "python",
   "nbconvert_exporter": "python",
   "pygments_lexer": "ipython3",
   "version": "3.8.12"
  },
  "toc-autonumbering": false
 },
 "nbformat": 4,
 "nbformat_minor": 5
}
