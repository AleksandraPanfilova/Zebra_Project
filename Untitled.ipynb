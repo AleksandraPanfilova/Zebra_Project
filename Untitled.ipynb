{
 "cells": [
  {
   "cell_type": "markdown",
   "id": "099614f9",
   "metadata": {},
   "source": [
    "# Optimisation"
   ]
  },
  {
   "cell_type": "code",
   "execution_count": null,
   "id": "19af2411",
   "metadata": {},
   "outputs": [],
   "source": [
    "def objective_NN(trial):   \n",
    "    learning_rate = trial.suggest_float('learning_rate',0.0001,0.0002) \n",
    "    n_epochs = trial.suggest_int('n_epochs',20,60)\n",
    "    batch_size = trial.suggest_int('batch_size',32,1024)\n",
    "    #batch_size = 512\n",
    "    centropy = tf.keras.losses.BinaryCrossentropy()\n",
    "    n_l1 = trial.suggest_int('n_l1',18,30)\n",
    "    n_l2 = trial.suggest_int('n_l2',30,100)\n",
    "\n",
    "    model = Sequential([\n",
    "        Dense(n_l1,activation='relu', name='input_layer'),\n",
    "        Dense(n_l2,activation='relu',name='hidden_layer2'),\n",
    "        Dense(1, activation='sigmoid', name='output')])\n",
    "    model.compile(optimizer=Adam(learning_rate), loss=centropy, metrics=['accuracy'])\n",
    "\n",
    "    model_history = model.fit(X_train, Y_train, epochs=n_epochs, batch_size=batch_size, \n",
    "                                validation_data=(X_val, Y_val))\n",
    "    \n",
    "    preds = model.predict(X_val)\n",
    "    pred_labels = np.rint(preds)\n",
    "    #accuracy = sklearn.metrics.accuracy_score(Y_val, pred_labels)\n",
    "    auc = AccRocAUC(preds, Y_val)[4]\n",
    "    #model_history.history['val_accuracy'][-1]\n",
    "    return auc\n",
    "\n",
    "study_NN = optuna.create_study(direction='maximize')\n",
    "study_NN.optimize(objective_NN, n_trials=5)\n",
    "params_hype_NN = study_NN.best_params"
   ]
  }
 ],
 "metadata": {
  "kernelspec": {
   "display_name": "Python 3 (ipykernel)",
   "language": "python",
   "name": "python3"
  },
  "language_info": {
   "codemirror_mode": {
    "name": "ipython",
    "version": 3
   },
   "file_extension": ".py",
   "mimetype": "text/x-python",
   "name": "python",
   "nbconvert_exporter": "python",
   "pygments_lexer": "ipython3",
   "version": "3.8.12"
  }
 },
 "nbformat": 4,
 "nbformat_minor": 5
}
